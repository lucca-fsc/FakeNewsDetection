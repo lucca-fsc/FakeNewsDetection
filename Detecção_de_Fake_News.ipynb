{
  "nbformat": 4,
  "nbformat_minor": 0,
  "metadata": {
    "colab": {
      "name": "Detecção de Fake News.ipynb",
      "provenance": [],
      "authorship_tag": "ABX9TyNFZbKVyTT9CbyixWKzY7Um",
      "include_colab_link": true
    },
    "kernelspec": {
      "name": "python3",
      "display_name": "Python 3"
    },
    "language_info": {
      "name": "python"
    }
  },
  "cells": [
    {
      "cell_type": "markdown",
      "metadata": {
        "id": "view-in-github",
        "colab_type": "text"
      },
      "source": [
        "<a href=\"https://colab.research.google.com/github/lucca-fsc/FakeNewsDetection/blob/main/Detec%C3%A7%C3%A3o_de_Fake_News.ipynb\" target=\"_parent\"><img src=\"https://colab.research.google.com/assets/colab-badge.svg\" alt=\"Open In Colab\"/></a>"
      ]
    },
    {
      "cell_type": "markdown",
      "source": [
        "# Detecção de Notícias Falsas utilizando Fake Br Corpus\n"
      ],
      "metadata": {
        "id": "ZNNeyhHwLC9A"
      }
    },
    {
      "cell_type": "markdown",
      "source": [
        "##Importando as bibliotecas necessárias"
      ],
      "metadata": {
        "id": "fOmpaIn3LKei"
      }
    },
    {
      "cell_type": "code",
      "execution_count": null,
      "metadata": {
        "id": "i1TJu2WtLAlO"
      },
      "outputs": [],
      "source": [
        "import pandas as pd\n",
        "import numpy as np \n",
        "import matplotlib.pyplot as plt"
      ]
    },
    {
      "cell_type": "markdown",
      "source": [
        "#Carregando o dataset"
      ],
      "metadata": {
        "id": "q6XzWxJwL3jW"
      }
    },
    {
      "cell_type": "code",
      "source": [
        "dados = pd.read_csv('pre-processed.csv')"
      ],
      "metadata": {
        "id": "Y-g8cMB3Ld64"
      },
      "execution_count": null,
      "outputs": []
    },
    {
      "cell_type": "code",
      "source": [
        "dados.head()"
      ],
      "metadata": {
        "colab": {
          "base_uri": "https://localhost:8080/",
          "height": 206
        },
        "id": "7YHsV8EvL2w6",
        "outputId": "785b5932-18ed-4a75-fe7e-51f3d574c099"
      },
      "execution_count": null,
      "outputs": [
        {
          "output_type": "execute_result",
          "data": {
            "text/plain": [
              "   index label                                  preprocessed_news\n",
              "0      0  fake  katia abreu diz vai colocar expulsao moldura n...\n",
              "1      1  fake  ray peita bolsonaro conservador fake entrevist...\n",
              "2      2  fake  reinaldo azevedo desmascarado policia federal ...\n",
              "3      3  fake  relatorio assustador bndes mostra dinheiro pub...\n",
              "4      4  fake  radialista americano fala sobre pt vendem ilus..."
            ],
            "text/html": [
              "\n",
              "  <div id=\"df-a0e1c90c-0894-4add-9724-983d9f75e9f5\">\n",
              "    <div class=\"colab-df-container\">\n",
              "      <div>\n",
              "<style scoped>\n",
              "    .dataframe tbody tr th:only-of-type {\n",
              "        vertical-align: middle;\n",
              "    }\n",
              "\n",
              "    .dataframe tbody tr th {\n",
              "        vertical-align: top;\n",
              "    }\n",
              "\n",
              "    .dataframe thead th {\n",
              "        text-align: right;\n",
              "    }\n",
              "</style>\n",
              "<table border=\"1\" class=\"dataframe\">\n",
              "  <thead>\n",
              "    <tr style=\"text-align: right;\">\n",
              "      <th></th>\n",
              "      <th>index</th>\n",
              "      <th>label</th>\n",
              "      <th>preprocessed_news</th>\n",
              "    </tr>\n",
              "  </thead>\n",
              "  <tbody>\n",
              "    <tr>\n",
              "      <th>0</th>\n",
              "      <td>0</td>\n",
              "      <td>fake</td>\n",
              "      <td>katia abreu diz vai colocar expulsao moldura n...</td>\n",
              "    </tr>\n",
              "    <tr>\n",
              "      <th>1</th>\n",
              "      <td>1</td>\n",
              "      <td>fake</td>\n",
              "      <td>ray peita bolsonaro conservador fake entrevist...</td>\n",
              "    </tr>\n",
              "    <tr>\n",
              "      <th>2</th>\n",
              "      <td>2</td>\n",
              "      <td>fake</td>\n",
              "      <td>reinaldo azevedo desmascarado policia federal ...</td>\n",
              "    </tr>\n",
              "    <tr>\n",
              "      <th>3</th>\n",
              "      <td>3</td>\n",
              "      <td>fake</td>\n",
              "      <td>relatorio assustador bndes mostra dinheiro pub...</td>\n",
              "    </tr>\n",
              "    <tr>\n",
              "      <th>4</th>\n",
              "      <td>4</td>\n",
              "      <td>fake</td>\n",
              "      <td>radialista americano fala sobre pt vendem ilus...</td>\n",
              "    </tr>\n",
              "  </tbody>\n",
              "</table>\n",
              "</div>\n",
              "      <button class=\"colab-df-convert\" onclick=\"convertToInteractive('df-a0e1c90c-0894-4add-9724-983d9f75e9f5')\"\n",
              "              title=\"Convert this dataframe to an interactive table.\"\n",
              "              style=\"display:none;\">\n",
              "        \n",
              "  <svg xmlns=\"http://www.w3.org/2000/svg\" height=\"24px\"viewBox=\"0 0 24 24\"\n",
              "       width=\"24px\">\n",
              "    <path d=\"M0 0h24v24H0V0z\" fill=\"none\"/>\n",
              "    <path d=\"M18.56 5.44l.94 2.06.94-2.06 2.06-.94-2.06-.94-.94-2.06-.94 2.06-2.06.94zm-11 1L8.5 8.5l.94-2.06 2.06-.94-2.06-.94L8.5 2.5l-.94 2.06-2.06.94zm10 10l.94 2.06.94-2.06 2.06-.94-2.06-.94-.94-2.06-.94 2.06-2.06.94z\"/><path d=\"M17.41 7.96l-1.37-1.37c-.4-.4-.92-.59-1.43-.59-.52 0-1.04.2-1.43.59L10.3 9.45l-7.72 7.72c-.78.78-.78 2.05 0 2.83L4 21.41c.39.39.9.59 1.41.59.51 0 1.02-.2 1.41-.59l7.78-7.78 2.81-2.81c.8-.78.8-2.07 0-2.86zM5.41 20L4 18.59l7.72-7.72 1.47 1.35L5.41 20z\"/>\n",
              "  </svg>\n",
              "      </button>\n",
              "      \n",
              "  <style>\n",
              "    .colab-df-container {\n",
              "      display:flex;\n",
              "      flex-wrap:wrap;\n",
              "      gap: 12px;\n",
              "    }\n",
              "\n",
              "    .colab-df-convert {\n",
              "      background-color: #E8F0FE;\n",
              "      border: none;\n",
              "      border-radius: 50%;\n",
              "      cursor: pointer;\n",
              "      display: none;\n",
              "      fill: #1967D2;\n",
              "      height: 32px;\n",
              "      padding: 0 0 0 0;\n",
              "      width: 32px;\n",
              "    }\n",
              "\n",
              "    .colab-df-convert:hover {\n",
              "      background-color: #E2EBFA;\n",
              "      box-shadow: 0px 1px 2px rgba(60, 64, 67, 0.3), 0px 1px 3px 1px rgba(60, 64, 67, 0.15);\n",
              "      fill: #174EA6;\n",
              "    }\n",
              "\n",
              "    [theme=dark] .colab-df-convert {\n",
              "      background-color: #3B4455;\n",
              "      fill: #D2E3FC;\n",
              "    }\n",
              "\n",
              "    [theme=dark] .colab-df-convert:hover {\n",
              "      background-color: #434B5C;\n",
              "      box-shadow: 0px 1px 3px 1px rgba(0, 0, 0, 0.15);\n",
              "      filter: drop-shadow(0px 1px 2px rgba(0, 0, 0, 0.3));\n",
              "      fill: #FFFFFF;\n",
              "    }\n",
              "  </style>\n",
              "\n",
              "      <script>\n",
              "        const buttonEl =\n",
              "          document.querySelector('#df-a0e1c90c-0894-4add-9724-983d9f75e9f5 button.colab-df-convert');\n",
              "        buttonEl.style.display =\n",
              "          google.colab.kernel.accessAllowed ? 'block' : 'none';\n",
              "\n",
              "        async function convertToInteractive(key) {\n",
              "          const element = document.querySelector('#df-a0e1c90c-0894-4add-9724-983d9f75e9f5');\n",
              "          const dataTable =\n",
              "            await google.colab.kernel.invokeFunction('convertToInteractive',\n",
              "                                                     [key], {});\n",
              "          if (!dataTable) return;\n",
              "\n",
              "          const docLinkHtml = 'Like what you see? Visit the ' +\n",
              "            '<a target=\"_blank\" href=https://colab.research.google.com/notebooks/data_table.ipynb>data table notebook</a>'\n",
              "            + ' to learn more about interactive tables.';\n",
              "          element.innerHTML = '';\n",
              "          dataTable['output_type'] = 'display_data';\n",
              "          await google.colab.output.renderOutput(dataTable, element);\n",
              "          const docLink = document.createElement('div');\n",
              "          docLink.innerHTML = docLinkHtml;\n",
              "          element.appendChild(docLink);\n",
              "        }\n",
              "      </script>\n",
              "    </div>\n",
              "  </div>\n",
              "  "
            ]
          },
          "metadata": {},
          "execution_count": 3
        }
      ]
    },
    {
      "cell_type": "code",
      "source": [
        "dados = dados.drop(columns=['index'])"
      ],
      "metadata": {
        "id": "Q8CcHqJnMjrs"
      },
      "execution_count": null,
      "outputs": []
    },
    {
      "cell_type": "code",
      "source": [
        "dados"
      ],
      "metadata": {
        "colab": {
          "base_uri": "https://localhost:8080/",
          "height": 424
        },
        "id": "heG4QxN2N2T0",
        "outputId": "259e240e-ed72-4908-c0ca-1136e605eb7d"
      },
      "execution_count": null,
      "outputs": [
        {
          "output_type": "execute_result",
          "data": {
            "text/plain": [
              "     label                                  preprocessed_news\n",
              "0     fake  katia abreu diz vai colocar expulsao moldura n...\n",
              "1     fake  ray peita bolsonaro conservador fake entrevist...\n",
              "2     fake  reinaldo azevedo desmascarado policia federal ...\n",
              "3     fake  relatorio assustador bndes mostra dinheiro pub...\n",
              "4     fake  radialista americano fala sobre pt vendem ilus...\n",
              "...    ...                                                ...\n",
              "7195  true  jornal britanico acao contra lula lava jato se...\n",
              "7196  true  temer diz acionou pf cade investigar aumentos ...\n",
              "7197  true  obstaculos politicos temer especialistas ouvid...\n",
              "7198  true  setembro boa noite aqui estao principais notic...\n",
              "7199  true  envolvo politica diz brasileiro preso venezuel...\n",
              "\n",
              "[7200 rows x 2 columns]"
            ],
            "text/html": [
              "\n",
              "  <div id=\"df-a6af2625-6f8e-4466-9c3b-7dc5f040ede3\">\n",
              "    <div class=\"colab-df-container\">\n",
              "      <div>\n",
              "<style scoped>\n",
              "    .dataframe tbody tr th:only-of-type {\n",
              "        vertical-align: middle;\n",
              "    }\n",
              "\n",
              "    .dataframe tbody tr th {\n",
              "        vertical-align: top;\n",
              "    }\n",
              "\n",
              "    .dataframe thead th {\n",
              "        text-align: right;\n",
              "    }\n",
              "</style>\n",
              "<table border=\"1\" class=\"dataframe\">\n",
              "  <thead>\n",
              "    <tr style=\"text-align: right;\">\n",
              "      <th></th>\n",
              "      <th>label</th>\n",
              "      <th>preprocessed_news</th>\n",
              "    </tr>\n",
              "  </thead>\n",
              "  <tbody>\n",
              "    <tr>\n",
              "      <th>0</th>\n",
              "      <td>fake</td>\n",
              "      <td>katia abreu diz vai colocar expulsao moldura n...</td>\n",
              "    </tr>\n",
              "    <tr>\n",
              "      <th>1</th>\n",
              "      <td>fake</td>\n",
              "      <td>ray peita bolsonaro conservador fake entrevist...</td>\n",
              "    </tr>\n",
              "    <tr>\n",
              "      <th>2</th>\n",
              "      <td>fake</td>\n",
              "      <td>reinaldo azevedo desmascarado policia federal ...</td>\n",
              "    </tr>\n",
              "    <tr>\n",
              "      <th>3</th>\n",
              "      <td>fake</td>\n",
              "      <td>relatorio assustador bndes mostra dinheiro pub...</td>\n",
              "    </tr>\n",
              "    <tr>\n",
              "      <th>4</th>\n",
              "      <td>fake</td>\n",
              "      <td>radialista americano fala sobre pt vendem ilus...</td>\n",
              "    </tr>\n",
              "    <tr>\n",
              "      <th>...</th>\n",
              "      <td>...</td>\n",
              "      <td>...</td>\n",
              "    </tr>\n",
              "    <tr>\n",
              "      <th>7195</th>\n",
              "      <td>true</td>\n",
              "      <td>jornal britanico acao contra lula lava jato se...</td>\n",
              "    </tr>\n",
              "    <tr>\n",
              "      <th>7196</th>\n",
              "      <td>true</td>\n",
              "      <td>temer diz acionou pf cade investigar aumentos ...</td>\n",
              "    </tr>\n",
              "    <tr>\n",
              "      <th>7197</th>\n",
              "      <td>true</td>\n",
              "      <td>obstaculos politicos temer especialistas ouvid...</td>\n",
              "    </tr>\n",
              "    <tr>\n",
              "      <th>7198</th>\n",
              "      <td>true</td>\n",
              "      <td>setembro boa noite aqui estao principais notic...</td>\n",
              "    </tr>\n",
              "    <tr>\n",
              "      <th>7199</th>\n",
              "      <td>true</td>\n",
              "      <td>envolvo politica diz brasileiro preso venezuel...</td>\n",
              "    </tr>\n",
              "  </tbody>\n",
              "</table>\n",
              "<p>7200 rows × 2 columns</p>\n",
              "</div>\n",
              "      <button class=\"colab-df-convert\" onclick=\"convertToInteractive('df-a6af2625-6f8e-4466-9c3b-7dc5f040ede3')\"\n",
              "              title=\"Convert this dataframe to an interactive table.\"\n",
              "              style=\"display:none;\">\n",
              "        \n",
              "  <svg xmlns=\"http://www.w3.org/2000/svg\" height=\"24px\"viewBox=\"0 0 24 24\"\n",
              "       width=\"24px\">\n",
              "    <path d=\"M0 0h24v24H0V0z\" fill=\"none\"/>\n",
              "    <path d=\"M18.56 5.44l.94 2.06.94-2.06 2.06-.94-2.06-.94-.94-2.06-.94 2.06-2.06.94zm-11 1L8.5 8.5l.94-2.06 2.06-.94-2.06-.94L8.5 2.5l-.94 2.06-2.06.94zm10 10l.94 2.06.94-2.06 2.06-.94-2.06-.94-.94-2.06-.94 2.06-2.06.94z\"/><path d=\"M17.41 7.96l-1.37-1.37c-.4-.4-.92-.59-1.43-.59-.52 0-1.04.2-1.43.59L10.3 9.45l-7.72 7.72c-.78.78-.78 2.05 0 2.83L4 21.41c.39.39.9.59 1.41.59.51 0 1.02-.2 1.41-.59l7.78-7.78 2.81-2.81c.8-.78.8-2.07 0-2.86zM5.41 20L4 18.59l7.72-7.72 1.47 1.35L5.41 20z\"/>\n",
              "  </svg>\n",
              "      </button>\n",
              "      \n",
              "  <style>\n",
              "    .colab-df-container {\n",
              "      display:flex;\n",
              "      flex-wrap:wrap;\n",
              "      gap: 12px;\n",
              "    }\n",
              "\n",
              "    .colab-df-convert {\n",
              "      background-color: #E8F0FE;\n",
              "      border: none;\n",
              "      border-radius: 50%;\n",
              "      cursor: pointer;\n",
              "      display: none;\n",
              "      fill: #1967D2;\n",
              "      height: 32px;\n",
              "      padding: 0 0 0 0;\n",
              "      width: 32px;\n",
              "    }\n",
              "\n",
              "    .colab-df-convert:hover {\n",
              "      background-color: #E2EBFA;\n",
              "      box-shadow: 0px 1px 2px rgba(60, 64, 67, 0.3), 0px 1px 3px 1px rgba(60, 64, 67, 0.15);\n",
              "      fill: #174EA6;\n",
              "    }\n",
              "\n",
              "    [theme=dark] .colab-df-convert {\n",
              "      background-color: #3B4455;\n",
              "      fill: #D2E3FC;\n",
              "    }\n",
              "\n",
              "    [theme=dark] .colab-df-convert:hover {\n",
              "      background-color: #434B5C;\n",
              "      box-shadow: 0px 1px 3px 1px rgba(0, 0, 0, 0.15);\n",
              "      filter: drop-shadow(0px 1px 2px rgba(0, 0, 0, 0.3));\n",
              "      fill: #FFFFFF;\n",
              "    }\n",
              "  </style>\n",
              "\n",
              "      <script>\n",
              "        const buttonEl =\n",
              "          document.querySelector('#df-a6af2625-6f8e-4466-9c3b-7dc5f040ede3 button.colab-df-convert');\n",
              "        buttonEl.style.display =\n",
              "          google.colab.kernel.accessAllowed ? 'block' : 'none';\n",
              "\n",
              "        async function convertToInteractive(key) {\n",
              "          const element = document.querySelector('#df-a6af2625-6f8e-4466-9c3b-7dc5f040ede3');\n",
              "          const dataTable =\n",
              "            await google.colab.kernel.invokeFunction('convertToInteractive',\n",
              "                                                     [key], {});\n",
              "          if (!dataTable) return;\n",
              "\n",
              "          const docLinkHtml = 'Like what you see? Visit the ' +\n",
              "            '<a target=\"_blank\" href=https://colab.research.google.com/notebooks/data_table.ipynb>data table notebook</a>'\n",
              "            + ' to learn more about interactive tables.';\n",
              "          element.innerHTML = '';\n",
              "          dataTable['output_type'] = 'display_data';\n",
              "          await google.colab.output.renderOutput(dataTable, element);\n",
              "          const docLink = document.createElement('div');\n",
              "          docLink.innerHTML = docLinkHtml;\n",
              "          element.appendChild(docLink);\n",
              "        }\n",
              "      </script>\n",
              "    </div>\n",
              "  </div>\n",
              "  "
            ]
          },
          "metadata": {},
          "execution_count": 5
        }
      ]
    },
    {
      "cell_type": "markdown",
      "source": [
        "##Importando bibliotecas para o modelo de IA\n"
      ],
      "metadata": {
        "id": "NcQILLXgOBCv"
      }
    },
    {
      "cell_type": "code",
      "source": [
        "from sklearn.feature_extraction.text import TfidfVectorizer\n",
        "from sklearn.model_selection import train_test_split\n",
        "from sklearn.svm import LinearSVC\n",
        "from sklearn.metrics import classification_report\n",
        "from sklearn.metrics import confusion_matrix\n",
        "from sklearn.metrics import plot_confusion_matrix\n",
        "from sklearn.metrics import accuracy_score\n",
        "from sklearn.metrics import f1_score"
      ],
      "metadata": {
        "id": "E5TfhEYLN62w"
      },
      "execution_count": null,
      "outputs": []
    },
    {
      "cell_type": "code",
      "source": [
        "tfidf = TfidfVectorizer()\n",
        "X = dados['preprocessed_news']\n",
        "y = dados['label']\n",
        "\n",
        "X = tfidf.fit_transform(X)"
      ],
      "metadata": {
        "id": "SLmRnmiJOA4M"
      },
      "execution_count": null,
      "outputs": []
    },
    {
      "cell_type": "code",
      "source": [
        "print(len(tfidf.vocabulary_))"
      ],
      "metadata": {
        "colab": {
          "base_uri": "https://localhost:8080/"
        },
        "id": "35lbY7tfOw0g",
        "outputId": "1fda2080-c4f9-4809-d5e4-ac6b8c633e1c"
      },
      "execution_count": null,
      "outputs": [
        {
          "output_type": "stream",
          "name": "stdout",
          "text": [
            "79541\n"
          ]
        }
      ]
    },
    {
      "cell_type": "code",
      "source": [
        "tfidf.vocabulary_"
      ],
      "metadata": {
        "colab": {
          "base_uri": "https://localhost:8080/"
        },
        "id": "o12k6wNeO3TD",
        "outputId": "b627a10c-77a3-41b4-b7d5-e90aa2c60a53"
      },
      "execution_count": null,
      "outputs": [
        {
          "output_type": "execute_result",
          "data": {
            "text/plain": [
              "{'katia': 44739,\n",
              " 'abreu': 385,\n",
              " 'diz': 25683,\n",
              " 'vai': 76589,\n",
              " 'colocar': 15834,\n",
              " 'expulsao': 32248,\n",
              " 'moldura': 50925,\n",
              " 'nao': 52178,\n",
              " 'reclamar': 63425,\n",
              " 'senadora': 68902,\n",
              " 'disse': 25324,\n",
              " 'pmdb': 58559,\n",
              " 'resultado': 65888,\n",
              " 'acao': 632,\n",
              " 'cupula': 20202,\n",
              " 'atual': 7586,\n",
              " 'legenda': 45821,\n",
              " 'segundo': 68702,\n",
              " 'oportunista': 54486,\n",
              " 'amanha': 3595,\n",
              " 'vou': 78502,\n",
              " 'botar': 10702,\n",
              " 'dourada': 26117,\n",
              " 'porque': 59042,\n",
              " 'maos': 48360,\n",
              " 'onde': 54308,\n",
              " 'veio': 77039,\n",
              " 'atestado': 7259,\n",
              " 'boa': 10294,\n",
              " 'conduta': 17120,\n",
              " 'curriculo': 20259,\n",
              " 'pessoas': 57679,\n",
              " 'expulsaram': 32250,\n",
              " 'servem': 69241,\n",
              " 'pais': 55337,\n",
              " 'beneficios': 9552,\n",
              " 'proprios': 61185,\n",
              " 'ue': 75874,\n",
              " 'algo': 3094,\n",
              " 'tao': 72727,\n",
              " 'bom': 10480,\n",
              " 'tanta': 72715,\n",
              " 'choradeira': 14550,\n",
              " 'sabemos': 67474,\n",
              " 'motivo': 51479,\n",
              " 'provavelmente': 61427,\n",
              " 'valor': 76720,\n",
              " 'pt': 61665,\n",
              " 'partido': 56053,\n",
              " 'ja': 43661,\n",
              " 'deveria': 24413,\n",
              " 'absorvido': 476,\n",
              " 'parece': 55864,\n",
              " 'gostava': 36918,\n",
              " 'somente': 70701,\n",
              " 'ficasse': 33611,\n",
              " 'entrincheirada': 29018,\n",
              " 'dentro': 21818,\n",
              " 'rebaixar': 63179,\n",
              " 'demais': 21585,\n",
              " 'resta': 65803,\n",
              " 'ficar': 33600,\n",
              " 'chorando': 14558,\n",
              " 'pitangas': 58269,\n",
              " 'todos': 74050,\n",
              " 'cantos': 12455,\n",
              " 'tempo': 73207,\n",
              " 'ate': 7139,\n",
              " 'momento': 50979,\n",
              " 'cadastrou': 11673,\n",
              " 'fileiras': 33731,\n",
              " 'situacao': 70075,\n",
              " 'patetica': 56276,\n",
              " 'agricultura': 2443,\n",
              " 'dilma': 24795,\n",
              " 'ray': 62902,\n",
              " 'peita': 56701,\n",
              " 'bolsonaro': 10475,\n",
              " 'conservador': 17701,\n",
              " 'fake': 32635,\n",
              " 'entrevista': 29000,\n",
              " 'danilo': 20592,\n",
              " 'gentili': 36208,\n",
              " 'divide': 25595,\n",
              " 'direita': 24964,\n",
              " 'site': 70060,\n",
              " 'vem': 77090,\n",
              " 'avisando': 8257,\n",
              " 'jair': 43750,\n",
              " 'abandonar': 70,\n",
              " 'pauta': 56435,\n",
              " 'estatista': 30759,\n",
              " 'vez': 77512,\n",
              " 'fazer': 33120,\n",
              " 'discurso': 25125,\n",
              " 'convincente': 18717,\n",
              " 'parte': 55992,\n",
              " 'liberais': 46268,\n",
              " 'conservadores': 17704,\n",
              " 'brasil': 10872,\n",
              " 'querem': 62196,\n",
              " 'ver': 77235,\n",
              " 'livres': 46782,\n",
              " 'amarras': 3667,\n",
              " 'estatais': 30748,\n",
              " 'tudo': 75626,\n",
              " 'bem': 9495,\n",
              " 'pesquisas': 57654,\n",
              " 'ainda': 2587,\n",
              " 'dizem': 25687,\n",
              " 'maior': 47756,\n",
              " 'povo': 59386,\n",
              " 'contra': 18332,\n",
              " 'privatizacoes': 60504,\n",
              " 'indice': 41011,\n",
              " 'pouco': 59337,\n",
              " 'facil': 32531,\n",
              " 'ser': 69134,\n",
              " 'revertido': 66293,\n",
              " 'ademais': 1379,\n",
              " 'falar': 32659,\n",
              " 'direitistas': 24969,\n",
              " 'focar': 34347,\n",
              " 'tanto': 72719,\n",
              " 'petistas': 57730,\n",
              " 'arrependidos': 6350,\n",
              " 'recentemente': 63329,\n",
              " 'pensaria': 56905,\n",
              " 'vezes': 77513,\n",
              " 'antes': 4571,\n",
              " 'privatizar': 60509,\n",
              " 'petrobras': 57750,\n",
              " 'caia': 11773,\n",
              " 'chineses': 14470,\n",
              " 'tipo': 73867,\n",
              " 'ter': 73349,\n",
              " 'dito': 25525,\n",
              " 'garanto': 35853,\n",
              " 'privatizacao': 60503,\n",
              " 'tambem': 72657,\n",
              " 'irao': 43218,\n",
              " 'deixaria': 21376,\n",
              " 'brechas': 10936,\n",
              " 'jeito': 43954,\n",
              " 'falou': 32742,\n",
              " 'suposto': 72134,\n",
              " 'medo': 49339,\n",
              " 'venda': 77125,\n",
              " 'pretexto': 60250,\n",
              " 'evitar': 31494,\n",
              " 'la': 45180,\n",
              " 'adotar': 1700,\n",
              " 'alternativas': 3428,\n",
              " 'foquem': 34489,\n",
              " 'estado': 30651,\n",
              " 'reduzido': 63885,\n",
              " 'diminuicao': 24834,\n",
              " 'impostos': 40186,\n",
              " 'alem': 2962,\n",
              " 'joao': 44085,\n",
              " 'amoedo': 3883,\n",
              " 'rey': 66431,\n",
              " 'fazendo': 33118,\n",
              " 'vicejar': 77606,\n",
              " 'candidatura': 12308,\n",
              " 'fase': 32971,\n",
              " 'inicial': 41641,\n",
              " 'complicado': 16497,\n",
              " 'aparecam': 4940,\n",
              " 'propondo': 61122,\n",
              " 'visao': 78036,\n",
              " 'economicamente': 26577,\n",
              " 'direitista': 24968,\n",
              " 'economia': 26573,\n",
              " 'enfim': 28389,\n",
              " 'veja': 77041,\n",
              " 'espinafrando': 30361,\n",
              " 'pode': 58605,\n",
              " 'outros': 55045,\n",
              " 'aproveitem': 5615,\n",
              " 'reinaldo': 64399,\n",
              " 'azevedo': 8360,\n",
              " 'desmascarado': 23507,\n",
              " 'policia': 58725,\n",
              " 'federal': 33222,\n",
              " 'ferrenho': 33462,\n",
              " 'critico': 19827,\n",
              " 'presidenciavel': 60067,\n",
              " 'grampo': 37101,\n",
              " 'telefonico': 73076,\n",
              " 'conversas': 18659,\n",
              " 'irma': 43253,\n",
              " 'aecio': 1847,\n",
              " 'neves': 52827,\n",
              " 'conversa': 18639,\n",
              " 'debochavam': 20823,\n",
              " 'juiz': 44361,\n",
              " 'sergio': 69165,\n",
              " 'moro': 51315,\n",
              " 'operacao': 54393,\n",
              " 'lava': 45663,\n",
              " 'jato': 43897,\n",
              " 'agora': 2315,\n",
              " 'ficou': 33632,\n",
              " 'clara': 15097,\n",
              " 'intencao': 42307,\n",
              " 'jornalista': 44209,\n",
              " 'defesas': 21210,\n",
              " 'ferrenhas': 33461,\n",
              " 'tucanos': 75614,\n",
              " 'colunas': 15913,\n",
              " 'jovem': 44268,\n",
              " 'pan': 55489,\n",
              " 'amigo': 3851,\n",
              " 'intimo': 42767,\n",
              " 'familia': 32792,\n",
              " 'alto': 3452,\n",
              " 'tucanato': 75611,\n",
              " 'fazia': 33123,\n",
              " 'propaganda': 61067,\n",
              " 'psdbista': 61569,\n",
              " 'inves': 43020,\n",
              " 'jornalismo': 44208,\n",
              " 'andrea': 4194,\n",
              " 'senador': 68901,\n",
              " 'afastado': 1918,\n",
              " 'interceptada': 42400,\n",
              " 'assunto': 7004,\n",
              " 'tratado': 75047,\n",
              " 'sao': 68074,\n",
              " 'acusacoes': 1297,\n",
              " 'contidas': 18238,\n",
              " 'delacao': 21398,\n",
              " 'odebrecht': 53894,\n",
              " 'dialogo': 24548,\n",
              " 'classificou': 15158,\n",
              " 'reportagem': 65164,\n",
              " 'revista': 66359,\n",
              " 'trabalhava': 74503,\n",
              " 'demitido': 21640,\n",
              " 'nojenta': 53073,\n",
              " 'referia': 64034,\n",
              " 'edicao': 26652,\n",
              " 'trouxe': 75501,\n",
              " 'capa': 12480,\n",
              " 'titulo': 73962,\n",
              " 'criticou': 19829,\n",
              " 'republica': 65330,\n",
              " 'rodrigo': 66877,\n",
              " 'janot': 43818,\n",
              " 'dizia': 25694,\n",
              " 'atacava': 7106,\n",
              " 'supostas': 72133,\n",
              " 'pretensoes': 60240,\n",
              " 'candidatar': 12293,\n",
              " 'governo': 36983,\n",
              " 'minas': 50310,\n",
              " 'gerais': 36298,\n",
              " 'senado': 68900,\n",
              " 'assim': 6840,\n",
              " 'divulgada': 25656,\n",
              " 'colunista': 15916,\n",
              " 'esperar': 30294,\n",
              " 'fez': 33556,\n",
              " 'vitima': 78167,\n",
              " 'ha': 37736,\n",
              " 'agressao': 2423,\n",
              " 'garantias': 35832,\n",
              " 'profissao': 60783,\n",
              " 'menos': 49575,\n",
              " 'crime': 19690,\n",
              " 'sendo': 68915,\n",
              " 'cometido': 16161,\n",
              " 'sigilo': 69586,\n",
              " 'fonte': 34474,\n",
              " 'pilares': 57992,\n",
              " 'escreveu': 29869,\n",
              " 'gravacoes': 37181,\n",
              " 'anexadas': 4251,\n",
              " 'conjunto': 17550,\n",
              " 'audios': 7655,\n",
              " 'anexados': 4253,\n",
              " 'inquerito': 41802,\n",
              " 'provocou': 61523,\n",
              " 'afastamento': 1921,\n",
              " 'prisao': 60468,\n",
              " 'sabe': 67468,\n",
              " 'breve': 10970,\n",
              " 'poderemos': 58616,\n",
              " 'companhia': 16280,\n",
              " 'tucano': 75612,\n",
              " 'cadeia': 11681,\n",
              " 'relatorio': 64620,\n",
              " 'assustador': 7012,\n",
              " 'bndes': 10285,\n",
              " 'mostra': 51418,\n",
              " 'dinheiro': 24880,\n",
              " 'publico': 61706,\n",
              " 'jorrando': 44218,\n",
              " 'paises': 55347,\n",
              " 'comunistas': 16766,\n",
              " 'intitulado': 42774,\n",
              " 'transformado': 74843,\n",
              " 'robin': 66768,\n",
              " 'hood': 38881,\n",
              " 'avessas': 8219,\n",
              " 'influenciado': 41425,\n",
              " 'petista': 57729,\n",
              " 'conseguiu': 17652,\n",
              " 'beneficiar': 9534,\n",
              " 'pequeno': 56967,\n",
              " 'percentual': 57014,\n",
              " 'empresas': 27790,\n",
              " 'escolhidas': 29755,\n",
              " 'dedo': 21116,\n",
              " 'afundou': 2178,\n",
              " 'instituicao': 42107,\n",
              " 'dividas': 25594,\n",
              " 'astronomicas': 7064,\n",
              " 'autoria': 7986,\n",
              " 'deputada': 22018,\n",
              " 'cristiane': 19788,\n",
              " 'documento': 25824,\n",
              " 'apresentado': 5458,\n",
              " 'cpi': 19468,\n",
              " 'apossou': 5338,\n",
              " 'banco': 8772,\n",
              " 'conceder': 16806,\n",
              " 'trecho': 75160,\n",
              " 'destaca': 23965,\n",
              " 'existencia': 31906,\n",
              " 'contratos': 18491,\n",
              " 'secretos': 68542,\n",
              " 'suspeitas': 72315,\n",
              " 'pratica': 59470,\n",
              " 'atos': 7412,\n",
              " 'corrupcao': 19209,\n",
              " 'criacao': 19640,\n",
              " 'fachada': 32521,\n",
              " 'cuba': 19971,\n",
              " 'angola': 4306,\n",
              " 'venezuela': 77190,\n",
              " 'dominicana': 25965,\n",
              " 'guatemala': 37550,\n",
              " 'apontou': 5301,\n",
              " 'gama': 35743,\n",
              " 'irregularidades': 43316,\n",
              " 'concessao': 16875,\n",
              " 'creditos': 19557,\n",
              " 'relatou': 64623,\n",
              " 'respeito': 65629,\n",
              " 'procedimentos': 60581,\n",
              " 'propria': 61174,\n",
              " 'tampouco': 72685,\n",
              " 'leis': 45912,\n",
              " 'regulamentam': 64351,\n",
              " 'operacoes': 54407,\n",
              " 'precisamos': 59585,\n",
              " 'urgentemente': 76293,\n",
              " 'derrubar': 22116,\n",
              " 'desses': 23962,\n",
              " 'desmascarar': 23511,\n",
              " 'pilantragem': 57988,\n",
              " 'feita': 33280,\n",
              " 'abaixo': 36,\n",
              " 'resumo': 65922,\n",
              " 'texto': 73607,\n",
              " 'oficial': 54041,\n",
              " 'voce': 78334,\n",
              " 'conferir': 17217,\n",
              " 'camara': 12045,\n",
              " 'diversas': 25558,\n",
              " 'area': 5890,\n",
              " 'internacional': 42564,\n",
              " 'auditadas': 7660,\n",
              " 'cerca': 13864,\n",
              " 'milhoes': 50217,\n",
              " 'aprovados': 5574,\n",
              " 'diretoria': 24986,\n",
              " 'respectiva': 65595,\n",
              " 'poucos': 59338,\n",
              " 'paragrafos': 55707,\n",
              " 'utilizacao': 76466,\n",
              " 'termos': 73464,\n",
              " 'genericos': 36149,\n",
              " 'abstratos': 496,\n",
              " 'analise': 4050,\n",
              " 'especifica': 30216,\n",
              " 'sobre': 70241,\n",
              " 'obra': 53587,\n",
              " 'sera': 69135,\n",
              " 'realizada': 63052,\n",
              " 'pedidos': 56616,\n",
              " 'financiamento': 33883,\n",
              " 'realizacao': 63050,\n",
              " 'obras': 53590,\n",
              " 'distintas': 25435,\n",
              " 'diferentes': 24659,\n",
              " 'praticamente': 59477,\n",
              " 'mesma': 49800,\n",
              " 'fundamentacao': 35392,\n",
              " 'mesmas': 49801,\n",
              " 'expressoes': 32236,\n",
              " 'qualquer': 62048,\n",
              " 'indicativo': 41007,\n",
              " 'nacoes': 52063,\n",
              " 'serem': 69150,\n",
              " 'realizadas': 63053,\n",
              " 'ocorre': 53801,\n",
              " 'exemplo': 31797,\n",
              " 'comparamos': 16293,\n",
              " 'processos': 60608,\n",
              " 'embora': 27430,\n",
              " 'tratem': 75075,\n",
              " 'diversos': 25575,\n",
              " 'respectivos': 65599,\n",
              " 'emprestimos': 27807,\n",
              " 'afirmando': 2038,\n",
              " 'contrato': 18490,\n",
              " 'produzira': 60709,\n",
              " 'fomento': 34450,\n",
              " 'ajudara': 2637,\n",
              " 'exportar': 32193,\n",
              " 'divisas': 25633,\n",
              " 'sic': 69545,\n",
              " 'servicos': 69255,\n",
              " 'nenhum': 52644,\n",
              " 'relatorios': 64621,\n",
              " 'indicam': 40993,\n",
              " 'quais': 62018,\n",
              " 'serao': 69138,\n",
              " 'sociais': 70358,\n",
              " 'projeto': 60903,\n",
              " 'mencao': 49513,\n",
              " 'numero': 53449,\n",
              " 'empregos': 27763,\n",
              " 'gerados': 36297,\n",
              " 'efeito': 26795,\n",
              " 'tera': 73350,\n",
              " 'parque': 55975,\n",
              " 'industrial': 41146,\n",
              " 'brasileiro': 10880,\n",
              " 'detalhamento': 24201,\n",
              " 'poderia': 58618,\n",
              " 'adotado': 1693,\n",
              " 'melhorar': 49437,\n",
              " 'transparencia': 74952,\n",
              " 'governanca': 36966,\n",
              " 'caso': 13168,\n",
              " 'processo': 60607,\n",
              " 'andamento': 4149,\n",
              " 'tcu': 72934,\n",
              " 'proposta': 61169,\n",
              " 'aplicacao': 5176,\n",
              " 'multa': 51741,\n",
              " 'pese': 57625,\n",
              " 'corriqueira': 19161,\n",
              " 'decisoes': 20945,\n",
              " 'finais': 33834,\n",
              " 'acerca': 780,\n",
              " 'aprovadas': 5572,\n",
              " 'conselho': 17658,\n",
              " 'administrativo': 1575,\n",
              " 'entendendo': 28844,\n",
              " 'responsabilizada': 65693,\n",
              " 'orgao': 54701,\n",
              " 'controle': 18555,\n",
              " 'aponta': 5277,\n",
              " 'falta': 32766,\n",
              " 'registro': 64288,\n",
              " 'arquivos': 6173,\n",
              " 'fundamentacoes': 35393,\n",
              " 'critica': 19812,\n",
              " 'classifica': 15139,\n",
              " 'parecer': 55868,\n",
              " 'oral': 54569,\n",
              " 'financiamentos': 33884,\n",
              " 'determinados': 24269,\n",
              " 'alguns': 3110,\n",
              " 'erros': 29497,\n",
              " 'digitacao': 24723,\n",
              " 'implicaram': 40075,\n",
              " 'celebracao': 13667,\n",
              " 'valores': 76726,\n",
              " 'inferiores': 41324,\n",
              " 'pretendidos': 60232,\n",
              " 'falhas': 32712,\n",
              " 'transcricao': 74790,\n",
              " 'documentos': 25825,\n",
              " 'culminou': 20061,\n",
              " 'erro': 29492,\n",
              " 'autorizacao': 7998,\n",
              " 'prazo': 59510,\n",
              " 'deferido': 21202,\n",
              " 'corpo': 19017,\n",
              " 'tecnico': 72982,\n",
              " 'demonstre': 21716,\n",
              " 'alta': 3379,\n",
              " 'capacidade': 12485,\n",
              " 'comprometem': 16635,\n",
              " 'qualidade': 62023,\n",
              " 'procedimento': 60580,\n",
              " 'questione': 62252,\n",
              " 'mera': 49652,\n",
              " 'chancela': 14136,\n",
              " 'previamente': 60310,\n",
              " 'tomadas': 74121,\n",
              " 'instancias': 42049,\n",
              " 'superiores': 71998,\n",
              " 'governos': 36984,\n",
              " 'sucessivos': 71648,\n",
              " 'favorecimento': 33086,\n",
              " 'amigos': 3854,\n",
              " 'rei': 64385,\n",
              " 'brahma': 10826,\n",
              " 'outro': 55042,\n",
              " 'lado': 45264,\n",
              " 'revisao': 66340,\n",
              " 'dessas': 23954,\n",
              " 'praticas': 59486,\n",
              " 'aprimorara': 5513,\n",
              " 'lisura': 46703,\n",
              " 'radialista': 62501,\n",
              " 'americano': 3822,\n",
              " 'fala': 32641,\n",
              " 'vendem': 77141,\n",
              " 'ilusao': 39657,\n",
              " 'so': 70195,\n",
              " 'pensam': 56893,\n",
              " 'divertir': 25588,\n",
              " 'sitio': 70069,\n",
              " 'alex': 3024,\n",
              " 'jones': 44178,\n",
              " 'chorou': 14575,\n",
              " 'criancas': 19660,\n",
              " 'saude': 68276,\n",
              " 'citou': 15031,\n",
              " 'microcefalia': 50058,\n",
              " 'espalha': 30130,\n",
              " 'mundo': 51849,\n",
              " 'partir': 56065,\n",
              " 'descaso': 22566,\n",
              " 'crise': 19749,\n",
              " 'politica': 58765,\n",
              " 'esquerda': 30521,\n",
              " 'faz': 33105,\n",
              " 'nada': 52064,\n",
              " 'ilusoes': 39659,\n",
              " 'sei': 68735,\n",
              " 'fim': 33829,\n",
              " 'video': 77647,\n",
              " 'surto': 72271,\n",
              " 'conteve': 18228,\n",
              " 'caiu': 11818,\n",
              " 'lagrimas': 45301,\n",
              " 'amparo': 3942,\n",
              " 'boas': 10301,\n",
              " 'ajudar': 2636,\n",
              " 'deixaram': 21371,\n",
              " 'crescer': 19612,\n",
              " 'nesse': 52721,\n",
              " 'willian': 78857,\n",
              " 'waack': 78560,\n",
              " 'continuara': 18279,\n",
              " 'internado': 42574,\n",
              " 'sirio': 70004,\n",
              " 'libanes': 46253,\n",
              " 'apresentador': 5459,\n",
              " 'jornal': 44207,\n",
              " 'globo': 36694,\n",
              " 'ficara': 33601,\n",
              " 'funcoes': 35375,\n",
              " 'indeterminado': 40962,\n",
              " 'hospital': 38976,\n",
              " 'paulo': 56418,\n",
              " 'submetido': 71447,\n",
              " 'ultima': 75968,\n",
              " 'cateterismo': 13375,\n",
              " 'recebeu': 63297,\n",
              " 'quatro': 62098,\n",
              " 'stents': 71156,\n",
              " 'tubo': 75602,\n",
              " 'metalico': 49871,\n",
              " 'usado': 76360,\n",
              " 'desobstruir': 23650,\n",
              " 'arterias': 6487,\n",
              " 'quadro': 62009,\n",
              " 'considerado': 17720,\n",
              " 'delicado': 21498,\n",
              " 'rede': 63781,\n",
              " 'manifestaram': 48196,\n",
              " 'publicamente': 61688,\n",
              " 'carlos': 12896,\n",
              " 'tramontina': 74689,\n",
              " 'substituindo': 71556,\n",
              " 'comando': 15944,\n",
              " 'problema': 60552,\n",
              " 'cardiaco': 12765,\n",
              " 'tira': 73878,\n",
              " 'william': 78853,\n",
              " 'operado': 54410,\n",
              " 'temporariamente': 73215,\n",
              " 'apos': 5314,\n",
              " 'submeter': 71437,\n",
              " 'exames': 31590,\n",
              " 'rotina': 67169,\n",
              " 'medicos': 49303,\n",
              " 'determinaram': 24277,\n",
              " 'passe': 56171,\n",
              " 'utilizado': 76470,\n",
              " 'diagnosticar': 24524,\n",
              " 'tratar': 75055,\n",
              " 'doencas': 25840,\n",
              " 'cardiacas': 12764,\n",
              " 'fara': 32869,\n",
              " 'cirurgia': 14971,\n",
              " 'manha': 48163,\n",
              " 'dessa': 23950,\n",
              " 'precisou': 59612,\n",
              " 'convocado': 18745,\n",
              " 'hora': 38895,\n",
              " 'comandara': 15935,\n",
              " 'proximos': 61534,\n",
              " 'dias': 24581,\n",
              " 'emitiu': 27561,\n",
              " 'nenhuma': 52645,\n",
              " 'nota': 53230,\n",
              " 'ancora': 4130,\n",
              " 'global': 36680,\n",
              " 'edir': 26680,\n",
              " 'macedo': 47451,\n",
              " 'podera': 58611,\n",
              " 'disputar': 25303,\n",
              " 'eleicoes': 27030,\n",
              " 'presidenciais': 60060,\n",
              " 'lula': 47251,\n",
              " 'absolvido': 461,\n",
              " 'instancia': 42048,\n",
              " 'dificil': 24666,\n",
              " 'acontecer': 1083,\n",
              " 'preliminares': 59809,\n",
              " 'apontam': 5282,\n",
              " 'turno': 75755,\n",
              " 'disputadissimo': 25298,\n",
              " 'deputado': 22020,\n",
              " 'cedo': 13632,\n",
              " 'prever': 60306,\n",
              " 'futuro': 35566,\n",
              " 'politico': 58772,\n",
              " 'novos': 53372,\n",
              " 'nomes': 53114,\n",
              " 'estao': 30717,\n",
              " 'confirmados': 17319,\n",
              " 'concorrer': 16976,\n",
              " 'cargo': 12817,\n",
              " 'maximo': 49119,\n",
              " 'planalto': 58350,\n",
              " 'senadores': 68904,\n",
              " 'paranaenses': 55776,\n",
              " 'alvaro': 3515,\n",
              " 'roberto': 66762,\n",
              " 'requiao': 65400,\n",
              " 'marina': 48632,\n",
              " 'silva': 69676,\n",
              " 'ciro': 14965,\n",
              " 'gomes': 36830,\n",
              " 'ce': 13584,\n",
              " 'governador': 36958,\n",
              " 'sp': 70952,\n",
              " 'geraldo': 36304,\n",
              " 'alckmin': 2861,\n",
              " 'confirmaram': 17325,\n",
              " 'pretendem': 60218,\n",
              " 'proximas': 61530,\n",
              " 'liderancas': 46400,\n",
              " 'religiosas': 64681,\n",
              " 'articulam': 6517,\n",
              " 'lancar': 45414,\n",
              " 'proprio': 61184,\n",
              " 'candidato': 12305,\n",
              " 'bispo': 10098,\n",
              " 'dono': 26010,\n",
              " 'igreja': 39517,\n",
              " 'universal': 76199,\n",
              " 'tv': 75785,\n",
              " 'record': 63616,\n",
              " 'descartou': 22560,\n",
              " 'possibilidade': 59195,\n",
              " 'nome': 53091,\n",
              " 'urnas': 76312,\n",
              " 'eletronicas': 27120,\n",
              " 'proximo': 61533,\n",
              " 'ano': 4431,\n",
              " 'bancada': 8754,\n",
              " 'evangelica': 31422,\n",
              " 'congresso': 17488,\n",
              " 'reunido': 66166,\n",
              " 'frequencia': 35049,\n",
              " 'principal': 60419,\n",
              " 'desafeto': 22205,\n",
              " 'escolheu': 29750,\n",
              " 'apoiar': 5245,\n",
              " 'indica': 40983,\n",
              " 'marinho': 48646,\n",
              " 'forte': 34703,\n",
              " 'admiracao': 1589,\n",
              " 'presidente': 60070,\n",
              " 'stf': 71179,\n",
              " 'ministra': 50414,\n",
              " 'carmen': 12904,\n",
              " 'lucia': 47162,\n",
              " 'jose': 44224,\n",
              " 'serra': 69214,\n",
              " 'joaquim': 44089,\n",
              " 'barbosa': 8924,\n",
              " 'ventilados': 77216,\n",
              " 'porem': 59013,\n",
              " 'confirmacao': 17312,\n",
              " 'boechat': 10359,\n",
              " 'alma': 3275,\n",
              " 'honesta': 38838,\n",
              " 'diabo': 24502,\n",
              " 'todo': 74048,\n",
              " 'direito': 24970,\n",
              " 'dizer': 25690,\n",
              " 'significa': 69608,\n",
              " 'tesoureiro': 73528,\n",
              " 'vaccari': 76527,\n",
              " 'tentou': 73317,\n",
              " 'isentar': 43417,\n",
              " 'cana': 12205,\n",
              " 'ze': 79343,\n",
              " 'dirceu': 24934,\n",
              " 'figura': 33688,\n",
              " 'importante': 40134,\n",
              " 'confira': 17308,\n",
              " 'sobreviver': 70316,\n",
              " 'chama': 14086,\n",
              " 'mentiroso': 49637,\n",
              " 'mesquinho': 49816,\n",
              " 'conspirador': 17817,\n",
              " 'trabalhadores': 74486,\n",
              " 'soltou': 70636,\n",
              " 'repudio': 65353,\n",
              " 'decisao': 20938,\n",
              " 'bloqueio': 10253,\n",
              " 'patrimonios': 56330,\n",
              " 'mil': 50176,\n",
              " 'alega': 2910,\n",
              " 'pobre': 58585,\n",
              " 'basico': 9104,\n",
              " 'abre': 382,\n",
              " 'aspas': 6667,\n",
              " 'condenar': 17041,\n",
              " 'provas': 61422,\n",
              " 'propagar': 61076,\n",
              " 'mentiras': 49631,\n",
              " 'contradizer': 18372,\n",
              " 'sentenca': 69009,\n",
              " 'decidiu': 20927,\n",
              " 'inocente': 41756,\n",
              " 'bloquear': 10241,\n",
              " 'bens': 9609,\n",
              " 'decretou': 21083,\n",
              " 'pena': 56776,\n",
              " 'asfixia': 6616,\n",
              " 'economica': 26576,\n",
              " 'priva': 60481,\n",
              " 'casa': 13102,\n",
              " 'meios': 49401,\n",
              " 'subsistir': 71526,\n",
              " 'defender': 21164,\n",
              " 'falsas': 32746,\n",
              " 'mesquinha': 49813,\n",
              " 'tramada': 74656,\n",
              " 'segredo': 68656,\n",
              " 'longo': 46987,\n",
              " 'meses': 49792,\n",
              " 'forca': 34504,\n",
              " 'tarefa': 72781,\n",
              " 'curitiba': 20251,\n",
              " 'concluida': 16913,\n",
              " 'reacao': 62952,\n",
              " 'sociedade': 70378,\n",
              " 'juridico': 44518,\n",
              " 'injusta': 41722,\n",
              " 'triplex': 75343,\n",
              " 'tipico': 73858,\n",
              " 'retaliacao': 65931,\n",
              " 'vale': 76638,\n",
              " 'cumplicidade': 20129,\n",
              " 'cometer': 16149,\n",
              " 'arbitrariedades': 5820,\n",
              " 'lider': 46392,\n",
              " 'popular': 58964,\n",
              " 'fecha': 33177,\n",
              " 'fuzilados': 35576,\n",
              " 'durante': 26402,\n",
              " 'regime': 64241,\n",
              " 'fidel': 33644,\n",
              " 'castro': 13263,\n",
              " 'chegado': 14325,\n",
              " 'acordo': 1128,\n",
              " 'archive': 5861,\n",
              " 'organizado': 54677,\n",
              " 'residentes': 65507,\n",
              " 'nova': 53321,\n",
              " 'jersey': 43986,\n",
              " 'chamado': 14089,\n",
              " 'paredon': 55892,\n",
              " 'cubano': 19976,\n",
              " 'vitimou': 78180,\n",
              " 'fuzilamentos': 35578,\n",
              " 'ilha': 39594,\n",
              " 'desde': 22864,\n",
              " 'instauracao': 42062,\n",
              " 'podem': 58607,\n",
              " 'anos': 4455,\n",
              " 'irmaos': 43258,\n",
              " 'fuzilou': 35582,\n",
              " 'estimativa': 30910,\n",
              " 'manteve': 48301,\n",
              " 'decada': 20847,\n",
              " 'oponentes': 54474,\n",
              " 'politicos': 58774,\n",
              " 'atras': 7462,\n",
              " 'grades': 37041,\n",
              " 'coordenadores': 18818,\n",
              " 'existente': 31911,\n",
              " 'compilou': 16437,\n",
              " 'depoimentos': 21927,\n",
              " 'data': 20680,\n",
              " 'hoje': 38701,\n",
              " 'dados': 20444,\n",
              " 'disponiveis': 25272,\n",
              " 'outras': 55040,\n",
              " 'tres': 75220,\n",
              " 'estimativas': 30911,\n",
              " 'citadas': 15002,\n",
              " 'analistas': 4057,\n",
              " 'historiadores': 38646,\n",
              " 'consultados': 17994,\n",
              " 'folha': 34418,\n",
              " 'livro': 46784,\n",
              " 'negro': 52602,\n",
              " 'comunismo': 16764,\n",
              " 'bertrand': 9725,\n",
              " 'relata': 64584,\n",
              " 'fuziladas': 35574,\n",
              " 'liveo': 46750,\n",
              " 'cronologia': 19863,\n",
              " 'cinco': 14826,\n",
              " 'siglos': 69598,\n",
              " 'historia': 38642,\n",
              " 'cultura': 20106,\n",
              " 'historiador': 38644,\n",
              " 'leopoldo': 46044,\n",
              " 'estima': 30898,\n",
              " 'opoentes': 54470,\n",
              " 'final': 33835,\n",
              " 'hugh': 39076,\n",
              " 'thomas': 73694,\n",
              " 'britanico': 11092,\n",
              " 'autor': 7976,\n",
              " 'or': 54559,\n",
              " 'the': 73647,\n",
              " 'pursuit': 61888,\n",
              " 'of': 53957,\n",
              " 'liberty': 46322,\n",
              " 'torno': 74320,\n",
              " 'pra': 59427,\n",
              " 'acha': 838,\n",
              " 'pessoa': 57674,\n",
              " 'google': 36858,\n",
              " 'ai': 2567,\n",
              " 'basta': 9122,\n",
              " 'perder': 57060,\n",
              " 'tempinho': 73203,\n",
              " 'pesquisar': 57652,\n",
              " 'coodenador': 18773,\n",
              " 'revolta': 66398,\n",
              " 'aumento': 7723,\n",
              " 'corruptos': 19220,\n",
              " 'desviam': 24159,\n",
              " 'bilhoes': 9926,\n",
              " 'procurador': 60644,\n",
              " 'deltan': 21574,\n",
              " 'dallagnol': 20494,\n",
              " 'coordenador': 18815,\n",
              " 'ministerio': 50410,\n",
              " 'varias': 76869,\n",
              " 'lutam': 47325,\n",
              " 'tirar': 73898,\n",
              " 'ladroes': 45272,\n",
              " 'gravata': 37199,\n",
              " 'mensagem': 49587,\n",
              " 'publicada': 61682,\n",
              " 'redes': 63799,\n",
              " 'desabafou': 22143,\n",
              " 'anunciado': 4827,\n",
              " 'temer': 73161,\n",
              " 'recuperar': 63732,\n",
              " 'dignidade': 24753,\n",
              " 'claro': 15126,\n",
              " 'brasileiros': 10881,\n",
              " 'vao': 76820,\n",
              " 'compreender': 16590,\n",
              " 'praticando': 59479,\n",
              " 'gastam': 35957,\n",
              " 'devem': 24405,\n",
              " 'emendas': 27485,\n",
              " 'milionarias': 50233,\n",
              " 'livrar': 46766,\n",
              " 'conta': 18050,\n",
              " 'bolso': 10471,\n",
              " 'aumentando': 7709,\n",
              " 'toda': 74042,\n",
              " 'abastecer': 104,\n",
              " 'carro': 13022,\n",
              " 'pensar': 56902,\n",
              " 'educacao': 26742,\n",
              " 'pobres': 58587,\n",
              " 'buracos': 11334,\n",
              " 'estradas': 31014,\n",
              " 'infraestrutura': 41522,\n",
              " 'precaria': 59520,\n",
              " 'prejudica': 59776,\n",
              " 'investimentos': 43075,\n",
              " 'lembrar': 45952,\n",
              " 'disso': 25376,\n",
              " 'moleque': 50937,\n",
              " 'sofreu': 70476,\n",
              " 'friboi': 35102,\n",
              " 'gostariamos': 36916,\n",
              " 'comovente': 16238,\n",
              " 'problemas': 60555,\n",
              " 'cardiacos': 12766,\n",
              " 'tendencia': 73235,\n",
              " 'depressao': 22000,\n",
              " 'favor': 33063,\n",
              " 'assista': 6887,\n",
              " 'depoimento': 21926,\n",
              " 'feito': 33286,\n",
              " 'ontem': 54360,\n",
              " 'apelo': 5079,\n",
              " 'entao': 28819,\n",
              " 'pf': 57800,\n",
              " 'mpf': 51594,\n",
              " 'apresentam': 5465,\n",
              " 'desgraca': 23278,\n",
              " 'criam': 19656,\n",
              " 'fantasia': 32836,\n",
              " 'chefe': 14300,\n",
              " 'escolhi': 29751,\n",
              " 'roubar': 67205,\n",
              " 'triste': 75372,\n",
              " 'peco': 56549,\n",
              " 'ouvindo': 55066,\n",
              " 'grupo': 37444,\n",
              " 'procuradores': 60647,\n",
              " 'apresentem': 5487,\n",
              " 'prova': 61399,\n",
              " 'pedaco': 56568,\n",
              " 'papel': 55614,\n",
              " 'higienico': 38501,\n",
              " 'assinado': 6853,\n",
              " 'amor': 3898,\n",
              " 'deus': 24345,\n",
              " 'voces': 78335,\n",
              " 'ajudam': 2632,\n",
              " 'internet': 42592,\n",
              " 'passou': 56211,\n",
              " 'falando': 32655,\n",
              " 'filho': 33744,\n",
              " 'original': 54757,\n",
              " 'cortes': 19248,\n",
              " 'haver': 38053,\n",
              " 'duvidas': 26454,\n",
              " 'minuto': 50472,\n",
              " 'urgente': 76292,\n",
              " 'pede': 56594,\n",
              " 'pediu': 56632,\n",
              " 'nesta': 52724,\n",
              " 'supremo': 72152,\n",
              " 'tribunal': 75262,\n",
              " 'advogado': 1833,\n",
              " 'alberto': 2796,\n",
              " 'toron': 74326,\n",
              " 'defesa': 21208,\n",
              " 'informou': 41510,\n",
              " 'aguarda': 2491,\n",
              " 'intimado': 42740,\n",
              " 'pedido': 56615,\n",
              " 'pgr': 57816,\n",
              " 'apresentar': 5468,\n",
              " 'contrarrazoes': 18446,\n",
              " 'oportunidade': 54483,\n",
              " 'demonstrara': 21703,\n",
              " 'impropriedade': 40270,\n",
              " 'afirmou': 2057,\n",
              " ...}"
            ]
          },
          "metadata": {},
          "execution_count": 9
        }
      ]
    },
    {
      "cell_type": "code",
      "source": [
        "X_train, X_test, y_train, y_test = train_test_split(X, y, test_size = 0.3, random_state = 0)\n"
      ],
      "metadata": {
        "id": "qI6v64C0O_U4"
      },
      "execution_count": null,
      "outputs": []
    },
    {
      "cell_type": "code",
      "source": [
        "print('Total train samples: {}'.format(X_train.shape[0]))\n",
        "print('Total test samples: {}'.format(X_test.shape[0]))"
      ],
      "metadata": {
        "colab": {
          "base_uri": "https://localhost:8080/"
        },
        "id": "9xncTP8VKL8O",
        "outputId": "38d24b31-a8a3-40c9-b084-44e8c893ba89"
      },
      "execution_count": null,
      "outputs": [
        {
          "output_type": "stream",
          "name": "stdout",
          "text": [
            "Total train samples: 5040\n",
            "Total test samples: 2160\n"
          ]
        }
      ]
    },
    {
      "cell_type": "markdown",
      "source": [
        "### Classificador SVM\n"
      ],
      "metadata": {
        "id": "gUjlTzrIKtXf"
      }
    },
    {
      "cell_type": "code",
      "source": [
        "clf = LinearSVC()\n",
        "clf.fit(X_train, y_train)"
      ],
      "metadata": {
        "colab": {
          "base_uri": "https://localhost:8080/"
        },
        "id": "vqEjCaU7PMkI",
        "outputId": "aae1386b-13c0-42ca-af96-4e1155963d8d"
      },
      "execution_count": null,
      "outputs": [
        {
          "output_type": "execute_result",
          "data": {
            "text/plain": [
              "LinearSVC()"
            ]
          },
          "metadata": {},
          "execution_count": 12
        }
      ]
    },
    {
      "cell_type": "code",
      "source": [
        "y_pred = clf.predict(X_test)"
      ],
      "metadata": {
        "id": "heW1nzxEPUS8"
      },
      "execution_count": null,
      "outputs": []
    },
    {
      "cell_type": "code",
      "source": [
        "print('Accuracy of the Algorithm is: {}'.format(accuracy_score(y_test, y_pred)))"
      ],
      "metadata": {
        "colab": {
          "base_uri": "https://localhost:8080/"
        },
        "id": "QfrfROMSPZs4",
        "outputId": "e2e600c6-fa65-4283-a7da-f25c3c264bc3"
      },
      "execution_count": null,
      "outputs": [
        {
          "output_type": "stream",
          "name": "stdout",
          "text": [
            "Accuracy of the Algorithm is: 0.9578703703703704\n"
          ]
        }
      ]
    },
    {
      "cell_type": "code",
      "source": [
        "accuracy = accuracy_score(y_test, y_pred) * 100\n",
        "f1 = f1_score(y_test, y_pred, average = 'macro') * 100\n",
        "\n",
        "print('Accuracy K-NN from sk-learn: {:.2f}%'.format(accuracy))\n",
        "print('F1 Score K-NN from sk-learn: {:.2f}%'.format(f1))"
      ],
      "metadata": {
        "colab": {
          "base_uri": "https://localhost:8080/"
        },
        "id": "vJFqgEKvL39E",
        "outputId": "8a53bc49-aa08-40c3-e212-7000d48b4012"
      },
      "execution_count": null,
      "outputs": [
        {
          "output_type": "stream",
          "name": "stdout",
          "text": [
            "Accuracy K-NN from sk-learn: 95.79%\n",
            "F1 Score K-NN from sk-learn: 95.79%\n"
          ]
        }
      ]
    },
    {
      "cell_type": "code",
      "source": [
        "confusion_matrix(y_test, y_pred)"
      ],
      "metadata": {
        "colab": {
          "base_uri": "https://localhost:8080/"
        },
        "id": "N7zoiUjYPhYD",
        "outputId": "ff9c51b4-9ef0-4ae4-f1cc-87f951b68408"
      },
      "execution_count": null,
      "outputs": [
        {
          "output_type": "execute_result",
          "data": {
            "text/plain": [
              "array([[1051,   34],\n",
              "       [  57, 1018]])"
            ]
          },
          "metadata": {},
          "execution_count": 16
        }
      ]
    },
    {
      "cell_type": "code",
      "source": [
        "print(classification_report(y_test, y_pred))"
      ],
      "metadata": {
        "colab": {
          "base_uri": "https://localhost:8080/"
        },
        "id": "PBozlpB0PnnA",
        "outputId": "3ddb0de4-1a78-43b2-d2ce-28e0fe2a4983"
      },
      "execution_count": null,
      "outputs": [
        {
          "output_type": "stream",
          "name": "stdout",
          "text": [
            "              precision    recall  f1-score   support\n",
            "\n",
            "        fake       0.95      0.97      0.96      1085\n",
            "        true       0.97      0.95      0.96      1075\n",
            "\n",
            "    accuracy                           0.96      2160\n",
            "   macro avg       0.96      0.96      0.96      2160\n",
            "weighted avg       0.96      0.96      0.96      2160\n",
            "\n"
          ]
        }
      ]
    },
    {
      "cell_type": "code",
      "source": [
        "matrix = plot_confusion_matrix(clf, X_test, y_test, cmap=plt.cm.Reds)\n",
        "matrix.ax_.set_title('Confusion matrix', color='white')\n",
        "plt.xlabel('Predicted Label', color='white')\n",
        "plt.ylabel('True Label', color='white')\n",
        "plt.gcf().axes[0].tick_params(color='white')\n",
        "plt.gcf().axes[1].tick_params(color='white')\n",
        "plt.gcf().set_size_inches(10,6)\n",
        "plt.show()"
      ],
      "metadata": {
        "colab": {
          "base_uri": "https://localhost:8080/",
          "height": 459
        },
        "id": "sXOxuyLnP7cx",
        "outputId": "28576e00-9d8f-484f-91e2-c52e2c736996"
      },
      "execution_count": null,
      "outputs": [
        {
          "output_type": "stream",
          "name": "stderr",
          "text": [
            "/usr/local/lib/python3.7/dist-packages/sklearn/utils/deprecation.py:87: FutureWarning: Function plot_confusion_matrix is deprecated; Function `plot_confusion_matrix` is deprecated in 1.0 and will be removed in 1.2. Use one of the class methods: ConfusionMatrixDisplay.from_predictions or ConfusionMatrixDisplay.from_estimator.\n",
            "  warnings.warn(msg, category=FutureWarning)\n"
          ]
        },
        {
          "output_type": "display_data",
          "data": {
            "text/plain": [
              "<Figure size 720x432 with 2 Axes>"
            ],
            "image/png": "[encoded data removed]"
          },
          "metadata": {
            "needs_background": "light"
          }
        }
      ]
    },
    {
      "cell_type": "markdown",
      "source": [
        "### Classificador KNN"
      ],
      "metadata": {
        "id": "qMCGW7JlKxUm"
      }
    },
    {
      "cell_type": "code",
      "source": [
        "from sklearn.neighbors import KNeighborsClassifier"
      ],
      "metadata": {
        "id": "Sv64u7Y_Kzxy"
      },
      "execution_count": null,
      "outputs": []
    },
    {
      "cell_type": "code",
      "source": [
        "knn = KNeighborsClassifier(n_neighbors = 5 )\n",
        "knn.fit(X_train, y_train)\n",
        "y_predict = knn.predict(X_test)"
      ],
      "metadata": {
        "id": "WlODA1wXKzpM"
      },
      "execution_count": null,
      "outputs": []
    },
    {
      "cell_type": "code",
      "source": [
        "accuracy = accuracy_score(y_test, y_predict) * 100\n",
        "f1 = f1_score(y_test, y_predict, average = 'macro') * 100\n",
        "\n",
        "print('Accuracy K-NN from sk-learn: {:.2f}%'.format(accuracy))\n",
        "print('F1 Score K-NN from sk-learn: {:.2f}%'.format(f1))"
      ],
      "metadata": {
        "colab": {
          "base_uri": "https://localhost:8080/"
        },
        "id": "6ffQMmIvKzjj",
        "outputId": "5fdc1963-eb20-4b5e-a127-7252cc537084"
      },
      "execution_count": null,
      "outputs": [
        {
          "output_type": "stream",
          "name": "stdout",
          "text": [
            "Accuracy K-NN from sk-learn: 70.19%\n",
            "F1 Score K-NN from sk-learn: 68.41%\n"
          ]
        }
      ]
    },
    {
      "cell_type": "code",
      "source": [
        "cm = confusion_matrix(y_test, y_predict)\n",
        "cm"
      ],
      "metadata": {
        "colab": {
          "base_uri": "https://localhost:8080/"
        },
        "id": "rhp3l-X0LPqL",
        "outputId": "7d1f2337-dd67-4f36-e00f-1fe05413b388"
      },
      "execution_count": null,
      "outputs": [
        {
          "output_type": "execute_result",
          "data": {
            "text/plain": [
              "array([[ 502,  583],\n",
              "       [  61, 1014]])"
            ]
          },
          "metadata": {},
          "execution_count": 22
        }
      ]
    },
    {
      "cell_type": "code",
      "source": [
        "print(classification_report(y_test, y_predict))"
      ],
      "metadata": {
        "colab": {
          "base_uri": "https://localhost:8080/"
        },
        "id": "_e2B_aJ1LjR5",
        "outputId": "112fd046-0253-455d-a25d-9555813b730c"
      },
      "execution_count": null,
      "outputs": [
        {
          "output_type": "stream",
          "name": "stdout",
          "text": [
            "              precision    recall  f1-score   support\n",
            "\n",
            "        fake       0.89      0.46      0.61      1085\n",
            "        true       0.63      0.94      0.76      1075\n",
            "\n",
            "    accuracy                           0.70      2160\n",
            "   macro avg       0.76      0.70      0.68      2160\n",
            "weighted avg       0.76      0.70      0.68      2160\n",
            "\n"
          ]
        }
      ]
    },
    {
      "cell_type": "code",
      "source": [
        "from sklearn.metrics import plot_confusion_matrix\n",
        "\n",
        "matrix = plot_confusion_matrix(knn, X_test, y_test, cmap=plt.cm.Blues)\n",
        "matrix.ax_.set_title('Confusion matrix', color='white')\n",
        "plt.xlabel('Predicted Label', color='white')\n",
        "plt.ylabel('True Label', color='white')\n",
        "plt.gcf().axes[0].tick_params(color='white')\n",
        "plt.gcf().axes[1].tick_params(color='white')\n",
        "plt.gcf().set_size_inches(10,6)\n",
        "plt.show()"
      ],
      "metadata": {
        "colab": {
          "base_uri": "https://localhost:8080/",
          "height": 459
        },
        "id": "abLjUktkLjPn",
        "outputId": "07c673b9-afd6-45e3-ac1c-a3bc00a84171"
      },
      "execution_count": null,
      "outputs": [
        {
          "output_type": "stream",
          "name": "stderr",
          "text": [
            "/usr/local/lib/python3.7/dist-packages/sklearn/utils/deprecation.py:87: FutureWarning: Function plot_confusion_matrix is deprecated; Function `plot_confusion_matrix` is deprecated in 1.0 and will be removed in 1.2. Use one of the class methods: ConfusionMatrixDisplay.from_predictions or ConfusionMatrixDisplay.from_estimator.\n",
            "  warnings.warn(msg, category=FutureWarning)\n"
          ]
        },
        {
          "output_type": "display_data",
          "data": {
            "text/plain": [
              "<Figure size 720x432 with 2 Axes>"
            ],
            "image/png": "[encoded data removed]"
          },
          "metadata": {
            "needs_background": "light"
          }
        }
      ]
    },
    {
      "cell_type": "markdown",
      "source": [
        "### Classificador Decision Tree"
      ],
      "metadata": {
        "id": "eb7sN3J1MDgI"
      }
    },
    {
      "cell_type": "code",
      "source": [
        "from sklearn.tree import DecisionTreeClassifier\n",
        "from sklearn import tree"
      ],
      "metadata": {
        "id": "9XjBywn5MIsU"
      },
      "execution_count": null,
      "outputs": []
    },
    {
      "cell_type": "code",
      "source": [
        "clf = DecisionTreeClassifier(max_leaf_nodes=3)\n",
        "clf.fit(X_train, y_train)\n",
        "\n",
        "tree.plot_tree(clf)\n",
        "plt.show()"
      ],
      "metadata": {
        "colab": {
          "base_uri": "https://localhost:8080/",
          "height": 248
        },
        "id": "5TZP9JwDMIqM",
        "outputId": "947b5863-2fe9-4265-c918-924b47e1aedb"
      },
      "execution_count": null,
      "outputs": [
        {
          "output_type": "display_data",
          "data": {
            "text/plain": [
              "<Figure size 432x288 with 1 Axes>"
            ],
            "image/png": "[encoded data removed]"
          },
          "metadata": {
            "needs_background": "light"
          }
        }
      ]
    },
    {
      "cell_type": "code",
      "source": [
        "y_predicted = clf.predict(X_test)\n",
        "print(y_predicted)"
      ],
      "metadata": {
        "colab": {
          "base_uri": "https://localhost:8080/"
        },
        "id": "v8tLMFajMInv",
        "outputId": "5c9e5526-349d-4449-9524-89b416e2d85c"
      },
      "execution_count": null,
      "outputs": [
        {
          "output_type": "stream",
          "name": "stdout",
          "text": [
            "['fake' 'fake' 'true' ... 'fake' 'fake' 'fake']\n"
          ]
        }
      ]
    },
    {
      "cell_type": "code",
      "source": [
        "accuracy = accuracy_score(y_test, y_predicted) * 100\n",
        "f1 = f1_score(y_test, y_predicted, average = 'macro') * 100\n",
        "\n",
        "print('Accuracy Decision Tree from Sk-learn: {:.2f}%'.format(accuracy))\n",
        "print('F1 Score Decision Tree from Sk-learn: {:.2f}%'.format(f1))"
      ],
      "metadata": {
        "colab": {
          "base_uri": "https://localhost:8080/"
        },
        "id": "qGVV63zDMIlW",
        "outputId": "127bfc07-8dff-4f37-d3fc-f5097991caf5"
      },
      "execution_count": null,
      "outputs": [
        {
          "output_type": "stream",
          "name": "stdout",
          "text": [
            "Accuracy Decision Tree from Sk-learn: 85.79%\n",
            "F1 Score Decision Tree from Sk-learn: 85.79%\n"
          ]
        }
      ]
    },
    {
      "cell_type": "code",
      "source": [
        "print(classification_report(y_test, y_predicted))"
      ],
      "metadata": {
        "colab": {
          "base_uri": "https://localhost:8080/"
        },
        "id": "RLl3pJzfMIi0",
        "outputId": "9fec4547-b965-42d7-997c-20fb4813db68"
      },
      "execution_count": null,
      "outputs": [
        {
          "output_type": "stream",
          "name": "stdout",
          "text": [
            "              precision    recall  f1-score   support\n",
            "\n",
            "        fake       0.86      0.86      0.86      1085\n",
            "        true       0.86      0.86      0.86      1075\n",
            "\n",
            "    accuracy                           0.86      2160\n",
            "   macro avg       0.86      0.86      0.86      2160\n",
            "weighted avg       0.86      0.86      0.86      2160\n",
            "\n"
          ]
        }
      ]
    },
    {
      "cell_type": "code",
      "source": [
        "cm = confusion_matrix(y_test, y_predicted)\n",
        "cm"
      ],
      "metadata": {
        "colab": {
          "base_uri": "https://localhost:8080/"
        },
        "id": "aHyDN5xeMIgW",
        "outputId": "e5550b18-d4b6-49ac-da5e-d2d04d2ea9c1"
      },
      "execution_count": null,
      "outputs": [
        {
          "output_type": "execute_result",
          "data": {
            "text/plain": [
              "array([[933, 152],\n",
              "       [155, 920]])"
            ]
          },
          "metadata": {},
          "execution_count": 30
        }
      ]
    },
    {
      "cell_type": "code",
      "source": [
        "matrix = plot_confusion_matrix(clf, X_test, y_test, cmap=plt.cm.Greens)\n",
        "matrix.ax_.set_title('Confusion matrix', color='white')\n",
        "plt.xlabel('Predicted Label', color='white')\n",
        "plt.ylabel('True Label', color='white')\n",
        "plt.gcf().axes[0].tick_params(color='white')\n",
        "plt.gcf().axes[1].tick_params(color='white')\n",
        "plt.gcf().set_size_inches(10,6)\n",
        "plt.show()"
      ],
      "metadata": {
        "colab": {
          "base_uri": "https://localhost:8080/",
          "height": 459
        },
        "id": "M4mbCRfKMId2",
        "outputId": "6773e121-301e-46bb-9cad-91b4500cdb5f"
      },
      "execution_count": null,
      "outputs": [
        {
          "output_type": "stream",
          "name": "stderr",
          "text": [
            "/usr/local/lib/python3.7/dist-packages/sklearn/utils/deprecation.py:87: FutureWarning: Function plot_confusion_matrix is deprecated; Function `plot_confusion_matrix` is deprecated in 1.0 and will be removed in 1.2. Use one of the class methods: ConfusionMatrixDisplay.from_predictions or ConfusionMatrixDisplay.from_estimator.\n",
            "  warnings.warn(msg, category=FutureWarning)\n"
          ]
        },
        {
          "output_type": "display_data",
          "data": {
            "text/plain": [
              "<Figure size 720x432 with 2 Axes>"
            ],
            "image/png": "[encoded data removed]"
          },
          "metadata": {
            "needs_background": "light"
          }
        }
      ]
    },
    {
      "cell_type": "code",
      "source": [
        "dados.head()"
      ],
      "metadata": {
        "colab": {
          "base_uri": "https://localhost:8080/",
          "height": 206
        },
        "id": "kZYqe9SoQPZL",
        "outputId": "a91c6063-8b66-4b90-b165-7f6600d96ec2"
      },
      "execution_count": null,
      "outputs": [
        {
          "output_type": "execute_result",
          "data": {
            "text/plain": [
              "  label                                  preprocessed_news\n",
              "0  fake  katia abreu diz vai colocar expulsao moldura n...\n",
              "1  fake  ray peita bolsonaro conservador fake entrevist...\n",
              "2  fake  reinaldo azevedo desmascarado policia federal ...\n",
              "3  fake  relatorio assustador bndes mostra dinheiro pub...\n",
              "4  fake  radialista americano fala sobre pt vendem ilus..."
            ],
            "text/html": [
              "\n",
              "  <div id=\"df-8c5ce2d5-c4e3-4f0d-bb93-215e7bed089a\">\n",
              "    <div class=\"colab-df-container\">\n",
              "      <div>\n",
              "<style scoped>\n",
              "    .dataframe tbody tr th:only-of-type {\n",
              "        vertical-align: middle;\n",
              "    }\n",
              "\n",
              "    .dataframe tbody tr th {\n",
              "        vertical-align: top;\n",
              "    }\n",
              "\n",
              "    .dataframe thead th {\n",
              "        text-align: right;\n",
              "    }\n",
              "</style>\n",
              "<table border=\"1\" class=\"dataframe\">\n",
              "  <thead>\n",
              "    <tr style=\"text-align: right;\">\n",
              "      <th></th>\n",
              "      <th>label</th>\n",
              "      <th>preprocessed_news</th>\n",
              "    </tr>\n",
              "  </thead>\n",
              "  <tbody>\n",
              "    <tr>\n",
              "      <th>0</th>\n",
              "      <td>fake</td>\n",
              "      <td>katia abreu diz vai colocar expulsao moldura n...</td>\n",
              "    </tr>\n",
              "    <tr>\n",
              "      <th>1</th>\n",
              "      <td>fake</td>\n",
              "      <td>ray peita bolsonaro conservador fake entrevist...</td>\n",
              "    </tr>\n",
              "    <tr>\n",
              "      <th>2</th>\n",
              "      <td>fake</td>\n",
              "      <td>reinaldo azevedo desmascarado policia federal ...</td>\n",
              "    </tr>\n",
              "    <tr>\n",
              "      <th>3</th>\n",
              "      <td>fake</td>\n",
              "      <td>relatorio assustador bndes mostra dinheiro pub...</td>\n",
              "    </tr>\n",
              "    <tr>\n",
              "      <th>4</th>\n",
              "      <td>fake</td>\n",
              "      <td>radialista americano fala sobre pt vendem ilus...</td>\n",
              "    </tr>\n",
              "  </tbody>\n",
              "</table>\n",
              "</div>\n",
              "      <button class=\"colab-df-convert\" onclick=\"convertToInteractive('df-8c5ce2d5-c4e3-4f0d-bb93-215e7bed089a')\"\n",
              "              title=\"Convert this dataframe to an interactive table.\"\n",
              "              style=\"display:none;\">\n",
              "        \n",
              "  <svg xmlns=\"http://www.w3.org/2000/svg\" height=\"24px\"viewBox=\"0 0 24 24\"\n",
              "       width=\"24px\">\n",
              "    <path d=\"M0 0h24v24H0V0z\" fill=\"none\"/>\n",
              "    <path d=\"M18.56 5.44l.94 2.06.94-2.06 2.06-.94-2.06-.94-.94-2.06-.94 2.06-2.06.94zm-11 1L8.5 8.5l.94-2.06 2.06-.94-2.06-.94L8.5 2.5l-.94 2.06-2.06.94zm10 10l.94 2.06.94-2.06 2.06-.94-2.06-.94-.94-2.06-.94 2.06-2.06.94z\"/><path d=\"M17.41 7.96l-1.37-1.37c-.4-.4-.92-.59-1.43-.59-.52 0-1.04.2-1.43.59L10.3 9.45l-7.72 7.72c-.78.78-.78 2.05 0 2.83L4 21.41c.39.39.9.59 1.41.59.51 0 1.02-.2 1.41-.59l7.78-7.78 2.81-2.81c.8-.78.8-2.07 0-2.86zM5.41 20L4 18.59l7.72-7.72 1.47 1.35L5.41 20z\"/>\n",
              "  </svg>\n",
              "      </button>\n",
              "      \n",
              "  <style>\n",
              "    .colab-df-container {\n",
              "      display:flex;\n",
              "      flex-wrap:wrap;\n",
              "      gap: 12px;\n",
              "    }\n",
              "\n",
              "    .colab-df-convert {\n",
              "      background-color: #E8F0FE;\n",
              "      border: none;\n",
              "      border-radius: 50%;\n",
              "      cursor: pointer;\n",
              "      display: none;\n",
              "      fill: #1967D2;\n",
              "      height: 32px;\n",
              "      padding: 0 0 0 0;\n",
              "      width: 32px;\n",
              "    }\n",
              "\n",
              "    .colab-df-convert:hover {\n",
              "      background-color: #E2EBFA;\n",
              "      box-shadow: 0px 1px 2px rgba(60, 64, 67, 0.3), 0px 1px 3px 1px rgba(60, 64, 67, 0.15);\n",
              "      fill: #174EA6;\n",
              "    }\n",
              "\n",
              "    [theme=dark] .colab-df-convert {\n",
              "      background-color: #3B4455;\n",
              "      fill: #D2E3FC;\n",
              "    }\n",
              "\n",
              "    [theme=dark] .colab-df-convert:hover {\n",
              "      background-color: #434B5C;\n",
              "      box-shadow: 0px 1px 3px 1px rgba(0, 0, 0, 0.15);\n",
              "      filter: drop-shadow(0px 1px 2px rgba(0, 0, 0, 0.3));\n",
              "      fill: #FFFFFF;\n",
              "    }\n",
              "  </style>\n",
              "\n",
              "      <script>\n",
              "        const buttonEl =\n",
              "          document.querySelector('#df-8c5ce2d5-c4e3-4f0d-bb93-215e7bed089a button.colab-df-convert');\n",
              "        buttonEl.style.display =\n",
              "          google.colab.kernel.accessAllowed ? 'block' : 'none';\n",
              "\n",
              "        async function convertToInteractive(key) {\n",
              "          const element = document.querySelector('#df-8c5ce2d5-c4e3-4f0d-bb93-215e7bed089a');\n",
              "          const dataTable =\n",
              "            await google.colab.kernel.invokeFunction('convertToInteractive',\n",
              "                                                     [key], {});\n",
              "          if (!dataTable) return;\n",
              "\n",
              "          const docLinkHtml = 'Like what you see? Visit the ' +\n",
              "            '<a target=\"_blank\" href=https://colab.research.google.com/notebooks/data_table.ipynb>data table notebook</a>'\n",
              "            + ' to learn more about interactive tables.';\n",
              "          element.innerHTML = '';\n",
              "          dataTable['output_type'] = 'display_data';\n",
              "          await google.colab.output.renderOutput(dataTable, element);\n",
              "          const docLink = document.createElement('div');\n",
              "          docLink.innerHTML = docLinkHtml;\n",
              "          element.appendChild(docLink);\n",
              "        }\n",
              "      </script>\n",
              "    </div>\n",
              "  </div>\n",
              "  "
            ]
          },
          "metadata": {},
          "execution_count": 32
        }
      ]
    },
    {
      "cell_type": "code",
      "source": [
        "x = 'eua coreia sul iniciam manobras aereas conjuntas treinamento aereo conjunto apos coreia norte lancar semana passada missil intercontinental exercicios so vao terminar sexta estados unidos coreia sul iniciaram nesta grande exercicio aereo conjunto poucos dias lancamento missil intercontinental operacao considerada pyongyang provocacao total exercicio cinco dias batizado vigilant ace envolve avioes incluindo cacas raptor mobiliza dezenas milhares soldados durante fim semana jornal estatal rodong denunciou manobras provocacao aberta todos niveis contra coreia norte poderia resultar guerra nuclear qualquer momento afirmou publicacao editorial belicistas americanos marionete fariam bem recordar exercicio militar dirigido contra coreia norte sera tao estupido ato precipita autodestruicao completou ministerio relacoes exteriores acusou sabado governo donald trump querer guerra nuclear qualquer preco simulacao aerea exercicio anual comecou cinco dias teste missil balistico intercontinental icbm supostamente capaz atingir territorio estados unidos momento grande tensao domingo influente senador republicano lindsey graham citou fantasma guerra preventiva acontecer teste nuclear subterraneo sera necessario estar preparado resposta estados unidos advertiu congressista entrevista canal cbs palavras graham complemento declaracoes sabado assessor seguranca nacional donald trump general hr mcmaster durante forum sobre defesa afirmou probabilidade guerra coreia norte aumenta cada dia isolado empobrecido regime realizou seis testes nucleares desde recente setembro coreia norte lancou passada novo tipo missil hwasong capacidade transportar ogiva pesada extragrande pode atingir todo territorio continental estados unidos segundo lider kim teste pais alcancou objetivo estado nuclear pleno direito analistas consideraram recente teste mostra avanco pyongyang tecnologia militar tambem destacaram provavel teste pais utilizou ogiva leve ogiva nuclear pesada missil dificuldades chegar longe tambem demonstraram ceticismo respeito capacidade coreia norte preservar sobrevivencia ogivas reentrada atmosfera programa militar rendeu muitas condenacoes internacionais pyongyang avancou desde chegada poder kim'\n",
        "\n",
        "vec = tfidf.transform([x])\n"
      ],
      "metadata": {
        "id": "9hLhJPKWQdnM"
      },
      "execution_count": null,
      "outputs": []
    },
    {
      "cell_type": "code",
      "source": [
        "clf.predict(vec)"
      ],
      "metadata": {
        "colab": {
          "base_uri": "https://localhost:8080/"
        },
        "id": "Z5g3Uu-wQevA",
        "outputId": "c8e5d955-4c84-4fa4-f305-f3a8cadfcac2"
      },
      "execution_count": null,
      "outputs": [
        {
          "output_type": "execute_result",
          "data": {
            "text/plain": [
              "array(['true'], dtype=object)"
            ]
          },
          "metadata": {},
          "execution_count": 34
        }
      ]
    },
    {
      "cell_type": "code",
      "source": [
        "dados"
      ],
      "metadata": {
        "id": "G69Nd1V1RPpj",
        "colab": {
          "base_uri": "https://localhost:8080/",
          "height": 424
        },
        "outputId": "b0a8e603-e3c0-43c8-edea-7a43737cdf50"
      },
      "execution_count": null,
      "outputs": [
        {
          "output_type": "execute_result",
          "data": {
            "text/plain": [
              "     label                                  preprocessed_news\n",
              "0     fake  katia abreu diz vai colocar expulsao moldura n...\n",
              "1     fake  ray peita bolsonaro conservador fake entrevist...\n",
              "2     fake  reinaldo azevedo desmascarado policia federal ...\n",
              "3     fake  relatorio assustador bndes mostra dinheiro pub...\n",
              "4     fake  radialista americano fala sobre pt vendem ilus...\n",
              "...    ...                                                ...\n",
              "7195  true  jornal britanico acao contra lula lava jato se...\n",
              "7196  true  temer diz acionou pf cade investigar aumentos ...\n",
              "7197  true  obstaculos politicos temer especialistas ouvid...\n",
              "7198  true  setembro boa noite aqui estao principais notic...\n",
              "7199  true  envolvo politica diz brasileiro preso venezuel...\n",
              "\n",
              "[7200 rows x 2 columns]"
            ],
            "text/html": [
              "\n",
              "  <div id=\"df-a29a3716-bd02-47fa-bf67-a0fb6837be41\">\n",
              "    <div class=\"colab-df-container\">\n",
              "      <div>\n",
              "<style scoped>\n",
              "    .dataframe tbody tr th:only-of-type {\n",
              "        vertical-align: middle;\n",
              "    }\n",
              "\n",
              "    .dataframe tbody tr th {\n",
              "        vertical-align: top;\n",
              "    }\n",
              "\n",
              "    .dataframe thead th {\n",
              "        text-align: right;\n",
              "    }\n",
              "</style>\n",
              "<table border=\"1\" class=\"dataframe\">\n",
              "  <thead>\n",
              "    <tr style=\"text-align: right;\">\n",
              "      <th></th>\n",
              "      <th>label</th>\n",
              "      <th>preprocessed_news</th>\n",
              "    </tr>\n",
              "  </thead>\n",
              "  <tbody>\n",
              "    <tr>\n",
              "      <th>0</th>\n",
              "      <td>fake</td>\n",
              "      <td>katia abreu diz vai colocar expulsao moldura n...</td>\n",
              "    </tr>\n",
              "    <tr>\n",
              "      <th>1</th>\n",
              "      <td>fake</td>\n",
              "      <td>ray peita bolsonaro conservador fake entrevist...</td>\n",
              "    </tr>\n",
              "    <tr>\n",
              "      <th>2</th>\n",
              "      <td>fake</td>\n",
              "      <td>reinaldo azevedo desmascarado policia federal ...</td>\n",
              "    </tr>\n",
              "    <tr>\n",
              "      <th>3</th>\n",
              "      <td>fake</td>\n",
              "      <td>relatorio assustador bndes mostra dinheiro pub...</td>\n",
              "    </tr>\n",
              "    <tr>\n",
              "      <th>4</th>\n",
              "      <td>fake</td>\n",
              "      <td>radialista americano fala sobre pt vendem ilus...</td>\n",
              "    </tr>\n",
              "    <tr>\n",
              "      <th>...</th>\n",
              "      <td>...</td>\n",
              "      <td>...</td>\n",
              "    </tr>\n",
              "    <tr>\n",
              "      <th>7195</th>\n",
              "      <td>true</td>\n",
              "      <td>jornal britanico acao contra lula lava jato se...</td>\n",
              "    </tr>\n",
              "    <tr>\n",
              "      <th>7196</th>\n",
              "      <td>true</td>\n",
              "      <td>temer diz acionou pf cade investigar aumentos ...</td>\n",
              "    </tr>\n",
              "    <tr>\n",
              "      <th>7197</th>\n",
              "      <td>true</td>\n",
              "      <td>obstaculos politicos temer especialistas ouvid...</td>\n",
              "    </tr>\n",
              "    <tr>\n",
              "      <th>7198</th>\n",
              "      <td>true</td>\n",
              "      <td>setembro boa noite aqui estao principais notic...</td>\n",
              "    </tr>\n",
              "    <tr>\n",
              "      <th>7199</th>\n",
              "      <td>true</td>\n",
              "      <td>envolvo politica diz brasileiro preso venezuel...</td>\n",
              "    </tr>\n",
              "  </tbody>\n",
              "</table>\n",
              "<p>7200 rows × 2 columns</p>\n",
              "</div>\n",
              "      <button class=\"colab-df-convert\" onclick=\"convertToInteractive('df-a29a3716-bd02-47fa-bf67-a0fb6837be41')\"\n",
              "              title=\"Convert this dataframe to an interactive table.\"\n",
              "              style=\"display:none;\">\n",
              "        \n",
              "  <svg xmlns=\"http://www.w3.org/2000/svg\" height=\"24px\"viewBox=\"0 0 24 24\"\n",
              "       width=\"24px\">\n",
              "    <path d=\"M0 0h24v24H0V0z\" fill=\"none\"/>\n",
              "    <path d=\"M18.56 5.44l.94 2.06.94-2.06 2.06-.94-2.06-.94-.94-2.06-.94 2.06-2.06.94zm-11 1L8.5 8.5l.94-2.06 2.06-.94-2.06-.94L8.5 2.5l-.94 2.06-2.06.94zm10 10l.94 2.06.94-2.06 2.06-.94-2.06-.94-.94-2.06-.94 2.06-2.06.94z\"/><path d=\"M17.41 7.96l-1.37-1.37c-.4-.4-.92-.59-1.43-.59-.52 0-1.04.2-1.43.59L10.3 9.45l-7.72 7.72c-.78.78-.78 2.05 0 2.83L4 21.41c.39.39.9.59 1.41.59.51 0 1.02-.2 1.41-.59l7.78-7.78 2.81-2.81c.8-.78.8-2.07 0-2.86zM5.41 20L4 18.59l7.72-7.72 1.47 1.35L5.41 20z\"/>\n",
              "  </svg>\n",
              "      </button>\n",
              "      \n",
              "  <style>\n",
              "    .colab-df-container {\n",
              "      display:flex;\n",
              "      flex-wrap:wrap;\n",
              "      gap: 12px;\n",
              "    }\n",
              "\n",
              "    .colab-df-convert {\n",
              "      background-color: #E8F0FE;\n",
              "      border: none;\n",
              "      border-radius: 50%;\n",
              "      cursor: pointer;\n",
              "      display: none;\n",
              "      fill: #1967D2;\n",
              "      height: 32px;\n",
              "      padding: 0 0 0 0;\n",
              "      width: 32px;\n",
              "    }\n",
              "\n",
              "    .colab-df-convert:hover {\n",
              "      background-color: #E2EBFA;\n",
              "      box-shadow: 0px 1px 2px rgba(60, 64, 67, 0.3), 0px 1px 3px 1px rgba(60, 64, 67, 0.15);\n",
              "      fill: #174EA6;\n",
              "    }\n",
              "\n",
              "    [theme=dark] .colab-df-convert {\n",
              "      background-color: #3B4455;\n",
              "      fill: #D2E3FC;\n",
              "    }\n",
              "\n",
              "    [theme=dark] .colab-df-convert:hover {\n",
              "      background-color: #434B5C;\n",
              "      box-shadow: 0px 1px 3px 1px rgba(0, 0, 0, 0.15);\n",
              "      filter: drop-shadow(0px 1px 2px rgba(0, 0, 0, 0.3));\n",
              "      fill: #FFFFFF;\n",
              "    }\n",
              "  </style>\n",
              "\n",
              "      <script>\n",
              "        const buttonEl =\n",
              "          document.querySelector('#df-a29a3716-bd02-47fa-bf67-a0fb6837be41 button.colab-df-convert');\n",
              "        buttonEl.style.display =\n",
              "          google.colab.kernel.accessAllowed ? 'block' : 'none';\n",
              "\n",
              "        async function convertToInteractive(key) {\n",
              "          const element = document.querySelector('#df-a29a3716-bd02-47fa-bf67-a0fb6837be41');\n",
              "          const dataTable =\n",
              "            await google.colab.kernel.invokeFunction('convertToInteractive',\n",
              "                                                     [key], {});\n",
              "          if (!dataTable) return;\n",
              "\n",
              "          const docLinkHtml = 'Like what you see? Visit the ' +\n",
              "            '<a target=\"_blank\" href=https://colab.research.google.com/notebooks/data_table.ipynb>data table notebook</a>'\n",
              "            + ' to learn more about interactive tables.';\n",
              "          element.innerHTML = '';\n",
              "          dataTable['output_type'] = 'display_data';\n",
              "          await google.colab.output.renderOutput(dataTable, element);\n",
              "          const docLink = document.createElement('div');\n",
              "          docLink.innerHTML = docLinkHtml;\n",
              "          element.appendChild(docLink);\n",
              "        }\n",
              "      </script>\n",
              "    </div>\n",
              "  </div>\n",
              "  "
            ]
          },
          "metadata": {},
          "execution_count": 35
        }
      ]
    },
    {
      "cell_type": "code",
      "source": [
        "da"
      ],
      "metadata": {
        "id": "iMN3GQ6nRyyx"
      },
      "execution_count": null,
      "outputs": []
    }
  ]
}