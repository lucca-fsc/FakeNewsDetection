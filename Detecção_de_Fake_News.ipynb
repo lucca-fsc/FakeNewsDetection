{
  "nbformat": 4,
  "nbformat_minor": 0,
  "metadata": {
    "colab": {
      "name": "Detecção de Fake News.ipynb",
      "provenance": [],
      "authorship_tag": "ABX9TyM2a/ozx15mF6xACEaJLwQ2",
      "include_colab_link": true
    },
    "kernelspec": {
      "name": "python3",
      "display_name": "Python 3"
    },
    "language_info": {
      "name": "python"
    }
  },
  "cells": [
    {
      "cell_type": "markdown",
      "metadata": {
        "id": "view-in-github",
        "colab_type": "text"
      },
      "source": [
        "<a href=\"https://colab.research.google.com/github/lucca-fsc/FakeNewsDetection/blob/main/Detec%C3%A7%C3%A3o_de_Fake_News.ipynb\" target=\"_parent\"><img src=\"https://colab.research.google.com/assets/colab-badge.svg\" alt=\"Open In Colab\"/></a>"
      ]
    },
    {
      "cell_type": "markdown",
      "source": [
        "# Detecção de Notícias Falsas utilizando Fake Br Corpus\n"
      ],
      "metadata": {
        "id": "ZNNeyhHwLC9A"
      }
    },
    {
      "cell_type": "markdown",
      "source": [
        "##Importando as bibliotecas necessárias"
      ],
      "metadata": {
        "id": "fOmpaIn3LKei"
      }
    },
    {
      "cell_type": "code",
      "execution_count": 1,
      "metadata": {
        "id": "i1TJu2WtLAlO"
      },
      "outputs": [],
      "source": [
        "import pandas as pd\n",
        "import numpy as np \n",
        "import matplotlib.pyplot as plt"
      ]
    },
    {
      "cell_type": "markdown",
      "source": [
        "#Carregando o dataset"
      ],
      "metadata": {
        "id": "q6XzWxJwL3jW"
      }
    },
    {
      "cell_type": "code",
      "source": [
        "dados = pd.read_csv('pre-processed.csv')"
      ],
      "metadata": {
        "id": "Y-g8cMB3Ld64"
      },
      "execution_count": 2,
      "outputs": []
    },
    {
      "cell_type": "code",
      "source": [
        "dados.head()"
      ],
      "metadata": {
        "colab": {
          "base_uri": "https://localhost:8080/",
          "height": 206
        },
        "id": "7YHsV8EvL2w6",
        "outputId": "e172ac2c-4cb0-4e13-c745-07e8bbd5b935"
      },
      "execution_count": 3,
      "outputs": [
        {
          "output_type": "execute_result",
          "data": {
            "text/plain": [
              "   index label                                  preprocessed_news\n",
              "0      0  fake  katia abreu diz vai colocar expulsao moldura n...\n",
              "1      1  fake  ray peita bolsonaro conservador fake entrevist...\n",
              "2      2  fake  reinaldo azevedo desmascarado policia federal ...\n",
              "3      3  fake  relatorio assustador bndes mostra dinheiro pub...\n",
              "4      4  fake  radialista americano fala sobre pt vendem ilus..."
            ],
            "text/html": [
              "\n",
              "  <div id=\"df-a9e2e267-74df-4fbd-8b72-a96133d702b9\">\n",
              "    <div class=\"colab-df-container\">\n",
              "      <div>\n",
              "<style scoped>\n",
              "    .dataframe tbody tr th:only-of-type {\n",
              "        vertical-align: middle;\n",
              "    }\n",
              "\n",
              "    .dataframe tbody tr th {\n",
              "        vertical-align: top;\n",
              "    }\n",
              "\n",
              "    .dataframe thead th {\n",
              "        text-align: right;\n",
              "    }\n",
              "</style>\n",
              "<table border=\"1\" class=\"dataframe\">\n",
              "  <thead>\n",
              "    <tr style=\"text-align: right;\">\n",
              "      <th></th>\n",
              "      <th>index</th>\n",
              "      <th>label</th>\n",
              "      <th>preprocessed_news</th>\n",
              "    </tr>\n",
              "  </thead>\n",
              "  <tbody>\n",
              "    <tr>\n",
              "      <th>0</th>\n",
              "      <td>0</td>\n",
              "      <td>fake</td>\n",
              "      <td>katia abreu diz vai colocar expulsao moldura n...</td>\n",
              "    </tr>\n",
              "    <tr>\n",
              "      <th>1</th>\n",
              "      <td>1</td>\n",
              "      <td>fake</td>\n",
              "      <td>ray peita bolsonaro conservador fake entrevist...</td>\n",
              "    </tr>\n",
              "    <tr>\n",
              "      <th>2</th>\n",
              "      <td>2</td>\n",
              "      <td>fake</td>\n",
              "      <td>reinaldo azevedo desmascarado policia federal ...</td>\n",
              "    </tr>\n",
              "    <tr>\n",
              "      <th>3</th>\n",
              "      <td>3</td>\n",
              "      <td>fake</td>\n",
              "      <td>relatorio assustador bndes mostra dinheiro pub...</td>\n",
              "    </tr>\n",
              "    <tr>\n",
              "      <th>4</th>\n",
              "      <td>4</td>\n",
              "      <td>fake</td>\n",
              "      <td>radialista americano fala sobre pt vendem ilus...</td>\n",
              "    </tr>\n",
              "  </tbody>\n",
              "</table>\n",
              "</div>\n",
              "      <button class=\"colab-df-convert\" onclick=\"convertToInteractive('df-a9e2e267-74df-4fbd-8b72-a96133d702b9')\"\n",
              "              title=\"Convert this dataframe to an interactive table.\"\n",
              "              style=\"display:none;\">\n",
              "        \n",
              "  <svg xmlns=\"http://www.w3.org/2000/svg\" height=\"24px\"viewBox=\"0 0 24 24\"\n",
              "       width=\"24px\">\n",
              "    <path d=\"M0 0h24v24H0V0z\" fill=\"none\"/>\n",
              "    <path d=\"M18.56 5.44l.94 2.06.94-2.06 2.06-.94-2.06-.94-.94-2.06-.94 2.06-2.06.94zm-11 1L8.5 8.5l.94-2.06 2.06-.94-2.06-.94L8.5 2.5l-.94 2.06-2.06.94zm10 10l.94 2.06.94-2.06 2.06-.94-2.06-.94-.94-2.06-.94 2.06-2.06.94z\"/><path d=\"M17.41 7.96l-1.37-1.37c-.4-.4-.92-.59-1.43-.59-.52 0-1.04.2-1.43.59L10.3 9.45l-7.72 7.72c-.78.78-.78 2.05 0 2.83L4 21.41c.39.39.9.59 1.41.59.51 0 1.02-.2 1.41-.59l7.78-7.78 2.81-2.81c.8-.78.8-2.07 0-2.86zM5.41 20L4 18.59l7.72-7.72 1.47 1.35L5.41 20z\"/>\n",
              "  </svg>\n",
              "      </button>\n",
              "      \n",
              "  <style>\n",
              "    .colab-df-container {\n",
              "      display:flex;\n",
              "      flex-wrap:wrap;\n",
              "      gap: 12px;\n",
              "    }\n",
              "\n",
              "    .colab-df-convert {\n",
              "      background-color: #E8F0FE;\n",
              "      border: none;\n",
              "      border-radius: 50%;\n",
              "      cursor: pointer;\n",
              "      display: none;\n",
              "      fill: #1967D2;\n",
              "      height: 32px;\n",
              "      padding: 0 0 0 0;\n",
              "      width: 32px;\n",
              "    }\n",
              "\n",
              "    .colab-df-convert:hover {\n",
              "      background-color: #E2EBFA;\n",
              "      box-shadow: 0px 1px 2px rgba(60, 64, 67, 0.3), 0px 1px 3px 1px rgba(60, 64, 67, 0.15);\n",
              "      fill: #174EA6;\n",
              "    }\n",
              "\n",
              "    [theme=dark] .colab-df-convert {\n",
              "      background-color: #3B4455;\n",
              "      fill: #D2E3FC;\n",
              "    }\n",
              "\n",
              "    [theme=dark] .colab-df-convert:hover {\n",
              "      background-color: #434B5C;\n",
              "      box-shadow: 0px 1px 3px 1px rgba(0, 0, 0, 0.15);\n",
              "      filter: drop-shadow(0px 1px 2px rgba(0, 0, 0, 0.3));\n",
              "      fill: #FFFFFF;\n",
              "    }\n",
              "  </style>\n",
              "\n",
              "      <script>\n",
              "        const buttonEl =\n",
              "          document.querySelector('#df-a9e2e267-74df-4fbd-8b72-a96133d702b9 button.colab-df-convert');\n",
              "        buttonEl.style.display =\n",
              "          google.colab.kernel.accessAllowed ? 'block' : 'none';\n",
              "\n",
              "        async function convertToInteractive(key) {\n",
              "          const element = document.querySelector('#df-a9e2e267-74df-4fbd-8b72-a96133d702b9');\n",
              "          const dataTable =\n",
              "            await google.colab.kernel.invokeFunction('convertToInteractive',\n",
              "                                                     [key], {});\n",
              "          if (!dataTable) return;\n",
              "\n",
              "          const docLinkHtml = 'Like what you see? Visit the ' +\n",
              "            '<a target=\"_blank\" href=https://colab.research.google.com/notebooks/data_table.ipynb>data table notebook</a>'\n",
              "            + ' to learn more about interactive tables.';\n",
              "          element.innerHTML = '';\n",
              "          dataTable['output_type'] = 'display_data';\n",
              "          await google.colab.output.renderOutput(dataTable, element);\n",
              "          const docLink = document.createElement('div');\n",
              "          docLink.innerHTML = docLinkHtml;\n",
              "          element.appendChild(docLink);\n",
              "        }\n",
              "      </script>\n",
              "    </div>\n",
              "  </div>\n",
              "  "
            ]
          },
          "metadata": {},
          "execution_count": 3
        }
      ]
    },
    {
      "cell_type": "code",
      "source": [
        "dados = dados.drop(columns=['index'])"
      ],
      "metadata": {
        "id": "Q8CcHqJnMjrs"
      },
      "execution_count": 4,
      "outputs": []
    },
    {
      "cell_type": "code",
      "source": [
        "dados"
      ],
      "metadata": {
        "colab": {
          "base_uri": "https://localhost:8080/",
          "height": 424
        },
        "id": "heG4QxN2N2T0",
        "outputId": "c4c39c7d-d83f-41cd-af52-55696a45deb7"
      },
      "execution_count": 5,
      "outputs": [
        {
          "output_type": "execute_result",
          "data": {
            "text/plain": [
              "     label                                  preprocessed_news\n",
              "0     fake  katia abreu diz vai colocar expulsao moldura n...\n",
              "1     fake  ray peita bolsonaro conservador fake entrevist...\n",
              "2     fake  reinaldo azevedo desmascarado policia federal ...\n",
              "3     fake  relatorio assustador bndes mostra dinheiro pub...\n",
              "4     fake  radialista americano fala sobre pt vendem ilus...\n",
              "...    ...                                                ...\n",
              "7195  true  jornal britanico acao contra lula lava jato se...\n",
              "7196  true  temer diz acionou pf cade investigar aumentos ...\n",
              "7197  true  obstaculos politicos temer especialistas ouvid...\n",
              "7198  true  setembro boa noite aqui estao principais notic...\n",
              "7199  true  envolvo politica diz brasileiro preso venezuel...\n",
              "\n",
              "[7200 rows x 2 columns]"
            ],
            "text/html": [
              "\n",
              "  <div id=\"df-4dde96da-5f08-458b-8b4d-2442f6554bb1\">\n",
              "    <div class=\"colab-df-container\">\n",
              "      <div>\n",
              "<style scoped>\n",
              "    .dataframe tbody tr th:only-of-type {\n",
              "        vertical-align: middle;\n",
              "    }\n",
              "\n",
              "    .dataframe tbody tr th {\n",
              "        vertical-align: top;\n",
              "    }\n",
              "\n",
              "    .dataframe thead th {\n",
              "        text-align: right;\n",
              "    }\n",
              "</style>\n",
              "<table border=\"1\" class=\"dataframe\">\n",
              "  <thead>\n",
              "    <tr style=\"text-align: right;\">\n",
              "      <th></th>\n",
              "      <th>label</th>\n",
              "      <th>preprocessed_news</th>\n",
              "    </tr>\n",
              "  </thead>\n",
              "  <tbody>\n",
              "    <tr>\n",
              "      <th>0</th>\n",
              "      <td>fake</td>\n",
              "      <td>katia abreu diz vai colocar expulsao moldura n...</td>\n",
              "    </tr>\n",
              "    <tr>\n",
              "      <th>1</th>\n",
              "      <td>fake</td>\n",
              "      <td>ray peita bolsonaro conservador fake entrevist...</td>\n",
              "    </tr>\n",
              "    <tr>\n",
              "      <th>2</th>\n",
              "      <td>fake</td>\n",
              "      <td>reinaldo azevedo desmascarado policia federal ...</td>\n",
              "    </tr>\n",
              "    <tr>\n",
              "      <th>3</th>\n",
              "      <td>fake</td>\n",
              "      <td>relatorio assustador bndes mostra dinheiro pub...</td>\n",
              "    </tr>\n",
              "    <tr>\n",
              "      <th>4</th>\n",
              "      <td>fake</td>\n",
              "      <td>radialista americano fala sobre pt vendem ilus...</td>\n",
              "    </tr>\n",
              "    <tr>\n",
              "      <th>...</th>\n",
              "      <td>...</td>\n",
              "      <td>...</td>\n",
              "    </tr>\n",
              "    <tr>\n",
              "      <th>7195</th>\n",
              "      <td>true</td>\n",
              "      <td>jornal britanico acao contra lula lava jato se...</td>\n",
              "    </tr>\n",
              "    <tr>\n",
              "      <th>7196</th>\n",
              "      <td>true</td>\n",
              "      <td>temer diz acionou pf cade investigar aumentos ...</td>\n",
              "    </tr>\n",
              "    <tr>\n",
              "      <th>7197</th>\n",
              "      <td>true</td>\n",
              "      <td>obstaculos politicos temer especialistas ouvid...</td>\n",
              "    </tr>\n",
              "    <tr>\n",
              "      <th>7198</th>\n",
              "      <td>true</td>\n",
              "      <td>setembro boa noite aqui estao principais notic...</td>\n",
              "    </tr>\n",
              "    <tr>\n",
              "      <th>7199</th>\n",
              "      <td>true</td>\n",
              "      <td>envolvo politica diz brasileiro preso venezuel...</td>\n",
              "    </tr>\n",
              "  </tbody>\n",
              "</table>\n",
              "<p>7200 rows × 2 columns</p>\n",
              "</div>\n",
              "      <button class=\"colab-df-convert\" onclick=\"convertToInteractive('df-4dde96da-5f08-458b-8b4d-2442f6554bb1')\"\n",
              "              title=\"Convert this dataframe to an interactive table.\"\n",
              "              style=\"display:none;\">\n",
              "        \n",
              "  <svg xmlns=\"http://www.w3.org/2000/svg\" height=\"24px\"viewBox=\"0 0 24 24\"\n",
              "       width=\"24px\">\n",
              "    <path d=\"M0 0h24v24H0V0z\" fill=\"none\"/>\n",
              "    <path d=\"M18.56 5.44l.94 2.06.94-2.06 2.06-.94-2.06-.94-.94-2.06-.94 2.06-2.06.94zm-11 1L8.5 8.5l.94-2.06 2.06-.94-2.06-.94L8.5 2.5l-.94 2.06-2.06.94zm10 10l.94 2.06.94-2.06 2.06-.94-2.06-.94-.94-2.06-.94 2.06-2.06.94z\"/><path d=\"M17.41 7.96l-1.37-1.37c-.4-.4-.92-.59-1.43-.59-.52 0-1.04.2-1.43.59L10.3 9.45l-7.72 7.72c-.78.78-.78 2.05 0 2.83L4 21.41c.39.39.9.59 1.41.59.51 0 1.02-.2 1.41-.59l7.78-7.78 2.81-2.81c.8-.78.8-2.07 0-2.86zM5.41 20L4 18.59l7.72-7.72 1.47 1.35L5.41 20z\"/>\n",
              "  </svg>\n",
              "      </button>\n",
              "      \n",
              "  <style>\n",
              "    .colab-df-container {\n",
              "      display:flex;\n",
              "      flex-wrap:wrap;\n",
              "      gap: 12px;\n",
              "    }\n",
              "\n",
              "    .colab-df-convert {\n",
              "      background-color: #E8F0FE;\n",
              "      border: none;\n",
              "      border-radius: 50%;\n",
              "      cursor: pointer;\n",
              "      display: none;\n",
              "      fill: #1967D2;\n",
              "      height: 32px;\n",
              "      padding: 0 0 0 0;\n",
              "      width: 32px;\n",
              "    }\n",
              "\n",
              "    .colab-df-convert:hover {\n",
              "      background-color: #E2EBFA;\n",
              "      box-shadow: 0px 1px 2px rgba(60, 64, 67, 0.3), 0px 1px 3px 1px rgba(60, 64, 67, 0.15);\n",
              "      fill: #174EA6;\n",
              "    }\n",
              "\n",
              "    [theme=dark] .colab-df-convert {\n",
              "      background-color: #3B4455;\n",
              "      fill: #D2E3FC;\n",
              "    }\n",
              "\n",
              "    [theme=dark] .colab-df-convert:hover {\n",
              "      background-color: #434B5C;\n",
              "      box-shadow: 0px 1px 3px 1px rgba(0, 0, 0, 0.15);\n",
              "      filter: drop-shadow(0px 1px 2px rgba(0, 0, 0, 0.3));\n",
              "      fill: #FFFFFF;\n",
              "    }\n",
              "  </style>\n",
              "\n",
              "      <script>\n",
              "        const buttonEl =\n",
              "          document.querySelector('#df-4dde96da-5f08-458b-8b4d-2442f6554bb1 button.colab-df-convert');\n",
              "        buttonEl.style.display =\n",
              "          google.colab.kernel.accessAllowed ? 'block' : 'none';\n",
              "\n",
              "        async function convertToInteractive(key) {\n",
              "          const element = document.querySelector('#df-4dde96da-5f08-458b-8b4d-2442f6554bb1');\n",
              "          const dataTable =\n",
              "            await google.colab.kernel.invokeFunction('convertToInteractive',\n",
              "                                                     [key], {});\n",
              "          if (!dataTable) return;\n",
              "\n",
              "          const docLinkHtml = 'Like what you see? Visit the ' +\n",
              "            '<a target=\"_blank\" href=https://colab.research.google.com/notebooks/data_table.ipynb>data table notebook</a>'\n",
              "            + ' to learn more about interactive tables.';\n",
              "          element.innerHTML = '';\n",
              "          dataTable['output_type'] = 'display_data';\n",
              "          await google.colab.output.renderOutput(dataTable, element);\n",
              "          const docLink = document.createElement('div');\n",
              "          docLink.innerHTML = docLinkHtml;\n",
              "          element.appendChild(docLink);\n",
              "        }\n",
              "      </script>\n",
              "    </div>\n",
              "  </div>\n",
              "  "
            ]
          },
          "metadata": {},
          "execution_count": 5
        }
      ]
    },
    {
      "cell_type": "markdown",
      "source": [
        "##Importando bibliotecas para o modelo de IA\n"
      ],
      "metadata": {
        "id": "NcQILLXgOBCv"
      }
    },
    {
      "cell_type": "code",
      "source": [
        "from sklearn.feature_extraction.text import TfidfVectorizer\n",
        "from sklearn.model_selection import train_test_split\n",
        "from sklearn.svm import LinearSVC\n",
        "from sklearn.metrics import classification_report\n",
        "from sklearn.metrics import confusion_matrix\n",
        "from sklearn.metrics import plot_confusion_matrix\n",
        "from sklearn.metrics import accuracy_score\n",
        "from sklearn.metrics import f1_score"
      ],
      "metadata": {
        "id": "E5TfhEYLN62w"
      },
      "execution_count": 6,
      "outputs": []
    },
    {
      "cell_type": "markdown",
      "source": [
        "### Vectorizando os dados para se adequar aos modelos de Machine Learning\n",
        "Foi utilizado o método TF-IDF"
      ],
      "metadata": {
        "id": "cW7_aLnLYq5Y"
      }
    },
    {
      "cell_type": "code",
      "source": [
        "X = dados['preprocessed_news']\n",
        "y = dados['label']\n",
        "# X_train, X_test, y_train, y_test = train_test_split(X, y, test_size = 0.3, random_state = 0)\n",
        "tfidf = TfidfVectorizer(max_features=5000)\n",
        "\n",
        "# X_train = tfidf.fit_transform(X_train)\n",
        "# X_test = tfidf.fit_transform(X_test)\n",
        "\n",
        "X = tfidf.fit_transform(X)"
      ],
      "metadata": {
        "id": "SLmRnmiJOA4M"
      },
      "execution_count": 47,
      "outputs": []
    },
    {
      "cell_type": "code",
      "source": [
        "print(len(tfidf.vocabulary_))"
      ],
      "metadata": {
        "colab": {
          "base_uri": "https://localhost:8080/"
        },
        "id": "35lbY7tfOw0g",
        "outputId": "d72016a0-95cd-47b1-e98e-eb1c7ae2c191"
      },
      "execution_count": 8,
      "outputs": [
        {
          "output_type": "stream",
          "name": "stdout",
          "text": [
            "5000\n"
          ]
        }
      ]
    },
    {
      "cell_type": "code",
      "source": [
        "tfidf.vocabulary_"
      ],
      "metadata": {
        "id": "o12k6wNeO3TD"
      },
      "execution_count": null,
      "outputs": []
    },
    {
      "cell_type": "code",
      "source": [
        "X_train, X_test, y_train, y_test = train_test_split(X, y, test_size = 0.3, random_state = 0)\n"
      ],
      "metadata": {
        "id": "qI6v64C0O_U4"
      },
      "execution_count": 48,
      "outputs": []
    },
    {
      "cell_type": "code",
      "source": [
        "print('Total train samples: {}'.format(X_train.shape[0]))\n",
        "print('Total test samples: {}'.format(X_test.shape[0]))"
      ],
      "metadata": {
        "colab": {
          "base_uri": "https://localhost:8080/"
        },
        "id": "9xncTP8VKL8O",
        "outputId": "99b848cf-5b66-42d8-eb45-a648fb14834e"
      },
      "execution_count": 11,
      "outputs": [
        {
          "output_type": "stream",
          "name": "stdout",
          "text": [
            "Total train samples: 5040\n",
            "Total test samples: 2160\n"
          ]
        }
      ]
    },
    {
      "cell_type": "code",
      "source": [
        "print(X_train)"
      ],
      "metadata": {
        "id": "1Af6rya7huyG"
      },
      "execution_count": null,
      "outputs": []
    },
    {
      "cell_type": "markdown",
      "source": [
        "### Classificador SVM\n"
      ],
      "metadata": {
        "id": "gUjlTzrIKtXf"
      }
    },
    {
      "cell_type": "code",
      "source": [
        "clf = LinearSVC()\n",
        "clf.fit(X_train, y_train)"
      ],
      "metadata": {
        "colab": {
          "base_uri": "https://localhost:8080/"
        },
        "id": "vqEjCaU7PMkI",
        "outputId": "1d749830-dfc8-4435-91c7-14580f3df418"
      },
      "execution_count": 49,
      "outputs": [
        {
          "output_type": "execute_result",
          "data": {
            "text/plain": [
              "LinearSVC()"
            ]
          },
          "metadata": {},
          "execution_count": 49
        }
      ]
    },
    {
      "cell_type": "code",
      "source": [
        "y_pred = clf.predict(X_test)"
      ],
      "metadata": {
        "id": "heW1nzxEPUS8"
      },
      "execution_count": 50,
      "outputs": []
    },
    {
      "cell_type": "code",
      "source": [
        "print('Accuracy of the Algorithm is: {}'.format(accuracy_score(y_test, y_pred)))"
      ],
      "metadata": {
        "colab": {
          "base_uri": "https://localhost:8080/"
        },
        "id": "QfrfROMSPZs4",
        "outputId": "c99940f2-c99e-40f8-cbb7-e727bf68c7e6"
      },
      "execution_count": 51,
      "outputs": [
        {
          "output_type": "stream",
          "name": "stdout",
          "text": [
            "Accuracy of the Algorithm is: 0.9592592592592593\n"
          ]
        }
      ]
    },
    {
      "cell_type": "code",
      "source": [
        "accuracy = accuracy_score(y_test, y_pred) * 100\n",
        "f1 = f1_score(y_test, y_pred, average = 'macro') * 100\n",
        "\n",
        "print('Accuracy K-NN from sk-learn: {:.2f}%'.format(accuracy))\n",
        "print('F1 Score K-NN from sk-learn: {:.2f}%'.format(f1))"
      ],
      "metadata": {
        "colab": {
          "base_uri": "https://localhost:8080/"
        },
        "id": "vJFqgEKvL39E",
        "outputId": "091f3adc-e76b-494b-f5aa-dca344b17366"
      },
      "execution_count": 16,
      "outputs": [
        {
          "output_type": "stream",
          "name": "stdout",
          "text": [
            "Accuracy K-NN from sk-learn: 95.93%\n",
            "F1 Score K-NN from sk-learn: 95.93%\n"
          ]
        }
      ]
    },
    {
      "cell_type": "code",
      "source": [
        "confusion_matrix(y_test, y_pred)"
      ],
      "metadata": {
        "colab": {
          "base_uri": "https://localhost:8080/"
        },
        "id": "N7zoiUjYPhYD",
        "outputId": "45a5d6d6-1ce4-42d6-a707-057f42800047"
      },
      "execution_count": 17,
      "outputs": [
        {
          "output_type": "execute_result",
          "data": {
            "text/plain": [
              "array([[1042,   43],\n",
              "       [  45, 1030]])"
            ]
          },
          "metadata": {},
          "execution_count": 17
        }
      ]
    },
    {
      "cell_type": "code",
      "source": [
        "print(classification_report(y_test, y_pred))"
      ],
      "metadata": {
        "colab": {
          "base_uri": "https://localhost:8080/"
        },
        "id": "PBozlpB0PnnA",
        "outputId": "214aa813-19db-4c84-d8c6-9f9bbb9a1651"
      },
      "execution_count": 18,
      "outputs": [
        {
          "output_type": "stream",
          "name": "stdout",
          "text": [
            "              precision    recall  f1-score   support\n",
            "\n",
            "        fake       0.96      0.96      0.96      1085\n",
            "        true       0.96      0.96      0.96      1075\n",
            "\n",
            "    accuracy                           0.96      2160\n",
            "   macro avg       0.96      0.96      0.96      2160\n",
            "weighted avg       0.96      0.96      0.96      2160\n",
            "\n"
          ]
        }
      ]
    },
    {
      "cell_type": "code",
      "source": [
        "matrix = plot_confusion_matrix(clf, X_test, y_test, cmap=plt.cm.Reds)\n",
        "matrix.ax_.set_title('Confusion matrix', color='white')\n",
        "plt.xlabel('Predicted Label', color='white')\n",
        "plt.ylabel('True Label', color='white')\n",
        "plt.gcf().axes[0].tick_params(color='white')\n",
        "plt.gcf().axes[1].tick_params(color='white')\n",
        "plt.gcf().set_size_inches(10,6)\n",
        "plt.show()"
      ],
      "metadata": {
        "colab": {
          "base_uri": "https://localhost:8080/",
          "height": 459
        },
        "id": "sXOxuyLnP7cx",
        "outputId": "ae88c94c-70c1-47fc-d86b-4db1a9d40552"
      },
      "execution_count": 19,
      "outputs": [
        {
          "output_type": "stream",
          "name": "stderr",
          "text": [
            "/usr/local/lib/python3.7/dist-packages/sklearn/utils/deprecation.py:87: FutureWarning: Function plot_confusion_matrix is deprecated; Function `plot_confusion_matrix` is deprecated in 1.0 and will be removed in 1.2. Use one of the class methods: ConfusionMatrixDisplay.from_predictions or ConfusionMatrixDisplay.from_estimator.\n",
            "  warnings.warn(msg, category=FutureWarning)\n"
          ]
        },
        {
          "output_type": "display_data",
          "data": {
            "text/plain": [
              "<Figure size 720x432 with 2 Axes>"
            ],
            "image/png": "[encoded data removed]"
          },
          "metadata": {
            "needs_background": "light"
          }
        }
      ]
    },
    {
      "cell_type": "markdown",
      "source": [
        "### Classificador KNN"
      ],
      "metadata": {
        "id": "qMCGW7JlKxUm"
      }
    },
    {
      "cell_type": "code",
      "source": [
        "from sklearn.neighbors import KNeighborsClassifier"
      ],
      "metadata": {
        "id": "Sv64u7Y_Kzxy"
      },
      "execution_count": 20,
      "outputs": []
    },
    {
      "cell_type": "code",
      "source": [
        "knn = KNeighborsClassifier(n_neighbors = 5 )\n",
        "knn.fit(X_train, y_train)\n",
        "y_predict = knn.predict(X_test)"
      ],
      "metadata": {
        "id": "WlODA1wXKzpM"
      },
      "execution_count": 21,
      "outputs": []
    },
    {
      "cell_type": "code",
      "source": [
        "accuracy = accuracy_score(y_test, y_predict) * 100\n",
        "f1 = f1_score(y_test, y_predict, average = 'macro') * 100\n",
        "\n",
        "print('Accuracy K-NN from sk-learn: {:.2f}%'.format(accuracy))\n",
        "print('F1 Score K-NN from sk-learn: {:.2f}%'.format(f1))"
      ],
      "metadata": {
        "colab": {
          "base_uri": "https://localhost:8080/"
        },
        "id": "6ffQMmIvKzjj",
        "outputId": "7ffd055a-c394-49d0-8b14-da7cdd27d55c"
      },
      "execution_count": 22,
      "outputs": [
        {
          "output_type": "stream",
          "name": "stdout",
          "text": [
            "Accuracy K-NN from sk-learn: 70.97%\n",
            "F1 Score K-NN from sk-learn: 69.47%\n"
          ]
        }
      ]
    },
    {
      "cell_type": "code",
      "source": [
        "cm = confusion_matrix(y_test, y_predict)\n",
        "cm"
      ],
      "metadata": {
        "colab": {
          "base_uri": "https://localhost:8080/"
        },
        "id": "rhp3l-X0LPqL",
        "outputId": "ca15669b-0041-40d9-96e1-3cde7a99c90a"
      },
      "execution_count": 23,
      "outputs": [
        {
          "output_type": "execute_result",
          "data": {
            "text/plain": [
              "array([[ 527,  558],\n",
              "       [  69, 1006]])"
            ]
          },
          "metadata": {},
          "execution_count": 23
        }
      ]
    },
    {
      "cell_type": "code",
      "source": [
        "print(classification_report(y_test, y_predict))"
      ],
      "metadata": {
        "colab": {
          "base_uri": "https://localhost:8080/"
        },
        "id": "_e2B_aJ1LjR5",
        "outputId": "bddabbaf-56be-4e74-d8a9-a061050bf501"
      },
      "execution_count": 24,
      "outputs": [
        {
          "output_type": "stream",
          "name": "stdout",
          "text": [
            "              precision    recall  f1-score   support\n",
            "\n",
            "        fake       0.88      0.49      0.63      1085\n",
            "        true       0.64      0.94      0.76      1075\n",
            "\n",
            "    accuracy                           0.71      2160\n",
            "   macro avg       0.76      0.71      0.69      2160\n",
            "weighted avg       0.76      0.71      0.69      2160\n",
            "\n"
          ]
        }
      ]
    },
    {
      "cell_type": "code",
      "source": [
        "from sklearn.metrics import plot_confusion_matrix\n",
        "\n",
        "matrix = plot_confusion_matrix(knn, X_test, y_test, cmap=plt.cm.Blues)\n",
        "matrix.ax_.set_title('Confusion matrix', color='white')\n",
        "plt.xlabel('Predicted Label', color='white')\n",
        "plt.ylabel('True Label', color='white')\n",
        "plt.gcf().axes[0].tick_params(color='white')\n",
        "plt.gcf().axes[1].tick_params(color='white')\n",
        "plt.gcf().set_size_inches(10,6)\n",
        "plt.show()"
      ],
      "metadata": {
        "colab": {
          "base_uri": "https://localhost:8080/",
          "height": 459
        },
        "id": "abLjUktkLjPn",
        "outputId": "e5a1b0bd-be98-4fb2-b224-f955205ce145"
      },
      "execution_count": 25,
      "outputs": [
        {
          "output_type": "stream",
          "name": "stderr",
          "text": [
            "/usr/local/lib/python3.7/dist-packages/sklearn/utils/deprecation.py:87: FutureWarning: Function plot_confusion_matrix is deprecated; Function `plot_confusion_matrix` is deprecated in 1.0 and will be removed in 1.2. Use one of the class methods: ConfusionMatrixDisplay.from_predictions or ConfusionMatrixDisplay.from_estimator.\n",
            "  warnings.warn(msg, category=FutureWarning)\n"
          ]
        },
        {
          "output_type": "display_data",
          "data": {
            "text/plain": [
              "<Figure size 720x432 with 2 Axes>"
            ],
            "image/png": "[encoded data removed]"
          },
          "metadata": {
            "needs_background": "light"
          }
        }
      ]
    },
    {
      "cell_type": "markdown",
      "source": [
        "### Classificador Decision Tree"
      ],
      "metadata": {
        "id": "eb7sN3J1MDgI"
      }
    },
    {
      "cell_type": "code",
      "source": [
        "from sklearn.tree import DecisionTreeClassifier\n",
        "from sklearn import tree"
      ],
      "metadata": {
        "id": "9XjBywn5MIsU"
      },
      "execution_count": 26,
      "outputs": []
    },
    {
      "cell_type": "code",
      "source": [
        "clf = DecisionTreeClassifier(max_leaf_nodes=3)\n",
        "clf.fit(X_train, y_train)\n",
        "\n",
        "tree.plot_tree(clf)\n",
        "plt.show()"
      ],
      "metadata": {
        "colab": {
          "base_uri": "https://localhost:8080/",
          "height": 248
        },
        "id": "5TZP9JwDMIqM",
        "outputId": "049fe889-4c5c-46a0-ebae-9751d94d051b"
      },
      "execution_count": 27,
      "outputs": [
        {
          "output_type": "display_data",
          "data": {
            "text/plain": [
              "<Figure size 432x288 with 1 Axes>"
            ],
            "image/png": "[encoded data removed]"
          },
          "metadata": {
            "needs_background": "light"
          }
        }
      ]
    },
    {
      "cell_type": "code",
      "source": [
        "y_predicted = clf.predict(X_test)\n",
        "print(y_predicted)"
      ],
      "metadata": {
        "colab": {
          "base_uri": "https://localhost:8080/"
        },
        "id": "v8tLMFajMInv",
        "outputId": "b8e5eb19-798a-4be6-9dd2-fb0e65966b62"
      },
      "execution_count": 28,
      "outputs": [
        {
          "output_type": "stream",
          "name": "stdout",
          "text": [
            "['fake' 'fake' 'true' ... 'fake' 'fake' 'fake']\n"
          ]
        }
      ]
    },
    {
      "cell_type": "code",
      "source": [
        "accuracy = accuracy_score(y_test, y_predicted) * 100\n",
        "f1 = f1_score(y_test, y_predicted, average = 'macro') * 100\n",
        "\n",
        "print('Accuracy Decision Tree from Sk-learn: {:.2f}%'.format(accuracy))\n",
        "print('F1 Score Decision Tree from Sk-learn: {:.2f}%'.format(f1))"
      ],
      "metadata": {
        "colab": {
          "base_uri": "https://localhost:8080/"
        },
        "id": "qGVV63zDMIlW",
        "outputId": "7c2a3b17-34c1-48cd-da56-326ccfbeb314"
      },
      "execution_count": 29,
      "outputs": [
        {
          "output_type": "stream",
          "name": "stdout",
          "text": [
            "Accuracy Decision Tree from Sk-learn: 85.79%\n",
            "F1 Score Decision Tree from Sk-learn: 85.79%\n"
          ]
        }
      ]
    },
    {
      "cell_type": "code",
      "source": [
        "print(classification_report(y_test, y_predicted))"
      ],
      "metadata": {
        "colab": {
          "base_uri": "https://localhost:8080/"
        },
        "id": "RLl3pJzfMIi0",
        "outputId": "838c61e0-845c-4fd3-8814-3f06c5d75d51"
      },
      "execution_count": 30,
      "outputs": [
        {
          "output_type": "stream",
          "name": "stdout",
          "text": [
            "              precision    recall  f1-score   support\n",
            "\n",
            "        fake       0.86      0.86      0.86      1085\n",
            "        true       0.86      0.86      0.86      1075\n",
            "\n",
            "    accuracy                           0.86      2160\n",
            "   macro avg       0.86      0.86      0.86      2160\n",
            "weighted avg       0.86      0.86      0.86      2160\n",
            "\n"
          ]
        }
      ]
    },
    {
      "cell_type": "code",
      "source": [
        "cm = confusion_matrix(y_test, y_predicted)\n",
        "cm"
      ],
      "metadata": {
        "colab": {
          "base_uri": "https://localhost:8080/"
        },
        "id": "aHyDN5xeMIgW",
        "outputId": "5539cab5-0b8f-4873-e8b2-064f5b0ea76e"
      },
      "execution_count": 31,
      "outputs": [
        {
          "output_type": "execute_result",
          "data": {
            "text/plain": [
              "array([[933, 152],\n",
              "       [155, 920]])"
            ]
          },
          "metadata": {},
          "execution_count": 31
        }
      ]
    },
    {
      "cell_type": "code",
      "source": [
        "matrix = plot_confusion_matrix(clf, X_test, y_test, cmap=plt.cm.Greens)\n",
        "matrix.ax_.set_title('Confusion matrix', color='white')\n",
        "plt.xlabel('Predicted Label', color='white')\n",
        "plt.ylabel('True Label', color='white')\n",
        "plt.gcf().axes[0].tick_params(color='white')\n",
        "plt.gcf().axes[1].tick_params(color='white')\n",
        "plt.gcf().set_size_inches(10,6)\n",
        "plt.show()"
      ],
      "metadata": {
        "colab": {
          "base_uri": "https://localhost:8080/",
          "height": 459
        },
        "id": "M4mbCRfKMId2",
        "outputId": "749b741d-4f51-471d-859b-8cba5efc0d6c"
      },
      "execution_count": 32,
      "outputs": [
        {
          "output_type": "stream",
          "name": "stderr",
          "text": [
            "/usr/local/lib/python3.7/dist-packages/sklearn/utils/deprecation.py:87: FutureWarning: Function plot_confusion_matrix is deprecated; Function `plot_confusion_matrix` is deprecated in 1.0 and will be removed in 1.2. Use one of the class methods: ConfusionMatrixDisplay.from_predictions or ConfusionMatrixDisplay.from_estimator.\n",
            "  warnings.warn(msg, category=FutureWarning)\n"
          ]
        },
        {
          "output_type": "display_data",
          "data": {
            "text/plain": [
              "<Figure size 720x432 with 2 Axes>"
            ],
            "image/png": "[encoded data removed]"
          },
          "metadata": {
            "needs_background": "light"
          }
        }
      ]
    },
    {
      "cell_type": "code",
      "source": [
        "dados.head()"
      ],
      "metadata": {
        "colab": {
          "base_uri": "https://localhost:8080/",
          "height": 206
        },
        "id": "kZYqe9SoQPZL",
        "outputId": "f70534ff-25eb-4e33-d069-295154455879"
      },
      "execution_count": 33,
      "outputs": [
        {
          "output_type": "execute_result",
          "data": {
            "text/plain": [
              "  label                                  preprocessed_news\n",
              "0  fake  katia abreu diz vai colocar expulsao moldura n...\n",
              "1  fake  ray peita bolsonaro conservador fake entrevist...\n",
              "2  fake  reinaldo azevedo desmascarado policia federal ...\n",
              "3  fake  relatorio assustador bndes mostra dinheiro pub...\n",
              "4  fake  radialista americano fala sobre pt vendem ilus..."
            ],
            "text/html": [
              "\n",
              "  <div id=\"df-ca214b18-6e15-4c83-ba7d-46dd5217ae6e\">\n",
              "    <div class=\"colab-df-container\">\n",
              "      <div>\n",
              "<style scoped>\n",
              "    .dataframe tbody tr th:only-of-type {\n",
              "        vertical-align: middle;\n",
              "    }\n",
              "\n",
              "    .dataframe tbody tr th {\n",
              "        vertical-align: top;\n",
              "    }\n",
              "\n",
              "    .dataframe thead th {\n",
              "        text-align: right;\n",
              "    }\n",
              "</style>\n",
              "<table border=\"1\" class=\"dataframe\">\n",
              "  <thead>\n",
              "    <tr style=\"text-align: right;\">\n",
              "      <th></th>\n",
              "      <th>label</th>\n",
              "      <th>preprocessed_news</th>\n",
              "    </tr>\n",
              "  </thead>\n",
              "  <tbody>\n",
              "    <tr>\n",
              "      <th>0</th>\n",
              "      <td>fake</td>\n",
              "      <td>katia abreu diz vai colocar expulsao moldura n...</td>\n",
              "    </tr>\n",
              "    <tr>\n",
              "      <th>1</th>\n",
              "      <td>fake</td>\n",
              "      <td>ray peita bolsonaro conservador fake entrevist...</td>\n",
              "    </tr>\n",
              "    <tr>\n",
              "      <th>2</th>\n",
              "      <td>fake</td>\n",
              "      <td>reinaldo azevedo desmascarado policia federal ...</td>\n",
              "    </tr>\n",
              "    <tr>\n",
              "      <th>3</th>\n",
              "      <td>fake</td>\n",
              "      <td>relatorio assustador bndes mostra dinheiro pub...</td>\n",
              "    </tr>\n",
              "    <tr>\n",
              "      <th>4</th>\n",
              "      <td>fake</td>\n",
              "      <td>radialista americano fala sobre pt vendem ilus...</td>\n",
              "    </tr>\n",
              "  </tbody>\n",
              "</table>\n",
              "</div>\n",
              "      <button class=\"colab-df-convert\" onclick=\"convertToInteractive('df-ca214b18-6e15-4c83-ba7d-46dd5217ae6e')\"\n",
              "              title=\"Convert this dataframe to an interactive table.\"\n",
              "              style=\"display:none;\">\n",
              "        \n",
              "  <svg xmlns=\"http://www.w3.org/2000/svg\" height=\"24px\"viewBox=\"0 0 24 24\"\n",
              "       width=\"24px\">\n",
              "    <path d=\"M0 0h24v24H0V0z\" fill=\"none\"/>\n",
              "    <path d=\"M18.56 5.44l.94 2.06.94-2.06 2.06-.94-2.06-.94-.94-2.06-.94 2.06-2.06.94zm-11 1L8.5 8.5l.94-2.06 2.06-.94-2.06-.94L8.5 2.5l-.94 2.06-2.06.94zm10 10l.94 2.06.94-2.06 2.06-.94-2.06-.94-.94-2.06-.94 2.06-2.06.94z\"/><path d=\"M17.41 7.96l-1.37-1.37c-.4-.4-.92-.59-1.43-.59-.52 0-1.04.2-1.43.59L10.3 9.45l-7.72 7.72c-.78.78-.78 2.05 0 2.83L4 21.41c.39.39.9.59 1.41.59.51 0 1.02-.2 1.41-.59l7.78-7.78 2.81-2.81c.8-.78.8-2.07 0-2.86zM5.41 20L4 18.59l7.72-7.72 1.47 1.35L5.41 20z\"/>\n",
              "  </svg>\n",
              "      </button>\n",
              "      \n",
              "  <style>\n",
              "    .colab-df-container {\n",
              "      display:flex;\n",
              "      flex-wrap:wrap;\n",
              "      gap: 12px;\n",
              "    }\n",
              "\n",
              "    .colab-df-convert {\n",
              "      background-color: #E8F0FE;\n",
              "      border: none;\n",
              "      border-radius: 50%;\n",
              "      cursor: pointer;\n",
              "      display: none;\n",
              "      fill: #1967D2;\n",
              "      height: 32px;\n",
              "      padding: 0 0 0 0;\n",
              "      width: 32px;\n",
              "    }\n",
              "\n",
              "    .colab-df-convert:hover {\n",
              "      background-color: #E2EBFA;\n",
              "      box-shadow: 0px 1px 2px rgba(60, 64, 67, 0.3), 0px 1px 3px 1px rgba(60, 64, 67, 0.15);\n",
              "      fill: #174EA6;\n",
              "    }\n",
              "\n",
              "    [theme=dark] .colab-df-convert {\n",
              "      background-color: #3B4455;\n",
              "      fill: #D2E3FC;\n",
              "    }\n",
              "\n",
              "    [theme=dark] .colab-df-convert:hover {\n",
              "      background-color: #434B5C;\n",
              "      box-shadow: 0px 1px 3px 1px rgba(0, 0, 0, 0.15);\n",
              "      filter: drop-shadow(0px 1px 2px rgba(0, 0, 0, 0.3));\n",
              "      fill: #FFFFFF;\n",
              "    }\n",
              "  </style>\n",
              "\n",
              "      <script>\n",
              "        const buttonEl =\n",
              "          document.querySelector('#df-ca214b18-6e15-4c83-ba7d-46dd5217ae6e button.colab-df-convert');\n",
              "        buttonEl.style.display =\n",
              "          google.colab.kernel.accessAllowed ? 'block' : 'none';\n",
              "\n",
              "        async function convertToInteractive(key) {\n",
              "          const element = document.querySelector('#df-ca214b18-6e15-4c83-ba7d-46dd5217ae6e');\n",
              "          const dataTable =\n",
              "            await google.colab.kernel.invokeFunction('convertToInteractive',\n",
              "                                                     [key], {});\n",
              "          if (!dataTable) return;\n",
              "\n",
              "          const docLinkHtml = 'Like what you see? Visit the ' +\n",
              "            '<a target=\"_blank\" href=https://colab.research.google.com/notebooks/data_table.ipynb>data table notebook</a>'\n",
              "            + ' to learn more about interactive tables.';\n",
              "          element.innerHTML = '';\n",
              "          dataTable['output_type'] = 'display_data';\n",
              "          await google.colab.output.renderOutput(dataTable, element);\n",
              "          const docLink = document.createElement('div');\n",
              "          docLink.innerHTML = docLinkHtml;\n",
              "          element.appendChild(docLink);\n",
              "        }\n",
              "      </script>\n",
              "    </div>\n",
              "  </div>\n",
              "  "
            ]
          },
          "metadata": {},
          "execution_count": 33
        }
      ]
    },
    {
      "cell_type": "code",
      "source": [
        "x = 'eua coreia sul iniciam manobras aereas conjuntas treinamento aereo conjunto apos coreia norte lancar semana passada missil intercontinental exercicios so vao terminar sexta estados unidos coreia sul iniciaram nesta grande exercicio aereo conjunto poucos dias lancamento missil intercontinental operacao considerada pyongyang provocacao total exercicio cinco dias batizado vigilant ace envolve avioes incluindo cacas raptor mobiliza dezenas milhares soldados durante fim semana jornal estatal rodong denunciou manobras provocacao aberta todos niveis contra coreia norte poderia resultar guerra nuclear qualquer momento afirmou publicacao editorial belicistas americanos marionete fariam bem recordar exercicio militar dirigido contra coreia norte sera tao estupido ato precipita autodestruicao completou ministerio relacoes exteriores acusou sabado governo donald trump querer guerra nuclear qualquer preco simulacao aerea exercicio anual comecou cinco dias teste missil balistico intercontinental icbm supostamente capaz atingir territorio estados unidos momento grande tensao domingo influente senador republicano lindsey graham citou fantasma guerra preventiva acontecer teste nuclear subterraneo sera necessario estar preparado resposta estados unidos advertiu congressista entrevista canal cbs palavras graham complemento declaracoes sabado assessor seguranca nacional donald trump general hr mcmaster durante forum sobre defesa afirmou probabilidade guerra coreia norte aumenta cada dia isolado empobrecido regime realizou seis testes nucleares desde recente setembro coreia norte lancou passada novo tipo missil hwasong capacidade transportar ogiva pesada extragrande pode atingir todo territorio continental estados unidos segundo lider kim teste pais alcancou objetivo estado nuclear pleno direito analistas consideraram recente teste mostra avanco pyongyang tecnologia militar tambem destacaram provavel teste pais utilizou ogiva leve ogiva nuclear pesada missil dificuldades chegar longe tambem demonstraram ceticismo respeito capacidade coreia norte preservar sobrevivencia ogivas reentrada atmosfera programa militar rendeu muitas condenacoes internacionais pyongyang avancou desde chegada poder kim'\n",
        "\n",
        "vec = tfidf.transform([x])\n"
      ],
      "metadata": {
        "id": "9hLhJPKWQdnM"
      },
      "execution_count": 34,
      "outputs": []
    },
    {
      "cell_type": "code",
      "source": [
        "clf.predict(vec)"
      ],
      "metadata": {
        "colab": {
          "base_uri": "https://localhost:8080/"
        },
        "id": "Z5g3Uu-wQevA",
        "outputId": "66d81415-cb2d-409a-d13b-b2aab12585ba"
      },
      "execution_count": 35,
      "outputs": [
        {
          "output_type": "execute_result",
          "data": {
            "text/plain": [
              "array(['true'], dtype=object)"
            ]
          },
          "metadata": {},
          "execution_count": 35
        }
      ]
    },
    {
      "cell_type": "code",
      "source": [
        "from sklearn.neural_network import MLPClassifier\n",
        "from sklearn.ensemble import AdaBoostClassifier, RandomForestClassifier\n",
        "from sklearn.svm import SVC\n",
        "\n",
        "names = [\n",
        "         'Nearest-Neighbors',\n",
        "         'Linear SVM',\n",
        "         'RBF SVM',\n",
        "         'Poly SVM',\n",
        "         'Decision Tree',\n",
        "         'Random Forest',\n",
        "         'Neural Net',\n",
        "         'Adaboost',\n",
        "]\n",
        "\n",
        "classifiers = [\n",
        "               KNeighborsClassifier(3),\n",
        "               SVC(kernel = 'linear'),\n",
        "               SVC(gamma = 2, C = 10),\n",
        "               SVC(kernel = 'poly'),\n",
        "               DecisionTreeClassifier(max_depth=5),\n",
        "               RandomForestClassifier(max_depth = 5, n_estimators = 10, max_features = 1),\n",
        "               MLPClassifier(alpha=1, max_iter=1000),\n",
        "               AdaBoostClassifier(),\n",
        "]\n",
        "\n",
        "for name, clf in zip(names, classifiers):\n",
        "  clf.fit(X_train, y_train)\n",
        "  score = clf.score(X_test, y_test)\n",
        "  print(name + ' - Accuracy:' + str(score))"
      ],
      "metadata": {
        "colab": {
          "base_uri": "https://localhost:8080/"
        },
        "id": "THoj-1cmjQke",
        "outputId": "0f00a1da-823f-429c-b782-641b66a404f3"
      },
      "execution_count": 36,
      "outputs": [
        {
          "output_type": "stream",
          "name": "stdout",
          "text": [
            "Nearest-Neighbors - Accuracy:0.7212962962962963\n",
            "Linear SVM - Accuracy:0.961574074074074\n",
            "RBF SVM - Accuracy:0.9518518518518518\n",
            "Poly SVM - Accuracy:0.8949074074074074\n",
            "Decision Tree - Accuracy:0.8925925925925926\n",
            "Random Forest - Accuracy:0.7578703703703704\n",
            "Neural Net - Accuracy:0.9527777777777777\n",
            "Adaboost - Accuracy:0.9481481481481482\n"
          ]
        }
      ]
    },
    {
      "cell_type": "code",
      "source": [
        "from sklearn.model_selection import cross_val_score\n",
        "clf = SVC(kernel='linear')\n",
        "scores = cross_val_score(clf, X, y, cv=5)\n",
        "print(scores)"
      ],
      "metadata": {
        "colab": {
          "base_uri": "https://localhost:8080/"
        },
        "id": "dkhBcSqqlTl_",
        "outputId": "582331ae-cfdd-4e44-81f6-009b8af0fb7e"
      },
      "execution_count": 37,
      "outputs": [
        {
          "output_type": "stream",
          "name": "stdout",
          "text": [
            "[0.95833333 0.96527778 0.96666667 0.95972222 0.95069444]\n"
          ]
        }
      ]
    },
    {
      "cell_type": "code",
      "source": [
        "print(scores.mean())"
      ],
      "metadata": {
        "colab": {
          "base_uri": "https://localhost:8080/"
        },
        "id": "qNha1G8-l4hR",
        "outputId": "70396ea4-4e1a-4646-e5f8-9bf04d5eba61"
      },
      "execution_count": 38,
      "outputs": [
        {
          "output_type": "stream",
          "name": "stdout",
          "text": [
            "0.960138888888889\n"
          ]
        }
      ]
    },
    {
      "cell_type": "code",
      "source": [
        ""
      ],
      "metadata": {
        "id": "WzjFjMKWma8X"
      },
      "execution_count": 38,
      "outputs": []
    },
    {
      "cell_type": "markdown",
      "source": [
        "### Vectorizando apenas o conjunto de Treino"
      ],
      "metadata": {
        "id": "vlvhaOmequ2F"
      }
    },
    {
      "cell_type": "code",
      "source": [
        "X = dados['preprocessed_news']\n",
        "y = dados['label']\n",
        "X_train, X_test, y_train, y_test = train_test_split(X, y, test_size = 0.3, random_state = 0)\n",
        "tfidf = TfidfVectorizer(max_features=500)\n",
        "\n",
        "X_train = tfidf.fit_transform(X_train)\n",
        "X_test = tfidf.fit_transform(X_test)\n",
        "\n",
        "# X = tfidf.fit_transform(X)\n"
      ],
      "metadata": {
        "id": "DC_GSt55qulw"
      },
      "execution_count": 60,
      "outputs": []
    },
    {
      "cell_type": "code",
      "source": [
        "clf = LinearSVC()\n",
        "clf.fit(X_train, y_train)"
      ],
      "metadata": {
        "colab": {
          "base_uri": "https://localhost:8080/"
        },
        "id": "zaHkbeT2q5sc",
        "outputId": "1035e8e6-32fb-491f-8eb3-5740c99b1f06"
      },
      "execution_count": 61,
      "outputs": [
        {
          "output_type": "execute_result",
          "data": {
            "text/plain": [
              "LinearSVC()"
            ]
          },
          "metadata": {},
          "execution_count": 61
        }
      ]
    },
    {
      "cell_type": "code",
      "source": [
        "y_pred = clf.predict(X_test)"
      ],
      "metadata": {
        "id": "3V8paYGtrYbC"
      },
      "execution_count": 62,
      "outputs": []
    },
    {
      "cell_type": "code",
      "source": [
        "print('Accuracy of the Algorithm is: {}'.format(accuracy_score(y_test, y_pred)))"
      ],
      "metadata": {
        "colab": {
          "base_uri": "https://localhost:8080/"
        },
        "id": "ii6tA7I2rdB9",
        "outputId": "0f35cb76-1115-4edf-f86f-1de9296a5014"
      },
      "execution_count": 63,
      "outputs": [
        {
          "output_type": "stream",
          "name": "stdout",
          "text": [
            "Accuracy of the Algorithm is: 0.8532407407407407\n"
          ]
        }
      ]
    },
    {
      "cell_type": "code",
      "source": [
        ""
      ],
      "metadata": {
        "id": "dqN6vaGnrgU3"
      },
      "execution_count": null,
      "outputs": []
    }
  ]
}