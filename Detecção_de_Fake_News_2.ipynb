{
  "nbformat": 4,
  "nbformat_minor": 0,
  "metadata": {
    "colab": {
      "name": "Detecção de Fake News.ipynb",
      "provenance": [],
      "collapsed_sections": [
        "gUjlTzrIKtXf",
        "qMCGW7JlKxUm",
        "eb7sN3J1MDgI",
        "vlvhaOmequ2F"
      ],
      "include_colab_link": true
    },
    "kernelspec": {
      "name": "python3",
      "display_name": "Python 3"
    },
    "language_info": {
      "name": "python"
    }
  },
  "cells": [
    {
      "cell_type": "markdown",
      "metadata": {
        "id": "view-in-github",
        "colab_type": "text"
      },
      "source": [
        "<a href=\"https://colab.research.google.com/github/lucca-fsc/FakeNewsDetection/blob/main/Detec%C3%A7%C3%A3o_de_Fake_News_2.ipynb\" target=\"_parent\"><img src=\"https://colab.research.google.com/assets/colab-badge.svg\" alt=\"Open In Colab\"/></a>"
      ]
    },
    {
      "cell_type": "markdown",
      "source": [
        "# Detecção de Notícias Falsas utilizando Fake Br Corpus\n"
      ],
      "metadata": {
        "id": "ZNNeyhHwLC9A"
      }
    },
    {
      "cell_type": "code",
      "source": [
        "from google.colab import drive\n",
        "drive.mount('/content/drive')"
      ],
      "metadata": {
        "colab": {
          "base_uri": "https://localhost:8080/"
        },
        "id": "7EsQO8ymj2qt",
        "outputId": "3488ad9e-6423-46d2-fd03-c3a9ac2b6811"
      },
      "execution_count": null,
      "outputs": [
        {
          "output_type": "stream",
          "name": "stdout",
          "text": [
            "Drive already mounted at /content/drive; to attempt to forcibly remount, call drive.mount(\"/content/drive\", force_remount=True).\n"
          ]
        }
      ]
    },
    {
      "cell_type": "markdown",
      "source": [
        "##Importando as bibliotecas necessárias"
      ],
      "metadata": {
        "id": "fOmpaIn3LKei"
      }
    },
    {
      "cell_type": "code",
      "execution_count": 1,
      "metadata": {
        "id": "i1TJu2WtLAlO"
      },
      "outputs": [],
      "source": [
        "import pandas as pd\n",
        "import numpy as np \n",
        "import matplotlib.pyplot as plt\n",
        "import nltk"
      ]
    },
    {
      "cell_type": "code",
      "source": [
        "import spacy"
      ],
      "metadata": {
        "id": "s3NnPwimMRAs"
      },
      "execution_count": 20,
      "outputs": []
    },
    {
      "cell_type": "code",
      "source": [
        "nltk.download('rslp')"
      ],
      "metadata": {
        "colab": {
          "base_uri": "https://localhost:8080/"
        },
        "id": "lk98Jc3Y3WEv",
        "outputId": "b9263eac-072f-467b-c7cd-af59bd7bf326"
      },
      "execution_count": 2,
      "outputs": [
        {
          "output_type": "stream",
          "name": "stdout",
          "text": [
            "[nltk_data] Downloading package rslp to /root/nltk_data...\n",
            "[nltk_data]   Package rslp is already up-to-date!\n"
          ]
        },
        {
          "output_type": "execute_result",
          "data": {
            "text/plain": [
              "True"
            ]
          },
          "metadata": {},
          "execution_count": 2
        }
      ]
    },
    {
      "cell_type": "code",
      "source": [
        "stemmer = nltk.stem.RSLPStemmer()"
      ],
      "metadata": {
        "id": "0n-AfBtl28fc"
      },
      "execution_count": 3,
      "outputs": []
    },
    {
      "cell_type": "code",
      "source": [
        "print(stemmer.stem('admirada'))"
      ],
      "metadata": {
        "colab": {
          "base_uri": "https://localhost:8080/"
        },
        "id": "MVrQnWzy4OeZ",
        "outputId": "ae3292eb-74ef-4989-85b6-b4dcffa69675"
      },
      "execution_count": 4,
      "outputs": [
        {
          "output_type": "stream",
          "name": "stdout",
          "text": [
            "admir\n"
          ]
        }
      ]
    },
    {
      "cell_type": "code",
      "source": [
        "print(stemmer.stem('incompleto'))"
      ],
      "metadata": {
        "colab": {
          "base_uri": "https://localhost:8080/"
        },
        "id": "schUlGIF4OT_",
        "outputId": "bb9d5669-4e7a-4a6d-bcf4-03176b2c726c"
      },
      "execution_count": 5,
      "outputs": [
        {
          "output_type": "stream",
          "name": "stdout",
          "text": [
            "incomplet\n"
          ]
        }
      ]
    },
    {
      "cell_type": "code",
      "source": [
        "print(stemmer.stem('completamente'))"
      ],
      "metadata": {
        "colab": {
          "base_uri": "https://localhost:8080/"
        },
        "id": "inZWUgxG4h8P",
        "outputId": "cb967449-85fe-4127-ed6e-9b74d87e076a"
      },
      "execution_count": 6,
      "outputs": [
        {
          "output_type": "stream",
          "name": "stdout",
          "text": [
            "complet\n"
          ]
        }
      ]
    },
    {
      "cell_type": "markdown",
      "source": [
        "#Carregando o dataset"
      ],
      "metadata": {
        "id": "q6XzWxJwL3jW"
      }
    },
    {
      "cell_type": "code",
      "source": [
        "dados = pd.read_csv('pre-processed.csv')"
      ],
      "metadata": {
        "id": "Y-g8cMB3Ld64"
      },
      "execution_count": 7,
      "outputs": []
    },
    {
      "cell_type": "markdown",
      "source": [
        "dados.head()"
      ],
      "metadata": {
        "id": "7YHsV8EvL2w6"
      }
    },
    {
      "cell_type": "code",
      "source": [
        "dados = dados.drop(columns=['index'])"
      ],
      "metadata": {
        "id": "Q8CcHqJnMjrs"
      },
      "execution_count": 8,
      "outputs": []
    },
    {
      "cell_type": "markdown",
      "source": [
        "##### Teste Stemming"
      ],
      "metadata": {
        "id": "Ok4eRl0S5CzT"
      }
    },
    {
      "cell_type": "code",
      "source": [
        "dados_copia = dados.copy()"
      ],
      "metadata": {
        "id": "LjkQP1fw-UYF"
      },
      "execution_count": 9,
      "outputs": []
    },
    {
      "cell_type": "code",
      "source": [
        "nova_frase = dados_copia['preprocessed_news'][0]"
      ],
      "metadata": {
        "id": "TCh-VZKd7NSh"
      },
      "execution_count": 10,
      "outputs": []
    },
    {
      "cell_type": "code",
      "source": [
        "nova_frase"
      ],
      "metadata": {
        "id": "p3iqJ7Cm8XEw",
        "colab": {
          "base_uri": "https://localhost:8080/",
          "height": 70
        },
        "outputId": "24fe5a8e-450b-4908-d994-343844a0bf58"
      },
      "execution_count": 11,
      "outputs": [
        {
          "output_type": "execute_result",
          "data": {
            "text/plain": [
              "'katia abreu diz vai colocar expulsao moldura nao reclamar senadora katia abreu disse expulsao pmdb resultado acao cupula atual legenda segundo oportunista amanha vou botar moldura dourada expulsao porque maos onde veio atestado boa conduta curriculo pessoas expulsaram nao servem pais servem pais beneficios proprios disse katia abreu ue expulsao algo tao bom curriculo tanta choradeira katia sabemos motivo provavelmente katia nao valor pt partido ja deveria absorvido parece pt gostava katia somente ficasse entrincheirada dentro pmdb rebaixar demais resta katia ficar chorando pitangas todos cantos tempo ate momento pt nao cadastrou katia abreu fileiras situacao patetica agricultura dilma'"
            ],
            "application/vnd.google.colaboratory.intrinsic+json": {
              "type": "string"
            }
          },
          "metadata": {},
          "execution_count": 11
        }
      ]
    },
    {
      "cell_type": "code",
      "source": [
        "novos_tokens_teste = nova_frase.split(' ')"
      ],
      "metadata": {
        "id": "QFPTdyny8kJq"
      },
      "execution_count": 12,
      "outputs": []
    },
    {
      "cell_type": "code",
      "source": [
        "teste_armaz = []\n",
        "for x in novos_tokens_teste:\n",
        "  teste_armaz.append(stemmer.stem(x)) \n",
        "teste_armaz"
      ],
      "metadata": {
        "id": "7Uao-AOv8skA"
      },
      "execution_count": null,
      "outputs": []
    },
    {
      "cell_type": "code",
      "source": [
        "for x in range (2):\n",
        "  print(x)"
      ],
      "metadata": {
        "id": "j0HQ31Ru9lKk",
        "colab": {
          "base_uri": "https://localhost:8080/"
        },
        "outputId": "20306752-af6f-4ea5-fbd3-77aa2fb4c88f"
      },
      "execution_count": 14,
      "outputs": [
        {
          "output_type": "stream",
          "name": "stdout",
          "text": [
            "0\n",
            "1\n"
          ]
        }
      ]
    },
    {
      "cell_type": "code",
      "source": [
        "import re\n",
        "\n",
        "def tokenize(text):\n",
        "  tokens = re.split('\\W+', text)\n",
        "  return tokens"
      ],
      "metadata": {
        "id": "1kntkLOBCoOx"
      },
      "execution_count": 15,
      "outputs": []
    },
    {
      "cell_type": "code",
      "source": [
        "dados_copia['text_tokenized'] = dados_copia['preprocessed_news'].apply(lambda x: tokenize(x))"
      ],
      "metadata": {
        "id": "7iuxnT8FC-Jy"
      },
      "execution_count": 16,
      "outputs": []
    },
    {
      "cell_type": "code",
      "source": [
        "dados_copia.head()"
      ],
      "metadata": {
        "id": "2RrENaiQDL5I",
        "colab": {
          "base_uri": "https://localhost:8080/",
          "height": 206
        },
        "outputId": "dedc0650-aeb4-4508-bfef-b832e451dcae"
      },
      "execution_count": 45,
      "outputs": [
        {
          "output_type": "execute_result",
          "data": {
            "text/plain": [
              "  label                                  preprocessed_news  \\\n",
              "0  fake  katia abreu diz vai colocar expulsao moldura n...   \n",
              "1  fake  ray peita bolsonaro conservador fake entrevist...   \n",
              "2  fake  reinaldo azevedo desmascarado policia federal ...   \n",
              "3  fake  relatorio assustador bndes mostra dinheiro pub...   \n",
              "4  fake  radialista americano fala sobre pt vendem ilus...   \n",
              "\n",
              "                                      text_tokenized  \n",
              "0  [katia, abreu, diz, vai, colocar, expulsao, mo...  \n",
              "1  [ray, peita, bolsonaro, conservador, fake, ent...  \n",
              "2  [reinaldo, azevedo, desmascarado, policia, fed...  \n",
              "3  [relatorio, assustador, bndes, mostra, dinheir...  \n",
              "4  [radialista, americano, fala, sobre, pt, vende...  "
            ],
            "text/html": [
              "\n",
              "  <div id=\"df-89cd9c1d-86b3-4c33-9755-02b541b3d7e1\">\n",
              "    <div class=\"colab-df-container\">\n",
              "      <div>\n",
              "<style scoped>\n",
              "    .dataframe tbody tr th:only-of-type {\n",
              "        vertical-align: middle;\n",
              "    }\n",
              "\n",
              "    .dataframe tbody tr th {\n",
              "        vertical-align: top;\n",
              "    }\n",
              "\n",
              "    .dataframe thead th {\n",
              "        text-align: right;\n",
              "    }\n",
              "</style>\n",
              "<table border=\"1\" class=\"dataframe\">\n",
              "  <thead>\n",
              "    <tr style=\"text-align: right;\">\n",
              "      <th></th>\n",
              "      <th>label</th>\n",
              "      <th>preprocessed_news</th>\n",
              "      <th>text_tokenized</th>\n",
              "    </tr>\n",
              "  </thead>\n",
              "  <tbody>\n",
              "    <tr>\n",
              "      <th>0</th>\n",
              "      <td>fake</td>\n",
              "      <td>katia abreu diz vai colocar expulsao moldura n...</td>\n",
              "      <td>[katia, abreu, diz, vai, colocar, expulsao, mo...</td>\n",
              "    </tr>\n",
              "    <tr>\n",
              "      <th>1</th>\n",
              "      <td>fake</td>\n",
              "      <td>ray peita bolsonaro conservador fake entrevist...</td>\n",
              "      <td>[ray, peita, bolsonaro, conservador, fake, ent...</td>\n",
              "    </tr>\n",
              "    <tr>\n",
              "      <th>2</th>\n",
              "      <td>fake</td>\n",
              "      <td>reinaldo azevedo desmascarado policia federal ...</td>\n",
              "      <td>[reinaldo, azevedo, desmascarado, policia, fed...</td>\n",
              "    </tr>\n",
              "    <tr>\n",
              "      <th>3</th>\n",
              "      <td>fake</td>\n",
              "      <td>relatorio assustador bndes mostra dinheiro pub...</td>\n",
              "      <td>[relatorio, assustador, bndes, mostra, dinheir...</td>\n",
              "    </tr>\n",
              "    <tr>\n",
              "      <th>4</th>\n",
              "      <td>fake</td>\n",
              "      <td>radialista americano fala sobre pt vendem ilus...</td>\n",
              "      <td>[radialista, americano, fala, sobre, pt, vende...</td>\n",
              "    </tr>\n",
              "  </tbody>\n",
              "</table>\n",
              "</div>\n",
              "      <button class=\"colab-df-convert\" onclick=\"convertToInteractive('df-89cd9c1d-86b3-4c33-9755-02b541b3d7e1')\"\n",
              "              title=\"Convert this dataframe to an interactive table.\"\n",
              "              style=\"display:none;\">\n",
              "        \n",
              "  <svg xmlns=\"http://www.w3.org/2000/svg\" height=\"24px\"viewBox=\"0 0 24 24\"\n",
              "       width=\"24px\">\n",
              "    <path d=\"M0 0h24v24H0V0z\" fill=\"none\"/>\n",
              "    <path d=\"M18.56 5.44l.94 2.06.94-2.06 2.06-.94-2.06-.94-.94-2.06-.94 2.06-2.06.94zm-11 1L8.5 8.5l.94-2.06 2.06-.94-2.06-.94L8.5 2.5l-.94 2.06-2.06.94zm10 10l.94 2.06.94-2.06 2.06-.94-2.06-.94-.94-2.06-.94 2.06-2.06.94z\"/><path d=\"M17.41 7.96l-1.37-1.37c-.4-.4-.92-.59-1.43-.59-.52 0-1.04.2-1.43.59L10.3 9.45l-7.72 7.72c-.78.78-.78 2.05 0 2.83L4 21.41c.39.39.9.59 1.41.59.51 0 1.02-.2 1.41-.59l7.78-7.78 2.81-2.81c.8-.78.8-2.07 0-2.86zM5.41 20L4 18.59l7.72-7.72 1.47 1.35L5.41 20z\"/>\n",
              "  </svg>\n",
              "      </button>\n",
              "      \n",
              "  <style>\n",
              "    .colab-df-container {\n",
              "      display:flex;\n",
              "      flex-wrap:wrap;\n",
              "      gap: 12px;\n",
              "    }\n",
              "\n",
              "    .colab-df-convert {\n",
              "      background-color: #E8F0FE;\n",
              "      border: none;\n",
              "      border-radius: 50%;\n",
              "      cursor: pointer;\n",
              "      display: none;\n",
              "      fill: #1967D2;\n",
              "      height: 32px;\n",
              "      padding: 0 0 0 0;\n",
              "      width: 32px;\n",
              "    }\n",
              "\n",
              "    .colab-df-convert:hover {\n",
              "      background-color: #E2EBFA;\n",
              "      box-shadow: 0px 1px 2px rgba(60, 64, 67, 0.3), 0px 1px 3px 1px rgba(60, 64, 67, 0.15);\n",
              "      fill: #174EA6;\n",
              "    }\n",
              "\n",
              "    [theme=dark] .colab-df-convert {\n",
              "      background-color: #3B4455;\n",
              "      fill: #D2E3FC;\n",
              "    }\n",
              "\n",
              "    [theme=dark] .colab-df-convert:hover {\n",
              "      background-color: #434B5C;\n",
              "      box-shadow: 0px 1px 3px 1px rgba(0, 0, 0, 0.15);\n",
              "      filter: drop-shadow(0px 1px 2px rgba(0, 0, 0, 0.3));\n",
              "      fill: #FFFFFF;\n",
              "    }\n",
              "  </style>\n",
              "\n",
              "      <script>\n",
              "        const buttonEl =\n",
              "          document.querySelector('#df-89cd9c1d-86b3-4c33-9755-02b541b3d7e1 button.colab-df-convert');\n",
              "        buttonEl.style.display =\n",
              "          google.colab.kernel.accessAllowed ? 'block' : 'none';\n",
              "\n",
              "        async function convertToInteractive(key) {\n",
              "          const element = document.querySelector('#df-89cd9c1d-86b3-4c33-9755-02b541b3d7e1');\n",
              "          const dataTable =\n",
              "            await google.colab.kernel.invokeFunction('convertToInteractive',\n",
              "                                                     [key], {});\n",
              "          if (!dataTable) return;\n",
              "\n",
              "          const docLinkHtml = 'Like what you see? Visit the ' +\n",
              "            '<a target=\"_blank\" href=https://colab.research.google.com/notebooks/data_table.ipynb>data table notebook</a>'\n",
              "            + ' to learn more about interactive tables.';\n",
              "          element.innerHTML = '';\n",
              "          dataTable['output_type'] = 'display_data';\n",
              "          await google.colab.output.renderOutput(dataTable, element);\n",
              "          const docLink = document.createElement('div');\n",
              "          docLink.innerHTML = docLinkHtml;\n",
              "          element.appendChild(docLink);\n",
              "        }\n",
              "      </script>\n",
              "    </div>\n",
              "  </div>\n",
              "  "
            ]
          },
          "metadata": {},
          "execution_count": 45
        }
      ]
    },
    {
      "cell_type": "code",
      "source": [
        "def stem_tokens(token_list):\n",
        "  stemmed_list = [stemmer.stem(word) for word in token_list]\n",
        "  return stemmed_list"
      ],
      "metadata": {
        "id": "KlH-v09nD2Kl"
      },
      "execution_count": 17,
      "outputs": []
    },
    {
      "cell_type": "code",
      "source": [
        "dados_copia['text_stemmed'] = dados_copia['text_tokenized'].apply(lambda x: stem_tokens(x))"
      ],
      "metadata": {
        "id": "mTCq1d8zEH6n"
      },
      "execution_count": 18,
      "outputs": []
    },
    {
      "cell_type": "code",
      "source": [
        "dados_copia.head()"
      ],
      "metadata": {
        "id": "tYCGkJ9eE73G"
      },
      "execution_count": null,
      "outputs": []
    },
    {
      "cell_type": "code",
      "source": [
        "dados"
      ],
      "metadata": {
        "id": "heG4QxN2N2T0"
      },
      "execution_count": null,
      "outputs": []
    },
    {
      "cell_type": "markdown",
      "source": [
        "##Importando bibliotecas para o modelo de IA\n"
      ],
      "metadata": {
        "id": "NcQILLXgOBCv"
      }
    },
    {
      "cell_type": "code",
      "source": [
        "from sklearn.feature_extraction.text import TfidfVectorizer\n",
        "from sklearn.model_selection import train_test_split\n",
        "from sklearn.svm import LinearSVC\n",
        "from sklearn.metrics import classification_report\n",
        "from sklearn.metrics import confusion_matrix\n",
        "from sklearn.metrics import plot_confusion_matrix\n",
        "from sklearn.metrics import accuracy_score\n",
        "from sklearn.metrics import f1_score"
      ],
      "metadata": {
        "id": "E5TfhEYLN62w"
      },
      "execution_count": 114,
      "outputs": []
    },
    {
      "cell_type": "markdown",
      "source": [
        "### Vectorizando os dados para se adequar aos modelos de Machine Learning\n",
        "Foi utilizado o método TF-IDF"
      ],
      "metadata": {
        "id": "cW7_aLnLYq5Y"
      }
    },
    {
      "cell_type": "code",
      "source": [
        "X = dados['preprocessed_news']\n",
        "y = dados['label']\n",
        "# X_train, X_test, y_train, y_test = train_test_split(X, y, test_size = 0.3, random_state = 0)\n",
        "tfidf = TfidfVectorizer(max_features=5000)\n",
        "\n",
        "# X_train = tfidf.fit_transform(X_train)\n",
        "# X_test = tfidf.fit_transform(X_test)\n",
        "\n",
        "X = tfidf.fit_transform(X)"
      ],
      "metadata": {
        "id": "SLmRnmiJOA4M"
      },
      "execution_count": 9,
      "outputs": []
    },
    {
      "cell_type": "code",
      "source": [
        "print(len(tfidf.vocabulary_))"
      ],
      "metadata": {
        "id": "35lbY7tfOw0g"
      },
      "execution_count": null,
      "outputs": []
    },
    {
      "cell_type": "code",
      "source": [
        "tfidf.vocabulary_"
      ],
      "metadata": {
        "id": "o12k6wNeO3TD"
      },
      "execution_count": null,
      "outputs": []
    },
    {
      "cell_type": "code",
      "source": [
        "X_train, X_test, y_train, y_test = train_test_split(X, y, test_size = 0.3, random_state = 0)\n"
      ],
      "metadata": {
        "id": "qI6v64C0O_U4"
      },
      "execution_count": 11,
      "outputs": []
    },
    {
      "cell_type": "code",
      "source": [
        "print('Total train samples: {}'.format(X_train.shape[0]))\n",
        "print('Total test samples: {}'.format(X_test.shape[0]))"
      ],
      "metadata": {
        "id": "9xncTP8VKL8O",
        "colab": {
          "base_uri": "https://localhost:8080/"
        },
        "outputId": "85c3a7cd-fe16-4ec0-ccb0-b495b5f7ceb7"
      },
      "execution_count": 12,
      "outputs": [
        {
          "output_type": "stream",
          "name": "stdout",
          "text": [
            "Total train samples: 5040\n",
            "Total test samples: 2160\n"
          ]
        }
      ]
    },
    {
      "cell_type": "code",
      "source": [
        "print(X_train)"
      ],
      "metadata": {
        "id": "1Af6rya7huyG"
      },
      "execution_count": null,
      "outputs": []
    },
    {
      "cell_type": "markdown",
      "source": [
        "### Classificador SVM\n"
      ],
      "metadata": {
        "id": "gUjlTzrIKtXf"
      }
    },
    {
      "cell_type": "code",
      "source": [
        "clf = LinearSVC()\n",
        "clf.fit(X_train, y_train)"
      ],
      "metadata": {
        "colab": {
          "base_uri": "https://localhost:8080/"
        },
        "id": "vqEjCaU7PMkI",
        "outputId": "90c701c6-fcf0-487f-9f15-b8f1e98420d5"
      },
      "execution_count": 13,
      "outputs": [
        {
          "output_type": "execute_result",
          "data": {
            "text/plain": [
              "LinearSVC()"
            ]
          },
          "metadata": {},
          "execution_count": 13
        }
      ]
    },
    {
      "cell_type": "code",
      "source": [
        "y_pred = clf.predict(X_test)"
      ],
      "metadata": {
        "id": "heW1nzxEPUS8"
      },
      "execution_count": 14,
      "outputs": []
    },
    {
      "cell_type": "code",
      "source": [
        "print('Accuracy of the Algorithm is: {}'.format(accuracy_score(y_test, y_pred)))"
      ],
      "metadata": {
        "id": "QfrfROMSPZs4",
        "colab": {
          "base_uri": "https://localhost:8080/"
        },
        "outputId": "bb968b65-fe49-4266-e427-d931e6f4b98f"
      },
      "execution_count": 15,
      "outputs": [
        {
          "output_type": "stream",
          "name": "stdout",
          "text": [
            "Accuracy of the Algorithm is: 0.9592592592592593\n"
          ]
        }
      ]
    },
    {
      "cell_type": "code",
      "source": [
        "accuracy = accuracy_score(y_test, y_pred) * 100\n",
        "f1 = f1_score(y_test, y_pred, average = 'macro') * 100\n",
        "\n",
        "print('Accuracy SVM from sk-learn withot Stemming: {:.2f}%'.format(accuracy))\n",
        "print('F1 Score SVM from sk-learn withot Stemming: {:.2f}%'.format(f1))"
      ],
      "metadata": {
        "id": "vJFqgEKvL39E",
        "colab": {
          "base_uri": "https://localhost:8080/"
        },
        "outputId": "cbe2dfe1-afb9-407f-88e4-4e55bc622d04"
      },
      "execution_count": 16,
      "outputs": [
        {
          "output_type": "stream",
          "name": "stdout",
          "text": [
            "Accuracy SVM from sk-learn withot Stemming: 95.93%\n",
            "F1 Score SVM from sk-learn withot Stemming: 95.93%\n"
          ]
        }
      ]
    },
    {
      "cell_type": "code",
      "source": [
        "confusion_matrix(y_test, y_pred)"
      ],
      "metadata": {
        "id": "N7zoiUjYPhYD",
        "colab": {
          "base_uri": "https://localhost:8080/"
        },
        "outputId": "3c42eba9-0558-43cb-91a8-5d2de503e75f"
      },
      "execution_count": 17,
      "outputs": [
        {
          "output_type": "execute_result",
          "data": {
            "text/plain": [
              "array([[1042,   43],\n",
              "       [  45, 1030]])"
            ]
          },
          "metadata": {},
          "execution_count": 17
        }
      ]
    },
    {
      "cell_type": "code",
      "source": [
        "print('--------------Resultados sem aplicar o método de Stemming----------------')\n",
        "print('')\n",
        "print(classification_report(y_test, y_pred))"
      ],
      "metadata": {
        "id": "PBozlpB0PnnA",
        "colab": {
          "base_uri": "https://localhost:8080/"
        },
        "outputId": "3305dd58-1eb0-44ab-b34b-6a4f2c4d5282"
      },
      "execution_count": 18,
      "outputs": [
        {
          "output_type": "stream",
          "name": "stdout",
          "text": [
            "--------------Resultados sem aplicar o método de Stemming----------------\n",
            "\n",
            "              precision    recall  f1-score   support\n",
            "\n",
            "        fake       0.96      0.96      0.96      1085\n",
            "        true       0.96      0.96      0.96      1075\n",
            "\n",
            "    accuracy                           0.96      2160\n",
            "   macro avg       0.96      0.96      0.96      2160\n",
            "weighted avg       0.96      0.96      0.96      2160\n",
            "\n"
          ]
        }
      ]
    },
    {
      "cell_type": "code",
      "source": [
        "matrix = plot_confusion_matrix(clf, X_test, y_test, cmap=plt.cm.Reds)\n",
        "matrix.ax_.set_title('Confusion matrix withou Stemming', color='white')\n",
        "plt.xlabel('Predicted Label', color='white')\n",
        "plt.ylabel('True Label', color='white')\n",
        "plt.gcf().axes[0].tick_params(color='white')\n",
        "plt.gcf().axes[1].tick_params(color='white')\n",
        "plt.gcf().set_size_inches(10,6)\n",
        "plt.show()"
      ],
      "metadata": {
        "id": "sXOxuyLnP7cx",
        "colab": {
          "base_uri": "https://localhost:8080/",
          "height": 459
        },
        "outputId": "29b03d3b-331f-4a34-c176-190957bc14fe"
      },
      "execution_count": 19,
      "outputs": [
        {
          "output_type": "stream",
          "name": "stderr",
          "text": [
            "/usr/local/lib/python3.7/dist-packages/sklearn/utils/deprecation.py:87: FutureWarning: Function plot_confusion_matrix is deprecated; Function `plot_confusion_matrix` is deprecated in 1.0 and will be removed in 1.2. Use one of the class methods: ConfusionMatrixDisplay.from_predictions or ConfusionMatrixDisplay.from_estimator.\n",
            "  warnings.warn(msg, category=FutureWarning)\n"
          ]
        },
        {
          "output_type": "display_data",
          "data": {
            "text/plain": [
              "<Figure size 720x432 with 2 Axes>"
            ],
            "image/png": "[encoded data removed]"
          },
          "metadata": {
            "needs_background": "light"
          }
        }
      ]
    },
    {
      "cell_type": "markdown",
      "source": [
        "### Classificador KNN"
      ],
      "metadata": {
        "id": "qMCGW7JlKxUm"
      }
    },
    {
      "cell_type": "code",
      "source": [
        "from sklearn.neighbors import KNeighborsClassifier"
      ],
      "metadata": {
        "id": "Sv64u7Y_Kzxy"
      },
      "execution_count": 20,
      "outputs": []
    },
    {
      "cell_type": "code",
      "source": [
        "knn = KNeighborsClassifier(n_neighbors = 5 )\n",
        "knn.fit(X_train, y_train)\n",
        "y_predict = knn.predict(X_test)"
      ],
      "metadata": {
        "id": "WlODA1wXKzpM"
      },
      "execution_count": 21,
      "outputs": []
    },
    {
      "cell_type": "code",
      "source": [
        "accuracy = accuracy_score(y_test, y_predict) * 100\n",
        "f1 = f1_score(y_test, y_predict, average = 'macro') * 100\n",
        "\n",
        "print('Accuracy K-NN from sk-learn: {:.2f}%'.format(accuracy))\n",
        "print('F1 Score K-NN from sk-learn: {:.2f}%'.format(f1))"
      ],
      "metadata": {
        "id": "6ffQMmIvKzjj",
        "colab": {
          "base_uri": "https://localhost:8080/"
        },
        "outputId": "a332ddea-e40c-4def-f6ed-1452d7675d30"
      },
      "execution_count": 22,
      "outputs": [
        {
          "output_type": "stream",
          "name": "stdout",
          "text": [
            "Accuracy K-NN from sk-learn: 70.97%\n",
            "F1 Score K-NN from sk-learn: 69.47%\n"
          ]
        }
      ]
    },
    {
      "cell_type": "code",
      "source": [
        "cm = confusion_matrix(y_test, y_predict)\n",
        "cm"
      ],
      "metadata": {
        "id": "rhp3l-X0LPqL",
        "colab": {
          "base_uri": "https://localhost:8080/"
        },
        "outputId": "ef2ff139-2b0a-42f5-df85-2d9fb15acab7"
      },
      "execution_count": 23,
      "outputs": [
        {
          "output_type": "execute_result",
          "data": {
            "text/plain": [
              "array([[ 527,  558],\n",
              "       [  69, 1006]])"
            ]
          },
          "metadata": {},
          "execution_count": 23
        }
      ]
    },
    {
      "cell_type": "code",
      "source": [
        "print(classification_report(y_test, y_predict))"
      ],
      "metadata": {
        "id": "_e2B_aJ1LjR5",
        "colab": {
          "base_uri": "https://localhost:8080/"
        },
        "outputId": "2679d270-74d7-4aae-82a7-331f54525b91"
      },
      "execution_count": 24,
      "outputs": [
        {
          "output_type": "stream",
          "name": "stdout",
          "text": [
            "              precision    recall  f1-score   support\n",
            "\n",
            "        fake       0.88      0.49      0.63      1085\n",
            "        true       0.64      0.94      0.76      1075\n",
            "\n",
            "    accuracy                           0.71      2160\n",
            "   macro avg       0.76      0.71      0.69      2160\n",
            "weighted avg       0.76      0.71      0.69      2160\n",
            "\n"
          ]
        }
      ]
    },
    {
      "cell_type": "code",
      "source": [
        "from sklearn.metrics import plot_confusion_matrix\n",
        "\n",
        "matrix = plot_confusion_matrix(knn, X_test, y_test, cmap=plt.cm.Blues)\n",
        "matrix.ax_.set_title('Confusion matrix', color='white')\n",
        "plt.xlabel('Predicted Label', color='white')\n",
        "plt.ylabel('True Label', color='white')\n",
        "plt.gcf().axes[0].tick_params(color='white')\n",
        "plt.gcf().axes[1].tick_params(color='white')\n",
        "plt.gcf().set_size_inches(10,6)\n",
        "plt.show()"
      ],
      "metadata": {
        "id": "abLjUktkLjPn",
        "colab": {
          "base_uri": "https://localhost:8080/",
          "height": 459
        },
        "outputId": "a443a19c-b5a3-4801-9e91-057d5d6b795f"
      },
      "execution_count": 25,
      "outputs": [
        {
          "output_type": "stream",
          "name": "stderr",
          "text": [
            "/usr/local/lib/python3.7/dist-packages/sklearn/utils/deprecation.py:87: FutureWarning: Function plot_confusion_matrix is deprecated; Function `plot_confusion_matrix` is deprecated in 1.0 and will be removed in 1.2. Use one of the class methods: ConfusionMatrixDisplay.from_predictions or ConfusionMatrixDisplay.from_estimator.\n",
            "  warnings.warn(msg, category=FutureWarning)\n"
          ]
        },
        {
          "output_type": "display_data",
          "data": {
            "text/plain": [
              "<Figure size 720x432 with 2 Axes>"
            ],
            "image/png": "[encoded data removed]"
          },
          "metadata": {
            "needs_background": "light"
          }
        }
      ]
    },
    {
      "cell_type": "markdown",
      "source": [
        "### Classificador Decision Tree"
      ],
      "metadata": {
        "id": "eb7sN3J1MDgI"
      }
    },
    {
      "cell_type": "code",
      "source": [
        "from sklearn.tree import DecisionTreeClassifier\n",
        "from sklearn import tree"
      ],
      "metadata": {
        "id": "9XjBywn5MIsU"
      },
      "execution_count": 26,
      "outputs": []
    },
    {
      "cell_type": "code",
      "source": [
        "clf = DecisionTreeClassifier(max_leaf_nodes=3)\n",
        "clf.fit(X_train, y_train)\n",
        "\n",
        "tree.plot_tree(clf)\n",
        "plt.show()"
      ],
      "metadata": {
        "id": "5TZP9JwDMIqM",
        "colab": {
          "base_uri": "https://localhost:8080/",
          "height": 248
        },
        "outputId": "701ee4f8-f1b1-4e57-fa32-ce631f9c4402"
      },
      "execution_count": 27,
      "outputs": [
        {
          "output_type": "display_data",
          "data": {
            "text/plain": [
              "<Figure size 432x288 with 1 Axes>"
            ],
            "image/png": "[encoded data removed]"
          },
          "metadata": {
            "needs_background": "light"
          }
        }
      ]
    },
    {
      "cell_type": "code",
      "source": [
        "y_predicted = clf.predict(X_test)\n",
        "print(y_predicted)"
      ],
      "metadata": {
        "id": "v8tLMFajMInv",
        "colab": {
          "base_uri": "https://localhost:8080/"
        },
        "outputId": "7d26999c-6d87-45c2-a133-b0d41fe1b737"
      },
      "execution_count": 28,
      "outputs": [
        {
          "output_type": "stream",
          "name": "stdout",
          "text": [
            "['fake' 'fake' 'true' ... 'fake' 'fake' 'fake']\n"
          ]
        }
      ]
    },
    {
      "cell_type": "code",
      "source": [
        "accuracy = accuracy_score(y_test, y_predicted) * 100\n",
        "f1 = f1_score(y_test, y_predicted, average = 'macro') * 100\n",
        "\n",
        "print('Accuracy Decision Tree from Sk-learn: {:.2f}%'.format(accuracy))\n",
        "print('F1 Score Decision Tree from Sk-learn: {:.2f}%'.format(f1))"
      ],
      "metadata": {
        "id": "qGVV63zDMIlW",
        "colab": {
          "base_uri": "https://localhost:8080/"
        },
        "outputId": "3273fe23-dc04-4ca3-cf19-c94e877b77a8"
      },
      "execution_count": 29,
      "outputs": [
        {
          "output_type": "stream",
          "name": "stdout",
          "text": [
            "Accuracy Decision Tree from Sk-learn: 85.79%\n",
            "F1 Score Decision Tree from Sk-learn: 85.79%\n"
          ]
        }
      ]
    },
    {
      "cell_type": "code",
      "source": [
        "print(classification_report(y_test, y_predicted))"
      ],
      "metadata": {
        "id": "RLl3pJzfMIi0",
        "colab": {
          "base_uri": "https://localhost:8080/"
        },
        "outputId": "10e81af1-18e8-46b6-c331-b6d09bcf42aa"
      },
      "execution_count": 30,
      "outputs": [
        {
          "output_type": "stream",
          "name": "stdout",
          "text": [
            "              precision    recall  f1-score   support\n",
            "\n",
            "        fake       0.86      0.86      0.86      1085\n",
            "        true       0.86      0.86      0.86      1075\n",
            "\n",
            "    accuracy                           0.86      2160\n",
            "   macro avg       0.86      0.86      0.86      2160\n",
            "weighted avg       0.86      0.86      0.86      2160\n",
            "\n"
          ]
        }
      ]
    },
    {
      "cell_type": "code",
      "source": [
        "cm = confusion_matrix(y_test, y_predicted)\n",
        "cm"
      ],
      "metadata": {
        "id": "aHyDN5xeMIgW",
        "colab": {
          "base_uri": "https://localhost:8080/"
        },
        "outputId": "4fc69d72-c7f8-4ca4-c2af-a24d91813f2f"
      },
      "execution_count": 31,
      "outputs": [
        {
          "output_type": "execute_result",
          "data": {
            "text/plain": [
              "array([[933, 152],\n",
              "       [155, 920]])"
            ]
          },
          "metadata": {},
          "execution_count": 31
        }
      ]
    },
    {
      "cell_type": "code",
      "source": [
        "matrix = plot_confusion_matrix(clf, X_test, y_test, cmap=plt.cm.Greens)\n",
        "matrix.ax_.set_title('Confusion matrix', color='white')\n",
        "plt.xlabel('Predicted Label', color='white')\n",
        "plt.ylabel('True Label', color='white')\n",
        "plt.gcf().axes[0].tick_params(color='white')\n",
        "plt.gcf().axes[1].tick_params(color='white')\n",
        "plt.gcf().set_size_inches(10,6)\n",
        "plt.show()"
      ],
      "metadata": {
        "id": "M4mbCRfKMId2",
        "colab": {
          "base_uri": "https://localhost:8080/",
          "height": 459
        },
        "outputId": "7d949356-fa24-4540-b94e-6ce9e3ddf2e5"
      },
      "execution_count": 32,
      "outputs": [
        {
          "output_type": "stream",
          "name": "stderr",
          "text": [
            "/usr/local/lib/python3.7/dist-packages/sklearn/utils/deprecation.py:87: FutureWarning: Function plot_confusion_matrix is deprecated; Function `plot_confusion_matrix` is deprecated in 1.0 and will be removed in 1.2. Use one of the class methods: ConfusionMatrixDisplay.from_predictions or ConfusionMatrixDisplay.from_estimator.\n",
            "  warnings.warn(msg, category=FutureWarning)\n"
          ]
        },
        {
          "output_type": "display_data",
          "data": {
            "text/plain": [
              "<Figure size 720x432 with 2 Axes>"
            ],
            "image/png": "[encoded data removed]"
          },
          "metadata": {
            "needs_background": "light"
          }
        }
      ]
    },
    {
      "cell_type": "code",
      "source": [
        "dados.head()"
      ],
      "metadata": {
        "id": "kZYqe9SoQPZL"
      },
      "execution_count": null,
      "outputs": []
    },
    {
      "cell_type": "code",
      "source": [
        "x = 'eua coreia sul iniciam manobras aereas conjuntas treinamento aereo conjunto apos coreia norte lancar semana passada missil intercontinental exercicios so vao terminar sexta estados unidos coreia sul iniciaram nesta grande exercicio aereo conjunto poucos dias lancamento missil intercontinental operacao considerada pyongyang provocacao total exercicio cinco dias batizado vigilant ace envolve avioes incluindo cacas raptor mobiliza dezenas milhares soldados durante fim semana jornal estatal rodong denunciou manobras provocacao aberta todos niveis contra coreia norte poderia resultar guerra nuclear qualquer momento afirmou publicacao editorial belicistas americanos marionete fariam bem recordar exercicio militar dirigido contra coreia norte sera tao estupido ato precipita autodestruicao completou ministerio relacoes exteriores acusou sabado governo donald trump querer guerra nuclear qualquer preco simulacao aerea exercicio anual comecou cinco dias teste missil balistico intercontinental icbm supostamente capaz atingir territorio estados unidos momento grande tensao domingo influente senador republicano lindsey graham citou fantasma guerra preventiva acontecer teste nuclear subterraneo sera necessario estar preparado resposta estados unidos advertiu congressista entrevista canal cbs palavras graham complemento declaracoes sabado assessor seguranca nacional donald trump general hr mcmaster durante forum sobre defesa afirmou probabilidade guerra coreia norte aumenta cada dia isolado empobrecido regime realizou seis testes nucleares desde recente setembro coreia norte lancou passada novo tipo missil hwasong capacidade transportar ogiva pesada extragrande pode atingir todo territorio continental estados unidos segundo lider kim teste pais alcancou objetivo estado nuclear pleno direito analistas consideraram recente teste mostra avanco pyongyang tecnologia militar tambem destacaram provavel teste pais utilizou ogiva leve ogiva nuclear pesada missil dificuldades chegar longe tambem demonstraram ceticismo respeito capacidade coreia norte preservar sobrevivencia ogivas reentrada atmosfera programa militar rendeu muitas condenacoes internacionais pyongyang avancou desde chegada poder kim'\n",
        "\n",
        "vec = tfidf.transform([x])\n"
      ],
      "metadata": {
        "id": "9hLhJPKWQdnM"
      },
      "execution_count": 34,
      "outputs": []
    },
    {
      "cell_type": "code",
      "source": [
        "clf.predict(vec)"
      ],
      "metadata": {
        "id": "Z5g3Uu-wQevA",
        "colab": {
          "base_uri": "https://localhost:8080/"
        },
        "outputId": "f17554e0-149a-4036-ce3a-18f043297be8"
      },
      "execution_count": 35,
      "outputs": [
        {
          "output_type": "execute_result",
          "data": {
            "text/plain": [
              "array(['true'], dtype=object)"
            ]
          },
          "metadata": {},
          "execution_count": 35
        }
      ]
    },
    {
      "cell_type": "code",
      "source": [
        "from sklearn.metrics import precision_score\n",
        "from sklearn.metrics import recall_score"
      ],
      "metadata": {
        "id": "UarDZcZ5YRXd"
      },
      "execution_count": 33,
      "outputs": []
    },
    {
      "cell_type": "code",
      "source": [
        "from sklearn.neural_network import MLPClassifier\n",
        "from sklearn.ensemble import AdaBoostClassifier, RandomForestClassifier\n",
        "from sklearn.svm import SVC\n",
        "\n",
        "names = [\n",
        "         'Nearest-Neighbors',\n",
        "         'Linear SVM',\n",
        "         'RBF SVM',\n",
        "         'Poly SVM',\n",
        "         'Decision Tree',\n",
        "         'Random Forest',\n",
        "         'Neural Net',\n",
        "         'Adaboost',\n",
        "]\n",
        "\n",
        "classifiers = [\n",
        "               KNeighborsClassifier(3),\n",
        "               SVC(kernel = 'linear'),\n",
        "               SVC(gamma = 2, C = 10),\n",
        "               SVC(kernel = 'poly'),\n",
        "               DecisionTreeClassifier(max_depth=5),\n",
        "               RandomForestClassifier(max_depth = 5, n_estimators = 10, max_features = 1),\n",
        "               MLPClassifier(alpha=1, max_iter=1000),\n",
        "               AdaBoostClassifier(),\n",
        "]\n",
        "\n",
        "for name, clf in zip(names, classifiers):\n",
        "  clf.fit(X_train, y_train)\n",
        "  y_predicted = clf.predict(X_test)\n",
        "  score = clf.score(X_test, y_test)\n",
        "  f1 = f1_score(y_test, y_predicted, average = 'macro')\n",
        "  precision = precision_score(y_test, y_predicted, average = 'macro')\n",
        "  recall = recall_score(y_test, y_predicted, average = 'macro')\n",
        "  print('---------------- ' + name + ' ------------------')\n",
        "  print(name + ' - Accuracy: ' + str(score))\n",
        "  print(name + ' - F1 Score: ' + str(f1))\n",
        "  print(name + ' - Precision: ' + str(precision))\n",
        "  print(name + ' - Recall: ' + str(recall))\n",
        "  print('------------------------------------------------')"
      ],
      "metadata": {
        "id": "THoj-1cmjQke",
        "colab": {
          "base_uri": "https://localhost:8080/"
        },
        "outputId": "83f574ab-d914-41d8-d305-1fbea55d4de8"
      },
      "execution_count": 36,
      "outputs": [
        {
          "output_type": "stream",
          "name": "stdout",
          "text": [
            "---------------- Nearest-Neighbors ------------------\n",
            "Nearest-Neighbors - Accuracy: 0.7212962962962963\n",
            "Nearest-Neighbors - F1 Score: 0.7096836419753086\n",
            "Nearest-Neighbors - Precision: 0.7657415029868848\n",
            "Nearest-Neighbors - Recall: 0.7222377022827136\n",
            "------------------------------------------------\n",
            "---------------- Linear SVM ------------------\n",
            "Linear SVM - Accuracy: 0.961574074074074\n",
            "Linear SVM - F1 Score: 0.9615722208825657\n",
            "Linear SVM - Precision: 0.9615922146960474\n",
            "Linear SVM - Recall: 0.9615625334905155\n",
            "------------------------------------------------\n",
            "---------------- RBF SVM ------------------\n",
            "RBF SVM - Accuracy: 0.9518518518518518\n",
            "RBF SVM - F1 Score: 0.951826038472261\n",
            "RBF SVM - Precision: 0.9525410628019324\n",
            "RBF SVM - Recall: 0.9517650841281748\n",
            "------------------------------------------------\n",
            "---------------- Poly SVM ------------------\n",
            "Poly SVM - Accuracy: 0.8949074074074074\n",
            "Poly SVM - F1 Score: 0.8940791973591519\n",
            "Poly SVM - Precision: 0.9065677449452378\n",
            "Poly SVM - Recall: 0.8945172007287536\n",
            "------------------------------------------------\n",
            "---------------- Decision Tree ------------------\n",
            "Decision Tree - Accuracy: 0.8930555555555556\n",
            "Decision Tree - F1 Score: 0.8929959024224539\n",
            "Decision Tree - Precision: 0.8936711317857156\n",
            "Decision Tree - Recall: 0.8929653842031937\n",
            "------------------------------------------------\n",
            "---------------- Random Forest ------------------\n",
            "Random Forest - Accuracy: 0.7560185185185185\n",
            "Random Forest - F1 Score: 0.7512520762318247\n",
            "Random Forest - Precision: 0.7758286387324022\n",
            "Random Forest - Recall: 0.7553938484621155\n",
            "------------------------------------------------\n",
            "---------------- Neural Net ------------------\n",
            "Neural Net - Accuracy: 0.9513888888888888\n",
            "Neural Net - F1 Score: 0.951361773828388\n",
            "Neural Net - Precision: 0.952110481635065\n",
            "Neural Net - Recall: 0.9512999678491052\n",
            "------------------------------------------------\n",
            "---------------- Adaboost ------------------\n",
            "Adaboost - Accuracy: 0.9481481481481482\n",
            "Adaboost - F1 Score: 0.9481445470750284\n",
            "Adaboost - Precision: 0.9481852223101599\n",
            "Adaboost - Recall: 0.948129889615261\n",
            "------------------------------------------------\n"
          ]
        }
      ]
    },
    {
      "cell_type": "code",
      "source": [
        "from sklearn.model_selection import cross_val_score\n",
        "clf = SVC(kernel='linear')\n",
        "scores = cross_val_score(clf, X, y, cv=5)\n",
        "print(scores)"
      ],
      "metadata": {
        "id": "dkhBcSqqlTl_",
        "colab": {
          "base_uri": "https://localhost:8080/"
        },
        "outputId": "427770c1-f2d5-492b-cf8a-de25f0b26c51"
      },
      "execution_count": 37,
      "outputs": [
        {
          "output_type": "stream",
          "name": "stdout",
          "text": [
            "[0.95833333 0.96527778 0.96666667 0.95972222 0.95069444]\n"
          ]
        }
      ]
    },
    {
      "cell_type": "code",
      "source": [
        "print(scores.mean())"
      ],
      "metadata": {
        "id": "qNha1G8-l4hR",
        "colab": {
          "base_uri": "https://localhost:8080/"
        },
        "outputId": "1bb70071-e78f-49e0-91a9-0642fceb8d18"
      },
      "execution_count": 38,
      "outputs": [
        {
          "output_type": "stream",
          "name": "stdout",
          "text": [
            "0.960138888888889\n"
          ]
        }
      ]
    },
    {
      "cell_type": "code",
      "source": [
        ""
      ],
      "metadata": {
        "id": "WzjFjMKWma8X"
      },
      "execution_count": null,
      "outputs": []
    },
    {
      "cell_type": "markdown",
      "source": [
        "### Vectorizando apenas o conjunto de Treino"
      ],
      "metadata": {
        "id": "vlvhaOmequ2F"
      }
    },
    {
      "cell_type": "code",
      "source": [
        "X = dados['preprocessed_news']\n",
        "y = dados['label']\n",
        "X_train, X_test, y_train, y_test = train_test_split(X, y, test_size = 0.3, random_state = 0)\n",
        "tfidf = TfidfVectorizer(max_features=500)\n",
        "\n",
        "X_train = tfidf.fit_transform(X_train)\n",
        "X_test = tfidf.fit_transform(X_test)\n",
        "\n",
        "# X = tfidf.fit_transform(X)\n"
      ],
      "metadata": {
        "id": "DC_GSt55qulw"
      },
      "execution_count": null,
      "outputs": []
    },
    {
      "cell_type": "code",
      "source": [
        "clf = LinearSVC()\n",
        "clf.fit(X_train, y_train)"
      ],
      "metadata": {
        "id": "zaHkbeT2q5sc"
      },
      "execution_count": null,
      "outputs": []
    },
    {
      "cell_type": "code",
      "source": [
        "y_pred = clf.predict(X_test)"
      ],
      "metadata": {
        "id": "3V8paYGtrYbC"
      },
      "execution_count": null,
      "outputs": []
    },
    {
      "cell_type": "code",
      "source": [
        "print('Accuracy of the Algorithm is: {}'.format(accuracy_score(y_test, y_pred)))"
      ],
      "metadata": {
        "id": "ii6tA7I2rdB9"
      },
      "execution_count": null,
      "outputs": []
    },
    {
      "cell_type": "code",
      "source": [
        ""
      ],
      "metadata": {
        "id": "dqN6vaGnrgU3"
      },
      "execution_count": null,
      "outputs": []
    },
    {
      "cell_type": "markdown",
      "source": [
        "### Rodando os modelos agora utilizando os dados com o método Stemming"
      ],
      "metadata": {
        "id": "OpdU72TyF6eB"
      }
    },
    {
      "cell_type": "code",
      "source": [
        "dados_copia.head()"
      ],
      "metadata": {
        "id": "Hmn_5PLJGAJ0",
        "colab": {
          "base_uri": "https://localhost:8080/",
          "height": 206
        },
        "outputId": "c865bc99-7f6d-4b24-c924-b4d369509d7e"
      },
      "execution_count": 41,
      "outputs": [
        {
          "output_type": "execute_result",
          "data": {
            "text/plain": [
              "  label                                  preprocessed_news\n",
              "0  fake  katia abreu diz vai colocar expulsao moldura n...\n",
              "1  fake  ray peita bolsonaro conservador fake entrevist...\n",
              "2  fake  reinaldo azevedo desmascarado policia federal ...\n",
              "3  fake  relatorio assustador bndes mostra dinheiro pub...\n",
              "4  fake  radialista americano fala sobre pt vendem ilus..."
            ],
            "text/html": [
              "\n",
              "  <div id=\"df-dd1471d9-f165-41aa-add0-d738c78a07a2\">\n",
              "    <div class=\"colab-df-container\">\n",
              "      <div>\n",
              "<style scoped>\n",
              "    .dataframe tbody tr th:only-of-type {\n",
              "        vertical-align: middle;\n",
              "    }\n",
              "\n",
              "    .dataframe tbody tr th {\n",
              "        vertical-align: top;\n",
              "    }\n",
              "\n",
              "    .dataframe thead th {\n",
              "        text-align: right;\n",
              "    }\n",
              "</style>\n",
              "<table border=\"1\" class=\"dataframe\">\n",
              "  <thead>\n",
              "    <tr style=\"text-align: right;\">\n",
              "      <th></th>\n",
              "      <th>label</th>\n",
              "      <th>preprocessed_news</th>\n",
              "    </tr>\n",
              "  </thead>\n",
              "  <tbody>\n",
              "    <tr>\n",
              "      <th>0</th>\n",
              "      <td>fake</td>\n",
              "      <td>katia abreu diz vai colocar expulsao moldura n...</td>\n",
              "    </tr>\n",
              "    <tr>\n",
              "      <th>1</th>\n",
              "      <td>fake</td>\n",
              "      <td>ray peita bolsonaro conservador fake entrevist...</td>\n",
              "    </tr>\n",
              "    <tr>\n",
              "      <th>2</th>\n",
              "      <td>fake</td>\n",
              "      <td>reinaldo azevedo desmascarado policia federal ...</td>\n",
              "    </tr>\n",
              "    <tr>\n",
              "      <th>3</th>\n",
              "      <td>fake</td>\n",
              "      <td>relatorio assustador bndes mostra dinheiro pub...</td>\n",
              "    </tr>\n",
              "    <tr>\n",
              "      <th>4</th>\n",
              "      <td>fake</td>\n",
              "      <td>radialista americano fala sobre pt vendem ilus...</td>\n",
              "    </tr>\n",
              "  </tbody>\n",
              "</table>\n",
              "</div>\n",
              "      <button class=\"colab-df-convert\" onclick=\"convertToInteractive('df-dd1471d9-f165-41aa-add0-d738c78a07a2')\"\n",
              "              title=\"Convert this dataframe to an interactive table.\"\n",
              "              style=\"display:none;\">\n",
              "        \n",
              "  <svg xmlns=\"http://www.w3.org/2000/svg\" height=\"24px\"viewBox=\"0 0 24 24\"\n",
              "       width=\"24px\">\n",
              "    <path d=\"M0 0h24v24H0V0z\" fill=\"none\"/>\n",
              "    <path d=\"M18.56 5.44l.94 2.06.94-2.06 2.06-.94-2.06-.94-.94-2.06-.94 2.06-2.06.94zm-11 1L8.5 8.5l.94-2.06 2.06-.94-2.06-.94L8.5 2.5l-.94 2.06-2.06.94zm10 10l.94 2.06.94-2.06 2.06-.94-2.06-.94-.94-2.06-.94 2.06-2.06.94z\"/><path d=\"M17.41 7.96l-1.37-1.37c-.4-.4-.92-.59-1.43-.59-.52 0-1.04.2-1.43.59L10.3 9.45l-7.72 7.72c-.78.78-.78 2.05 0 2.83L4 21.41c.39.39.9.59 1.41.59.51 0 1.02-.2 1.41-.59l7.78-7.78 2.81-2.81c.8-.78.8-2.07 0-2.86zM5.41 20L4 18.59l7.72-7.72 1.47 1.35L5.41 20z\"/>\n",
              "  </svg>\n",
              "      </button>\n",
              "      \n",
              "  <style>\n",
              "    .colab-df-container {\n",
              "      display:flex;\n",
              "      flex-wrap:wrap;\n",
              "      gap: 12px;\n",
              "    }\n",
              "\n",
              "    .colab-df-convert {\n",
              "      background-color: #E8F0FE;\n",
              "      border: none;\n",
              "      border-radius: 50%;\n",
              "      cursor: pointer;\n",
              "      display: none;\n",
              "      fill: #1967D2;\n",
              "      height: 32px;\n",
              "      padding: 0 0 0 0;\n",
              "      width: 32px;\n",
              "    }\n",
              "\n",
              "    .colab-df-convert:hover {\n",
              "      background-color: #E2EBFA;\n",
              "      box-shadow: 0px 1px 2px rgba(60, 64, 67, 0.3), 0px 1px 3px 1px rgba(60, 64, 67, 0.15);\n",
              "      fill: #174EA6;\n",
              "    }\n",
              "\n",
              "    [theme=dark] .colab-df-convert {\n",
              "      background-color: #3B4455;\n",
              "      fill: #D2E3FC;\n",
              "    }\n",
              "\n",
              "    [theme=dark] .colab-df-convert:hover {\n",
              "      background-color: #434B5C;\n",
              "      box-shadow: 0px 1px 3px 1px rgba(0, 0, 0, 0.15);\n",
              "      filter: drop-shadow(0px 1px 2px rgba(0, 0, 0, 0.3));\n",
              "      fill: #FFFFFF;\n",
              "    }\n",
              "  </style>\n",
              "\n",
              "      <script>\n",
              "        const buttonEl =\n",
              "          document.querySelector('#df-dd1471d9-f165-41aa-add0-d738c78a07a2 button.colab-df-convert');\n",
              "        buttonEl.style.display =\n",
              "          google.colab.kernel.accessAllowed ? 'block' : 'none';\n",
              "\n",
              "        async function convertToInteractive(key) {\n",
              "          const element = document.querySelector('#df-dd1471d9-f165-41aa-add0-d738c78a07a2');\n",
              "          const dataTable =\n",
              "            await google.colab.kernel.invokeFunction('convertToInteractive',\n",
              "                                                     [key], {});\n",
              "          if (!dataTable) return;\n",
              "\n",
              "          const docLinkHtml = 'Like what you see? Visit the ' +\n",
              "            '<a target=\"_blank\" href=https://colab.research.google.com/notebooks/data_table.ipynb>data table notebook</a>'\n",
              "            + ' to learn more about interactive tables.';\n",
              "          element.innerHTML = '';\n",
              "          dataTable['output_type'] = 'display_data';\n",
              "          await google.colab.output.renderOutput(dataTable, element);\n",
              "          const docLink = document.createElement('div');\n",
              "          docLink.innerHTML = docLinkHtml;\n",
              "          element.appendChild(docLink);\n",
              "        }\n",
              "      </script>\n",
              "    </div>\n",
              "  </div>\n",
              "  "
            ]
          },
          "metadata": {},
          "execution_count": 41
        }
      ]
    },
    {
      "cell_type": "code",
      "source": [
        "dados_copia['text_stemmed']"
      ],
      "metadata": {
        "id": "H0UZbNOyGJiK",
        "colab": {
          "base_uri": "https://localhost:8080/"
        },
        "outputId": "ec48377a-7ab7-4405-e6b8-14ec8d048816"
      },
      "execution_count": 48,
      "outputs": [
        {
          "output_type": "execute_result",
          "data": {
            "text/plain": [
              "0       [kat, abr, diz, vai, coloc, expulsa, mold, nao...\n",
              "1       [ray, peit, bolsonar, conserv, fak, entrev, da...\n",
              "2       [reinald, azeved, desmascar, polic, feder, fer...\n",
              "3       [relatori, assust, bnd, mostr, dinh, publ, bra...\n",
              "4       [radial, americ, fal, sobr, pt, vend, ilusa, p...\n",
              "                              ...                        \n",
              "7195    [jorn, britan, aca, contr, lul, lav, jat, ser,...\n",
              "7196    [tem, diz, acion, pf, cad, investig, aument, p...\n",
              "7197    [obstacul, poli, tem, especi, ouv, aval, alem,...\n",
              "7198    [setembr, boa, noit, aqu, esta, princip, notic...\n",
              "7199    [envolv, poli, diz, brasil, pres, venezuel, ex...\n",
              "Name: text_stemmed, Length: 7200, dtype: object"
            ]
          },
          "metadata": {},
          "execution_count": 48
        }
      ]
    },
    {
      "cell_type": "code",
      "source": [
        "text_stemmed_join = dados_copia['text_stemmed'].explode()\n"
      ],
      "metadata": {
        "id": "BIOA2zoFHe21"
      },
      "execution_count": 49,
      "outputs": []
    },
    {
      "cell_type": "code",
      "source": [
        "dados_copia.head()"
      ],
      "metadata": {
        "id": "7QL1h6XKGtKc",
        "colab": {
          "base_uri": "https://localhost:8080/",
          "height": 206
        },
        "outputId": "796651ff-ca1e-470f-9cf3-8f1c90672313"
      },
      "execution_count": 50,
      "outputs": [
        {
          "output_type": "execute_result",
          "data": {
            "text/plain": [
              "  label                                  preprocessed_news  \\\n",
              "0  fake  katia abreu diz vai colocar expulsao moldura n...   \n",
              "1  fake  ray peita bolsonaro conservador fake entrevist...   \n",
              "2  fake  reinaldo azevedo desmascarado policia federal ...   \n",
              "3  fake  relatorio assustador bndes mostra dinheiro pub...   \n",
              "4  fake  radialista americano fala sobre pt vendem ilus...   \n",
              "\n",
              "                                      text_tokenized  \\\n",
              "0  [katia, abreu, diz, vai, colocar, expulsao, mo...   \n",
              "1  [ray, peita, bolsonaro, conservador, fake, ent...   \n",
              "2  [reinaldo, azevedo, desmascarado, policia, fed...   \n",
              "3  [relatorio, assustador, bndes, mostra, dinheir...   \n",
              "4  [radialista, americano, fala, sobre, pt, vende...   \n",
              "\n",
              "                                        text_stemmed  \n",
              "0  [kat, abr, diz, vai, coloc, expulsa, mold, nao...  \n",
              "1  [ray, peit, bolsonar, conserv, fak, entrev, da...  \n",
              "2  [reinald, azeved, desmascar, polic, feder, fer...  \n",
              "3  [relatori, assust, bnd, mostr, dinh, publ, bra...  \n",
              "4  [radial, americ, fal, sobr, pt, vend, ilusa, p...  "
            ],
            "text/html": [
              "\n",
              "  <div id=\"df-d408d0ec-9ec0-4113-8012-d8c0246b223a\">\n",
              "    <div class=\"colab-df-container\">\n",
              "      <div>\n",
              "<style scoped>\n",
              "    .dataframe tbody tr th:only-of-type {\n",
              "        vertical-align: middle;\n",
              "    }\n",
              "\n",
              "    .dataframe tbody tr th {\n",
              "        vertical-align: top;\n",
              "    }\n",
              "\n",
              "    .dataframe thead th {\n",
              "        text-align: right;\n",
              "    }\n",
              "</style>\n",
              "<table border=\"1\" class=\"dataframe\">\n",
              "  <thead>\n",
              "    <tr style=\"text-align: right;\">\n",
              "      <th></th>\n",
              "      <th>label</th>\n",
              "      <th>preprocessed_news</th>\n",
              "      <th>text_tokenized</th>\n",
              "      <th>text_stemmed</th>\n",
              "    </tr>\n",
              "  </thead>\n",
              "  <tbody>\n",
              "    <tr>\n",
              "      <th>0</th>\n",
              "      <td>fake</td>\n",
              "      <td>katia abreu diz vai colocar expulsao moldura n...</td>\n",
              "      <td>[katia, abreu, diz, vai, colocar, expulsao, mo...</td>\n",
              "      <td>[kat, abr, diz, vai, coloc, expulsa, mold, nao...</td>\n",
              "    </tr>\n",
              "    <tr>\n",
              "      <th>1</th>\n",
              "      <td>fake</td>\n",
              "      <td>ray peita bolsonaro conservador fake entrevist...</td>\n",
              "      <td>[ray, peita, bolsonaro, conservador, fake, ent...</td>\n",
              "      <td>[ray, peit, bolsonar, conserv, fak, entrev, da...</td>\n",
              "    </tr>\n",
              "    <tr>\n",
              "      <th>2</th>\n",
              "      <td>fake</td>\n",
              "      <td>reinaldo azevedo desmascarado policia federal ...</td>\n",
              "      <td>[reinaldo, azevedo, desmascarado, policia, fed...</td>\n",
              "      <td>[reinald, azeved, desmascar, polic, feder, fer...</td>\n",
              "    </tr>\n",
              "    <tr>\n",
              "      <th>3</th>\n",
              "      <td>fake</td>\n",
              "      <td>relatorio assustador bndes mostra dinheiro pub...</td>\n",
              "      <td>[relatorio, assustador, bndes, mostra, dinheir...</td>\n",
              "      <td>[relatori, assust, bnd, mostr, dinh, publ, bra...</td>\n",
              "    </tr>\n",
              "    <tr>\n",
              "      <th>4</th>\n",
              "      <td>fake</td>\n",
              "      <td>radialista americano fala sobre pt vendem ilus...</td>\n",
              "      <td>[radialista, americano, fala, sobre, pt, vende...</td>\n",
              "      <td>[radial, americ, fal, sobr, pt, vend, ilusa, p...</td>\n",
              "    </tr>\n",
              "  </tbody>\n",
              "</table>\n",
              "</div>\n",
              "      <button class=\"colab-df-convert\" onclick=\"convertToInteractive('df-d408d0ec-9ec0-4113-8012-d8c0246b223a')\"\n",
              "              title=\"Convert this dataframe to an interactive table.\"\n",
              "              style=\"display:none;\">\n",
              "        \n",
              "  <svg xmlns=\"http://www.w3.org/2000/svg\" height=\"24px\"viewBox=\"0 0 24 24\"\n",
              "       width=\"24px\">\n",
              "    <path d=\"M0 0h24v24H0V0z\" fill=\"none\"/>\n",
              "    <path d=\"M18.56 5.44l.94 2.06.94-2.06 2.06-.94-2.06-.94-.94-2.06-.94 2.06-2.06.94zm-11 1L8.5 8.5l.94-2.06 2.06-.94-2.06-.94L8.5 2.5l-.94 2.06-2.06.94zm10 10l.94 2.06.94-2.06 2.06-.94-2.06-.94-.94-2.06-.94 2.06-2.06.94z\"/><path d=\"M17.41 7.96l-1.37-1.37c-.4-.4-.92-.59-1.43-.59-.52 0-1.04.2-1.43.59L10.3 9.45l-7.72 7.72c-.78.78-.78 2.05 0 2.83L4 21.41c.39.39.9.59 1.41.59.51 0 1.02-.2 1.41-.59l7.78-7.78 2.81-2.81c.8-.78.8-2.07 0-2.86zM5.41 20L4 18.59l7.72-7.72 1.47 1.35L5.41 20z\"/>\n",
              "  </svg>\n",
              "      </button>\n",
              "      \n",
              "  <style>\n",
              "    .colab-df-container {\n",
              "      display:flex;\n",
              "      flex-wrap:wrap;\n",
              "      gap: 12px;\n",
              "    }\n",
              "\n",
              "    .colab-df-convert {\n",
              "      background-color: #E8F0FE;\n",
              "      border: none;\n",
              "      border-radius: 50%;\n",
              "      cursor: pointer;\n",
              "      display: none;\n",
              "      fill: #1967D2;\n",
              "      height: 32px;\n",
              "      padding: 0 0 0 0;\n",
              "      width: 32px;\n",
              "    }\n",
              "\n",
              "    .colab-df-convert:hover {\n",
              "      background-color: #E2EBFA;\n",
              "      box-shadow: 0px 1px 2px rgba(60, 64, 67, 0.3), 0px 1px 3px 1px rgba(60, 64, 67, 0.15);\n",
              "      fill: #174EA6;\n",
              "    }\n",
              "\n",
              "    [theme=dark] .colab-df-convert {\n",
              "      background-color: #3B4455;\n",
              "      fill: #D2E3FC;\n",
              "    }\n",
              "\n",
              "    [theme=dark] .colab-df-convert:hover {\n",
              "      background-color: #434B5C;\n",
              "      box-shadow: 0px 1px 3px 1px rgba(0, 0, 0, 0.15);\n",
              "      filter: drop-shadow(0px 1px 2px rgba(0, 0, 0, 0.3));\n",
              "      fill: #FFFFFF;\n",
              "    }\n",
              "  </style>\n",
              "\n",
              "      <script>\n",
              "        const buttonEl =\n",
              "          document.querySelector('#df-d408d0ec-9ec0-4113-8012-d8c0246b223a button.colab-df-convert');\n",
              "        buttonEl.style.display =\n",
              "          google.colab.kernel.accessAllowed ? 'block' : 'none';\n",
              "\n",
              "        async function convertToInteractive(key) {\n",
              "          const element = document.querySelector('#df-d408d0ec-9ec0-4113-8012-d8c0246b223a');\n",
              "          const dataTable =\n",
              "            await google.colab.kernel.invokeFunction('convertToInteractive',\n",
              "                                                     [key], {});\n",
              "          if (!dataTable) return;\n",
              "\n",
              "          const docLinkHtml = 'Like what you see? Visit the ' +\n",
              "            '<a target=\"_blank\" href=https://colab.research.google.com/notebooks/data_table.ipynb>data table notebook</a>'\n",
              "            + ' to learn more about interactive tables.';\n",
              "          element.innerHTML = '';\n",
              "          dataTable['output_type'] = 'display_data';\n",
              "          await google.colab.output.renderOutput(dataTable, element);\n",
              "          const docLink = document.createElement('div');\n",
              "          docLink.innerHTML = docLinkHtml;\n",
              "          element.appendChild(docLink);\n",
              "        }\n",
              "      </script>\n",
              "    </div>\n",
              "  </div>\n",
              "  "
            ]
          },
          "metadata": {},
          "execution_count": 50
        }
      ]
    },
    {
      "cell_type": "code",
      "source": [
        "teste_token = ['vai', 'tomar', 'banho', 'coisa','chata']"
      ],
      "metadata": {
        "id": "5MMv-bn0L8me"
      },
      "execution_count": 51,
      "outputs": []
    },
    {
      "cell_type": "code",
      "source": [
        "teste_token"
      ],
      "metadata": {
        "id": "E1hBG9BSMBNY",
        "colab": {
          "base_uri": "https://localhost:8080/"
        },
        "outputId": "e522fbfa-446d-475e-a7d9-5f7240f60beb"
      },
      "execution_count": 52,
      "outputs": [
        {
          "output_type": "execute_result",
          "data": {
            "text/plain": [
              "['vai', 'tomar', 'banho', 'coisa', 'chata']"
            ]
          },
          "metadata": {},
          "execution_count": 52
        }
      ]
    },
    {
      "cell_type": "code",
      "source": [
        "from nltk.tokenize.treebank import TreebankWordDetokenizer\n",
        "TreebankWordDetokenizer().detokenize(teste_token)"
      ],
      "metadata": {
        "id": "diU363o4L5KV",
        "colab": {
          "base_uri": "https://localhost:8080/",
          "height": 183
        },
        "outputId": "39e17be1-bd93-4855-fd6e-f6d9581d815d"
      },
      "execution_count": 108,
      "outputs": [
        {
          "output_type": "error",
          "ename": "NameError",
          "evalue": "ignored",
          "traceback": [
            "\u001b[0;31m---------------------------------------------------------------------------\u001b[0m",
            "\u001b[0;31mNameError\u001b[0m                                 Traceback (most recent call last)",
            "\u001b[0;32m<ipython-input-108-98f2b8756d05>\u001b[0m in \u001b[0;36m<module>\u001b[0;34m()\u001b[0m\n\u001b[1;32m      1\u001b[0m \u001b[0;32mfrom\u001b[0m \u001b[0mnltk\u001b[0m\u001b[0;34m.\u001b[0m\u001b[0mtokenize\u001b[0m\u001b[0;34m.\u001b[0m\u001b[0mtreebank\u001b[0m \u001b[0;32mimport\u001b[0m \u001b[0mTreebankWordDetokenizer\u001b[0m\u001b[0;34m\u001b[0m\u001b[0;34m\u001b[0m\u001b[0m\n\u001b[0;32m----> 2\u001b[0;31m \u001b[0mTreebankWordDetokenizer\u001b[0m\u001b[0;34m(\u001b[0m\u001b[0;34m)\u001b[0m\u001b[0;34m.\u001b[0m\u001b[0mdetokenize\u001b[0m\u001b[0;34m(\u001b[0m\u001b[0mteste_token\u001b[0m\u001b[0;34m)\u001b[0m\u001b[0;34m\u001b[0m\u001b[0;34m\u001b[0m\u001b[0m\n\u001b[0m",
            "\u001b[0;31mNameError\u001b[0m: name 'teste_token' is not defined"
          ]
        }
      ]
    },
    {
      "cell_type": "code",
      "source": [
        "dados_copia['detoken'] = dados_copia['text_stemmed'].apply(lambda x: TreebankWordDetokenizer().detokenize(x))"
      ],
      "metadata": {
        "id": "cR7Xas7EI4Fi"
      },
      "execution_count": 54,
      "outputs": []
    },
    {
      "cell_type": "code",
      "source": [
        "dados_copia.head()"
      ],
      "metadata": {
        "id": "7BDZbs1AJFxn",
        "colab": {
          "base_uri": "https://localhost:8080/",
          "height": 206
        },
        "outputId": "057c8fa5-2051-45fa-b6f2-c3dc3b72314c"
      },
      "execution_count": 55,
      "outputs": [
        {
          "output_type": "execute_result",
          "data": {
            "text/plain": [
              "  label                                  preprocessed_news  \\\n",
              "0  fake  katia abreu diz vai colocar expulsao moldura n...   \n",
              "1  fake  ray peita bolsonaro conservador fake entrevist...   \n",
              "2  fake  reinaldo azevedo desmascarado policia federal ...   \n",
              "3  fake  relatorio assustador bndes mostra dinheiro pub...   \n",
              "4  fake  radialista americano fala sobre pt vendem ilus...   \n",
              "\n",
              "                                      text_tokenized  \\\n",
              "0  [katia, abreu, diz, vai, colocar, expulsao, mo...   \n",
              "1  [ray, peita, bolsonaro, conservador, fake, ent...   \n",
              "2  [reinaldo, azevedo, desmascarado, policia, fed...   \n",
              "3  [relatorio, assustador, bndes, mostra, dinheir...   \n",
              "4  [radialista, americano, fala, sobre, pt, vende...   \n",
              "\n",
              "                                        text_stemmed  \\\n",
              "0  [kat, abr, diz, vai, coloc, expulsa, mold, nao...   \n",
              "1  [ray, peit, bolsonar, conserv, fak, entrev, da...   \n",
              "2  [reinald, azeved, desmascar, polic, feder, fer...   \n",
              "3  [relatori, assust, bnd, mostr, dinh, publ, bra...   \n",
              "4  [radial, americ, fal, sobr, pt, vend, ilusa, p...   \n",
              "\n",
              "                                             detoken  \n",
              "0  kat abr diz vai coloc expulsa mold nao reclam ...  \n",
              "1  ray peit bolsonar conserv fak entrev danil gen...  \n",
              "2  reinald azeved desmascar polic feder ferrenh c...  \n",
              "3  relatori assust bnd mostr dinh publ brasil jor...  \n",
              "4  radial americ fal sobr pt vend ilusa pov brasi...  "
            ],
            "text/html": [
              "\n",
              "  <div id=\"df-7b2f1434-80f3-4a3a-93f2-ec024a5c79d4\">\n",
              "    <div class=\"colab-df-container\">\n",
              "      <div>\n",
              "<style scoped>\n",
              "    .dataframe tbody tr th:only-of-type {\n",
              "        vertical-align: middle;\n",
              "    }\n",
              "\n",
              "    .dataframe tbody tr th {\n",
              "        vertical-align: top;\n",
              "    }\n",
              "\n",
              "    .dataframe thead th {\n",
              "        text-align: right;\n",
              "    }\n",
              "</style>\n",
              "<table border=\"1\" class=\"dataframe\">\n",
              "  <thead>\n",
              "    <tr style=\"text-align: right;\">\n",
              "      <th></th>\n",
              "      <th>label</th>\n",
              "      <th>preprocessed_news</th>\n",
              "      <th>text_tokenized</th>\n",
              "      <th>text_stemmed</th>\n",
              "      <th>detoken</th>\n",
              "    </tr>\n",
              "  </thead>\n",
              "  <tbody>\n",
              "    <tr>\n",
              "      <th>0</th>\n",
              "      <td>fake</td>\n",
              "      <td>katia abreu diz vai colocar expulsao moldura n...</td>\n",
              "      <td>[katia, abreu, diz, vai, colocar, expulsao, mo...</td>\n",
              "      <td>[kat, abr, diz, vai, coloc, expulsa, mold, nao...</td>\n",
              "      <td>kat abr diz vai coloc expulsa mold nao reclam ...</td>\n",
              "    </tr>\n",
              "    <tr>\n",
              "      <th>1</th>\n",
              "      <td>fake</td>\n",
              "      <td>ray peita bolsonaro conservador fake entrevist...</td>\n",
              "      <td>[ray, peita, bolsonaro, conservador, fake, ent...</td>\n",
              "      <td>[ray, peit, bolsonar, conserv, fak, entrev, da...</td>\n",
              "      <td>ray peit bolsonar conserv fak entrev danil gen...</td>\n",
              "    </tr>\n",
              "    <tr>\n",
              "      <th>2</th>\n",
              "      <td>fake</td>\n",
              "      <td>reinaldo azevedo desmascarado policia federal ...</td>\n",
              "      <td>[reinaldo, azevedo, desmascarado, policia, fed...</td>\n",
              "      <td>[reinald, azeved, desmascar, polic, feder, fer...</td>\n",
              "      <td>reinald azeved desmascar polic feder ferrenh c...</td>\n",
              "    </tr>\n",
              "    <tr>\n",
              "      <th>3</th>\n",
              "      <td>fake</td>\n",
              "      <td>relatorio assustador bndes mostra dinheiro pub...</td>\n",
              "      <td>[relatorio, assustador, bndes, mostra, dinheir...</td>\n",
              "      <td>[relatori, assust, bnd, mostr, dinh, publ, bra...</td>\n",
              "      <td>relatori assust bnd mostr dinh publ brasil jor...</td>\n",
              "    </tr>\n",
              "    <tr>\n",
              "      <th>4</th>\n",
              "      <td>fake</td>\n",
              "      <td>radialista americano fala sobre pt vendem ilus...</td>\n",
              "      <td>[radialista, americano, fala, sobre, pt, vende...</td>\n",
              "      <td>[radial, americ, fal, sobr, pt, vend, ilusa, p...</td>\n",
              "      <td>radial americ fal sobr pt vend ilusa pov brasi...</td>\n",
              "    </tr>\n",
              "  </tbody>\n",
              "</table>\n",
              "</div>\n",
              "      <button class=\"colab-df-convert\" onclick=\"convertToInteractive('df-7b2f1434-80f3-4a3a-93f2-ec024a5c79d4')\"\n",
              "              title=\"Convert this dataframe to an interactive table.\"\n",
              "              style=\"display:none;\">\n",
              "        \n",
              "  <svg xmlns=\"http://www.w3.org/2000/svg\" height=\"24px\"viewBox=\"0 0 24 24\"\n",
              "       width=\"24px\">\n",
              "    <path d=\"M0 0h24v24H0V0z\" fill=\"none\"/>\n",
              "    <path d=\"M18.56 5.44l.94 2.06.94-2.06 2.06-.94-2.06-.94-.94-2.06-.94 2.06-2.06.94zm-11 1L8.5 8.5l.94-2.06 2.06-.94-2.06-.94L8.5 2.5l-.94 2.06-2.06.94zm10 10l.94 2.06.94-2.06 2.06-.94-2.06-.94-.94-2.06-.94 2.06-2.06.94z\"/><path d=\"M17.41 7.96l-1.37-1.37c-.4-.4-.92-.59-1.43-.59-.52 0-1.04.2-1.43.59L10.3 9.45l-7.72 7.72c-.78.78-.78 2.05 0 2.83L4 21.41c.39.39.9.59 1.41.59.51 0 1.02-.2 1.41-.59l7.78-7.78 2.81-2.81c.8-.78.8-2.07 0-2.86zM5.41 20L4 18.59l7.72-7.72 1.47 1.35L5.41 20z\"/>\n",
              "  </svg>\n",
              "      </button>\n",
              "      \n",
              "  <style>\n",
              "    .colab-df-container {\n",
              "      display:flex;\n",
              "      flex-wrap:wrap;\n",
              "      gap: 12px;\n",
              "    }\n",
              "\n",
              "    .colab-df-convert {\n",
              "      background-color: #E8F0FE;\n",
              "      border: none;\n",
              "      border-radius: 50%;\n",
              "      cursor: pointer;\n",
              "      display: none;\n",
              "      fill: #1967D2;\n",
              "      height: 32px;\n",
              "      padding: 0 0 0 0;\n",
              "      width: 32px;\n",
              "    }\n",
              "\n",
              "    .colab-df-convert:hover {\n",
              "      background-color: #E2EBFA;\n",
              "      box-shadow: 0px 1px 2px rgba(60, 64, 67, 0.3), 0px 1px 3px 1px rgba(60, 64, 67, 0.15);\n",
              "      fill: #174EA6;\n",
              "    }\n",
              "\n",
              "    [theme=dark] .colab-df-convert {\n",
              "      background-color: #3B4455;\n",
              "      fill: #D2E3FC;\n",
              "    }\n",
              "\n",
              "    [theme=dark] .colab-df-convert:hover {\n",
              "      background-color: #434B5C;\n",
              "      box-shadow: 0px 1px 3px 1px rgba(0, 0, 0, 0.15);\n",
              "      filter: drop-shadow(0px 1px 2px rgba(0, 0, 0, 0.3));\n",
              "      fill: #FFFFFF;\n",
              "    }\n",
              "  </style>\n",
              "\n",
              "      <script>\n",
              "        const buttonEl =\n",
              "          document.querySelector('#df-7b2f1434-80f3-4a3a-93f2-ec024a5c79d4 button.colab-df-convert');\n",
              "        buttonEl.style.display =\n",
              "          google.colab.kernel.accessAllowed ? 'block' : 'none';\n",
              "\n",
              "        async function convertToInteractive(key) {\n",
              "          const element = document.querySelector('#df-7b2f1434-80f3-4a3a-93f2-ec024a5c79d4');\n",
              "          const dataTable =\n",
              "            await google.colab.kernel.invokeFunction('convertToInteractive',\n",
              "                                                     [key], {});\n",
              "          if (!dataTable) return;\n",
              "\n",
              "          const docLinkHtml = 'Like what you see? Visit the ' +\n",
              "            '<a target=\"_blank\" href=https://colab.research.google.com/notebooks/data_table.ipynb>data table notebook</a>'\n",
              "            + ' to learn more about interactive tables.';\n",
              "          element.innerHTML = '';\n",
              "          dataTable['output_type'] = 'display_data';\n",
              "          await google.colab.output.renderOutput(dataTable, element);\n",
              "          const docLink = document.createElement('div');\n",
              "          docLink.innerHTML = docLinkHtml;\n",
              "          element.appendChild(docLink);\n",
              "        }\n",
              "      </script>\n",
              "    </div>\n",
              "  </div>\n",
              "  "
            ]
          },
          "metadata": {},
          "execution_count": 55
        }
      ]
    },
    {
      "cell_type": "code",
      "source": [
        "X = dados_copia['detoken']\n",
        "y = dados_copia['label']\n",
        "# X_train, X_test, y_train, y_test = train_test_split(X, y, test_size = 0.3, random_state = 0)\n",
        "tfidf = TfidfVectorizer(max_features=5000)\n",
        "\n",
        "# X_train = tfidf.fit_transform(X_train)\n",
        "# X_test = tfidf.fit_transform(X_test)\n",
        "\n",
        "X = tfidf.fit_transform(X)"
      ],
      "metadata": {
        "id": "T84IO-BtMRAI"
      },
      "execution_count": 56,
      "outputs": []
    },
    {
      "cell_type": "code",
      "source": [
        "tfidf.vocabulary_"
      ],
      "metadata": {
        "id": "qcVw4MsfMbxJ"
      },
      "execution_count": null,
      "outputs": []
    },
    {
      "cell_type": "code",
      "source": [
        "X_train, X_test, y_train, y_test = train_test_split(X, y, test_size = 0.3, random_state = 101)"
      ],
      "metadata": {
        "id": "waw9QYMyMiTx"
      },
      "execution_count": 58,
      "outputs": []
    },
    {
      "cell_type": "code",
      "source": [
        "print('Total train samples: {}'.format(X_train.shape[0]))\n",
        "print('Total test samples: {}'.format(X_test.shape[0]))"
      ],
      "metadata": {
        "id": "5wywwOyqMv_s",
        "colab": {
          "base_uri": "https://localhost:8080/"
        },
        "outputId": "da8b3c32-1eac-4fe0-b74e-107bb1bb12dd"
      },
      "execution_count": 59,
      "outputs": [
        {
          "output_type": "stream",
          "name": "stdout",
          "text": [
            "Total train samples: 5040\n",
            "Total test samples: 2160\n"
          ]
        }
      ]
    },
    {
      "cell_type": "code",
      "source": [
        "clf = LinearSVC()\n",
        "clf.fit(X_train, y_train)"
      ],
      "metadata": {
        "id": "8AvB_C8tMy96",
        "colab": {
          "base_uri": "https://localhost:8080/"
        },
        "outputId": "ae51e6d8-7c2d-4d52-c032-56b2aec0a3dc"
      },
      "execution_count": 60,
      "outputs": [
        {
          "output_type": "execute_result",
          "data": {
            "text/plain": [
              "LinearSVC()"
            ]
          },
          "metadata": {},
          "execution_count": 60
        }
      ]
    },
    {
      "cell_type": "code",
      "source": [
        "y_pred = clf.predict(X_test)"
      ],
      "metadata": {
        "id": "_rR8u6CoM1-o"
      },
      "execution_count": 61,
      "outputs": []
    },
    {
      "cell_type": "code",
      "source": [
        "print('Accuracy of the Algorithm is: {}'.format(accuracy_score(y_test, y_pred)))"
      ],
      "metadata": {
        "id": "WQ-Iv6QONWO8",
        "colab": {
          "base_uri": "https://localhost:8080/"
        },
        "outputId": "af087224-af75-4cb2-9b42-3341487babe6"
      },
      "execution_count": 62,
      "outputs": [
        {
          "output_type": "stream",
          "name": "stdout",
          "text": [
            "Accuracy of the Algorithm is: 0.9546296296296296\n"
          ]
        }
      ]
    },
    {
      "cell_type": "code",
      "source": [
        "accuracy = accuracy_score(y_test, y_pred) * 100\n",
        "f1 = f1_score(y_test, y_pred, average = 'macro') * 100\n",
        "\n",
        "print('Accuracy SVM from sk-learn with stemming: {:.2f}%'.format(accuracy))\n",
        "print('F1 Score SVM from sk-learn with stemming: {:.2f}%'.format(f1))"
      ],
      "metadata": {
        "id": "b2ynrHw8NeuE",
        "colab": {
          "base_uri": "https://localhost:8080/"
        },
        "outputId": "32d7fc60-3ff9-475b-e6d8-1c919ea93454"
      },
      "execution_count": 63,
      "outputs": [
        {
          "output_type": "stream",
          "name": "stdout",
          "text": [
            "Accuracy SVM from sk-learn with stemming: 95.46%\n",
            "F1 Score SVM from sk-learn with stemming: 95.46%\n"
          ]
        }
      ]
    },
    {
      "cell_type": "code",
      "source": [
        "confusion_matrix(y_test, y_pred)"
      ],
      "metadata": {
        "id": "2K2l3jB9NmFa",
        "colab": {
          "base_uri": "https://localhost:8080/"
        },
        "outputId": "8098498b-adc0-4b04-fc5d-6275f58c36c6"
      },
      "execution_count": 64,
      "outputs": [
        {
          "output_type": "execute_result",
          "data": {
            "text/plain": [
              "array([[1025,   49],\n",
              "       [  49, 1037]])"
            ]
          },
          "metadata": {},
          "execution_count": 64
        }
      ]
    },
    {
      "cell_type": "code",
      "source": [
        "print('--------------Resultados aplicando o método de Stemming----------------')\n",
        "print('')\n",
        "print(classification_report(y_test, y_pred))"
      ],
      "metadata": {
        "id": "GEUPPfc-Ns0m",
        "colab": {
          "base_uri": "https://localhost:8080/"
        },
        "outputId": "bfb63a88-6e6e-4337-d434-75c5a138c686"
      },
      "execution_count": 65,
      "outputs": [
        {
          "output_type": "stream",
          "name": "stdout",
          "text": [
            "--------------Resultados aplicando o método de Stemming----------------\n",
            "\n",
            "              precision    recall  f1-score   support\n",
            "\n",
            "        fake       0.95      0.95      0.95      1074\n",
            "        true       0.95      0.95      0.95      1086\n",
            "\n",
            "    accuracy                           0.95      2160\n",
            "   macro avg       0.95      0.95      0.95      2160\n",
            "weighted avg       0.95      0.95      0.95      2160\n",
            "\n"
          ]
        }
      ]
    },
    {
      "cell_type": "code",
      "source": [
        "matrix = plot_confusion_matrix(clf, X_test, y_test, cmap=plt.cm.Reds)\n",
        "matrix.ax_.set_title('Confusion matrix', color='white')\n",
        "plt.xlabel('Predicted Label', color='white')\n",
        "plt.ylabel('True Label', color='white')\n",
        "plt.gcf().axes[0].tick_params(color='white')\n",
        "plt.gcf().axes[1].tick_params(color='white')\n",
        "plt.gcf().set_size_inches(10,6)\n",
        "plt.show()"
      ],
      "metadata": {
        "id": "nZZVtSr0Nz2p",
        "colab": {
          "base_uri": "https://localhost:8080/",
          "height": 459
        },
        "outputId": "2376b9eb-c7f1-44c0-8f4e-fc490a532018"
      },
      "execution_count": 66,
      "outputs": [
        {
          "output_type": "stream",
          "name": "stderr",
          "text": [
            "/usr/local/lib/python3.7/dist-packages/sklearn/utils/deprecation.py:87: FutureWarning: Function plot_confusion_matrix is deprecated; Function `plot_confusion_matrix` is deprecated in 1.0 and will be removed in 1.2. Use one of the class methods: ConfusionMatrixDisplay.from_predictions or ConfusionMatrixDisplay.from_estimator.\n",
            "  warnings.warn(msg, category=FutureWarning)\n"
          ]
        },
        {
          "output_type": "display_data",
          "data": {
            "text/plain": [
              "<Figure size 720x432 with 2 Axes>"
            ],
            "image/png": "[encoded data removed]"
          },
          "metadata": {
            "needs_background": "light"
          }
        }
      ]
    },
    {
      "cell_type": "code",
      "source": [
        ""
      ],
      "metadata": {
        "id": "z5KZrKq8aIvW"
      },
      "execution_count": null,
      "outputs": []
    },
    {
      "cell_type": "markdown",
      "source": [
        "### Utilizando algoritmo de Lemmatization"
      ],
      "metadata": {
        "id": "Mw7vDsYvaJ_5"
      }
    },
    {
      "cell_type": "code",
      "source": [
        "!pip install --upgrade spacy"
      ],
      "metadata": {
        "id": "COyR21Xgb2jf"
      },
      "execution_count": null,
      "outputs": []
    },
    {
      "cell_type": "code",
      "source": [
        "!python -m spacy download pt_core_news_sm"
      ],
      "metadata": {
        "id": "67AMtWHpd0kP"
      },
      "execution_count": null,
      "outputs": []
    },
    {
      "cell_type": "code",
      "source": [
        "nlp = spacy.load('pt_core_news_sm')"
      ],
      "metadata": {
        "id": "H69Gmfe_aNlP"
      },
      "execution_count": 25,
      "outputs": []
    },
    {
      "cell_type": "code",
      "source": [
        "from spacy.lang.pt.examples import sentences \n",
        "doc = nlp(sentences[0])\n",
        "print(doc.text)\n",
        "for token in doc:\n",
        "    print(token.text, token.pos_, token.dep_)"
      ],
      "metadata": {
        "colab": {
          "base_uri": "https://localhost:8080/"
        },
        "id": "BI-bv5ADaUoo",
        "outputId": "5d42472e-12a6-46bc-d44f-46e25190014d"
      },
      "execution_count": 27,
      "outputs": [
        {
          "output_type": "stream",
          "name": "stdout",
          "text": [
            "Apple está querendo comprar uma startup do Reino Unido por 100 milhões de dólares\n",
            "Apple PROPN nsubj\n",
            "está AUX aux\n",
            "querendo VERB ROOT\n",
            "comprar VERB xcomp\n",
            "uma DET det\n",
            "startup NOUN obj\n",
            "do ADP case\n",
            "Reino PROPN nmod\n",
            "Unido PROPN flat:name\n",
            "por ADP case\n",
            "100 NUM obl\n",
            "milhões NUM flat\n",
            "de ADP case\n",
            "dólares NOUN nmod\n"
          ]
        }
      ]
    },
    {
      "cell_type": "code",
      "source": [
        "df_palavras = pd.DataFrame(['amigos', 'amigas', 'amizade', 'carreira', 'carreiras'], columns=['Original'])\n",
        "df_palavras"
      ],
      "metadata": {
        "colab": {
          "base_uri": "https://localhost:8080/",
          "height": 206
        },
        "id": "KtYx8XFIecep",
        "outputId": "6fc50860-c5ee-4a53-97c7-9e4b3dcb2e3a"
      },
      "execution_count": 30,
      "outputs": [
        {
          "output_type": "execute_result",
          "data": {
            "text/plain": [
              "    Original\n",
              "0     amigos\n",
              "1     amigas\n",
              "2    amizade\n",
              "3   carreira\n",
              "4  carreiras"
            ],
            "text/html": [
              "\n",
              "  <div id=\"df-09a0ec6c-14f3-4a8a-baed-cb65ee33aa76\">\n",
              "    <div class=\"colab-df-container\">\n",
              "      <div>\n",
              "<style scoped>\n",
              "    .dataframe tbody tr th:only-of-type {\n",
              "        vertical-align: middle;\n",
              "    }\n",
              "\n",
              "    .dataframe tbody tr th {\n",
              "        vertical-align: top;\n",
              "    }\n",
              "\n",
              "    .dataframe thead th {\n",
              "        text-align: right;\n",
              "    }\n",
              "</style>\n",
              "<table border=\"1\" class=\"dataframe\">\n",
              "  <thead>\n",
              "    <tr style=\"text-align: right;\">\n",
              "      <th></th>\n",
              "      <th>Original</th>\n",
              "    </tr>\n",
              "  </thead>\n",
              "  <tbody>\n",
              "    <tr>\n",
              "      <th>0</th>\n",
              "      <td>amigos</td>\n",
              "    </tr>\n",
              "    <tr>\n",
              "      <th>1</th>\n",
              "      <td>amigas</td>\n",
              "    </tr>\n",
              "    <tr>\n",
              "      <th>2</th>\n",
              "      <td>amizade</td>\n",
              "    </tr>\n",
              "    <tr>\n",
              "      <th>3</th>\n",
              "      <td>carreira</td>\n",
              "    </tr>\n",
              "    <tr>\n",
              "      <th>4</th>\n",
              "      <td>carreiras</td>\n",
              "    </tr>\n",
              "  </tbody>\n",
              "</table>\n",
              "</div>\n",
              "      <button class=\"colab-df-convert\" onclick=\"convertToInteractive('df-09a0ec6c-14f3-4a8a-baed-cb65ee33aa76')\"\n",
              "              title=\"Convert this dataframe to an interactive table.\"\n",
              "              style=\"display:none;\">\n",
              "        \n",
              "  <svg xmlns=\"http://www.w3.org/2000/svg\" height=\"24px\"viewBox=\"0 0 24 24\"\n",
              "       width=\"24px\">\n",
              "    <path d=\"M0 0h24v24H0V0z\" fill=\"none\"/>\n",
              "    <path d=\"M18.56 5.44l.94 2.06.94-2.06 2.06-.94-2.06-.94-.94-2.06-.94 2.06-2.06.94zm-11 1L8.5 8.5l.94-2.06 2.06-.94-2.06-.94L8.5 2.5l-.94 2.06-2.06.94zm10 10l.94 2.06.94-2.06 2.06-.94-2.06-.94-.94-2.06-.94 2.06-2.06.94z\"/><path d=\"M17.41 7.96l-1.37-1.37c-.4-.4-.92-.59-1.43-.59-.52 0-1.04.2-1.43.59L10.3 9.45l-7.72 7.72c-.78.78-.78 2.05 0 2.83L4 21.41c.39.39.9.59 1.41.59.51 0 1.02-.2 1.41-.59l7.78-7.78 2.81-2.81c.8-.78.8-2.07 0-2.86zM5.41 20L4 18.59l7.72-7.72 1.47 1.35L5.41 20z\"/>\n",
              "  </svg>\n",
              "      </button>\n",
              "      \n",
              "  <style>\n",
              "    .colab-df-container {\n",
              "      display:flex;\n",
              "      flex-wrap:wrap;\n",
              "      gap: 12px;\n",
              "    }\n",
              "\n",
              "    .colab-df-convert {\n",
              "      background-color: #E8F0FE;\n",
              "      border: none;\n",
              "      border-radius: 50%;\n",
              "      cursor: pointer;\n",
              "      display: none;\n",
              "      fill: #1967D2;\n",
              "      height: 32px;\n",
              "      padding: 0 0 0 0;\n",
              "      width: 32px;\n",
              "    }\n",
              "\n",
              "    .colab-df-convert:hover {\n",
              "      background-color: #E2EBFA;\n",
              "      box-shadow: 0px 1px 2px rgba(60, 64, 67, 0.3), 0px 1px 3px 1px rgba(60, 64, 67, 0.15);\n",
              "      fill: #174EA6;\n",
              "    }\n",
              "\n",
              "    [theme=dark] .colab-df-convert {\n",
              "      background-color: #3B4455;\n",
              "      fill: #D2E3FC;\n",
              "    }\n",
              "\n",
              "    [theme=dark] .colab-df-convert:hover {\n",
              "      background-color: #434B5C;\n",
              "      box-shadow: 0px 1px 3px 1px rgba(0, 0, 0, 0.15);\n",
              "      filter: drop-shadow(0px 1px 2px rgba(0, 0, 0, 0.3));\n",
              "      fill: #FFFFFF;\n",
              "    }\n",
              "  </style>\n",
              "\n",
              "      <script>\n",
              "        const buttonEl =\n",
              "          document.querySelector('#df-09a0ec6c-14f3-4a8a-baed-cb65ee33aa76 button.colab-df-convert');\n",
              "        buttonEl.style.display =\n",
              "          google.colab.kernel.accessAllowed ? 'block' : 'none';\n",
              "\n",
              "        async function convertToInteractive(key) {\n",
              "          const element = document.querySelector('#df-09a0ec6c-14f3-4a8a-baed-cb65ee33aa76');\n",
              "          const dataTable =\n",
              "            await google.colab.kernel.invokeFunction('convertToInteractive',\n",
              "                                                     [key], {});\n",
              "          if (!dataTable) return;\n",
              "\n",
              "          const docLinkHtml = 'Like what you see? Visit the ' +\n",
              "            '<a target=\"_blank\" href=https://colab.research.google.com/notebooks/data_table.ipynb>data table notebook</a>'\n",
              "            + ' to learn more about interactive tables.';\n",
              "          element.innerHTML = '';\n",
              "          dataTable['output_type'] = 'display_data';\n",
              "          await google.colab.output.renderOutput(dataTable, element);\n",
              "          const docLink = document.createElement('div');\n",
              "          docLink.innerHTML = docLinkHtml;\n",
              "          element.appendChild(docLink);\n",
              "        }\n",
              "      </script>\n",
              "    </div>\n",
              "  </div>\n",
              "  "
            ]
          },
          "metadata": {},
          "execution_count": 30
        }
      ]
    },
    {
      "cell_type": "code",
      "source": [
        "doc = nlp(str([palavra for palavra in df_palavras['Original']]))"
      ],
      "metadata": {
        "id": "v5Yg1wSZfbN7"
      },
      "execution_count": 32,
      "outputs": []
    },
    {
      "cell_type": "code",
      "source": [
        "df_palavras['spacy_lemma'] = [token.lemma_ for token in doc if token.pos_ == 'NOUN']\n",
        "df_palavras"
      ],
      "metadata": {
        "colab": {
          "base_uri": "https://localhost:8080/",
          "height": 206
        },
        "id": "jbnN2GhGexoA",
        "outputId": "4aa2ded5-50a7-4bd3-ef42-50573791e537"
      },
      "execution_count": 33,
      "outputs": [
        {
          "output_type": "execute_result",
          "data": {
            "text/plain": [
              "    Original spacy_lemma\n",
              "0     amigos       amigo\n",
              "1     amigas       amiga\n",
              "2    amizade     amizade\n",
              "3   carreira    carreira\n",
              "4  carreiras    carreira"
            ],
            "text/html": [
              "\n",
              "  <div id=\"df-00cdf6ba-0ffe-4d33-b509-aa197c883eca\">\n",
              "    <div class=\"colab-df-container\">\n",
              "      <div>\n",
              "<style scoped>\n",
              "    .dataframe tbody tr th:only-of-type {\n",
              "        vertical-align: middle;\n",
              "    }\n",
              "\n",
              "    .dataframe tbody tr th {\n",
              "        vertical-align: top;\n",
              "    }\n",
              "\n",
              "    .dataframe thead th {\n",
              "        text-align: right;\n",
              "    }\n",
              "</style>\n",
              "<table border=\"1\" class=\"dataframe\">\n",
              "  <thead>\n",
              "    <tr style=\"text-align: right;\">\n",
              "      <th></th>\n",
              "      <th>Original</th>\n",
              "      <th>spacy_lemma</th>\n",
              "    </tr>\n",
              "  </thead>\n",
              "  <tbody>\n",
              "    <tr>\n",
              "      <th>0</th>\n",
              "      <td>amigos</td>\n",
              "      <td>amigo</td>\n",
              "    </tr>\n",
              "    <tr>\n",
              "      <th>1</th>\n",
              "      <td>amigas</td>\n",
              "      <td>amiga</td>\n",
              "    </tr>\n",
              "    <tr>\n",
              "      <th>2</th>\n",
              "      <td>amizade</td>\n",
              "      <td>amizade</td>\n",
              "    </tr>\n",
              "    <tr>\n",
              "      <th>3</th>\n",
              "      <td>carreira</td>\n",
              "      <td>carreira</td>\n",
              "    </tr>\n",
              "    <tr>\n",
              "      <th>4</th>\n",
              "      <td>carreiras</td>\n",
              "      <td>carreira</td>\n",
              "    </tr>\n",
              "  </tbody>\n",
              "</table>\n",
              "</div>\n",
              "      <button class=\"colab-df-convert\" onclick=\"convertToInteractive('df-00cdf6ba-0ffe-4d33-b509-aa197c883eca')\"\n",
              "              title=\"Convert this dataframe to an interactive table.\"\n",
              "              style=\"display:none;\">\n",
              "        \n",
              "  <svg xmlns=\"http://www.w3.org/2000/svg\" height=\"24px\"viewBox=\"0 0 24 24\"\n",
              "       width=\"24px\">\n",
              "    <path d=\"M0 0h24v24H0V0z\" fill=\"none\"/>\n",
              "    <path d=\"M18.56 5.44l.94 2.06.94-2.06 2.06-.94-2.06-.94-.94-2.06-.94 2.06-2.06.94zm-11 1L8.5 8.5l.94-2.06 2.06-.94-2.06-.94L8.5 2.5l-.94 2.06-2.06.94zm10 10l.94 2.06.94-2.06 2.06-.94-2.06-.94-.94-2.06-.94 2.06-2.06.94z\"/><path d=\"M17.41 7.96l-1.37-1.37c-.4-.4-.92-.59-1.43-.59-.52 0-1.04.2-1.43.59L10.3 9.45l-7.72 7.72c-.78.78-.78 2.05 0 2.83L4 21.41c.39.39.9.59 1.41.59.51 0 1.02-.2 1.41-.59l7.78-7.78 2.81-2.81c.8-.78.8-2.07 0-2.86zM5.41 20L4 18.59l7.72-7.72 1.47 1.35L5.41 20z\"/>\n",
              "  </svg>\n",
              "      </button>\n",
              "      \n",
              "  <style>\n",
              "    .colab-df-container {\n",
              "      display:flex;\n",
              "      flex-wrap:wrap;\n",
              "      gap: 12px;\n",
              "    }\n",
              "\n",
              "    .colab-df-convert {\n",
              "      background-color: #E8F0FE;\n",
              "      border: none;\n",
              "      border-radius: 50%;\n",
              "      cursor: pointer;\n",
              "      display: none;\n",
              "      fill: #1967D2;\n",
              "      height: 32px;\n",
              "      padding: 0 0 0 0;\n",
              "      width: 32px;\n",
              "    }\n",
              "\n",
              "    .colab-df-convert:hover {\n",
              "      background-color: #E2EBFA;\n",
              "      box-shadow: 0px 1px 2px rgba(60, 64, 67, 0.3), 0px 1px 3px 1px rgba(60, 64, 67, 0.15);\n",
              "      fill: #174EA6;\n",
              "    }\n",
              "\n",
              "    [theme=dark] .colab-df-convert {\n",
              "      background-color: #3B4455;\n",
              "      fill: #D2E3FC;\n",
              "    }\n",
              "\n",
              "    [theme=dark] .colab-df-convert:hover {\n",
              "      background-color: #434B5C;\n",
              "      box-shadow: 0px 1px 3px 1px rgba(0, 0, 0, 0.15);\n",
              "      filter: drop-shadow(0px 1px 2px rgba(0, 0, 0, 0.3));\n",
              "      fill: #FFFFFF;\n",
              "    }\n",
              "  </style>\n",
              "\n",
              "      <script>\n",
              "        const buttonEl =\n",
              "          document.querySelector('#df-00cdf6ba-0ffe-4d33-b509-aa197c883eca button.colab-df-convert');\n",
              "        buttonEl.style.display =\n",
              "          google.colab.kernel.accessAllowed ? 'block' : 'none';\n",
              "\n",
              "        async function convertToInteractive(key) {\n",
              "          const element = document.querySelector('#df-00cdf6ba-0ffe-4d33-b509-aa197c883eca');\n",
              "          const dataTable =\n",
              "            await google.colab.kernel.invokeFunction('convertToInteractive',\n",
              "                                                     [key], {});\n",
              "          if (!dataTable) return;\n",
              "\n",
              "          const docLinkHtml = 'Like what you see? Visit the ' +\n",
              "            '<a target=\"_blank\" href=https://colab.research.google.com/notebooks/data_table.ipynb>data table notebook</a>'\n",
              "            + ' to learn more about interactive tables.';\n",
              "          element.innerHTML = '';\n",
              "          dataTable['output_type'] = 'display_data';\n",
              "          await google.colab.output.renderOutput(dataTable, element);\n",
              "          const docLink = document.createElement('div');\n",
              "          docLink.innerHTML = docLinkHtml;\n",
              "          element.appendChild(docLink);\n",
              "        }\n",
              "      </script>\n",
              "    </div>\n",
              "  </div>\n",
              "  "
            ]
          },
          "metadata": {},
          "execution_count": 33
        }
      ]
    },
    {
      "cell_type": "code",
      "source": [
        "texto = \"Jailson viajou usando de aviação para se locomover até Santos para louvar os Santos\""
      ],
      "metadata": {
        "id": "3v9qQ8iBfUEP"
      },
      "execution_count": 35,
      "outputs": []
    },
    {
      "cell_type": "code",
      "source": [
        "doc = nlp(texto)"
      ],
      "metadata": {
        "id": "3WqKkeCUfsyE"
      },
      "execution_count": 36,
      "outputs": []
    },
    {
      "cell_type": "code",
      "source": [
        "def lem_teste(text):\n",
        "  lemma_list = []\n",
        "  doc = nlp(text)\n",
        "  for word in doc:\n",
        "    lemma_list.append(word.lemma_)\n",
        "  return lemma_list"
      ],
      "metadata": {
        "id": "Kv5M8rDUgLJF"
      },
      "execution_count": 95,
      "outputs": []
    },
    {
      "cell_type": "code",
      "source": [
        "lista_armazem_teste = lem_teste('sera que agora deu certo este inferno ?')"
      ],
      "metadata": {
        "id": "FbDFuTsGqZFb"
      },
      "execution_count": 100,
      "outputs": []
    },
    {
      "cell_type": "code",
      "source": [
        "lista_armazem_teste "
      ],
      "metadata": {
        "colab": {
          "base_uri": "https://localhost:8080/"
        },
        "id": "cL5OnzCWqlnb",
        "outputId": "c65be426-a5b9-487d-918e-329e41ef80bf"
      },
      "execution_count": 101,
      "outputs": [
        {
          "output_type": "execute_result",
          "data": {
            "text/plain": [
              "['serar', 'que', 'agora', 'dar', 'certo', 'este', 'inferno', '?']"
            ]
          },
          "metadata": {},
          "execution_count": 101
        }
      ]
    },
    {
      "cell_type": "code",
      "source": [
        "dados_copia['lemma'] = dados_copia['preprocessed_news'].apply(lambda x: lem_teste(x))"
      ],
      "metadata": {
        "id": "aWaRMGy4gT57"
      },
      "execution_count": 105,
      "outputs": []
    },
    {
      "cell_type": "code",
      "source": [
        "dados_copia.head()"
      ],
      "metadata": {
        "colab": {
          "base_uri": "https://localhost:8080/",
          "height": 206
        },
        "id": "cZJoZDGXiQFS",
        "outputId": "fcedd812-0f7d-4522-f991-c1d2ef1cff5f"
      },
      "execution_count": 106,
      "outputs": [
        {
          "output_type": "execute_result",
          "data": {
            "text/plain": [
              "  label                                  preprocessed_news  \\\n",
              "0  fake  katia abreu diz vai colocar expulsao moldura n...   \n",
              "1  fake  ray peita bolsonaro conservador fake entrevist...   \n",
              "2  fake  reinaldo azevedo desmascarado policia federal ...   \n",
              "3  fake  relatorio assustador bndes mostra dinheiro pub...   \n",
              "4  fake  radialista americano fala sobre pt vendem ilus...   \n",
              "\n",
              "                                      text_tokenized  \\\n",
              "0  [katia, abreu, diz, vai, colocar, expulsao, mo...   \n",
              "1  [ray, peita, bolsonaro, conservador, fake, ent...   \n",
              "2  [reinaldo, azevedo, desmascarado, policia, fed...   \n",
              "3  [relatorio, assustador, bndes, mostra, dinheir...   \n",
              "4  [radialista, americano, fala, sobre, pt, vende...   \n",
              "\n",
              "                                        text_stemmed  \\\n",
              "0  [kat, abr, diz, vai, coloc, expulsa, mold, nao...   \n",
              "1  [ray, peit, bolsonar, conserv, fak, entrev, da...   \n",
              "2  [reinald, azeved, desmascar, polic, feder, fer...   \n",
              "3  [relatori, assust, bnd, mostr, dinh, publ, bra...   \n",
              "4  [radial, americ, fal, sobr, pt, vend, ilusa, p...   \n",
              "\n",
              "                                               lemma  \n",
              "0  [katia, abrer, dizer, ir, colocar, expulsao, m...  \n",
              "1  [ray, peitar, bolsonaro, conservador, fake, en...  \n",
              "2  [Reinaldo, Azevedo, desmascarar, policia, fede...  \n",
              "3  [relatoriar, assustador, bndes, mostrar, dinhe...  \n",
              "4  [radialista, americano, falar, sobre, pt, vend...  "
            ],
            "text/html": [
              "\n",
              "  <div id=\"df-f5307423-6af0-4930-9cec-eecd0c805d73\">\n",
              "    <div class=\"colab-df-container\">\n",
              "      <div>\n",
              "<style scoped>\n",
              "    .dataframe tbody tr th:only-of-type {\n",
              "        vertical-align: middle;\n",
              "    }\n",
              "\n",
              "    .dataframe tbody tr th {\n",
              "        vertical-align: top;\n",
              "    }\n",
              "\n",
              "    .dataframe thead th {\n",
              "        text-align: right;\n",
              "    }\n",
              "</style>\n",
              "<table border=\"1\" class=\"dataframe\">\n",
              "  <thead>\n",
              "    <tr style=\"text-align: right;\">\n",
              "      <th></th>\n",
              "      <th>label</th>\n",
              "      <th>preprocessed_news</th>\n",
              "      <th>text_tokenized</th>\n",
              "      <th>text_stemmed</th>\n",
              "      <th>lemma</th>\n",
              "    </tr>\n",
              "  </thead>\n",
              "  <tbody>\n",
              "    <tr>\n",
              "      <th>0</th>\n",
              "      <td>fake</td>\n",
              "      <td>katia abreu diz vai colocar expulsao moldura n...</td>\n",
              "      <td>[katia, abreu, diz, vai, colocar, expulsao, mo...</td>\n",
              "      <td>[kat, abr, diz, vai, coloc, expulsa, mold, nao...</td>\n",
              "      <td>[katia, abrer, dizer, ir, colocar, expulsao, m...</td>\n",
              "    </tr>\n",
              "    <tr>\n",
              "      <th>1</th>\n",
              "      <td>fake</td>\n",
              "      <td>ray peita bolsonaro conservador fake entrevist...</td>\n",
              "      <td>[ray, peita, bolsonaro, conservador, fake, ent...</td>\n",
              "      <td>[ray, peit, bolsonar, conserv, fak, entrev, da...</td>\n",
              "      <td>[ray, peitar, bolsonaro, conservador, fake, en...</td>\n",
              "    </tr>\n",
              "    <tr>\n",
              "      <th>2</th>\n",
              "      <td>fake</td>\n",
              "      <td>reinaldo azevedo desmascarado policia federal ...</td>\n",
              "      <td>[reinaldo, azevedo, desmascarado, policia, fed...</td>\n",
              "      <td>[reinald, azeved, desmascar, polic, feder, fer...</td>\n",
              "      <td>[Reinaldo, Azevedo, desmascarar, policia, fede...</td>\n",
              "    </tr>\n",
              "    <tr>\n",
              "      <th>3</th>\n",
              "      <td>fake</td>\n",
              "      <td>relatorio assustador bndes mostra dinheiro pub...</td>\n",
              "      <td>[relatorio, assustador, bndes, mostra, dinheir...</td>\n",
              "      <td>[relatori, assust, bnd, mostr, dinh, publ, bra...</td>\n",
              "      <td>[relatoriar, assustador, bndes, mostrar, dinhe...</td>\n",
              "    </tr>\n",
              "    <tr>\n",
              "      <th>4</th>\n",
              "      <td>fake</td>\n",
              "      <td>radialista americano fala sobre pt vendem ilus...</td>\n",
              "      <td>[radialista, americano, fala, sobre, pt, vende...</td>\n",
              "      <td>[radial, americ, fal, sobr, pt, vend, ilusa, p...</td>\n",
              "      <td>[radialista, americano, falar, sobre, pt, vend...</td>\n",
              "    </tr>\n",
              "  </tbody>\n",
              "</table>\n",
              "</div>\n",
              "      <button class=\"colab-df-convert\" onclick=\"convertToInteractive('df-f5307423-6af0-4930-9cec-eecd0c805d73')\"\n",
              "              title=\"Convert this dataframe to an interactive table.\"\n",
              "              style=\"display:none;\">\n",
              "        \n",
              "  <svg xmlns=\"http://www.w3.org/2000/svg\" height=\"24px\"viewBox=\"0 0 24 24\"\n",
              "       width=\"24px\">\n",
              "    <path d=\"M0 0h24v24H0V0z\" fill=\"none\"/>\n",
              "    <path d=\"M18.56 5.44l.94 2.06.94-2.06 2.06-.94-2.06-.94-.94-2.06-.94 2.06-2.06.94zm-11 1L8.5 8.5l.94-2.06 2.06-.94-2.06-.94L8.5 2.5l-.94 2.06-2.06.94zm10 10l.94 2.06.94-2.06 2.06-.94-2.06-.94-.94-2.06-.94 2.06-2.06.94z\"/><path d=\"M17.41 7.96l-1.37-1.37c-.4-.4-.92-.59-1.43-.59-.52 0-1.04.2-1.43.59L10.3 9.45l-7.72 7.72c-.78.78-.78 2.05 0 2.83L4 21.41c.39.39.9.59 1.41.59.51 0 1.02-.2 1.41-.59l7.78-7.78 2.81-2.81c.8-.78.8-2.07 0-2.86zM5.41 20L4 18.59l7.72-7.72 1.47 1.35L5.41 20z\"/>\n",
              "  </svg>\n",
              "      </button>\n",
              "      \n",
              "  <style>\n",
              "    .colab-df-container {\n",
              "      display:flex;\n",
              "      flex-wrap:wrap;\n",
              "      gap: 12px;\n",
              "    }\n",
              "\n",
              "    .colab-df-convert {\n",
              "      background-color: #E8F0FE;\n",
              "      border: none;\n",
              "      border-radius: 50%;\n",
              "      cursor: pointer;\n",
              "      display: none;\n",
              "      fill: #1967D2;\n",
              "      height: 32px;\n",
              "      padding: 0 0 0 0;\n",
              "      width: 32px;\n",
              "    }\n",
              "\n",
              "    .colab-df-convert:hover {\n",
              "      background-color: #E2EBFA;\n",
              "      box-shadow: 0px 1px 2px rgba(60, 64, 67, 0.3), 0px 1px 3px 1px rgba(60, 64, 67, 0.15);\n",
              "      fill: #174EA6;\n",
              "    }\n",
              "\n",
              "    [theme=dark] .colab-df-convert {\n",
              "      background-color: #3B4455;\n",
              "      fill: #D2E3FC;\n",
              "    }\n",
              "\n",
              "    [theme=dark] .colab-df-convert:hover {\n",
              "      background-color: #434B5C;\n",
              "      box-shadow: 0px 1px 3px 1px rgba(0, 0, 0, 0.15);\n",
              "      filter: drop-shadow(0px 1px 2px rgba(0, 0, 0, 0.3));\n",
              "      fill: #FFFFFF;\n",
              "    }\n",
              "  </style>\n",
              "\n",
              "      <script>\n",
              "        const buttonEl =\n",
              "          document.querySelector('#df-f5307423-6af0-4930-9cec-eecd0c805d73 button.colab-df-convert');\n",
              "        buttonEl.style.display =\n",
              "          google.colab.kernel.accessAllowed ? 'block' : 'none';\n",
              "\n",
              "        async function convertToInteractive(key) {\n",
              "          const element = document.querySelector('#df-f5307423-6af0-4930-9cec-eecd0c805d73');\n",
              "          const dataTable =\n",
              "            await google.colab.kernel.invokeFunction('convertToInteractive',\n",
              "                                                     [key], {});\n",
              "          if (!dataTable) return;\n",
              "\n",
              "          const docLinkHtml = 'Like what you see? Visit the ' +\n",
              "            '<a target=\"_blank\" href=https://colab.research.google.com/notebooks/data_table.ipynb>data table notebook</a>'\n",
              "            + ' to learn more about interactive tables.';\n",
              "          element.innerHTML = '';\n",
              "          dataTable['output_type'] = 'display_data';\n",
              "          await google.colab.output.renderOutput(dataTable, element);\n",
              "          const docLink = document.createElement('div');\n",
              "          docLink.innerHTML = docLinkHtml;\n",
              "          element.appendChild(docLink);\n",
              "        }\n",
              "      </script>\n",
              "    </div>\n",
              "  </div>\n",
              "  "
            ]
          },
          "metadata": {},
          "execution_count": 106
        }
      ]
    },
    {
      "cell_type": "code",
      "source": [
        "dados_copia['detoken_lemma'] = dados_copia['lemma'].apply(lambda x: TreebankWordDetokenizer().detokenize(x))"
      ],
      "metadata": {
        "id": "1mRQ89arnwyH"
      },
      "execution_count": 109,
      "outputs": []
    },
    {
      "cell_type": "code",
      "source": [
        "dados_copia['detoken_lemma'][0]"
      ],
      "metadata": {
        "colab": {
          "base_uri": "https://localhost:8080/",
          "height": 70
        },
        "id": "Jn9HHctBq83u",
        "outputId": "92ea727f-23e8-452b-a38d-ac774bffa5f6"
      },
      "execution_count": 111,
      "outputs": [
        {
          "output_type": "execute_result",
          "data": {
            "text/plain": [
              "'katia abrer dizer ir colocar expulsao moldura nao reclamar senador katia abrer dizer Expulsao pmdbr resultar acao cupular atual legenda segundo oportunista amanho ir botar moldura dourar expulsaor porque mao onde vir atestar bom conduta curriculo pessoa expulsar nao servir pai servir pai beneficio proprio dizer katia abrer ue expulsao algo tao bom curriculo tantar choradeira katia sabe motivo provavelmente katiar nao valor pt Partido ja dever absorvir parecer pt gostar katia somente ficar entrincheirar dentro pmdbr rebaixar demais restar katia ficar chorar pitanga todo canto tempo ate momento pt nao cadastrar katia abrer fileira situacao patetico agricultura Dilma'"
            ],
            "application/vnd.google.colaboratory.intrinsic+json": {
              "type": "string"
            }
          },
          "metadata": {},
          "execution_count": 111
        }
      ]
    },
    {
      "cell_type": "code",
      "source": [
        "dados_copia['preprocessed_news'][0]"
      ],
      "metadata": {
        "colab": {
          "base_uri": "https://localhost:8080/",
          "height": 70
        },
        "id": "ApYr1xbQrZ1A",
        "outputId": "ce4a690a-f956-4ce5-9b58-57d0ca8593e8"
      },
      "execution_count": 112,
      "outputs": [
        {
          "output_type": "execute_result",
          "data": {
            "text/plain": [
              "'katia abreu diz vai colocar expulsao moldura nao reclamar senadora katia abreu disse expulsao pmdb resultado acao cupula atual legenda segundo oportunista amanha vou botar moldura dourada expulsao porque maos onde veio atestado boa conduta curriculo pessoas expulsaram nao servem pais servem pais beneficios proprios disse katia abreu ue expulsao algo tao bom curriculo tanta choradeira katia sabemos motivo provavelmente katia nao valor pt partido ja deveria absorvido parece pt gostava katia somente ficasse entrincheirada dentro pmdb rebaixar demais resta katia ficar chorando pitangas todos cantos tempo ate momento pt nao cadastrou katia abreu fileiras situacao patetica agricultura dilma'"
            ],
            "application/vnd.google.colaboratory.intrinsic+json": {
              "type": "string"
            }
          },
          "metadata": {},
          "execution_count": 112
        }
      ]
    },
    {
      "cell_type": "code",
      "source": [
        "X = dados_copia['detoken_lemma']\n",
        "y = dados_copia['label']\n",
        "# X_train, X_test, y_train, y_test = train_test_split(X, y, test_size = 0.3, random_state = 0)\n",
        "tfidf = TfidfVectorizer(max_features=5000)\n",
        "\n",
        "# X_train = tfidf.fit_transform(X_train)\n",
        "# X_test = tfidf.fit_transform(X_test)\n",
        "\n",
        "X = tfidf.fit_transform(X)"
      ],
      "metadata": {
        "id": "iVeMm01wtsyZ"
      },
      "execution_count": 115,
      "outputs": []
    },
    {
      "cell_type": "code",
      "source": [
        "X_train, X_test, y_train, y_test = train_test_split(X, y, test_size = 0.3, random_state = 101)"
      ],
      "metadata": {
        "id": "RtBy9iiXt5vP"
      },
      "execution_count": 116,
      "outputs": []
    },
    {
      "cell_type": "code",
      "source": [
        "print('Total train samples: {}'.format(X_train.shape[0]))\n",
        "print('Total test samples: {}'.format(X_test.shape[0]))"
      ],
      "metadata": {
        "colab": {
          "base_uri": "https://localhost:8080/"
        },
        "id": "KwJGghv4uGTO",
        "outputId": "d72b4e40-ba3a-4d06-9c3b-6568307aeb6c"
      },
      "execution_count": 117,
      "outputs": [
        {
          "output_type": "stream",
          "name": "stdout",
          "text": [
            "Total train samples: 5040\n",
            "Total test samples: 2160\n"
          ]
        }
      ]
    },
    {
      "cell_type": "code",
      "source": [
        "clf = LinearSVC()\n",
        "clf.fit(X_train, y_train)"
      ],
      "metadata": {
        "colab": {
          "base_uri": "https://localhost:8080/"
        },
        "id": "IZZ9HY6muI_A",
        "outputId": "f145364d-dbc1-498d-b8f7-b2aeca5c2f34"
      },
      "execution_count": 118,
      "outputs": [
        {
          "output_type": "execute_result",
          "data": {
            "text/plain": [
              "LinearSVC()"
            ]
          },
          "metadata": {},
          "execution_count": 118
        }
      ]
    },
    {
      "cell_type": "code",
      "source": [
        "y_pred = clf.predict(X_test)"
      ],
      "metadata": {
        "id": "ylM1dTZ-uMCc"
      },
      "execution_count": 119,
      "outputs": []
    },
    {
      "cell_type": "code",
      "source": [
        "accuracy = accuracy_score(y_test, y_pred) * 100\n",
        "f1 = f1_score(y_test, y_pred, average = 'macro') * 100\n",
        "\n",
        "print('Accuracy SVM from sk-learn with Lemmatizer: {:.2f}%'.format(accuracy))\n",
        "print('F1 Score SVM from sk-learn with Lemmatizer: {:.2f}%'.format(f1))"
      ],
      "metadata": {
        "colab": {
          "base_uri": "https://localhost:8080/"
        },
        "id": "3FY4oHTLuP0n",
        "outputId": "c7969b5d-0329-437f-857e-1d43088c99bf"
      },
      "execution_count": 120,
      "outputs": [
        {
          "output_type": "stream",
          "name": "stdout",
          "text": [
            "Accuracy SVM from sk-learn with Lemmatizer: 95.97%\n",
            "F1 Score SVM from sk-learn with Lemmatizer: 95.97%\n"
          ]
        }
      ]
    },
    {
      "cell_type": "code",
      "source": [
        "confusion_matrix(y_test, y_pred)"
      ],
      "metadata": {
        "colab": {
          "base_uri": "https://localhost:8080/"
        },
        "id": "TKHiR2InuZN5",
        "outputId": "d10fab23-8f4b-463c-b3be-eda569d4ab35"
      },
      "execution_count": 121,
      "outputs": [
        {
          "output_type": "execute_result",
          "data": {
            "text/plain": [
              "array([[1031,   43],\n",
              "       [  44, 1042]])"
            ]
          },
          "metadata": {},
          "execution_count": 121
        }
      ]
    },
    {
      "cell_type": "code",
      "source": [
        "print('--------------Resultados aplicando o método de Lemmatização---------------')\n",
        "print('')\n",
        "print(classification_report(y_test, y_pred))"
      ],
      "metadata": {
        "colab": {
          "base_uri": "https://localhost:8080/"
        },
        "id": "1z-vRoMUuf6g",
        "outputId": "532c98ea-3790-4698-af0b-00a083834546"
      },
      "execution_count": 123,
      "outputs": [
        {
          "output_type": "stream",
          "name": "stdout",
          "text": [
            "--------------Resultados aplicando o método de Lemmatização---------------\n",
            "\n",
            "              precision    recall  f1-score   support\n",
            "\n",
            "        fake       0.96      0.96      0.96      1074\n",
            "        true       0.96      0.96      0.96      1086\n",
            "\n",
            "    accuracy                           0.96      2160\n",
            "   macro avg       0.96      0.96      0.96      2160\n",
            "weighted avg       0.96      0.96      0.96      2160\n",
            "\n"
          ]
        }
      ]
    },
    {
      "cell_type": "code",
      "source": [
        "matrix = plot_confusion_matrix(clf, X_test, y_test, cmap=plt.cm.Reds)\n",
        "matrix.ax_.set_title('Confusion matrix', color='white')\n",
        "plt.xlabel('Predicted Label', color='white')\n",
        "plt.ylabel('True Label', color='white')\n",
        "plt.gcf().axes[0].tick_params(color='white')\n",
        "plt.gcf().axes[1].tick_params(color='white')\n",
        "plt.gcf().set_size_inches(10,6)\n",
        "plt.show()"
      ],
      "metadata": {
        "colab": {
          "base_uri": "https://localhost:8080/",
          "height": 459
        },
        "id": "t9QtbhYYukK5",
        "outputId": "3f7574bd-0ca5-4084-81ee-7b6af6661c20"
      },
      "execution_count": 124,
      "outputs": [
        {
          "output_type": "stream",
          "name": "stderr",
          "text": [
            "/usr/local/lib/python3.7/dist-packages/sklearn/utils/deprecation.py:87: FutureWarning: Function plot_confusion_matrix is deprecated; Function `plot_confusion_matrix` is deprecated in 1.0 and will be removed in 1.2. Use one of the class methods: ConfusionMatrixDisplay.from_predictions or ConfusionMatrixDisplay.from_estimator.\n",
            "  warnings.warn(msg, category=FutureWarning)\n"
          ]
        },
        {
          "output_type": "display_data",
          "data": {
            "text/plain": [
              "<Figure size 720x432 with 2 Axes>"
            ],
            "image/png": "[encoded data removed]"
          },
          "metadata": {
            "needs_background": "light"
          }
        }
      ]
    },
    {
      "cell_type": "code",
      "source": [
        ""
      ],
      "metadata": {
        "id": "Ja2EDRLHurlb"
      },
      "execution_count": null,
      "outputs": []
    }
  ]
}