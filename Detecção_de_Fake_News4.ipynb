{
  "nbformat": 4,
  "nbformat_minor": 0,
  "metadata": {
    "colab": {
      "name": "Detecção de Fake News.ipynb",
      "provenance": [],
      "collapsed_sections": [
        "cJM5lADvfe3M",
        "2BuPGaBufhD1",
        "yGO9ID4OgIDS",
        "mH6bV3nFglVi",
        "TZuMgLGbltVE",
        "PxdgDIh7o1Jp"
      ],
      "include_colab_link": true
    },
    "kernelspec": {
      "name": "python3",
      "display_name": "Python 3"
    },
    "language_info": {
      "name": "python"
    }
  },
  "cells": [
    {
      "cell_type": "markdown",
      "metadata": {
        "id": "view-in-github",
        "colab_type": "text"
      },
      "source": [
        "<a href=\"https://colab.research.google.com/github/lucca-fsc/FakeNewsDetection/blob/main/Detec%C3%A7%C3%A3o_de_Fake_News4.ipynb\" target=\"_parent\"><img src=\"https://colab.research.google.com/assets/colab-badge.svg\" alt=\"Open In Colab\"/></a>"
      ]
    },
    {
      "cell_type": "markdown",
      "source": [
        "# Detecção de Notícias Falsas utilizando Fake Br Corpus\n"
      ],
      "metadata": {
        "id": "ZNNeyhHwLC9A"
      }
    },
    {
      "cell_type": "markdown",
      "source": [
        "##Importando as bibliotecas necessárias"
      ],
      "metadata": {
        "id": "fOmpaIn3LKei"
      }
    },
    {
      "cell_type": "code",
      "source": [
        "!pip install --upgrade spacy"
      ],
      "metadata": {
        "id": "COyR21Xgb2jf",
        "colab": {
          "base_uri": "https://localhost:8080/",
          "height": 1000
        },
        "outputId": "51ac0be0-a837-4223-9a14-4db657f2076b"
      },
      "execution_count": null,
      "outputs": [
        {
          "output_type": "stream",
          "name": "stdout",
          "text": [
            "Looking in indexes: https://pypi.org/simple, https://us-python.pkg.dev/colab-wheels/public/simple/\n",
            "Requirement already satisfied: spacy in /usr/local/lib/python3.7/dist-packages (2.2.4)\n",
            "Collecting spacy\n",
            "  Downloading spacy-3.3.0-cp37-cp37m-manylinux_2_17_x86_64.manylinux2014_x86_64.whl (6.2 MB)\n",
            "\u001b[K     |████████████████████████████████| 6.2 MB 7.7 MB/s \n",
            "\u001b[?25hRequirement already satisfied: preshed<3.1.0,>=3.0.2 in /usr/local/lib/python3.7/dist-packages (from spacy) (3.0.6)\n",
            "Requirement already satisfied: numpy>=1.15.0 in /usr/local/lib/python3.7/dist-packages (from spacy) (1.21.6)\n",
            "Requirement already satisfied: tqdm<5.0.0,>=4.38.0 in /usr/local/lib/python3.7/dist-packages (from spacy) (4.64.0)\n",
            "Collecting pydantic!=1.8,!=1.8.1,<1.9.0,>=1.7.4\n",
            "  Downloading pydantic-1.8.2-cp37-cp37m-manylinux2014_x86_64.whl (10.1 MB)\n",
            "\u001b[K     |████████████████████████████████| 10.1 MB 44.9 MB/s \n",
            "\u001b[?25hRequirement already satisfied: setuptools in /usr/local/lib/python3.7/dist-packages (from spacy) (57.4.0)\n",
            "Collecting pathy>=0.3.5\n",
            "  Downloading pathy-0.6.1-py3-none-any.whl (42 kB)\n",
            "\u001b[K     |████████████████████████████████| 42 kB 1.2 MB/s \n",
            "\u001b[?25hRequirement already satisfied: packaging>=20.0 in /usr/local/lib/python3.7/dist-packages (from spacy) (21.3)\n",
            "Requirement already satisfied: murmurhash<1.1.0,>=0.28.0 in /usr/local/lib/python3.7/dist-packages (from spacy) (1.0.7)\n",
            "Collecting srsly<3.0.0,>=2.4.3\n",
            "  Downloading srsly-2.4.3-cp37-cp37m-manylinux_2_17_x86_64.manylinux2014_x86_64.whl (457 kB)\n",
            "\u001b[K     |████████████████████████████████| 457 kB 45.9 MB/s \n",
            "\u001b[?25hCollecting typer<0.5.0,>=0.3.0\n",
            "  Downloading typer-0.4.1-py3-none-any.whl (27 kB)\n",
            "Collecting langcodes<4.0.0,>=3.2.0\n",
            "  Downloading langcodes-3.3.0-py3-none-any.whl (181 kB)\n",
            "\u001b[K     |████████████████████████████████| 181 kB 46.6 MB/s \n",
            "\u001b[?25hCollecting spacy-legacy<3.1.0,>=3.0.9\n",
            "  Downloading spacy_legacy-3.0.9-py2.py3-none-any.whl (20 kB)\n",
            "Requirement already satisfied: blis<0.8.0,>=0.4.0 in /usr/local/lib/python3.7/dist-packages (from spacy) (0.4.1)\n",
            "Collecting typing-extensions<4.0.0.0,>=3.7.4\n",
            "  Downloading typing_extensions-3.10.0.2-py3-none-any.whl (26 kB)\n",
            "Collecting spacy-loggers<2.0.0,>=1.0.0\n",
            "  Downloading spacy_loggers-1.0.2-py3-none-any.whl (7.2 kB)\n",
            "Collecting thinc<8.1.0,>=8.0.14\n",
            "  Downloading thinc-8.0.17-cp37-cp37m-manylinux_2_17_x86_64.manylinux2014_x86_64.whl (660 kB)\n",
            "\u001b[K     |████████████████████████████████| 660 kB 62.5 MB/s \n",
            "\u001b[?25hRequirement already satisfied: cymem<2.1.0,>=2.0.2 in /usr/local/lib/python3.7/dist-packages (from spacy) (2.0.6)\n",
            "Requirement already satisfied: wasabi<1.1.0,>=0.9.1 in /usr/local/lib/python3.7/dist-packages (from spacy) (0.9.1)\n",
            "Requirement already satisfied: jinja2 in /usr/local/lib/python3.7/dist-packages (from spacy) (2.11.3)\n",
            "Requirement already satisfied: requests<3.0.0,>=2.13.0 in /usr/local/lib/python3.7/dist-packages (from spacy) (2.23.0)\n",
            "Collecting catalogue<2.1.0,>=2.0.6\n",
            "  Downloading catalogue-2.0.7-py3-none-any.whl (17 kB)\n",
            "Requirement already satisfied: zipp>=0.5 in /usr/local/lib/python3.7/dist-packages (from catalogue<2.1.0,>=2.0.6->spacy) (3.8.0)\n",
            "Requirement already satisfied: pyparsing!=3.0.5,>=2.0.2 in /usr/local/lib/python3.7/dist-packages (from packaging>=20.0->spacy) (3.0.9)\n",
            "Collecting smart-open<6.0.0,>=5.0.0\n",
            "  Downloading smart_open-5.2.1-py3-none-any.whl (58 kB)\n",
            "\u001b[K     |████████████████████████████████| 58 kB 5.7 MB/s \n",
            "\u001b[?25hRequirement already satisfied: idna<3,>=2.5 in /usr/local/lib/python3.7/dist-packages (from requests<3.0.0,>=2.13.0->spacy) (2.10)\n",
            "Requirement already satisfied: chardet<4,>=3.0.2 in /usr/local/lib/python3.7/dist-packages (from requests<3.0.0,>=2.13.0->spacy) (3.0.4)\n",
            "Requirement already satisfied: certifi>=2017.4.17 in /usr/local/lib/python3.7/dist-packages (from requests<3.0.0,>=2.13.0->spacy) (2022.5.18.1)\n",
            "Requirement already satisfied: urllib3!=1.25.0,!=1.25.1,<1.26,>=1.21.1 in /usr/local/lib/python3.7/dist-packages (from requests<3.0.0,>=2.13.0->spacy) (1.24.3)\n",
            "Requirement already satisfied: click<9.0.0,>=7.1.1 in /usr/local/lib/python3.7/dist-packages (from typer<0.5.0,>=0.3.0->spacy) (7.1.2)\n",
            "Requirement already satisfied: MarkupSafe>=0.23 in /usr/local/lib/python3.7/dist-packages (from jinja2->spacy) (2.0.1)\n",
            "Installing collected packages: typing-extensions, catalogue, typer, srsly, smart-open, pydantic, thinc, spacy-loggers, spacy-legacy, pathy, langcodes, spacy\n",
            "  Attempting uninstall: typing-extensions\n",
            "    Found existing installation: typing-extensions 4.2.0\n",
            "    Uninstalling typing-extensions-4.2.0:\n",
            "      Successfully uninstalled typing-extensions-4.2.0\n",
            "  Attempting uninstall: catalogue\n",
            "    Found existing installation: catalogue 1.0.0\n",
            "    Uninstalling catalogue-1.0.0:\n",
            "      Successfully uninstalled catalogue-1.0.0\n",
            "  Attempting uninstall: srsly\n",
            "    Found existing installation: srsly 1.0.5\n",
            "    Uninstalling srsly-1.0.5:\n",
            "      Successfully uninstalled srsly-1.0.5\n",
            "  Attempting uninstall: smart-open\n",
            "    Found existing installation: smart-open 6.0.0\n",
            "    Uninstalling smart-open-6.0.0:\n",
            "      Successfully uninstalled smart-open-6.0.0\n",
            "  Attempting uninstall: thinc\n",
            "    Found existing installation: thinc 7.4.0\n",
            "    Uninstalling thinc-7.4.0:\n",
            "      Successfully uninstalled thinc-7.4.0\n",
            "  Attempting uninstall: spacy\n",
            "    Found existing installation: spacy 2.2.4\n",
            "    Uninstalling spacy-2.2.4:\n",
            "      Successfully uninstalled spacy-2.2.4\n",
            "Successfully installed catalogue-2.0.7 langcodes-3.3.0 pathy-0.6.1 pydantic-1.8.2 smart-open-5.2.1 spacy-3.3.0 spacy-legacy-3.0.9 spacy-loggers-1.0.2 srsly-2.4.3 thinc-8.0.17 typer-0.4.1 typing-extensions-3.10.0.2\n"
          ]
        },
        {
          "output_type": "display_data",
          "data": {
            "application/vnd.colab-display-data+json": {
              "pip_warning": {
                "packages": [
                  "typing_extensions"
                ]
              }
            }
          },
          "metadata": {}
        }
      ]
    },
    {
      "cell_type": "code",
      "source": [
        "!python -m spacy download pt_core_news_sm"
      ],
      "metadata": {
        "id": "67AMtWHpd0kP",
        "colab": {
          "base_uri": "https://localhost:8080/"
        },
        "outputId": "90c6ed56-4d02-446c-c6df-7eeb4bb3eee1"
      },
      "execution_count": null,
      "outputs": [
        {
          "output_type": "stream",
          "name": "stdout",
          "text": [
            "Looking in indexes: https://pypi.org/simple, https://us-python.pkg.dev/colab-wheels/public/simple/\n",
            "Collecting pt-core-news-sm==3.3.0\n",
            "  Downloading https://github.com/explosion/spacy-models/releases/download/pt_core_news_sm-3.3.0/pt_core_news_sm-3.3.0-py3-none-any.whl (13.0 MB)\n",
            "\u001b[K     |████████████████████████████████| 13.0 MB 808 kB/s \n",
            "\u001b[?25hRequirement already satisfied: spacy<3.4.0,>=3.3.0.dev0 in /usr/local/lib/python3.7/dist-packages (from pt-core-news-sm==3.3.0) (3.3.0)\n",
            "Requirement already satisfied: jinja2 in /usr/local/lib/python3.7/dist-packages (from spacy<3.4.0,>=3.3.0.dev0->pt-core-news-sm==3.3.0) (2.11.3)\n",
            "Requirement already satisfied: typer<0.5.0,>=0.3.0 in /usr/local/lib/python3.7/dist-packages (from spacy<3.4.0,>=3.3.0.dev0->pt-core-news-sm==3.3.0) (0.4.1)\n",
            "Requirement already satisfied: srsly<3.0.0,>=2.4.3 in /usr/local/lib/python3.7/dist-packages (from spacy<3.4.0,>=3.3.0.dev0->pt-core-news-sm==3.3.0) (2.4.3)\n",
            "Requirement already satisfied: requests<3.0.0,>=2.13.0 in /usr/local/lib/python3.7/dist-packages (from spacy<3.4.0,>=3.3.0.dev0->pt-core-news-sm==3.3.0) (2.23.0)\n",
            "Requirement already satisfied: catalogue<2.1.0,>=2.0.6 in /usr/local/lib/python3.7/dist-packages (from spacy<3.4.0,>=3.3.0.dev0->pt-core-news-sm==3.3.0) (2.0.7)\n",
            "Requirement already satisfied: murmurhash<1.1.0,>=0.28.0 in /usr/local/lib/python3.7/dist-packages (from spacy<3.4.0,>=3.3.0.dev0->pt-core-news-sm==3.3.0) (1.0.7)\n",
            "Requirement already satisfied: wasabi<1.1.0,>=0.9.1 in /usr/local/lib/python3.7/dist-packages (from spacy<3.4.0,>=3.3.0.dev0->pt-core-news-sm==3.3.0) (0.9.1)\n",
            "Requirement already satisfied: pydantic!=1.8,!=1.8.1,<1.9.0,>=1.7.4 in /usr/local/lib/python3.7/dist-packages (from spacy<3.4.0,>=3.3.0.dev0->pt-core-news-sm==3.3.0) (1.8.2)\n",
            "Requirement already satisfied: setuptools in /usr/local/lib/python3.7/dist-packages (from spacy<3.4.0,>=3.3.0.dev0->pt-core-news-sm==3.3.0) (57.4.0)\n",
            "Requirement already satisfied: pathy>=0.3.5 in /usr/local/lib/python3.7/dist-packages (from spacy<3.4.0,>=3.3.0.dev0->pt-core-news-sm==3.3.0) (0.6.1)\n",
            "Requirement already satisfied: tqdm<5.0.0,>=4.38.0 in /usr/local/lib/python3.7/dist-packages (from spacy<3.4.0,>=3.3.0.dev0->pt-core-news-sm==3.3.0) (4.64.0)\n",
            "Requirement already satisfied: spacy-loggers<2.0.0,>=1.0.0 in /usr/local/lib/python3.7/dist-packages (from spacy<3.4.0,>=3.3.0.dev0->pt-core-news-sm==3.3.0) (1.0.2)\n",
            "Requirement already satisfied: numpy>=1.15.0 in /usr/local/lib/python3.7/dist-packages (from spacy<3.4.0,>=3.3.0.dev0->pt-core-news-sm==3.3.0) (1.21.6)\n",
            "Requirement already satisfied: blis<0.8.0,>=0.4.0 in /usr/local/lib/python3.7/dist-packages (from spacy<3.4.0,>=3.3.0.dev0->pt-core-news-sm==3.3.0) (0.4.1)\n",
            "Requirement already satisfied: preshed<3.1.0,>=3.0.2 in /usr/local/lib/python3.7/dist-packages (from spacy<3.4.0,>=3.3.0.dev0->pt-core-news-sm==3.3.0) (3.0.6)\n",
            "Requirement already satisfied: typing-extensions<4.0.0.0,>=3.7.4 in /usr/local/lib/python3.7/dist-packages (from spacy<3.4.0,>=3.3.0.dev0->pt-core-news-sm==3.3.0) (3.10.0.2)\n",
            "Requirement already satisfied: packaging>=20.0 in /usr/local/lib/python3.7/dist-packages (from spacy<3.4.0,>=3.3.0.dev0->pt-core-news-sm==3.3.0) (21.3)\n",
            "Requirement already satisfied: spacy-legacy<3.1.0,>=3.0.9 in /usr/local/lib/python3.7/dist-packages (from spacy<3.4.0,>=3.3.0.dev0->pt-core-news-sm==3.3.0) (3.0.9)\n",
            "Requirement already satisfied: thinc<8.1.0,>=8.0.14 in /usr/local/lib/python3.7/dist-packages (from spacy<3.4.0,>=3.3.0.dev0->pt-core-news-sm==3.3.0) (8.0.17)\n",
            "Requirement already satisfied: cymem<2.1.0,>=2.0.2 in /usr/local/lib/python3.7/dist-packages (from spacy<3.4.0,>=3.3.0.dev0->pt-core-news-sm==3.3.0) (2.0.6)\n",
            "Requirement already satisfied: langcodes<4.0.0,>=3.2.0 in /usr/local/lib/python3.7/dist-packages (from spacy<3.4.0,>=3.3.0.dev0->pt-core-news-sm==3.3.0) (3.3.0)\n",
            "Requirement already satisfied: zipp>=0.5 in /usr/local/lib/python3.7/dist-packages (from catalogue<2.1.0,>=2.0.6->spacy<3.4.0,>=3.3.0.dev0->pt-core-news-sm==3.3.0) (3.8.0)\n",
            "Requirement already satisfied: pyparsing!=3.0.5,>=2.0.2 in /usr/local/lib/python3.7/dist-packages (from packaging>=20.0->spacy<3.4.0,>=3.3.0.dev0->pt-core-news-sm==3.3.0) (3.0.9)\n",
            "Requirement already satisfied: smart-open<6.0.0,>=5.0.0 in /usr/local/lib/python3.7/dist-packages (from pathy>=0.3.5->spacy<3.4.0,>=3.3.0.dev0->pt-core-news-sm==3.3.0) (5.2.1)\n",
            "Requirement already satisfied: chardet<4,>=3.0.2 in /usr/local/lib/python3.7/dist-packages (from requests<3.0.0,>=2.13.0->spacy<3.4.0,>=3.3.0.dev0->pt-core-news-sm==3.3.0) (3.0.4)\n",
            "Requirement already satisfied: idna<3,>=2.5 in /usr/local/lib/python3.7/dist-packages (from requests<3.0.0,>=2.13.0->spacy<3.4.0,>=3.3.0.dev0->pt-core-news-sm==3.3.0) (2.10)\n",
            "Requirement already satisfied: urllib3!=1.25.0,!=1.25.1,<1.26,>=1.21.1 in /usr/local/lib/python3.7/dist-packages (from requests<3.0.0,>=2.13.0->spacy<3.4.0,>=3.3.0.dev0->pt-core-news-sm==3.3.0) (1.24.3)\n",
            "Requirement already satisfied: certifi>=2017.4.17 in /usr/local/lib/python3.7/dist-packages (from requests<3.0.0,>=2.13.0->spacy<3.4.0,>=3.3.0.dev0->pt-core-news-sm==3.3.0) (2022.5.18.1)\n",
            "Requirement already satisfied: click<9.0.0,>=7.1.1 in /usr/local/lib/python3.7/dist-packages (from typer<0.5.0,>=0.3.0->spacy<3.4.0,>=3.3.0.dev0->pt-core-news-sm==3.3.0) (7.1.2)\n",
            "Requirement already satisfied: MarkupSafe>=0.23 in /usr/local/lib/python3.7/dist-packages (from jinja2->spacy<3.4.0,>=3.3.0.dev0->pt-core-news-sm==3.3.0) (2.0.1)\n",
            "Installing collected packages: pt-core-news-sm\n",
            "Successfully installed pt-core-news-sm-3.3.0\n",
            "\u001b[38;5;2m✔ Download and installation successful\u001b[0m\n",
            "You can now load the package via spacy.load('pt_core_news_sm')\n"
          ]
        }
      ]
    },
    {
      "cell_type": "code",
      "execution_count": null,
      "metadata": {
        "id": "i1TJu2WtLAlO"
      },
      "outputs": [],
      "source": [
        "import pandas as pd\n",
        "import numpy as np \n",
        "import matplotlib.pyplot as plt\n",
        "import nltk"
      ]
    },
    {
      "cell_type": "code",
      "source": [
        "nltk.download('rslp')"
      ],
      "metadata": {
        "colab": {
          "base_uri": "https://localhost:8080/"
        },
        "id": "lk98Jc3Y3WEv",
        "outputId": "661bf204-0b03-4230-bd00-214e986e18eb"
      },
      "execution_count": null,
      "outputs": [
        {
          "output_type": "stream",
          "name": "stdout",
          "text": [
            "[nltk_data] Downloading package rslp to /root/nltk_data...\n",
            "[nltk_data]   Unzipping stemmers/rslp.zip.\n"
          ]
        },
        {
          "output_type": "execute_result",
          "data": {
            "text/plain": [
              "True"
            ]
          },
          "metadata": {},
          "execution_count": 4
        }
      ]
    },
    {
      "cell_type": "code",
      "source": [
        "import spacy"
      ],
      "metadata": {
        "id": "s3NnPwimMRAs"
      },
      "execution_count": null,
      "outputs": []
    },
    {
      "cell_type": "code",
      "source": [
        "stemmer = nltk.stem.RSLPStemmer()"
      ],
      "metadata": {
        "id": "0n-AfBtl28fc"
      },
      "execution_count": null,
      "outputs": []
    },
    {
      "cell_type": "markdown",
      "source": [
        "##Carregando o dataset"
      ],
      "metadata": {
        "id": "q6XzWxJwL3jW"
      }
    },
    {
      "cell_type": "code",
      "source": [
        "dados = pd.read_csv('pre-processed.csv')"
      ],
      "metadata": {
        "id": "Y-g8cMB3Ld64"
      },
      "execution_count": null,
      "outputs": []
    },
    {
      "cell_type": "code",
      "source": [
        "dados = dados.drop(columns=['index'])"
      ],
      "metadata": {
        "id": "Q8CcHqJnMjrs"
      },
      "execution_count": null,
      "outputs": []
    },
    {
      "cell_type": "markdown",
      "source": [
        "## Aplicando os Métodos de Stemming e Lemmatização"
      ],
      "metadata": {
        "id": "Ok4eRl0S5CzT"
      }
    },
    {
      "cell_type": "code",
      "source": [
        "dados_copia = dados.copy()"
      ],
      "metadata": {
        "id": "LjkQP1fw-UYF"
      },
      "execution_count": null,
      "outputs": []
    },
    {
      "cell_type": "code",
      "source": [
        "import re\n",
        "\n",
        "def tokenize(text):\n",
        "  tokens = re.split('\\W+', text)\n",
        "  return tokens"
      ],
      "metadata": {
        "id": "1kntkLOBCoOx"
      },
      "execution_count": null,
      "outputs": []
    },
    {
      "cell_type": "code",
      "source": [
        "dados_copia['text_tokenized'] = dados_copia['preprocessed_news'].apply(lambda x: tokenize(x))"
      ],
      "metadata": {
        "id": "7iuxnT8FC-Jy"
      },
      "execution_count": null,
      "outputs": []
    },
    {
      "cell_type": "code",
      "source": [
        "dados_copia.head()"
      ],
      "metadata": {
        "id": "2RrENaiQDL5I",
        "colab": {
          "base_uri": "https://localhost:8080/",
          "height": 206
        },
        "outputId": "5c08f149-22be-4683-e656-5bf6f60c539c"
      },
      "execution_count": null,
      "outputs": [
        {
          "output_type": "execute_result",
          "data": {
            "text/plain": [
              "  label                                  preprocessed_news  \\\n",
              "0  fake  katia abreu diz vai colocar expulsao moldura n...   \n",
              "1  fake  ray peita bolsonaro conservador fake entrevist...   \n",
              "2  fake  reinaldo azevedo desmascarado policia federal ...   \n",
              "3  fake  relatorio assustador bndes mostra dinheiro pub...   \n",
              "4  fake  radialista americano fala sobre pt vendem ilus...   \n",
              "\n",
              "                                      text_tokenized  \n",
              "0  [katia, abreu, diz, vai, colocar, expulsao, mo...  \n",
              "1  [ray, peita, bolsonaro, conservador, fake, ent...  \n",
              "2  [reinaldo, azevedo, desmascarado, policia, fed...  \n",
              "3  [relatorio, assustador, bndes, mostra, dinheir...  \n",
              "4  [radialista, americano, fala, sobre, pt, vende...  "
            ],
            "text/html": [
              "\n",
              "  <div id=\"df-75bb4e1b-203e-4422-bae7-13c3673f7da1\">\n",
              "    <div class=\"colab-df-container\">\n",
              "      <div>\n",
              "<style scoped>\n",
              "    .dataframe tbody tr th:only-of-type {\n",
              "        vertical-align: middle;\n",
              "    }\n",
              "\n",
              "    .dataframe tbody tr th {\n",
              "        vertical-align: top;\n",
              "    }\n",
              "\n",
              "    .dataframe thead th {\n",
              "        text-align: right;\n",
              "    }\n",
              "</style>\n",
              "<table border=\"1\" class=\"dataframe\">\n",
              "  <thead>\n",
              "    <tr style=\"text-align: right;\">\n",
              "      <th></th>\n",
              "      <th>label</th>\n",
              "      <th>preprocessed_news</th>\n",
              "      <th>text_tokenized</th>\n",
              "    </tr>\n",
              "  </thead>\n",
              "  <tbody>\n",
              "    <tr>\n",
              "      <th>0</th>\n",
              "      <td>fake</td>\n",
              "      <td>katia abreu diz vai colocar expulsao moldura n...</td>\n",
              "      <td>[katia, abreu, diz, vai, colocar, expulsao, mo...</td>\n",
              "    </tr>\n",
              "    <tr>\n",
              "      <th>1</th>\n",
              "      <td>fake</td>\n",
              "      <td>ray peita bolsonaro conservador fake entrevist...</td>\n",
              "      <td>[ray, peita, bolsonaro, conservador, fake, ent...</td>\n",
              "    </tr>\n",
              "    <tr>\n",
              "      <th>2</th>\n",
              "      <td>fake</td>\n",
              "      <td>reinaldo azevedo desmascarado policia federal ...</td>\n",
              "      <td>[reinaldo, azevedo, desmascarado, policia, fed...</td>\n",
              "    </tr>\n",
              "    <tr>\n",
              "      <th>3</th>\n",
              "      <td>fake</td>\n",
              "      <td>relatorio assustador bndes mostra dinheiro pub...</td>\n",
              "      <td>[relatorio, assustador, bndes, mostra, dinheir...</td>\n",
              "    </tr>\n",
              "    <tr>\n",
              "      <th>4</th>\n",
              "      <td>fake</td>\n",
              "      <td>radialista americano fala sobre pt vendem ilus...</td>\n",
              "      <td>[radialista, americano, fala, sobre, pt, vende...</td>\n",
              "    </tr>\n",
              "  </tbody>\n",
              "</table>\n",
              "</div>\n",
              "      <button class=\"colab-df-convert\" onclick=\"convertToInteractive('df-75bb4e1b-203e-4422-bae7-13c3673f7da1')\"\n",
              "              title=\"Convert this dataframe to an interactive table.\"\n",
              "              style=\"display:none;\">\n",
              "        \n",
              "  <svg xmlns=\"http://www.w3.org/2000/svg\" height=\"24px\"viewBox=\"0 0 24 24\"\n",
              "       width=\"24px\">\n",
              "    <path d=\"M0 0h24v24H0V0z\" fill=\"none\"/>\n",
              "    <path d=\"M18.56 5.44l.94 2.06.94-2.06 2.06-.94-2.06-.94-.94-2.06-.94 2.06-2.06.94zm-11 1L8.5 8.5l.94-2.06 2.06-.94-2.06-.94L8.5 2.5l-.94 2.06-2.06.94zm10 10l.94 2.06.94-2.06 2.06-.94-2.06-.94-.94-2.06-.94 2.06-2.06.94z\"/><path d=\"M17.41 7.96l-1.37-1.37c-.4-.4-.92-.59-1.43-.59-.52 0-1.04.2-1.43.59L10.3 9.45l-7.72 7.72c-.78.78-.78 2.05 0 2.83L4 21.41c.39.39.9.59 1.41.59.51 0 1.02-.2 1.41-.59l7.78-7.78 2.81-2.81c.8-.78.8-2.07 0-2.86zM5.41 20L4 18.59l7.72-7.72 1.47 1.35L5.41 20z\"/>\n",
              "  </svg>\n",
              "      </button>\n",
              "      \n",
              "  <style>\n",
              "    .colab-df-container {\n",
              "      display:flex;\n",
              "      flex-wrap:wrap;\n",
              "      gap: 12px;\n",
              "    }\n",
              "\n",
              "    .colab-df-convert {\n",
              "      background-color: #E8F0FE;\n",
              "      border: none;\n",
              "      border-radius: 50%;\n",
              "      cursor: pointer;\n",
              "      display: none;\n",
              "      fill: #1967D2;\n",
              "      height: 32px;\n",
              "      padding: 0 0 0 0;\n",
              "      width: 32px;\n",
              "    }\n",
              "\n",
              "    .colab-df-convert:hover {\n",
              "      background-color: #E2EBFA;\n",
              "      box-shadow: 0px 1px 2px rgba(60, 64, 67, 0.3), 0px 1px 3px 1px rgba(60, 64, 67, 0.15);\n",
              "      fill: #174EA6;\n",
              "    }\n",
              "\n",
              "    [theme=dark] .colab-df-convert {\n",
              "      background-color: #3B4455;\n",
              "      fill: #D2E3FC;\n",
              "    }\n",
              "\n",
              "    [theme=dark] .colab-df-convert:hover {\n",
              "      background-color: #434B5C;\n",
              "      box-shadow: 0px 1px 3px 1px rgba(0, 0, 0, 0.15);\n",
              "      filter: drop-shadow(0px 1px 2px rgba(0, 0, 0, 0.3));\n",
              "      fill: #FFFFFF;\n",
              "    }\n",
              "  </style>\n",
              "\n",
              "      <script>\n",
              "        const buttonEl =\n",
              "          document.querySelector('#df-75bb4e1b-203e-4422-bae7-13c3673f7da1 button.colab-df-convert');\n",
              "        buttonEl.style.display =\n",
              "          google.colab.kernel.accessAllowed ? 'block' : 'none';\n",
              "\n",
              "        async function convertToInteractive(key) {\n",
              "          const element = document.querySelector('#df-75bb4e1b-203e-4422-bae7-13c3673f7da1');\n",
              "          const dataTable =\n",
              "            await google.colab.kernel.invokeFunction('convertToInteractive',\n",
              "                                                     [key], {});\n",
              "          if (!dataTable) return;\n",
              "\n",
              "          const docLinkHtml = 'Like what you see? Visit the ' +\n",
              "            '<a target=\"_blank\" href=https://colab.research.google.com/notebooks/data_table.ipynb>data table notebook</a>'\n",
              "            + ' to learn more about interactive tables.';\n",
              "          element.innerHTML = '';\n",
              "          dataTable['output_type'] = 'display_data';\n",
              "          await google.colab.output.renderOutput(dataTable, element);\n",
              "          const docLink = document.createElement('div');\n",
              "          docLink.innerHTML = docLinkHtml;\n",
              "          element.appendChild(docLink);\n",
              "        }\n",
              "      </script>\n",
              "    </div>\n",
              "  </div>\n",
              "  "
            ]
          },
          "metadata": {},
          "execution_count": 148
        }
      ]
    },
    {
      "cell_type": "code",
      "source": [
        "def stem_tokens(token_list):\n",
        "  stemmed_list = [stemmer.stem(word) for word in token_list]\n",
        "  return stemmed_list"
      ],
      "metadata": {
        "id": "KlH-v09nD2Kl"
      },
      "execution_count": null,
      "outputs": []
    },
    {
      "cell_type": "code",
      "source": [
        "dados_copia['text_stemmed'] = dados_copia['text_tokenized'].apply(lambda x: stem_tokens(x))"
      ],
      "metadata": {
        "id": "mTCq1d8zEH6n",
        "colab": {
          "base_uri": "https://localhost:8080/",
          "height": 311
        },
        "outputId": "a632f9e7-d978-4f47-a0d1-8c04de0ec66d"
      },
      "execution_count": null,
      "outputs": [
        {
          "output_type": "error",
          "ename": "KeyboardInterrupt",
          "evalue": "ignored",
          "traceback": [
            "\u001b[0;31m---------------------------------------------------------------------------\u001b[0m",
            "\u001b[0;31mKeyboardInterrupt\u001b[0m                         Traceback (most recent call last)",
            "\u001b[0;32m<ipython-input-150-2b64c1089718>\u001b[0m in \u001b[0;36m<module>\u001b[0;34m()\u001b[0m\n\u001b[0;32m----> 1\u001b[0;31m \u001b[0mdados_copia\u001b[0m\u001b[0;34m[\u001b[0m\u001b[0;34m'text_stemmed'\u001b[0m\u001b[0;34m]\u001b[0m \u001b[0;34m=\u001b[0m \u001b[0mdados_copia\u001b[0m\u001b[0;34m[\u001b[0m\u001b[0;34m'text_tokenized'\u001b[0m\u001b[0;34m]\u001b[0m\u001b[0;34m.\u001b[0m\u001b[0mapply\u001b[0m\u001b[0;34m(\u001b[0m\u001b[0;32mlambda\u001b[0m \u001b[0mx\u001b[0m\u001b[0;34m:\u001b[0m \u001b[0mstem_tokens\u001b[0m\u001b[0;34m(\u001b[0m\u001b[0mx\u001b[0m\u001b[0;34m)\u001b[0m\u001b[0;34m)\u001b[0m\u001b[0;34m\u001b[0m\u001b[0;34m\u001b[0m\u001b[0m\n\u001b[0m",
            "\u001b[0;32m/usr/local/lib/python3.7/dist-packages/pandas/core/series.py\u001b[0m in \u001b[0;36mapply\u001b[0;34m(self, func, convert_dtype, args, **kwargs)\u001b[0m\n\u001b[1;32m   4355\u001b[0m         \u001b[0mdtype\u001b[0m\u001b[0;34m:\u001b[0m \u001b[0mfloat64\u001b[0m\u001b[0;34m\u001b[0m\u001b[0;34m\u001b[0m\u001b[0m\n\u001b[1;32m   4356\u001b[0m         \"\"\"\n\u001b[0;32m-> 4357\u001b[0;31m         \u001b[0;32mreturn\u001b[0m \u001b[0mSeriesApply\u001b[0m\u001b[0;34m(\u001b[0m\u001b[0mself\u001b[0m\u001b[0;34m,\u001b[0m \u001b[0mfunc\u001b[0m\u001b[0;34m,\u001b[0m \u001b[0mconvert_dtype\u001b[0m\u001b[0;34m,\u001b[0m \u001b[0margs\u001b[0m\u001b[0;34m,\u001b[0m \u001b[0mkwargs\u001b[0m\u001b[0;34m)\u001b[0m\u001b[0;34m.\u001b[0m\u001b[0mapply\u001b[0m\u001b[0;34m(\u001b[0m\u001b[0;34m)\u001b[0m\u001b[0;34m\u001b[0m\u001b[0;34m\u001b[0m\u001b[0m\n\u001b[0m\u001b[1;32m   4358\u001b[0m \u001b[0;34m\u001b[0m\u001b[0m\n\u001b[1;32m   4359\u001b[0m     def _reduce(\n",
            "\u001b[0;32m/usr/local/lib/python3.7/dist-packages/pandas/core/apply.py\u001b[0m in \u001b[0;36mapply\u001b[0;34m(self)\u001b[0m\n\u001b[1;32m   1041\u001b[0m             \u001b[0;32mreturn\u001b[0m \u001b[0mself\u001b[0m\u001b[0;34m.\u001b[0m\u001b[0mapply_str\u001b[0m\u001b[0;34m(\u001b[0m\u001b[0;34m)\u001b[0m\u001b[0;34m\u001b[0m\u001b[0;34m\u001b[0m\u001b[0m\n\u001b[1;32m   1042\u001b[0m \u001b[0;34m\u001b[0m\u001b[0m\n\u001b[0;32m-> 1043\u001b[0;31m         \u001b[0;32mreturn\u001b[0m \u001b[0mself\u001b[0m\u001b[0;34m.\u001b[0m\u001b[0mapply_standard\u001b[0m\u001b[0;34m(\u001b[0m\u001b[0;34m)\u001b[0m\u001b[0;34m\u001b[0m\u001b[0;34m\u001b[0m\u001b[0m\n\u001b[0m\u001b[1;32m   1044\u001b[0m \u001b[0;34m\u001b[0m\u001b[0m\n\u001b[1;32m   1045\u001b[0m     \u001b[0;32mdef\u001b[0m \u001b[0magg\u001b[0m\u001b[0;34m(\u001b[0m\u001b[0mself\u001b[0m\u001b[0;34m)\u001b[0m\u001b[0;34m:\u001b[0m\u001b[0;34m\u001b[0m\u001b[0;34m\u001b[0m\u001b[0m\n",
            "\u001b[0;32m/usr/local/lib/python3.7/dist-packages/pandas/core/apply.py\u001b[0m in \u001b[0;36mapply_standard\u001b[0;34m(self)\u001b[0m\n\u001b[1;32m   1099\u001b[0m                     \u001b[0mvalues\u001b[0m\u001b[0;34m,\u001b[0m\u001b[0;34m\u001b[0m\u001b[0;34m\u001b[0m\u001b[0m\n\u001b[1;32m   1100\u001b[0m                     \u001b[0mf\u001b[0m\u001b[0;34m,\u001b[0m  \u001b[0;31m# type: ignore[arg-type]\u001b[0m\u001b[0;34m\u001b[0m\u001b[0;34m\u001b[0m\u001b[0m\n\u001b[0;32m-> 1101\u001b[0;31m                     \u001b[0mconvert\u001b[0m\u001b[0;34m=\u001b[0m\u001b[0mself\u001b[0m\u001b[0;34m.\u001b[0m\u001b[0mconvert_dtype\u001b[0m\u001b[0;34m,\u001b[0m\u001b[0;34m\u001b[0m\u001b[0;34m\u001b[0m\u001b[0m\n\u001b[0m\u001b[1;32m   1102\u001b[0m                 )\n\u001b[1;32m   1103\u001b[0m \u001b[0;34m\u001b[0m\u001b[0m\n",
            "\u001b[0;32m/usr/local/lib/python3.7/dist-packages/pandas/_libs/lib.pyx\u001b[0m in \u001b[0;36mpandas._libs.lib.map_infer\u001b[0;34m()\u001b[0m\n",
            "\u001b[0;32m<ipython-input-150-2b64c1089718>\u001b[0m in \u001b[0;36m<lambda>\u001b[0;34m(x)\u001b[0m\n\u001b[0;32m----> 1\u001b[0;31m \u001b[0mdados_copia\u001b[0m\u001b[0;34m[\u001b[0m\u001b[0;34m'text_stemmed'\u001b[0m\u001b[0;34m]\u001b[0m \u001b[0;34m=\u001b[0m \u001b[0mdados_copia\u001b[0m\u001b[0;34m[\u001b[0m\u001b[0;34m'text_tokenized'\u001b[0m\u001b[0;34m]\u001b[0m\u001b[0;34m.\u001b[0m\u001b[0mapply\u001b[0m\u001b[0;34m(\u001b[0m\u001b[0;32mlambda\u001b[0m \u001b[0mx\u001b[0m\u001b[0;34m:\u001b[0m \u001b[0mstem_tokens\u001b[0m\u001b[0;34m(\u001b[0m\u001b[0mx\u001b[0m\u001b[0;34m)\u001b[0m\u001b[0;34m)\u001b[0m\u001b[0;34m\u001b[0m\u001b[0;34m\u001b[0m\u001b[0m\n\u001b[0m",
            "\u001b[0;32m<ipython-input-149-5bebc50964c3>\u001b[0m in \u001b[0;36mstem_tokens\u001b[0;34m(token_list)\u001b[0m\n\u001b[1;32m      1\u001b[0m \u001b[0;32mdef\u001b[0m \u001b[0mstem_tokens\u001b[0m\u001b[0;34m(\u001b[0m\u001b[0mtoken_list\u001b[0m\u001b[0;34m)\u001b[0m\u001b[0;34m:\u001b[0m\u001b[0;34m\u001b[0m\u001b[0;34m\u001b[0m\u001b[0m\n\u001b[0;32m----> 2\u001b[0;31m   \u001b[0mstemmed_list\u001b[0m \u001b[0;34m=\u001b[0m \u001b[0;34m[\u001b[0m\u001b[0mstemmer\u001b[0m\u001b[0;34m.\u001b[0m\u001b[0mstem\u001b[0m\u001b[0;34m(\u001b[0m\u001b[0mword\u001b[0m\u001b[0;34m)\u001b[0m \u001b[0;32mfor\u001b[0m \u001b[0mword\u001b[0m \u001b[0;32min\u001b[0m \u001b[0mtoken_list\u001b[0m\u001b[0;34m]\u001b[0m\u001b[0;34m\u001b[0m\u001b[0;34m\u001b[0m\u001b[0m\n\u001b[0m\u001b[1;32m      3\u001b[0m   \u001b[0;32mreturn\u001b[0m \u001b[0mstemmed_list\u001b[0m\u001b[0;34m\u001b[0m\u001b[0;34m\u001b[0m\u001b[0m\n",
            "\u001b[0;32m<ipython-input-149-5bebc50964c3>\u001b[0m in \u001b[0;36m<listcomp>\u001b[0;34m(.0)\u001b[0m\n\u001b[1;32m      1\u001b[0m \u001b[0;32mdef\u001b[0m \u001b[0mstem_tokens\u001b[0m\u001b[0;34m(\u001b[0m\u001b[0mtoken_list\u001b[0m\u001b[0;34m)\u001b[0m\u001b[0;34m:\u001b[0m\u001b[0;34m\u001b[0m\u001b[0;34m\u001b[0m\u001b[0m\n\u001b[0;32m----> 2\u001b[0;31m   \u001b[0mstemmed_list\u001b[0m \u001b[0;34m=\u001b[0m \u001b[0;34m[\u001b[0m\u001b[0mstemmer\u001b[0m\u001b[0;34m.\u001b[0m\u001b[0mstem\u001b[0m\u001b[0;34m(\u001b[0m\u001b[0mword\u001b[0m\u001b[0;34m)\u001b[0m \u001b[0;32mfor\u001b[0m \u001b[0mword\u001b[0m \u001b[0;32min\u001b[0m \u001b[0mtoken_list\u001b[0m\u001b[0;34m]\u001b[0m\u001b[0;34m\u001b[0m\u001b[0;34m\u001b[0m\u001b[0m\n\u001b[0m\u001b[1;32m      3\u001b[0m   \u001b[0;32mreturn\u001b[0m \u001b[0mstemmed_list\u001b[0m\u001b[0;34m\u001b[0m\u001b[0;34m\u001b[0m\u001b[0m\n",
            "\u001b[0;32m/usr/local/lib/python3.7/dist-packages/nltk/stem/rslp.py\u001b[0m in \u001b[0;36mstem\u001b[0;34m(self, word)\u001b[0m\n\u001b[1;32m    120\u001b[0m             \u001b[0;31m# verb reduction\u001b[0m\u001b[0;34m\u001b[0m\u001b[0;34m\u001b[0m\u001b[0;34m\u001b[0m\u001b[0m\n\u001b[1;32m    121\u001b[0m             \u001b[0mprev_word\u001b[0m \u001b[0;34m=\u001b[0m \u001b[0mword\u001b[0m\u001b[0;34m\u001b[0m\u001b[0;34m\u001b[0m\u001b[0m\n\u001b[0;32m--> 122\u001b[0;31m             \u001b[0mword\u001b[0m \u001b[0;34m=\u001b[0m \u001b[0mself\u001b[0m\u001b[0;34m.\u001b[0m\u001b[0mapply_rule\u001b[0m\u001b[0;34m(\u001b[0m\u001b[0mword\u001b[0m\u001b[0;34m,\u001b[0m \u001b[0;36m5\u001b[0m\u001b[0;34m)\u001b[0m\u001b[0;34m\u001b[0m\u001b[0;34m\u001b[0m\u001b[0m\n\u001b[0m\u001b[1;32m    123\u001b[0m             \u001b[0;32mif\u001b[0m \u001b[0mword\u001b[0m \u001b[0;34m==\u001b[0m \u001b[0mprev_word\u001b[0m\u001b[0;34m:\u001b[0m\u001b[0;34m\u001b[0m\u001b[0;34m\u001b[0m\u001b[0m\n\u001b[1;32m    124\u001b[0m                 \u001b[0;31m# vowel removal\u001b[0m\u001b[0;34m\u001b[0m\u001b[0;34m\u001b[0m\u001b[0;34m\u001b[0m\u001b[0m\n",
            "\u001b[0;32m/usr/local/lib/python3.7/dist-packages/nltk/stem/rslp.py\u001b[0m in \u001b[0;36mapply_rule\u001b[0;34m(self, word, rule_index)\u001b[0m\n\u001b[1;32m    130\u001b[0m         \u001b[0mrules\u001b[0m \u001b[0;34m=\u001b[0m \u001b[0mself\u001b[0m\u001b[0;34m.\u001b[0m\u001b[0m_model\u001b[0m\u001b[0;34m[\u001b[0m\u001b[0mrule_index\u001b[0m\u001b[0;34m]\u001b[0m\u001b[0;34m\u001b[0m\u001b[0;34m\u001b[0m\u001b[0m\n\u001b[1;32m    131\u001b[0m         \u001b[0;32mfor\u001b[0m \u001b[0mrule\u001b[0m \u001b[0;32min\u001b[0m \u001b[0mrules\u001b[0m\u001b[0;34m:\u001b[0m\u001b[0;34m\u001b[0m\u001b[0;34m\u001b[0m\u001b[0m\n\u001b[0;32m--> 132\u001b[0;31m             \u001b[0msuffix_length\u001b[0m \u001b[0;34m=\u001b[0m \u001b[0mlen\u001b[0m\u001b[0;34m(\u001b[0m\u001b[0mrule\u001b[0m\u001b[0;34m[\u001b[0m\u001b[0;36m0\u001b[0m\u001b[0;34m]\u001b[0m\u001b[0;34m)\u001b[0m\u001b[0;34m\u001b[0m\u001b[0;34m\u001b[0m\u001b[0m\n\u001b[0m\u001b[1;32m    133\u001b[0m             \u001b[0;32mif\u001b[0m \u001b[0mword\u001b[0m\u001b[0;34m[\u001b[0m\u001b[0;34m-\u001b[0m\u001b[0msuffix_length\u001b[0m\u001b[0;34m:\u001b[0m\u001b[0;34m]\u001b[0m \u001b[0;34m==\u001b[0m \u001b[0mrule\u001b[0m\u001b[0;34m[\u001b[0m\u001b[0;36m0\u001b[0m\u001b[0;34m]\u001b[0m\u001b[0;34m:\u001b[0m       \u001b[0;31m# if suffix matches\u001b[0m\u001b[0;34m\u001b[0m\u001b[0;34m\u001b[0m\u001b[0m\n\u001b[1;32m    134\u001b[0m                 \u001b[0;32mif\u001b[0m \u001b[0mlen\u001b[0m\u001b[0;34m(\u001b[0m\u001b[0mword\u001b[0m\u001b[0;34m)\u001b[0m \u001b[0;34m>=\u001b[0m \u001b[0msuffix_length\u001b[0m \u001b[0;34m+\u001b[0m \u001b[0mrule\u001b[0m\u001b[0;34m[\u001b[0m\u001b[0;36m1\u001b[0m\u001b[0;34m]\u001b[0m\u001b[0;34m:\u001b[0m \u001b[0;31m# if we have minimum size\u001b[0m\u001b[0;34m\u001b[0m\u001b[0;34m\u001b[0m\u001b[0m\n",
            "\u001b[0;31mKeyboardInterrupt\u001b[0m: "
          ]
        }
      ]
    },
    {
      "cell_type": "code",
      "source": [
        "from nltk.tokenize.treebank import TreebankWordDetokenizer"
      ],
      "metadata": {
        "id": "diU363o4L5KV"
      },
      "execution_count": null,
      "outputs": []
    },
    {
      "cell_type": "code",
      "source": [
        "dados_copia['detoken'] = dados_copia['text_stemmed'].apply(lambda x: TreebankWordDetokenizer().detokenize(x))"
      ],
      "metadata": {
        "id": "cR7Xas7EI4Fi"
      },
      "execution_count": null,
      "outputs": []
    },
    {
      "cell_type": "code",
      "source": [
        "nlp = spacy.load('pt_core_news_sm')"
      ],
      "metadata": {
        "id": "H69Gmfe_aNlP"
      },
      "execution_count": null,
      "outputs": []
    },
    {
      "cell_type": "code",
      "source": [
        "def lem_token(text):\n",
        "  lemma_list = []\n",
        "  doc = nlp(text)\n",
        "  for word in doc:\n",
        "    lemma_list.append(word.lemma_)\n",
        "  return lemma_list"
      ],
      "metadata": {
        "id": "Kv5M8rDUgLJF"
      },
      "execution_count": null,
      "outputs": []
    },
    {
      "cell_type": "code",
      "source": [
        "dados_copia['lemma'] = dados_copia['preprocessed_news'].apply(lambda x: lem_token(x))"
      ],
      "metadata": {
        "id": "aWaRMGy4gT57"
      },
      "execution_count": null,
      "outputs": []
    },
    {
      "cell_type": "code",
      "source": [
        "dados_copia['detoken_lemma'] = dados_copia['lemma'].apply(lambda x: TreebankWordDetokenizer().detokenize(x))"
      ],
      "metadata": {
        "id": "1mRQ89arnwyH"
      },
      "execution_count": null,
      "outputs": []
    },
    {
      "cell_type": "code",
      "source": [
        "dados_copia.head()"
      ],
      "metadata": {
        "id": "xsV_dpvm-CZd"
      },
      "execution_count": null,
      "outputs": []
    },
    {
      "cell_type": "code",
      "source": [
        "dados_copia.to_csv('dados_lemma_stem.csv', index = False)"
      ],
      "metadata": {
        "id": "e9aZZ3gF-SWo"
      },
      "execution_count": null,
      "outputs": []
    },
    {
      "cell_type": "markdown",
      "source": [
        "##Importando bibliotecas para o modelo de IA\n"
      ],
      "metadata": {
        "id": "NcQILLXgOBCv"
      }
    },
    {
      "cell_type": "code",
      "source": [
        "from sklearn.feature_extraction.text import TfidfVectorizer\n",
        "from sklearn.model_selection import train_test_split\n",
        "from sklearn.svm import LinearSVC\n",
        "from sklearn.metrics import classification_report\n",
        "from sklearn.metrics import confusion_matrix\n",
        "from sklearn.metrics import plot_confusion_matrix\n",
        "from sklearn.metrics import accuracy_score\n",
        "from sklearn.metrics import f1_score"
      ],
      "metadata": {
        "id": "E5TfhEYLN62w"
      },
      "execution_count": null,
      "outputs": []
    },
    {
      "cell_type": "code",
      "source": [
        "from sklearn.metrics import precision_score\n",
        "from sklearn.metrics import recall_score\n",
        "from sklearn.neural_network import MLPClassifier\n",
        "from sklearn.ensemble import AdaBoostClassifier, RandomForestClassifier\n",
        "from sklearn.svm import SVC\n",
        "from sklearn.neighbors import KNeighborsClassifier\n",
        "from sklearn.tree import DecisionTreeClassifier\n",
        "from sklearn import tree"
      ],
      "metadata": {
        "id": "UarDZcZ5YRXd"
      },
      "execution_count": null,
      "outputs": []
    },
    {
      "cell_type": "markdown",
      "source": [
        "### Aplicação do Método de Vetorização. Não passando nenhum parâmetro para o dicionário e teste rápido com algoritmo de SVM."
      ],
      "metadata": {
        "id": "cW7_aLnLYq5Y"
      }
    },
    {
      "cell_type": "markdown",
      "source": [
        "#### Sem Nenhum pré-processamento"
      ],
      "metadata": {
        "id": "jyvM-EbGDStd"
      }
    },
    {
      "cell_type": "code",
      "source": [
        "X = dados['preprocessed_news']\n",
        "y = dados['label']\n",
        "X_train, X_test, y_train, y_test = train_test_split(X, y, test_size = 0.3, random_state = 0)\n",
        "tfidf = TfidfVectorizer()\n",
        "\n",
        "X_train = tfidf.fit_transform(X_train)\n",
        "X_test = tfidf.transform(X_test)\n",
        "\n",
        "# X = tfidf.fit_transform(X)\n"
      ],
      "metadata": {
        "id": "DC_GSt55qulw"
      },
      "execution_count": null,
      "outputs": []
    },
    {
      "cell_type": "code",
      "source": [
        "print(len(tfidf.vocabulary_))"
      ],
      "metadata": {
        "id": "35lbY7tfOw0g",
        "colab": {
          "base_uri": "https://localhost:8080/"
        },
        "outputId": "0861f33a-6f69-4ae1-da6a-45c3826f6f46"
      },
      "execution_count": null,
      "outputs": [
        {
          "output_type": "stream",
          "name": "stdout",
          "text": [
            "68562\n"
          ]
        }
      ]
    },
    {
      "cell_type": "markdown",
      "source": [
        "Aplicando o Algoritmo de SVM"
      ],
      "metadata": {
        "id": "X6mFxAFIBypr"
      }
    },
    {
      "cell_type": "code",
      "source": [
        "clf = LinearSVC()\n",
        "clf.fit(X_train, y_train)\n",
        "y_pred = clf.predict(X_test)"
      ],
      "metadata": {
        "id": "qeB3wQA5Bx5B"
      },
      "execution_count": null,
      "outputs": []
    },
    {
      "cell_type": "code",
      "source": [
        "print('Accuracy of the Algorithm is: {}'.format(accuracy_score(y_test, y_pred)))"
      ],
      "metadata": {
        "colab": {
          "base_uri": "https://localhost:8080/"
        },
        "id": "jKfSWtWmB5En",
        "outputId": "3f5bfbc2-ab18-4cb1-a568-c341d63f9b50"
      },
      "execution_count": null,
      "outputs": [
        {
          "output_type": "stream",
          "name": "stdout",
          "text": [
            "Accuracy of the Algorithm is: 0.9611111111111111\n"
          ]
        }
      ]
    },
    {
      "cell_type": "markdown",
      "source": [
        "#### Com o Algoritmo de Stemming"
      ],
      "metadata": {
        "id": "IpKHPoDpDYPf"
      }
    },
    {
      "cell_type": "code",
      "source": [
        "X = dados_copia['detoken']\n",
        "y = dados_copia['label']\n",
        "X_train, X_test, y_train, y_test = train_test_split(X, y, test_size = 0.3, random_state = 0)\n",
        "tfidf = TfidfVectorizer()\n",
        "\n",
        "X_train = tfidf.fit_transform(X_train)\n",
        "X_test = tfidf.transform(X_test)\n"
      ],
      "metadata": {
        "id": "kQB4fZSYDbgG"
      },
      "execution_count": null,
      "outputs": []
    },
    {
      "cell_type": "code",
      "source": [
        "print(len(tfidf.vocabulary_))"
      ],
      "metadata": {
        "colab": {
          "base_uri": "https://localhost:8080/"
        },
        "id": "any3LQ-vDbdp",
        "outputId": "a8a83c25-5a80-4c15-a7a9-8820859169f8"
      },
      "execution_count": null,
      "outputs": [
        {
          "output_type": "stream",
          "name": "stdout",
          "text": [
            "31485\n"
          ]
        }
      ]
    },
    {
      "cell_type": "markdown",
      "source": [
        "Aplicando o Algoritmo de SVM"
      ],
      "metadata": {
        "id": "-JpTnv_FDkkW"
      }
    },
    {
      "cell_type": "code",
      "source": [
        "clf = LinearSVC()\n",
        "clf.fit(X_train, y_train)\n",
        "y_pred = clf.predict(X_test)"
      ],
      "metadata": {
        "id": "DE3u2VYCDbbQ"
      },
      "execution_count": null,
      "outputs": []
    },
    {
      "cell_type": "code",
      "source": [
        "print('Accuracy of the Algorithm is: {}'.format(accuracy_score(y_test, y_pred)))"
      ],
      "metadata": {
        "colab": {
          "base_uri": "https://localhost:8080/"
        },
        "id": "7pKxw2R-DbWs",
        "outputId": "9be2f81d-29bd-44c3-b97e-a4ab76ee5bb5"
      },
      "execution_count": null,
      "outputs": [
        {
          "output_type": "stream",
          "name": "stdout",
          "text": [
            "Accuracy of the Algorithm is: 0.9569444444444445\n"
          ]
        }
      ]
    },
    {
      "cell_type": "markdown",
      "source": [
        "#### Com o Algoritmo de Lemmatizing"
      ],
      "metadata": {
        "id": "3-QQDx1SDrbb"
      }
    },
    {
      "cell_type": "code",
      "source": [
        "X = dados_copia['detoken_lemma']\n",
        "y = dados_copia['label']\n",
        "X_train, X_test, y_train, y_test = train_test_split(X, y, test_size = 0.3, random_state = 0)\n",
        "tfidf = TfidfVectorizer()\n",
        "\n",
        "X_train = tfidf.fit_transform(X_train)\n",
        "X_test = tfidf.transform(X_test)\n",
        "\n"
      ],
      "metadata": {
        "id": "Y_mHP7ZCDvqW"
      },
      "execution_count": null,
      "outputs": []
    },
    {
      "cell_type": "code",
      "source": [
        "print(len(tfidf.vocabulary_))"
      ],
      "metadata": {
        "colab": {
          "base_uri": "https://localhost:8080/"
        },
        "id": "i2r7zL5eDvnk",
        "outputId": "c5123966-5ede-41b3-d5c8-d93aae559fab"
      },
      "execution_count": null,
      "outputs": [
        {
          "output_type": "stream",
          "name": "stdout",
          "text": [
            "57086\n"
          ]
        }
      ]
    },
    {
      "cell_type": "markdown",
      "source": [
        "Aplicando o Algoritmo de SVM"
      ],
      "metadata": {
        "id": "kcDjdy38D2fg"
      }
    },
    {
      "cell_type": "code",
      "source": [
        "clf = LinearSVC()\n",
        "clf.fit(X_train, y_train)\n",
        "y_pred = clf.predict(X_test)"
      ],
      "metadata": {
        "id": "ud0RZ8SgDvk6"
      },
      "execution_count": null,
      "outputs": []
    },
    {
      "cell_type": "code",
      "source": [
        "print('Accuracy of the Algorithm is: {}'.format(accuracy_score(y_test, y_pred)))"
      ],
      "metadata": {
        "colab": {
          "base_uri": "https://localhost:8080/"
        },
        "id": "qBiWo9m0DviQ",
        "outputId": "2e31dec5-4440-4988-acca-8d1ce8d3f27e"
      },
      "execution_count": null,
      "outputs": [
        {
          "output_type": "stream",
          "name": "stdout",
          "text": [
            "Accuracy of the Algorithm is: 0.9625\n"
          ]
        }
      ]
    },
    {
      "cell_type": "markdown",
      "source": [
        "**Conclusões até o momento**\n",
        "\n",
        "\n",
        "1.   Sem passar nenhum valor de tamanho para o dicionário, e sem utilizar nenhum método de pré-processamento (Lemmatizing ou Stemming) o algoritmo cria um dicionário do tamanho de:  **68562 palavras**;\n",
        "\n",
        "2.   Para este dicionário, a acurácia obtida é de: **0.961111**;\n",
        "\n",
        "3.   Aplicando o Método de Stemming conseguimos uma grande diminuição das palavras no dicionário criado, sendo este agora composto por: **31485 palavras**;\n",
        "\n",
        "4.   Para este Dicionário, a acurácia obtida foi de: **0.9569**;\n",
        "\n",
        "5.   Com o método de Lemmatizing conseguimos uma pequena redução do dicionário, sendo composto por: **57086 palavras**;\n",
        "\n",
        "6. Para este último foi obtida a acurácia de: **0.9625**.\n"
      ],
      "metadata": {
        "id": "T4e4YPufEFUJ"
      }
    },
    {
      "cell_type": "markdown",
      "source": [
        "### Aplicando o Método de Vetorização. Com um dicionário de 500 palavras e teste rápido com algoritmo de SVM."
      ],
      "metadata": {
        "id": "5tGji-SyCNcx"
      }
    },
    {
      "cell_type": "markdown",
      "source": [
        "#### Sem Nenhum Pré-Processamento"
      ],
      "metadata": {
        "id": "2MUCERaiF5SU"
      }
    },
    {
      "cell_type": "code",
      "source": [
        "X = dados['preprocessed_news']\n",
        "y = dados['label']\n",
        "X_train, X_test, y_train, y_test = train_test_split(X, y, test_size = 0.3, random_state = 0)\n",
        "tfidf = TfidfVectorizer(max_features = 500)\n",
        "\n",
        "X_train = tfidf.fit_transform(X_train)\n",
        "X_test = tfidf.transform(X_test)"
      ],
      "metadata": {
        "id": "5vHQFCRzCp4c"
      },
      "execution_count": null,
      "outputs": []
    },
    {
      "cell_type": "code",
      "source": [
        "print(len(tfidf.vocabulary_))"
      ],
      "metadata": {
        "colab": {
          "base_uri": "https://localhost:8080/"
        },
        "id": "0fMjaOsYCp2C",
        "outputId": "7c99e178-ded9-4d8a-91e4-258d3a7288f8"
      },
      "execution_count": null,
      "outputs": [
        {
          "output_type": "stream",
          "name": "stdout",
          "text": [
            "500\n"
          ]
        }
      ]
    },
    {
      "cell_type": "markdown",
      "source": [
        "Aplicando o Algoritmo de SVM"
      ],
      "metadata": {
        "id": "OTWsdigYC8pr"
      }
    },
    {
      "cell_type": "code",
      "source": [
        "clf = LinearSVC()\n",
        "clf.fit(X_train, y_train)\n",
        "y_pred = clf.predict(X_test)"
      ],
      "metadata": {
        "id": "yrRlPpW_Cpz6"
      },
      "execution_count": null,
      "outputs": []
    },
    {
      "cell_type": "code",
      "source": [
        "print('Accuracy of the Algorithm is: {}'.format(accuracy_score(y_test, y_pred)))"
      ],
      "metadata": {
        "colab": {
          "base_uri": "https://localhost:8080/"
        },
        "id": "lrvbbC9qCpxo",
        "outputId": "695702fc-18c8-414d-f84a-e70ece8679c0"
      },
      "execution_count": null,
      "outputs": [
        {
          "output_type": "stream",
          "name": "stdout",
          "text": [
            "Accuracy of the Algorithm is: 0.9375\n"
          ]
        }
      ]
    },
    {
      "cell_type": "markdown",
      "source": [
        "#### Com o Algoritmo de Stemming"
      ],
      "metadata": {
        "id": "Pf18yQW2F9--"
      }
    },
    {
      "cell_type": "code",
      "source": [
        "X = dados_copia['detoken']\n",
        "y = dados_copia['label']\n",
        "X_train, X_test, y_train, y_test = train_test_split(X, y, test_size = 0.3, random_state = 0)\n",
        "tfidf = TfidfVectorizer(max_features=500)\n",
        "\n",
        "X_train = tfidf.fit_transform(X_train)\n",
        "X_test = tfidf.transform(X_test)\n"
      ],
      "metadata": {
        "id": "ky7Iz5wlGGlA"
      },
      "execution_count": null,
      "outputs": []
    },
    {
      "cell_type": "code",
      "source": [
        "print(len(tfidf.vocabulary_))"
      ],
      "metadata": {
        "colab": {
          "base_uri": "https://localhost:8080/"
        },
        "id": "EX1p6rWiGGhm",
        "outputId": "bb6db155-75b3-4b35-93fd-2cd8b0babff7"
      },
      "execution_count": null,
      "outputs": [
        {
          "output_type": "stream",
          "name": "stdout",
          "text": [
            "500\n"
          ]
        }
      ]
    },
    {
      "cell_type": "markdown",
      "source": [
        "Aplicando o Algoritmo de SVM"
      ],
      "metadata": {
        "id": "_GVHdhAhGeIW"
      }
    },
    {
      "cell_type": "code",
      "source": [
        "clf = LinearSVC()\n",
        "clf.fit(X_train, y_train)\n",
        "y_pred = clf.predict(X_test)"
      ],
      "metadata": {
        "id": "MLGh5LBxGGfM"
      },
      "execution_count": null,
      "outputs": []
    },
    {
      "cell_type": "code",
      "source": [
        "print('Accuracy of the Algorithm is: {}'.format(accuracy_score(y_test, y_pred)))"
      ],
      "metadata": {
        "colab": {
          "base_uri": "https://localhost:8080/"
        },
        "id": "DWRoa1UMGGce",
        "outputId": "a05a2964-ed5f-4e77-d374-86a6a175adde"
      },
      "execution_count": null,
      "outputs": [
        {
          "output_type": "stream",
          "name": "stdout",
          "text": [
            "Accuracy of the Algorithm is: 0.937037037037037\n"
          ]
        }
      ]
    },
    {
      "cell_type": "markdown",
      "source": [
        "#### Com o Algoritmo de Lemmatizing"
      ],
      "metadata": {
        "id": "WZnzmU_7GAlY"
      }
    },
    {
      "cell_type": "code",
      "source": [
        "X = dados_copia['detoken_lemma']\n",
        "y = dados_copia['label']\n",
        "X_train, X_test, y_train, y_test = train_test_split(X, y, test_size = 0.3, random_state = 0)\n",
        "tfidf = TfidfVectorizer(max_features=500)\n",
        "\n",
        "X_train = tfidf.fit_transform(X_train)\n",
        "X_test = tfidf.transform(X_test)\n",
        "\n"
      ],
      "metadata": {
        "id": "vFgnylQ9GVFB"
      },
      "execution_count": null,
      "outputs": []
    },
    {
      "cell_type": "code",
      "source": [
        "print(len(tfidf.vocabulary_))"
      ],
      "metadata": {
        "colab": {
          "base_uri": "https://localhost:8080/"
        },
        "id": "x88XvwQuGVC7",
        "outputId": "6563debc-b906-4a59-83fe-50b7b7e08e88"
      },
      "execution_count": null,
      "outputs": [
        {
          "output_type": "stream",
          "name": "stdout",
          "text": [
            "500\n"
          ]
        }
      ]
    },
    {
      "cell_type": "markdown",
      "source": [
        "Aplicando o algoritmo de SVM"
      ],
      "metadata": {
        "id": "lro9UsZmGg2l"
      }
    },
    {
      "cell_type": "code",
      "source": [
        "clf = LinearSVC()\n",
        "clf.fit(X_train, y_train)\n",
        "y_pred = clf.predict(X_test)"
      ],
      "metadata": {
        "id": "UicGn8fSGVAL"
      },
      "execution_count": null,
      "outputs": []
    },
    {
      "cell_type": "code",
      "source": [
        "print('Accuracy of the Algorithm is: {}'.format(accuracy_score(y_test, y_pred)))"
      ],
      "metadata": {
        "colab": {
          "base_uri": "https://localhost:8080/"
        },
        "id": "FEmevuzuGU92",
        "outputId": "b6c07e24-43e5-4fa8-abcd-4e5115065696"
      },
      "execution_count": null,
      "outputs": [
        {
          "output_type": "stream",
          "name": "stdout",
          "text": [
            "Accuracy of the Algorithm is: 0.9416666666666667\n"
          ]
        }
      ]
    },
    {
      "cell_type": "markdown",
      "source": [
        "**Conclusões até o momento**\n",
        "\n",
        "\n",
        "1.   Agora todos os dicionários criados possuem a mesma quantidade de palavras: **500 palavras**;\n",
        "\n",
        "2.   Sem nenhum método de Pré-processamento, obtivemos a acurácia de: **0.9375**\n",
        "\n",
        "3.   Utilizando o método de Stemming obtivemos a acurácia de: **0.9370**\n",
        "\n",
        "4.   Com o método de Lematizing a acurácia obtida foi de : **0.9416**\n",
        "\n"
      ],
      "metadata": {
        "id": "P18NbHIlGnQw"
      }
    },
    {
      "cell_type": "markdown",
      "source": [
        "### Aplicando o Método de Vetorização. Com um dicionário de 5000 palavras e teste rápido com algoritmo de SVM."
      ],
      "metadata": {
        "id": "BsH0vQDtDFEQ"
      }
    },
    {
      "cell_type": "markdown",
      "source": [
        "#### Sem Nenhum pré-processamento"
      ],
      "metadata": {
        "id": "8CKOLMGSHTtR"
      }
    },
    {
      "cell_type": "code",
      "source": [
        "X = dados['preprocessed_news']\n",
        "y = dados['label']\n",
        "X_train, X_test, y_train, y_test = train_test_split(X, y, test_size = 0.3, random_state = 0)\n",
        "tfidf = TfidfVectorizer(max_features = 5000)\n",
        "\n",
        "X_train = tfidf.fit_transform(X_train)\n",
        "X_test = tfidf.transform(X_test)"
      ],
      "metadata": {
        "id": "N3QjYOTJCpvD"
      },
      "execution_count": null,
      "outputs": []
    },
    {
      "cell_type": "code",
      "source": [
        "print(len(tfidf.vocabulary_))"
      ],
      "metadata": {
        "colab": {
          "base_uri": "https://localhost:8080/"
        },
        "id": "34ENy-XxCpse",
        "outputId": "8a4d533c-9ea0-4c5e-9619-d41277646a5e"
      },
      "execution_count": null,
      "outputs": [
        {
          "output_type": "stream",
          "name": "stdout",
          "text": [
            "5000\n"
          ]
        }
      ]
    },
    {
      "cell_type": "markdown",
      "source": [
        "Aplicando o Algoritmo de SVM"
      ],
      "metadata": {
        "id": "H-Fb7YVBLM1p"
      }
    },
    {
      "cell_type": "code",
      "source": [
        "clf = LinearSVC()\n",
        "clf.fit(X_train, y_train)\n",
        "y_pred = clf.predict(X_test)"
      ],
      "metadata": {
        "id": "o4_om6ImCpp7"
      },
      "execution_count": null,
      "outputs": []
    },
    {
      "cell_type": "code",
      "source": [
        "clf = LinearSVC()\n",
        "clf.fit(X_train, y_train)\n",
        "y_pred = clf.predict(X_test)"
      ],
      "metadata": {
        "id": "01hKoGvHDLQC"
      },
      "execution_count": null,
      "outputs": []
    },
    {
      "cell_type": "code",
      "source": [
        "print('Accuracy of the Algorithm is: {}'.format(accuracy_score(y_test, y_pred)))"
      ],
      "metadata": {
        "colab": {
          "base_uri": "https://localhost:8080/"
        },
        "id": "qx5Xtz70DO_g",
        "outputId": "e5109501-92a6-4b01-d6d5-4f03197b48e8"
      },
      "execution_count": null,
      "outputs": [
        {
          "output_type": "stream",
          "name": "stdout",
          "text": [
            "Accuracy of the Algorithm is: 0.962037037037037\n"
          ]
        }
      ]
    },
    {
      "cell_type": "markdown",
      "source": [
        "#### Com o Algoritmo de Stemming"
      ],
      "metadata": {
        "id": "afH7D8o9HX9n"
      }
    },
    {
      "cell_type": "code",
      "source": [
        "X = dados_copia['detoken']\n",
        "y = dados_copia['label']\n",
        "X_train, X_test, y_train, y_test = train_test_split(X, y, test_size = 0.3, random_state = 0)\n",
        "tfidf = TfidfVectorizer(max_features=5000)\n",
        "\n",
        "X_train = tfidf.fit_transform(X_train)\n",
        "X_test = tfidf.transform(X_test)\n"
      ],
      "metadata": {
        "id": "uBwier31HfUX"
      },
      "execution_count": null,
      "outputs": []
    },
    {
      "cell_type": "code",
      "source": [
        "print(len(tfidf.vocabulary_))"
      ],
      "metadata": {
        "colab": {
          "base_uri": "https://localhost:8080/"
        },
        "id": "tD9udHzCHfRa",
        "outputId": "7ea1a427-50c5-4d4f-ef24-6331f2027736"
      },
      "execution_count": null,
      "outputs": [
        {
          "output_type": "stream",
          "name": "stdout",
          "text": [
            "5000\n"
          ]
        }
      ]
    },
    {
      "cell_type": "markdown",
      "source": [
        "Aplicando o Algoritmo de SVM"
      ],
      "metadata": {
        "id": "xMBNwLumLc5Z"
      }
    },
    {
      "cell_type": "code",
      "source": [
        "clf = LinearSVC()\n",
        "clf.fit(X_train, y_train)\n",
        "y_pred = clf.predict(X_test)"
      ],
      "metadata": {
        "id": "ev2n5acPHfO6"
      },
      "execution_count": null,
      "outputs": []
    },
    {
      "cell_type": "code",
      "source": [
        "print('Accuracy of the Algorithm is: {}'.format(accuracy_score(y_test, y_pred)))"
      ],
      "metadata": {
        "colab": {
          "base_uri": "https://localhost:8080/"
        },
        "id": "Km8GmiVuHfL_",
        "outputId": "e198d177-916e-482c-e88c-31228bb85ad0"
      },
      "execution_count": null,
      "outputs": [
        {
          "output_type": "stream",
          "name": "stdout",
          "text": [
            "Accuracy of the Algorithm is: 0.9611111111111111\n"
          ]
        }
      ]
    },
    {
      "cell_type": "markdown",
      "source": [
        "#### Com o Algoritmo de Lemmatizing"
      ],
      "metadata": {
        "id": "RM-qlqxJHa4b"
      }
    },
    {
      "cell_type": "code",
      "source": [
        "X = dados_copia['detoken_lemma']\n",
        "y = dados_copia['label']\n",
        "X_train, X_test, y_train, y_test = train_test_split(X, y, test_size = 0.3, random_state = 0)\n",
        "tfidf = TfidfVectorizer(max_features=5000)\n",
        "\n",
        "X_train = tfidf.fit_transform(X_train)\n",
        "X_test = tfidf.transform(X_test)\n",
        "\n"
      ],
      "metadata": {
        "id": "4yQmIDakHiPa"
      },
      "execution_count": null,
      "outputs": []
    },
    {
      "cell_type": "code",
      "source": [
        "print(len(tfidf.vocabulary_))"
      ],
      "metadata": {
        "colab": {
          "base_uri": "https://localhost:8080/"
        },
        "id": "5mpaoiAvHiNH",
        "outputId": "a9eeb34e-e3ba-485e-941f-ec1da7fb3dd7"
      },
      "execution_count": null,
      "outputs": [
        {
          "output_type": "stream",
          "name": "stdout",
          "text": [
            "5000\n"
          ]
        }
      ]
    },
    {
      "cell_type": "markdown",
      "source": [
        "Aplicando o Algoritmo de SVM"
      ],
      "metadata": {
        "id": "hn9_2vQ6Lf2M"
      }
    },
    {
      "cell_type": "code",
      "source": [
        "clf = LinearSVC()\n",
        "clf.fit(X_train, y_train)\n",
        "y_pred = clf.predict(X_test)"
      ],
      "metadata": {
        "id": "Ad5OmDVkHiKj"
      },
      "execution_count": null,
      "outputs": []
    },
    {
      "cell_type": "code",
      "source": [
        "print('Accuracy of the Algorithm is: {}'.format(accuracy_score(y_test, y_pred)))"
      ],
      "metadata": {
        "colab": {
          "base_uri": "https://localhost:8080/"
        },
        "id": "iSViu_FhHiII",
        "outputId": "397459b7-b24c-4fc6-d482-8a193a2dee6c"
      },
      "execution_count": null,
      "outputs": [
        {
          "output_type": "stream",
          "name": "stdout",
          "text": [
            "Accuracy of the Algorithm is: 0.9587962962962963\n"
          ]
        }
      ]
    },
    {
      "cell_type": "markdown",
      "source": [
        "**Conclusões até o momento**\n",
        "\n",
        "\n",
        "1.   Agora todos os dicionários criados possuem a mesma quantidade de palavras: **5000 palavras**;\n",
        "\n",
        "2.   Sem nenhum método de Pré-processamento, obtivemos a acurácia de: **0.9620**\n",
        "\n",
        "3.   Utilizando o método de Stemming obtivemos a acurácia de: **0.9611**\n",
        "\n",
        "4.   Com o método de Lematizing a acurácia obtida foi de : **0.9587**\n",
        "\n"
      ],
      "metadata": {
        "id": "yNfl6_hbH73O"
      }
    },
    {
      "cell_type": "markdown",
      "source": [
        "##### **Conclusões Parciais**"
      ],
      "metadata": {
        "id": "TLkFmcOgKf1r"
      }
    },
    {
      "cell_type": "markdown",
      "source": [
        " **Conclusões parciais sobre os testes realizados**\n",
        "\n",
        "\n",
        "1.   Como podemos observar, quanto **mais palavras** compõem o dicionário, **melhor** será a **acurácia** do modelo. Os resultados com apenas 500 palavras no dicionário tiveram uma menor acurácia que os demais;\n",
        "\n",
        "2.   No dicionário com apenas 500 palavras, o melhor método foi o de **Lemmatizing**, que alcançou uma acurácia de **0.9416**;\n",
        "\n",
        "3.   Para o dicionário de 5000 palavras, os **resultados foram bem próximos**, sendo o **melhor método** o sem aplicar **nenhum algoritmo de pré-processamento**;\n",
        "\n",
        "4.   Quando não foi passado o tamanho máximo do dicionário, os resultados também são bem próximos, sendo o método de Lemmatizing ligeiramente melhor, com uma acurácia de: **0.9625**\n",
        "\n",
        "5.   Vale ressaltar que o algoritmo de stemmização conseguiu reduzir na metade a quantidade de palavras no dicionário e continuou com uma acurácia de: **0.9569**, sendo este um bom resultado, já que a dimensão do modelo foi diminuida pela metade.\n",
        "\n"
      ],
      "metadata": {
        "id": "7KgVLtoSDK49"
      }
    },
    {
      "cell_type": "markdown",
      "source": [
        "### Exploração detalhada dos Classificadores utilizados (SVM, KNN, Decision Tree)\n",
        "\n",
        "Foi adotado como padrão utilizar um dicionário de 5000 palavras para testar os demais classificadores presentes neste projeto."
      ],
      "metadata": {
        "id": "8Lwlr4FZK8tS"
      }
    },
    {
      "cell_type": "markdown",
      "source": [
        "#### Sem Nenhum pré-processamento"
      ],
      "metadata": {
        "id": "K0TdalnDM3Ku"
      }
    },
    {
      "cell_type": "markdown",
      "source": [
        "##### Utilizando o classificador SVM "
      ],
      "metadata": {
        "id": "6Tjyq0uwLxOa"
      }
    },
    {
      "cell_type": "code",
      "source": [
        "X = dados['preprocessed_news']\n",
        "y = dados['label']\n",
        "X_train, X_test, y_train, y_test = train_test_split(X, y, test_size = 0.3, random_state = 0)\n",
        "tfidf = TfidfVectorizer(max_features = 5000)\n",
        "\n",
        "X_train = tfidf.fit_transform(X_train)\n",
        "X_test = tfidf.transform(X_test)"
      ],
      "metadata": {
        "id": "jIXZNk0fMBYf"
      },
      "execution_count": null,
      "outputs": []
    },
    {
      "cell_type": "code",
      "source": [
        "clf = LinearSVC()\n",
        "clf.fit(X_train, y_train)"
      ],
      "metadata": {
        "colab": {
          "base_uri": "https://localhost:8080/"
        },
        "id": "iiWVkq2KMFnL",
        "outputId": "d21e43e3-5b1f-46ed-df8d-4b344481f7cc"
      },
      "execution_count": null,
      "outputs": [
        {
          "output_type": "execute_result",
          "data": {
            "text/plain": [
              "LinearSVC()"
            ]
          },
          "metadata": {},
          "execution_count": 84
        }
      ]
    },
    {
      "cell_type": "code",
      "source": [
        "y_pred = clf.predict(X_test)"
      ],
      "metadata": {
        "id": "3sYZ34vLMFkV"
      },
      "execution_count": null,
      "outputs": []
    },
    {
      "cell_type": "code",
      "source": [
        "accuracy = accuracy_score(y_test, y_pred) * 100\n",
        "f1 = f1_score(y_test, y_pred, average = 'macro') * 100\n",
        "\n",
        "print('Acurácia obtida do SVM sem nenhum método de pré-processamento: {:.2f}%'.format(accuracy))\n",
        "print('F1 Score obtida do SVM sem nenhum método de pré-processamento: {:.2f}%'.format(f1))"
      ],
      "metadata": {
        "colab": {
          "base_uri": "https://localhost:8080/"
        },
        "id": "hyHqV0ZxMFh-",
        "outputId": "2aa9d80c-c56b-4982-e471-3c77b4c77a20"
      },
      "execution_count": null,
      "outputs": [
        {
          "output_type": "stream",
          "name": "stdout",
          "text": [
            "Acurácia obtida do SVM sem nenhum método de pré-processamento: 96.20%\n",
            "F1 Score obtida do SVM sem nenhum método de pré-processamento: 96.20%\n"
          ]
        }
      ]
    },
    {
      "cell_type": "code",
      "source": [
        "print('--------------Resultados obtidos sem nenhum método de pré-processamento---------------')\n",
        "print('')\n",
        "print(classification_report(y_test, y_pred))"
      ],
      "metadata": {
        "colab": {
          "base_uri": "https://localhost:8080/"
        },
        "id": "05sqYVm5MFfR",
        "outputId": "beb5c1d0-1994-4514-c16a-31f868d1b909"
      },
      "execution_count": null,
      "outputs": [
        {
          "output_type": "stream",
          "name": "stdout",
          "text": [
            "--------------Resultados obtidos sem nenhum método de pré-processamento---------------\n",
            "\n",
            "              precision    recall  f1-score   support\n",
            "\n",
            "        fake       0.96      0.96      0.96      1085\n",
            "        true       0.96      0.96      0.96      1075\n",
            "\n",
            "    accuracy                           0.96      2160\n",
            "   macro avg       0.96      0.96      0.96      2160\n",
            "weighted avg       0.96      0.96      0.96      2160\n",
            "\n"
          ]
        }
      ]
    },
    {
      "cell_type": "markdown",
      "source": [
        "Matriz de Confusão obtida do SVM sem a utilização de nenhum método de pré-processamento"
      ],
      "metadata": {
        "id": "V0PPQ8OxMmKB"
      }
    },
    {
      "cell_type": "code",
      "source": [
        "matrix = plot_confusion_matrix(clf, X_test, y_test, cmap=plt.cm.Reds)\n",
        "matrix.ax_.set_title('Confusion matrix', color='white')\n",
        "plt.xlabel('Predicted Label', color='white')\n",
        "plt.ylabel('True Label', color='white')\n",
        "plt.gcf().axes[0].tick_params(color='white')\n",
        "plt.gcf().axes[1].tick_params(color='white')\n",
        "plt.gcf().set_size_inches(10,6)\n",
        "plt.show()"
      ],
      "metadata": {
        "colab": {
          "base_uri": "https://localhost:8080/",
          "height": 459
        },
        "id": "aXRPD5kqMFYF",
        "outputId": "3f76bf85-7a60-43bc-c579-0fc1454e2c91"
      },
      "execution_count": null,
      "outputs": [
        {
          "output_type": "stream",
          "name": "stderr",
          "text": [
            "/usr/local/lib/python3.7/dist-packages/sklearn/utils/deprecation.py:87: FutureWarning: Function plot_confusion_matrix is deprecated; Function `plot_confusion_matrix` is deprecated in 1.0 and will be removed in 1.2. Use one of the class methods: ConfusionMatrixDisplay.from_predictions or ConfusionMatrixDisplay.from_estimator.\n",
            "  warnings.warn(msg, category=FutureWarning)\n"
          ]
        },
        {
          "output_type": "display_data",
          "data": {
            "text/plain": [
              "<Figure size 720x432 with 2 Axes>"
            ],
            "image/png": "[encoded data removed]"
          },
          "metadata": {
            "needs_background": "light"
          }
        }
      ]
    },
    {
      "cell_type": "markdown",
      "source": [
        "##### Utilizando o classificador KNN "
      ],
      "metadata": {
        "id": "VyOW6qBWM9do"
      }
    },
    {
      "cell_type": "code",
      "source": [
        "clf = KNeighborsClassifier(n_neighbors = 3 )\n",
        "clf.fit(X_train, y_train)\n",
        "y_pred = clf.predict(X_test)"
      ],
      "metadata": {
        "id": "Pwn-GXhQNDw9"
      },
      "execution_count": null,
      "outputs": []
    },
    {
      "cell_type": "code",
      "source": [
        "accuracy = accuracy_score(y_test, y_pred) * 100\n",
        "f1 = f1_score(y_test, y_pred, average = 'macro') * 100\n",
        "\n",
        "print('Acurácia obtida do KNN sem nenhum método de pré-processamento:: {:.2f}%'.format(accuracy))\n",
        "print('F1 Score obtida do KNN sem nenhum método de pré-processamento: {:.2f}%'.format(f1))"
      ],
      "metadata": {
        "colab": {
          "base_uri": "https://localhost:8080/"
        },
        "id": "jh6fsBdZNDvB",
        "outputId": "b997af03-084c-4324-90b9-8d45f6cc9bf0"
      },
      "execution_count": null,
      "outputs": [
        {
          "output_type": "stream",
          "name": "stdout",
          "text": [
            "Acurácia obtida do KNN sem nenhum método de pré-processamento:: 72.31%\n",
            "F1 Score obtida do KNN sem nenhum método de pré-processamento: 71.05%\n"
          ]
        }
      ]
    },
    {
      "cell_type": "code",
      "source": [
        "print('--------------Resultados obtidos sem nenhum método de pré-processamento---------------')\n",
        "print('')\n",
        "print(classification_report(y_test, y_pred))"
      ],
      "metadata": {
        "colab": {
          "base_uri": "https://localhost:8080/"
        },
        "id": "zGWiX3leNDsU",
        "outputId": "411a17fd-ec5e-4135-dfc2-f922c29ca1bc"
      },
      "execution_count": null,
      "outputs": [
        {
          "output_type": "stream",
          "name": "stdout",
          "text": [
            "--------------Resultados obtidos sem nenhum método de pré-processamento---------------\n",
            "\n",
            "              precision    recall  f1-score   support\n",
            "\n",
            "        fake       0.89      0.51      0.65      1085\n",
            "        true       0.66      0.94      0.77      1075\n",
            "\n",
            "    accuracy                           0.72      2160\n",
            "   macro avg       0.77      0.72      0.71      2160\n",
            "weighted avg       0.77      0.72      0.71      2160\n",
            "\n"
          ]
        }
      ]
    },
    {
      "cell_type": "markdown",
      "source": [
        "Matriz de Confusão obtida do KNN sem a utilização de nenhum método de pré-processamento"
      ],
      "metadata": {
        "id": "p4BkTqhYN6aw"
      }
    },
    {
      "cell_type": "code",
      "source": [
        "matrix = plot_confusion_matrix(clf, X_test, y_test, cmap=plt.cm.Blues)\n",
        "matrix.ax_.set_title('Confusion matrix', color='white')\n",
        "plt.xlabel('Predicted Label', color='white')\n",
        "plt.ylabel('True Label', color='white')\n",
        "plt.gcf().axes[0].tick_params(color='white')\n",
        "plt.gcf().axes[1].tick_params(color='white')\n",
        "plt.gcf().set_size_inches(10,6)\n",
        "plt.show()"
      ],
      "metadata": {
        "colab": {
          "base_uri": "https://localhost:8080/",
          "height": 459
        },
        "id": "8NP9tZZyNDqA",
        "outputId": "22bbeecd-5e9d-4132-9993-d637d77b5461"
      },
      "execution_count": null,
      "outputs": [
        {
          "output_type": "stream",
          "name": "stderr",
          "text": [
            "/usr/local/lib/python3.7/dist-packages/sklearn/utils/deprecation.py:87: FutureWarning: Function plot_confusion_matrix is deprecated; Function `plot_confusion_matrix` is deprecated in 1.0 and will be removed in 1.2. Use one of the class methods: ConfusionMatrixDisplay.from_predictions or ConfusionMatrixDisplay.from_estimator.\n",
            "  warnings.warn(msg, category=FutureWarning)\n"
          ]
        },
        {
          "output_type": "display_data",
          "data": {
            "text/plain": [
              "<Figure size 720x432 with 2 Axes>"
            ],
            "image/png": "[encoded data removed]"
          },
          "metadata": {
            "needs_background": "light"
          }
        }
      ]
    },
    {
      "cell_type": "markdown",
      "source": [
        "##### Utilizando o classificador Decision Tree"
      ],
      "metadata": {
        "id": "6Vi4PcKxN-Pi"
      }
    },
    {
      "cell_type": "code",
      "source": [
        "clf = DecisionTreeClassifier(max_leaf_nodes=3)\n",
        "clf.fit(X_train, y_train)\n",
        "\n",
        "tree.plot_tree(clf)\n",
        "plt.show()"
      ],
      "metadata": {
        "colab": {
          "base_uri": "https://localhost:8080/",
          "height": 248
        },
        "id": "Z2tdeQt6NDno",
        "outputId": "1cbb5985-472b-4f1a-a620-27ca2664f958"
      },
      "execution_count": null,
      "outputs": [
        {
          "output_type": "display_data",
          "data": {
            "text/plain": [
              "<Figure size 432x288 with 1 Axes>"
            ],
            "image/png": "[encoded data removed]"
          },
          "metadata": {
            "needs_background": "light"
          }
        }
      ]
    },
    {
      "cell_type": "code",
      "source": [
        "y_pred = clf.predict(X_test)"
      ],
      "metadata": {
        "id": "PxkaCP7ONDlJ"
      },
      "execution_count": null,
      "outputs": []
    },
    {
      "cell_type": "code",
      "source": [
        "accuracy = accuracy_score(y_test, y_pred) * 100\n",
        "f1 = f1_score(y_test, y_pred, average = 'macro') * 100\n",
        "\n",
        "print('Acurácia obtida do Decision Tree sem nenhum método de pré-processamento:: {:.2f}%'.format(accuracy))\n",
        "print('F1 Score obtida do Decision Tree sem nenhum método de pré-processamento: {:.2f}%'.format(f1))"
      ],
      "metadata": {
        "colab": {
          "base_uri": "https://localhost:8080/"
        },
        "id": "V_1okkb0OJsw",
        "outputId": "64d348d3-68b3-471f-db64-850b17aa432e"
      },
      "execution_count": null,
      "outputs": [
        {
          "output_type": "stream",
          "name": "stdout",
          "text": [
            "Acurácia obtida do Decision Tree sem nenhum método de pré-processamento:: 85.79%\n",
            "F1 Score obtida do Decision Tree sem nenhum método de pré-processamento: 85.79%\n"
          ]
        }
      ]
    },
    {
      "cell_type": "code",
      "source": [
        "print('--------------Resultados obtidos sem nenhum método de pré-processamento---------------')\n",
        "print('')\n",
        "print(classification_report(y_test, y_pred))"
      ],
      "metadata": {
        "colab": {
          "base_uri": "https://localhost:8080/"
        },
        "id": "tK13Kn9AOJqO",
        "outputId": "a66185e0-a27b-4add-aed1-d64cb67034f0"
      },
      "execution_count": null,
      "outputs": [
        {
          "output_type": "stream",
          "name": "stdout",
          "text": [
            "--------------Resultados obtidos sem nenhum método de pré-processamento---------------\n",
            "\n",
            "              precision    recall  f1-score   support\n",
            "\n",
            "        fake       0.86      0.86      0.86      1085\n",
            "        true       0.86      0.86      0.86      1075\n",
            "\n",
            "    accuracy                           0.86      2160\n",
            "   macro avg       0.86      0.86      0.86      2160\n",
            "weighted avg       0.86      0.86      0.86      2160\n",
            "\n"
          ]
        }
      ]
    },
    {
      "cell_type": "markdown",
      "source": [
        "Matriz de Confusão obtida do Decision Tree sem a utilização de nenhum método de pré-processamento"
      ],
      "metadata": {
        "id": "WHx1wQLjOcq-"
      }
    },
    {
      "cell_type": "code",
      "source": [
        "matrix = plot_confusion_matrix(clf, X_test, y_test, cmap=plt.cm.Greens)\n",
        "matrix.ax_.set_title('Confusion matrix', color='white')\n",
        "plt.xlabel('Predicted Label', color='white')\n",
        "plt.ylabel('True Label', color='white')\n",
        "plt.gcf().axes[0].tick_params(color='white')\n",
        "plt.gcf().axes[1].tick_params(color='white')\n",
        "plt.gcf().set_size_inches(10,6)\n",
        "plt.show()"
      ],
      "metadata": {
        "colab": {
          "base_uri": "https://localhost:8080/",
          "height": 459
        },
        "id": "hLf311KeOJn7",
        "outputId": "368e2083-7198-4aaa-f476-27a2cee55b51"
      },
      "execution_count": null,
      "outputs": [
        {
          "output_type": "stream",
          "name": "stderr",
          "text": [
            "/usr/local/lib/python3.7/dist-packages/sklearn/utils/deprecation.py:87: FutureWarning: Function plot_confusion_matrix is deprecated; Function `plot_confusion_matrix` is deprecated in 1.0 and will be removed in 1.2. Use one of the class methods: ConfusionMatrixDisplay.from_predictions or ConfusionMatrixDisplay.from_estimator.\n",
            "  warnings.warn(msg, category=FutureWarning)\n"
          ]
        },
        {
          "output_type": "display_data",
          "data": {
            "text/plain": [
              "<Figure size 720x432 with 2 Axes>"
            ],
            "image/png": "[encoded data removed]"
          },
          "metadata": {
            "needs_background": "light"
          }
        }
      ]
    },
    {
      "cell_type": "markdown",
      "source": [
        "#### Com o método de Stemming"
      ],
      "metadata": {
        "id": "p14-lvfYOhpP"
      }
    },
    {
      "cell_type": "markdown",
      "source": [
        "##### Utilizando o classificador SVM"
      ],
      "metadata": {
        "id": "4IX-rqu6Okr2"
      }
    },
    {
      "cell_type": "code",
      "source": [
        "X = dados_copia['detoken']\n",
        "y = dados_copia['label']\n",
        "X_train, X_test, y_train, y_test = train_test_split(X, y, test_size = 0.3, random_state = 0)\n",
        "tfidf = TfidfVectorizer(max_features = 5000)\n",
        "\n",
        "X_train = tfidf.fit_transform(X_train)\n",
        "X_test = tfidf.transform(X_test)"
      ],
      "metadata": {
        "id": "hyVHcIxJO4fR"
      },
      "execution_count": null,
      "outputs": []
    },
    {
      "cell_type": "code",
      "source": [
        "clf = LinearSVC()\n",
        "clf.fit(X_train, y_train)"
      ],
      "metadata": {
        "colab": {
          "base_uri": "https://localhost:8080/"
        },
        "outputId": "a930a02a-9e05-42ee-e21e-73b2725d0ae6",
        "id": "0QZl-D2MO4fR"
      },
      "execution_count": null,
      "outputs": [
        {
          "output_type": "execute_result",
          "data": {
            "text/plain": [
              "LinearSVC()"
            ]
          },
          "metadata": {},
          "execution_count": 116
        }
      ]
    },
    {
      "cell_type": "code",
      "source": [
        "y_pred = clf.predict(X_test)"
      ],
      "metadata": {
        "id": "BvFIOS1fO4fS"
      },
      "execution_count": null,
      "outputs": []
    },
    {
      "cell_type": "code",
      "source": [
        "accuracy = accuracy_score(y_test, y_pred) * 100\n",
        "f1 = f1_score(y_test, y_pred, average = 'macro') * 100\n",
        "\n",
        "print('Acurácia obtida do SVM com o método de Stemming: {:.2f}%'.format(accuracy))\n",
        "print('F1 Score obtida do SVM com o método de Stemming: {:.2f}%'.format(f1))"
      ],
      "metadata": {
        "colab": {
          "base_uri": "https://localhost:8080/"
        },
        "outputId": "9f616e34-5533-4489-e628-66bfa8d6938b",
        "id": "eoR8-UqMO4fS"
      },
      "execution_count": null,
      "outputs": [
        {
          "output_type": "stream",
          "name": "stdout",
          "text": [
            "Acurácia obtida do SVM com o método de Stemming: 96.11%\n",
            "F1 Score obtida do SVM com o método de Stemming: 96.11%\n"
          ]
        }
      ]
    },
    {
      "cell_type": "code",
      "source": [
        "print('--------------Resultados obtidos com o método de Stemming---------------')\n",
        "print('')\n",
        "print(classification_report(y_test, y_pred))"
      ],
      "metadata": {
        "colab": {
          "base_uri": "https://localhost:8080/"
        },
        "outputId": "e55c22d0-745d-44e2-ee80-27ff5b2e8f6f",
        "id": "KaZvbhsTO4fS"
      },
      "execution_count": null,
      "outputs": [
        {
          "output_type": "stream",
          "name": "stdout",
          "text": [
            "--------------Resultados obtidos com o método de Stemming---------------\n",
            "\n",
            "              precision    recall  f1-score   support\n",
            "\n",
            "        fake       0.96      0.96      0.96      1085\n",
            "        true       0.96      0.96      0.96      1075\n",
            "\n",
            "    accuracy                           0.96      2160\n",
            "   macro avg       0.96      0.96      0.96      2160\n",
            "weighted avg       0.96      0.96      0.96      2160\n",
            "\n"
          ]
        }
      ]
    },
    {
      "cell_type": "markdown",
      "source": [
        "Matriz de Confusão obtida do SVM sem a utilização de nenhum método de pré-processamento"
      ],
      "metadata": {
        "id": "lg3x0vwVO4fT"
      }
    },
    {
      "cell_type": "code",
      "source": [
        "matrix = plot_confusion_matrix(clf, X_test, y_test, cmap=plt.cm.Reds)\n",
        "matrix.ax_.set_title('Confusion matrix', color='white')\n",
        "plt.xlabel('Predicted Label', color='white')\n",
        "plt.ylabel('True Label', color='white')\n",
        "plt.gcf().axes[0].tick_params(color='white')\n",
        "plt.gcf().axes[1].tick_params(color='white')\n",
        "plt.gcf().set_size_inches(10,6)\n",
        "plt.show()"
      ],
      "metadata": {
        "colab": {
          "base_uri": "https://localhost:8080/",
          "height": 459
        },
        "outputId": "dabc6037-dd99-4e9f-9ed5-2ed418a544ca",
        "id": "C1SdSdjMO4fT"
      },
      "execution_count": null,
      "outputs": [
        {
          "output_type": "stream",
          "name": "stderr",
          "text": [
            "/usr/local/lib/python3.7/dist-packages/sklearn/utils/deprecation.py:87: FutureWarning: Function plot_confusion_matrix is deprecated; Function `plot_confusion_matrix` is deprecated in 1.0 and will be removed in 1.2. Use one of the class methods: ConfusionMatrixDisplay.from_predictions or ConfusionMatrixDisplay.from_estimator.\n",
            "  warnings.warn(msg, category=FutureWarning)\n"
          ]
        },
        {
          "output_type": "display_data",
          "data": {
            "text/plain": [
              "<Figure size 720x432 with 2 Axes>"
            ],
            "image/png": "[encoded data removed]"
          },
          "metadata": {
            "needs_background": "light"
          }
        }
      ]
    },
    {
      "cell_type": "markdown",
      "source": [
        "##### Utilizando o classificador KNN"
      ],
      "metadata": {
        "id": "A3ZaXMYmPR4o"
      }
    },
    {
      "cell_type": "code",
      "source": [
        "clf = KNeighborsClassifier(n_neighbors = 3 )\n",
        "clf.fit(X_train, y_train)\n",
        "y_pred = clf.predict(X_test)"
      ],
      "metadata": {
        "id": "bwj6xGxoPX9q"
      },
      "execution_count": null,
      "outputs": []
    },
    {
      "cell_type": "code",
      "source": [
        "accuracy = accuracy_score(y_test, y_pred) * 100\n",
        "f1 = f1_score(y_test, y_pred, average = 'macro') * 100\n",
        "\n",
        "print('Acurácia obtida do KNN com o método de Stemming: {:.2f}%'.format(accuracy))\n",
        "print('F1 Score obtida do KNN com o método de Stemming: {:.2f}%'.format(f1))"
      ],
      "metadata": {
        "colab": {
          "base_uri": "https://localhost:8080/"
        },
        "outputId": "e2ca09e6-c102-4d89-d05b-1ea3b6a51e01",
        "id": "fIdBHJ32PX9q"
      },
      "execution_count": null,
      "outputs": [
        {
          "output_type": "stream",
          "name": "stdout",
          "text": [
            "Acurácia obtida do KNN com o método de Stemming: 70.79%\n",
            "F1 Score obtida do KNN com o método de Stemming: 69.28%\n"
          ]
        }
      ]
    },
    {
      "cell_type": "code",
      "source": [
        "print('--------------Resultados obtidos com o método de Stemming---------------')\n",
        "print('')\n",
        "print(classification_report(y_test, y_pred))"
      ],
      "metadata": {
        "colab": {
          "base_uri": "https://localhost:8080/"
        },
        "outputId": "6ea1c9d4-aaed-46ab-92e4-127c2e947e1c",
        "id": "T4XyoeYCPX9q"
      },
      "execution_count": null,
      "outputs": [
        {
          "output_type": "stream",
          "name": "stdout",
          "text": [
            "--------------Resultados obtidos com o método de Stemming---------------\n",
            "\n",
            "              precision    recall  f1-score   support\n",
            "\n",
            "        fake       0.88      0.48      0.62      1085\n",
            "        true       0.64      0.93      0.76      1075\n",
            "\n",
            "    accuracy                           0.71      2160\n",
            "   macro avg       0.76      0.71      0.69      2160\n",
            "weighted avg       0.76      0.71      0.69      2160\n",
            "\n"
          ]
        }
      ]
    },
    {
      "cell_type": "markdown",
      "source": [
        "Matriz de Confusão obtida do KNN sem a utilização de nenhum método de pré-processamento"
      ],
      "metadata": {
        "id": "F-zrTJfDPX9q"
      }
    },
    {
      "cell_type": "code",
      "source": [
        "matrix = plot_confusion_matrix(clf, X_test, y_test, cmap=plt.cm.Blues)\n",
        "matrix.ax_.set_title('Confusion matrix', color='white')\n",
        "plt.xlabel('Predicted Label', color='white')\n",
        "plt.ylabel('True Label', color='white')\n",
        "plt.gcf().axes[0].tick_params(color='white')\n",
        "plt.gcf().axes[1].tick_params(color='white')\n",
        "plt.gcf().set_size_inches(10,6)\n",
        "plt.show()"
      ],
      "metadata": {
        "colab": {
          "base_uri": "https://localhost:8080/",
          "height": 459
        },
        "outputId": "f765365d-2ebd-4e2c-de3a-e8ac25a61148",
        "id": "6er3FXrvPX9q"
      },
      "execution_count": null,
      "outputs": [
        {
          "output_type": "stream",
          "name": "stderr",
          "text": [
            "/usr/local/lib/python3.7/dist-packages/sklearn/utils/deprecation.py:87: FutureWarning: Function plot_confusion_matrix is deprecated; Function `plot_confusion_matrix` is deprecated in 1.0 and will be removed in 1.2. Use one of the class methods: ConfusionMatrixDisplay.from_predictions or ConfusionMatrixDisplay.from_estimator.\n",
            "  warnings.warn(msg, category=FutureWarning)\n"
          ]
        },
        {
          "output_type": "display_data",
          "data": {
            "text/plain": [
              "<Figure size 720x432 with 2 Axes>"
            ],
            "image/png": "[encoded data removed]"
          },
          "metadata": {
            "needs_background": "light"
          }
        }
      ]
    },
    {
      "cell_type": "markdown",
      "source": [
        "##### Utilizando o classificador Decision Tree"
      ],
      "metadata": {
        "id": "umqXAZuKPiw0"
      }
    },
    {
      "cell_type": "code",
      "source": [
        "clf = DecisionTreeClassifier(max_leaf_nodes=3)\n",
        "clf.fit(X_train, y_train)\n",
        "\n",
        "tree.plot_tree(clf)\n",
        "plt.show()"
      ],
      "metadata": {
        "colab": {
          "base_uri": "https://localhost:8080/",
          "height": 248
        },
        "outputId": "64e870b7-b5eb-4d0c-e2e1-d1a31b964161",
        "id": "bHGpFuLPPtQt"
      },
      "execution_count": null,
      "outputs": [
        {
          "output_type": "display_data",
          "data": {
            "text/plain": [
              "<Figure size 432x288 with 1 Axes>"
            ],
            "image/png": "[encoded data removed]"
          },
          "metadata": {
            "needs_background": "light"
          }
        }
      ]
    },
    {
      "cell_type": "code",
      "source": [
        "y_pred = clf.predict(X_test)"
      ],
      "metadata": {
        "id": "cpxFjeBxPtQt"
      },
      "execution_count": null,
      "outputs": []
    },
    {
      "cell_type": "code",
      "source": [
        "accuracy = accuracy_score(y_test, y_pred) * 100\n",
        "f1 = f1_score(y_test, y_pred, average = 'macro') * 100\n",
        "\n",
        "print('Acurácia obtida do Decision Tree com o método de Stemming: {:.2f}%'.format(accuracy))\n",
        "print('F1 Score obtida do Decision Tree com o método de Stemming: {:.2f}%'.format(f1))"
      ],
      "metadata": {
        "colab": {
          "base_uri": "https://localhost:8080/"
        },
        "outputId": "5fd5f951-7aa9-4704-a502-8f5606b0a3e3",
        "id": "3hShOsv_PtQu"
      },
      "execution_count": null,
      "outputs": [
        {
          "output_type": "stream",
          "name": "stdout",
          "text": [
            "Acurácia obtida do Decision Tree com o método de Stemming: 86.06%\n",
            "F1 Score obtida do Decision Tree com o método de Stemming: 86.03%\n"
          ]
        }
      ]
    },
    {
      "cell_type": "code",
      "source": [
        "print('--------------Resultados obtidos com o método de Stemming---------------')\n",
        "print('')\n",
        "print(classification_report(y_test, y_pred))"
      ],
      "metadata": {
        "colab": {
          "base_uri": "https://localhost:8080/"
        },
        "outputId": "df88426e-891a-484d-b66e-3dfd161db787",
        "id": "OqF6p_4KPtQu"
      },
      "execution_count": null,
      "outputs": [
        {
          "output_type": "stream",
          "name": "stdout",
          "text": [
            "--------------Resultados obtidos com o método de Stemming---------------\n",
            "\n",
            "              precision    recall  f1-score   support\n",
            "\n",
            "        fake       0.90      0.81      0.85      1085\n",
            "        true       0.83      0.91      0.87      1075\n",
            "\n",
            "    accuracy                           0.86      2160\n",
            "   macro avg       0.86      0.86      0.86      2160\n",
            "weighted avg       0.86      0.86      0.86      2160\n",
            "\n"
          ]
        }
      ]
    },
    {
      "cell_type": "markdown",
      "source": [
        "Matriz de Confusão obtida do Decision Tree sem a utilização de nenhum método de pré-processamento"
      ],
      "metadata": {
        "id": "XdLSMAtaPtQu"
      }
    },
    {
      "cell_type": "code",
      "source": [
        "matrix = plot_confusion_matrix(clf, X_test, y_test, cmap=plt.cm.Greens)\n",
        "matrix.ax_.set_title('Confusion matrix', color='white')\n",
        "plt.xlabel('Predicted Label', color='white')\n",
        "plt.ylabel('True Label', color='white')\n",
        "plt.gcf().axes[0].tick_params(color='white')\n",
        "plt.gcf().axes[1].tick_params(color='white')\n",
        "plt.gcf().set_size_inches(10,6)\n",
        "plt.show()"
      ],
      "metadata": {
        "colab": {
          "base_uri": "https://localhost:8080/",
          "height": 459
        },
        "outputId": "a38f908f-2c81-4b61-8185-96461fa6d76c",
        "id": "wSVFuu50PtQu"
      },
      "execution_count": null,
      "outputs": [
        {
          "output_type": "stream",
          "name": "stderr",
          "text": [
            "/usr/local/lib/python3.7/dist-packages/sklearn/utils/deprecation.py:87: FutureWarning: Function plot_confusion_matrix is deprecated; Function `plot_confusion_matrix` is deprecated in 1.0 and will be removed in 1.2. Use one of the class methods: ConfusionMatrixDisplay.from_predictions or ConfusionMatrixDisplay.from_estimator.\n",
            "  warnings.warn(msg, category=FutureWarning)\n"
          ]
        },
        {
          "output_type": "display_data",
          "data": {
            "text/plain": [
              "<Figure size 720x432 with 2 Axes>"
            ],
            "image/png": "[encoded data removed]"
          },
          "metadata": {
            "needs_background": "light"
          }
        }
      ]
    },
    {
      "cell_type": "markdown",
      "source": [
        "#### Com o método de Lemmatizing"
      ],
      "metadata": {
        "id": "nYpIunsaQU5D"
      }
    },
    {
      "cell_type": "markdown",
      "source": [
        "##### Utilizando o classificador SVM"
      ],
      "metadata": {
        "id": "G2ly0ViRQo9l"
      }
    },
    {
      "cell_type": "code",
      "source": [
        "X = dados_copia['detoken_lemma']\n",
        "y = dados_copia['label']\n",
        "X_train, X_test, y_train, y_test = train_test_split(X, y, test_size = 0.3, random_state = 0)\n",
        "tfidf = TfidfVectorizer(max_features = 5000)\n",
        "\n",
        "X_train = tfidf.fit_transform(X_train)\n",
        "X_test = tfidf.transform(X_test)"
      ],
      "metadata": {
        "id": "t__cVR7kQo9l"
      },
      "execution_count": null,
      "outputs": []
    },
    {
      "cell_type": "code",
      "source": [
        "clf = LinearSVC()\n",
        "clf.fit(X_train, y_train)"
      ],
      "metadata": {
        "colab": {
          "base_uri": "https://localhost:8080/"
        },
        "outputId": "548a5d9a-978f-4f58-a350-28cb740845b5",
        "id": "ZnUQnojZQo9l"
      },
      "execution_count": null,
      "outputs": [
        {
          "output_type": "execute_result",
          "data": {
            "text/plain": [
              "LinearSVC()"
            ]
          },
          "metadata": {},
          "execution_count": 131
        }
      ]
    },
    {
      "cell_type": "code",
      "source": [
        "y_pred = clf.predict(X_test)"
      ],
      "metadata": {
        "id": "WgYQzoeVQo9l"
      },
      "execution_count": null,
      "outputs": []
    },
    {
      "cell_type": "code",
      "source": [
        "accuracy = accuracy_score(y_test, y_pred) * 100\n",
        "f1 = f1_score(y_test, y_pred, average = 'macro') * 100\n",
        "\n",
        "print('Acurácia obtida do SVM com o método de Stemming: {:.2f}%'.format(accuracy))\n",
        "print('F1 Score obtida do SVM com o método de Stemming: {:.2f}%'.format(f1))"
      ],
      "metadata": {
        "colab": {
          "base_uri": "https://localhost:8080/"
        },
        "outputId": "565cb165-0a8a-4086-87ad-8e9abc4a5464",
        "id": "5oAE901wQo9l"
      },
      "execution_count": null,
      "outputs": [
        {
          "output_type": "stream",
          "name": "stdout",
          "text": [
            "Acurácia obtida do SVM com o método de Stemming: 95.88%\n",
            "F1 Score obtida do SVM com o método de Stemming: 95.88%\n"
          ]
        }
      ]
    },
    {
      "cell_type": "code",
      "source": [
        "print('--------------Resultados obtidos com o método de Stemming---------------')\n",
        "print('')\n",
        "print(classification_report(y_test, y_pred))"
      ],
      "metadata": {
        "colab": {
          "base_uri": "https://localhost:8080/"
        },
        "outputId": "c47549cf-d62c-4438-c52f-50bae23722e9",
        "id": "qoBxBJM3Qo9m"
      },
      "execution_count": null,
      "outputs": [
        {
          "output_type": "stream",
          "name": "stdout",
          "text": [
            "--------------Resultados obtidos com o método de Stemming---------------\n",
            "\n",
            "              precision    recall  f1-score   support\n",
            "\n",
            "        fake       0.96      0.96      0.96      1085\n",
            "        true       0.96      0.96      0.96      1075\n",
            "\n",
            "    accuracy                           0.96      2160\n",
            "   macro avg       0.96      0.96      0.96      2160\n",
            "weighted avg       0.96      0.96      0.96      2160\n",
            "\n"
          ]
        }
      ]
    },
    {
      "cell_type": "markdown",
      "source": [
        "Matriz de Confusão obtida do SVM sem a utilização de nenhum método de pré-processamento"
      ],
      "metadata": {
        "id": "aGFTf66gQo9m"
      }
    },
    {
      "cell_type": "code",
      "source": [
        "matrix = plot_confusion_matrix(clf, X_test, y_test, cmap=plt.cm.Reds)\n",
        "matrix.ax_.set_title('Confusion matrix', color='white')\n",
        "plt.xlabel('Predicted Label', color='white')\n",
        "plt.ylabel('True Label', color='white')\n",
        "plt.gcf().axes[0].tick_params(color='white')\n",
        "plt.gcf().axes[1].tick_params(color='white')\n",
        "plt.gcf().set_size_inches(10,6)\n",
        "plt.show()"
      ],
      "metadata": {
        "colab": {
          "base_uri": "https://localhost:8080/",
          "height": 459
        },
        "outputId": "0e0e9291-3792-42ff-c8c9-442b50232833",
        "id": "NCm2h1S7Qo9m"
      },
      "execution_count": null,
      "outputs": [
        {
          "output_type": "stream",
          "name": "stderr",
          "text": [
            "/usr/local/lib/python3.7/dist-packages/sklearn/utils/deprecation.py:87: FutureWarning: Function plot_confusion_matrix is deprecated; Function `plot_confusion_matrix` is deprecated in 1.0 and will be removed in 1.2. Use one of the class methods: ConfusionMatrixDisplay.from_predictions or ConfusionMatrixDisplay.from_estimator.\n",
            "  warnings.warn(msg, category=FutureWarning)\n"
          ]
        },
        {
          "output_type": "display_data",
          "data": {
            "text/plain": [
              "<Figure size 720x432 with 2 Axes>"
            ],
            "image/png": "[encoded data removed]"
          },
          "metadata": {
            "needs_background": "light"
          }
        }
      ]
    },
    {
      "cell_type": "markdown",
      "source": [
        "##### Utilizando o classificador KNN"
      ],
      "metadata": {
        "id": "oRUWQS2TQo9m"
      }
    },
    {
      "cell_type": "code",
      "source": [
        "clf = KNeighborsClassifier(n_neighbors = 3 )\n",
        "clf.fit(X_train, y_train)\n",
        "y_pred = clf.predict(X_test)"
      ],
      "metadata": {
        "id": "_wVCK0Y3Qo9m"
      },
      "execution_count": null,
      "outputs": []
    },
    {
      "cell_type": "code",
      "source": [
        "accuracy = accuracy_score(y_test, y_pred) * 100\n",
        "f1 = f1_score(y_test, y_pred, average = 'macro') * 100\n",
        "\n",
        "print('Acurácia obtida do KNN com o método de Stemming: {:.2f}%'.format(accuracy))\n",
        "print('F1 Score obtida do KNN com o método de Stemming: {:.2f}%'.format(f1))"
      ],
      "metadata": {
        "colab": {
          "base_uri": "https://localhost:8080/"
        },
        "outputId": "1ee535ed-2f5b-4bed-a323-d51c076f0a9a",
        "id": "QGB1loZbQo9m"
      },
      "execution_count": null,
      "outputs": [
        {
          "output_type": "stream",
          "name": "stdout",
          "text": [
            "Acurácia obtida do KNN com o método de Stemming: 70.83%\n",
            "F1 Score obtida do KNN com o método de Stemming: 69.29%\n"
          ]
        }
      ]
    },
    {
      "cell_type": "code",
      "source": [
        "print('--------------Resultados obtidos com o método de Stemming---------------')\n",
        "print('')\n",
        "print(classification_report(y_test, y_pred))"
      ],
      "metadata": {
        "colab": {
          "base_uri": "https://localhost:8080/"
        },
        "outputId": "7c996bf3-e185-49d7-f602-abea972e291f",
        "id": "DiTs1p0HQo9m"
      },
      "execution_count": null,
      "outputs": [
        {
          "output_type": "stream",
          "name": "stdout",
          "text": [
            "--------------Resultados obtidos com o método de Stemming---------------\n",
            "\n",
            "              precision    recall  f1-score   support\n",
            "\n",
            "        fake       0.88      0.48      0.62      1085\n",
            "        true       0.64      0.94      0.76      1075\n",
            "\n",
            "    accuracy                           0.71      2160\n",
            "   macro avg       0.76      0.71      0.69      2160\n",
            "weighted avg       0.76      0.71      0.69      2160\n",
            "\n"
          ]
        }
      ]
    },
    {
      "cell_type": "markdown",
      "source": [
        "Matriz de Confusão obtida do KNN sem a utilização de nenhum método de pré-processamento"
      ],
      "metadata": {
        "id": "je4n5frnQo9m"
      }
    },
    {
      "cell_type": "code",
      "source": [
        "matrix = plot_confusion_matrix(clf, X_test, y_test, cmap=plt.cm.Blues)\n",
        "matrix.ax_.set_title('Confusion matrix', color='white')\n",
        "plt.xlabel('Predicted Label', color='white')\n",
        "plt.ylabel('True Label', color='white')\n",
        "plt.gcf().axes[0].tick_params(color='white')\n",
        "plt.gcf().axes[1].tick_params(color='white')\n",
        "plt.gcf().set_size_inches(10,6)\n",
        "plt.show()"
      ],
      "metadata": {
        "colab": {
          "base_uri": "https://localhost:8080/",
          "height": 459
        },
        "outputId": "9e2a0e74-5574-4bd0-fb8c-c2d5cee15446",
        "id": "7sTYUzW5Qo9m"
      },
      "execution_count": null,
      "outputs": [
        {
          "output_type": "stream",
          "name": "stderr",
          "text": [
            "/usr/local/lib/python3.7/dist-packages/sklearn/utils/deprecation.py:87: FutureWarning: Function plot_confusion_matrix is deprecated; Function `plot_confusion_matrix` is deprecated in 1.0 and will be removed in 1.2. Use one of the class methods: ConfusionMatrixDisplay.from_predictions or ConfusionMatrixDisplay.from_estimator.\n",
            "  warnings.warn(msg, category=FutureWarning)\n"
          ]
        },
        {
          "output_type": "display_data",
          "data": {
            "text/plain": [
              "<Figure size 720x432 with 2 Axes>"
            ],
            "image/png": "[encoded data removed]"
          },
          "metadata": {
            "needs_background": "light"
          }
        }
      ]
    },
    {
      "cell_type": "markdown",
      "source": [
        "##### Utilizando o classificador Decision Tree"
      ],
      "metadata": {
        "id": "9QeaYDU9Qo9n"
      }
    },
    {
      "cell_type": "code",
      "source": [
        "clf = DecisionTreeClassifier(max_leaf_nodes=3)\n",
        "clf.fit(X_train, y_train)\n",
        "\n",
        "tree.plot_tree(clf)\n",
        "plt.show()"
      ],
      "metadata": {
        "colab": {
          "base_uri": "https://localhost:8080/",
          "height": 248
        },
        "outputId": "dc7a5664-c698-4d12-8833-b2aea336c83c",
        "id": "7TaGX9v4Qo9n"
      },
      "execution_count": null,
      "outputs": [
        {
          "output_type": "display_data",
          "data": {
            "text/plain": [
              "<Figure size 432x288 with 1 Axes>"
            ],
            "image/png": "[encoded data removed]"
          },
          "metadata": {
            "needs_background": "light"
          }
        }
      ]
    },
    {
      "cell_type": "code",
      "source": [
        "y_pred = clf.predict(X_test)"
      ],
      "metadata": {
        "id": "yJTvvl8EQo9n"
      },
      "execution_count": null,
      "outputs": []
    },
    {
      "cell_type": "code",
      "source": [
        "accuracy = accuracy_score(y_test, y_pred) * 100\n",
        "f1 = f1_score(y_test, y_pred, average = 'macro') * 100\n",
        "\n",
        "print('Acurácia obtida do Decision Tree com o método de Stemming: {:.2f}%'.format(accuracy))\n",
        "print('F1 Score obtida do Decision Tree com o método de Stemming: {:.2f}%'.format(f1))"
      ],
      "metadata": {
        "colab": {
          "base_uri": "https://localhost:8080/"
        },
        "outputId": "7995aacc-70c6-42b4-fda6-fabaefc1fd57",
        "id": "_pa4UYW-Qo9n"
      },
      "execution_count": null,
      "outputs": [
        {
          "output_type": "stream",
          "name": "stdout",
          "text": [
            "Acurácia obtida do Decision Tree com o método de Stemming: 83.80%\n",
            "F1 Score obtida do Decision Tree com o método de Stemming: 83.63%\n"
          ]
        }
      ]
    },
    {
      "cell_type": "code",
      "source": [
        "print('--------------Resultados obtidos com o método de Stemming---------------')\n",
        "print('')\n",
        "print(classification_report(y_test, y_pred))"
      ],
      "metadata": {
        "colab": {
          "base_uri": "https://localhost:8080/"
        },
        "outputId": "18490688-b8d6-445d-d25d-72d1d42a5fab",
        "id": "CiFwOc2NQo9n"
      },
      "execution_count": null,
      "outputs": [
        {
          "output_type": "stream",
          "name": "stdout",
          "text": [
            "--------------Resultados obtidos com o método de Stemming---------------\n",
            "\n",
            "              precision    recall  f1-score   support\n",
            "\n",
            "        fake       0.93      0.73      0.82      1085\n",
            "        true       0.78      0.94      0.85      1075\n",
            "\n",
            "    accuracy                           0.84      2160\n",
            "   macro avg       0.85      0.84      0.84      2160\n",
            "weighted avg       0.85      0.84      0.84      2160\n",
            "\n"
          ]
        }
      ]
    },
    {
      "cell_type": "markdown",
      "source": [
        "Matriz de Confusão obtida do Decision Tree sem a utilização de nenhum método de pré-processamento"
      ],
      "metadata": {
        "id": "JTeEk70CQo9n"
      }
    },
    {
      "cell_type": "code",
      "source": [
        "matrix = plot_confusion_matrix(clf, X_test, y_test, cmap=plt.cm.Greens)\n",
        "matrix.ax_.set_title('Confusion matrix', color='white')\n",
        "plt.xlabel('Predicted Label', color='white')\n",
        "plt.ylabel('True Label', color='white')\n",
        "plt.gcf().axes[0].tick_params(color='white')\n",
        "plt.gcf().axes[1].tick_params(color='white')\n",
        "plt.gcf().set_size_inches(10,6)\n",
        "plt.show()"
      ],
      "metadata": {
        "colab": {
          "base_uri": "https://localhost:8080/",
          "height": 459
        },
        "outputId": "9fc7d960-6ae8-4eb5-f446-46977d2f18c0",
        "id": "NDJwyDZBQo9n"
      },
      "execution_count": null,
      "outputs": [
        {
          "output_type": "stream",
          "name": "stderr",
          "text": [
            "/usr/local/lib/python3.7/dist-packages/sklearn/utils/deprecation.py:87: FutureWarning: Function plot_confusion_matrix is deprecated; Function `plot_confusion_matrix` is deprecated in 1.0 and will be removed in 1.2. Use one of the class methods: ConfusionMatrixDisplay.from_predictions or ConfusionMatrixDisplay.from_estimator.\n",
            "  warnings.warn(msg, category=FutureWarning)\n"
          ]
        },
        {
          "output_type": "display_data",
          "data": {
            "text/plain": [
              "<Figure size 720x432 with 2 Axes>"
            ],
            "image/png": "[encoded data removed]"
          },
          "metadata": {
            "needs_background": "light"
          }
        }
      ]
    },
    {
      "cell_type": "markdown",
      "source": [
        "#### **Conclusões Parciais**"
      ],
      "metadata": {
        "id": "fQ4wVaHCRtD6"
      }
    },
    {
      "cell_type": "markdown",
      "source": [
        "Para os classificadores testados, notamos que o melhor entre eles é o **SVM** independente do método de pré-processamento aplicado. O Decision Tree embora não seja o melhor também obteve resultados satisfatórios. O KNN por sua vez não é tão bom, obtendo bastante dificuldade em conseguir classificar os dados \"Fake\". Todos os classificadores seguiram o mesmo \"padrão\" mesmo sendo aplicados pelos diferentes métodos de pré-processamento citados no presente trabalho."
      ],
      "metadata": {
        "id": "wKeOfhy5RtD6"
      }
    },
    {
      "cell_type": "markdown",
      "source": [
        "##### Testes para rodar vários classificadores de uma única vez"
      ],
      "metadata": {
        "id": "hYtMnaDhSXvG"
      }
    },
    {
      "cell_type": "code",
      "source": [
        "\n",
        "\n",
        "# names = [\n",
        "#          'Nearest-Neighbors',\n",
        "#          'Linear SVM',\n",
        "#          'RBF SVM',\n",
        "#          'Poly SVM',\n",
        "#          'Decision Tree',\n",
        "#          'Random Forest',\n",
        "#          'Neural Net',\n",
        "#          'Adaboost',\n",
        "# ]\n",
        "\n",
        "# classifiers = [\n",
        "#                KNeighborsClassifier(3),\n",
        "#                SVC(kernel = 'linear'),\n",
        "#                SVC(gamma = 2, C = 10),\n",
        "#                SVC(kernel = 'poly'),\n",
        "#                DecisionTreeClassifier(max_depth=5),\n",
        "#                RandomForestClassifier(max_depth = 5, n_estimators = 10, max_features = 1),\n",
        "#                MLPClassifier(alpha=1, max_iter=1000),\n",
        "#                AdaBoostClassifier(),\n",
        "# ]\n",
        "\n",
        "# for name, clf in zip(names, classifiers):\n",
        "#   clf.fit(X_train, y_train)\n",
        "#   y_predicted = clf.predict(X_test)\n",
        "#   score = clf.score(X_test, y_test)\n",
        "#   f1 = f1_score(y_test, y_predicted, average = 'macro')\n",
        "#   precision = precision_score(y_test, y_predicted, average = 'macro')\n",
        "#   recall = recall_score(y_test, y_predicted, average = 'macro')\n",
        "#   print('---------------- ' + name + ' ------------------')\n",
        "#   print(name + ' - Accuracy: ' + str(score))\n",
        "#   print(name + ' - F1 Score: ' + str(f1))\n",
        "#   print(name + ' - Precision: ' + str(precision))\n",
        "#   print(name + ' - Recall: ' + str(recall))\n",
        "#   print('------------------------------------------------')"
      ],
      "metadata": {
        "id": "THoj-1cmjQke"
      },
      "execution_count": null,
      "outputs": []
    },
    {
      "cell_type": "markdown",
      "source": [
        "##### Método de Cross-Validation (Não foi muito explorado e estudado até o momento.)"
      ],
      "metadata": {
        "id": "-AswP0usSdX2"
      }
    },
    {
      "cell_type": "code",
      "source": [
        "from sklearn.model_selection import cross_val_score\n",
        "clf = SVC(kernel='linear')\n",
        "scores = cross_val_score(clf, X, y, cv=5)\n",
        "print(scores)"
      ],
      "metadata": {
        "id": "dkhBcSqqlTl_",
        "colab": {
          "base_uri": "https://localhost:8080/"
        },
        "outputId": "80466b3b-da34-411f-84c4-fec5ffd12b9f"
      },
      "execution_count": null,
      "outputs": [
        {
          "output_type": "stream",
          "name": "stdout",
          "text": [
            "[0.95833333 0.96527778 0.96666667 0.95972222 0.95069444]\n"
          ]
        }
      ]
    },
    {
      "cell_type": "code",
      "source": [
        "print(scores.mean())"
      ],
      "metadata": {
        "id": "qNha1G8-l4hR",
        "colab": {
          "base_uri": "https://localhost:8080/"
        },
        "outputId": "0708cd24-2dc1-4d32-dae9-157cf9f0d8ea"
      },
      "execution_count": null,
      "outputs": [
        {
          "output_type": "stream",
          "name": "stdout",
          "text": [
            "0.960138888888889\n"
          ]
        }
      ]
    }
  ]
}